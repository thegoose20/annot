{
 "cells": [
  {
   "cell_type": "markdown",
   "metadata": {},
   "source": [
    "# Annotated Data Analysis \n",
    "## Post Annotation and Aggregation\n",
    "\n",
    "In the aggregated dataset, examine:\n",
    "\n",
    "[1.](#1) Most common text and metadata field annotated per label\n",
    "    \n",
    "  * [Omission](#Omission)\n",
    "  * [Stereotype](#Stereotype)\n",
    "  * [Gendered Role](#GR)\n",
    "  * [Generalization](#Generalization)\n",
    "\n",
    "[2.](#2) Language of Material of Annotations\n",
    "\n",
    "[3.](#3) Dates of Material of Annotations\n",
    "\n",
    "[4.](#4) Lengths of Descriptions and Annotations\n",
    "\n",
    "[X.](#X) Correlation (if any) between type of gender biased language and type of descriptive metadata field\n",
    "\n",
    "[X.](#X) Annotators' rationale for applying labels (as documented in the `note` column)\n",
    "\n",
    "[X.](#X) People referred to with feminine vs. masculine terms in annotated text\n",
    "\n",
    "***\n",
    "\n",
    "### 0. Loading\n",
    "First, begin by loading Python programming libraries and the dataset to be analyzed."
   ]
  },
  {
   "cell_type": "code",
   "execution_count": 2,
   "metadata": {},
   "outputs": [],
   "source": [
    "import pandas as pd\n",
    "import numpy as np\n",
    "import string\n",
    "import csv\n",
    "import re\n",
    "# import json\n",
    "\n",
    "import nltk\n",
    "from nltk.tokenize import word_tokenize\n",
    "from nltk.tokenize import sent_tokenize\n",
    "# nltk.download('punkt')\n",
    "from nltk.corpus import PlaintextCorpusReader\n",
    "# nltk.download('averaged_perceptron_tagger')\n",
    "from nltk.corpus import stopwords\n",
    "# nltk.download('stopwords')\n",
    "from nltk.tag import pos_tag\n",
    "from nltk.text import Text\n",
    "from nltk.probability import FreqDist\n",
    "from collections import Counter\n",
    "from wordcloud import WordCloud\n",
    "\n",
    "%matplotlib inline\n",
    "import matplotlib.pyplot as plt"
   ]
  },
  {
   "cell_type": "code",
   "execution_count": 106,
   "metadata": {},
   "outputs": [],
   "source": [
    "dir_path = \"data/\"\n",
    "data_files = [\"aggregated_final.csv\", \"aggregated_with_annotator_eadid_note_cols.csv\", \n",
    "              \"aggregated_with_eadid_descid_desc_cols.csv\", \"descriptions.csv\"]"
   ]
  },
  {
   "cell_type": "code",
   "execution_count": 4,
   "metadata": {},
   "outputs": [
    {
     "data": {
      "text/html": [
       "<div>\n",
       "<style scoped>\n",
       "    .dataframe tbody tr th:only-of-type {\n",
       "        vertical-align: middle;\n",
       "    }\n",
       "\n",
       "    .dataframe tbody tr th {\n",
       "        vertical-align: top;\n",
       "    }\n",
       "\n",
       "    .dataframe thead th {\n",
       "        text-align: right;\n",
       "    }\n",
       "</style>\n",
       "<table border=\"1\" class=\"dataframe\">\n",
       "  <thead>\n",
       "    <tr style=\"text-align: right;\">\n",
       "      <th></th>\n",
       "      <th>file</th>\n",
       "      <th>offsets</th>\n",
       "      <th>text</th>\n",
       "      <th>label</th>\n",
       "      <th>category</th>\n",
       "      <th>eadid</th>\n",
       "      <th>description</th>\n",
       "      <th>field</th>\n",
       "      <th>id</th>\n",
       "      <th>desc_id</th>\n",
       "    </tr>\n",
       "  </thead>\n",
       "  <tbody>\n",
       "    <tr>\n",
       "      <th>9</th>\n",
       "      <td>AA5_00100.ann</td>\n",
       "      <td>(1032, 1043)</td>\n",
       "      <td>James Whyte</td>\n",
       "      <td>Masculine</td>\n",
       "      <td>Person-Name</td>\n",
       "      <td>AA5</td>\n",
       "      <td>Biographical / Historical:\\nProfessor James Ai...</td>\n",
       "      <td>Biographical / Historical</td>\n",
       "      <td>0</td>\n",
       "      <td>0</td>\n",
       "    </tr>\n",
       "    <tr>\n",
       "      <th>16</th>\n",
       "      <td>AA5_00100.ann</td>\n",
       "      <td>(1129, 1177)</td>\n",
       "      <td>chair of practical theology and Christian ethics</td>\n",
       "      <td>Occupation</td>\n",
       "      <td>Contextual</td>\n",
       "      <td>AA5</td>\n",
       "      <td>Biographical / Historical:\\nProfessor James Ai...</td>\n",
       "      <td>Biographical / Historical</td>\n",
       "      <td>1</td>\n",
       "      <td>0</td>\n",
       "    </tr>\n",
       "    <tr>\n",
       "      <th>4</th>\n",
       "      <td>AA5_00100.ann</td>\n",
       "      <td>(1217, 1219)</td>\n",
       "      <td>he</td>\n",
       "      <td>Gendered-Pronoun</td>\n",
       "      <td>Linguistic</td>\n",
       "      <td>AA5</td>\n",
       "      <td>Biographical / Historical:\\nProfessor James Ai...</td>\n",
       "      <td>Biographical / Historical</td>\n",
       "      <td>2</td>\n",
       "      <td>0</td>\n",
       "    </tr>\n",
       "    <tr>\n",
       "      <th>5</th>\n",
       "      <td>AA5_00100.ann</td>\n",
       "      <td>(1241, 1244)</td>\n",
       "      <td>His</td>\n",
       "      <td>Gendered-Pronoun</td>\n",
       "      <td>Linguistic</td>\n",
       "      <td>AA5</td>\n",
       "      <td>Biographical / Historical:\\nProfessor James Ai...</td>\n",
       "      <td>Biographical / Historical</td>\n",
       "      <td>3</td>\n",
       "      <td>0</td>\n",
       "    </tr>\n",
       "    <tr>\n",
       "      <th>6</th>\n",
       "      <td>AA5_00100.ann</td>\n",
       "      <td>(1315, 1317)</td>\n",
       "      <td>he</td>\n",
       "      <td>Gendered-Pronoun</td>\n",
       "      <td>Linguistic</td>\n",
       "      <td>AA5</td>\n",
       "      <td>Biographical / Historical:\\nProfessor James Ai...</td>\n",
       "      <td>Biographical / Historical</td>\n",
       "      <td>4</td>\n",
       "      <td>0</td>\n",
       "    </tr>\n",
       "  </tbody>\n",
       "</table>\n",
       "</div>"
      ],
      "text/plain": [
       "             file       offsets  \\\n",
       "9   AA5_00100.ann  (1032, 1043)   \n",
       "16  AA5_00100.ann  (1129, 1177)   \n",
       "4   AA5_00100.ann  (1217, 1219)   \n",
       "5   AA5_00100.ann  (1241, 1244)   \n",
       "6   AA5_00100.ann  (1315, 1317)   \n",
       "\n",
       "                                                text             label  \\\n",
       "9                                        James Whyte         Masculine   \n",
       "16  chair of practical theology and Christian ethics        Occupation   \n",
       "4                                                 he  Gendered-Pronoun   \n",
       "5                                                His  Gendered-Pronoun   \n",
       "6                                                 he  Gendered-Pronoun   \n",
       "\n",
       "       category eadid                                        description  \\\n",
       "9   Person-Name   AA5  Biographical / Historical:\\nProfessor James Ai...   \n",
       "16   Contextual   AA5  Biographical / Historical:\\nProfessor James Ai...   \n",
       "4    Linguistic   AA5  Biographical / Historical:\\nProfessor James Ai...   \n",
       "5    Linguistic   AA5  Biographical / Historical:\\nProfessor James Ai...   \n",
       "6    Linguistic   AA5  Biographical / Historical:\\nProfessor James Ai...   \n",
       "\n",
       "                        field  id  desc_id  \n",
       "9   Biographical / Historical   0        0  \n",
       "16  Biographical / Historical   1        0  \n",
       "4   Biographical / Historical   2        0  \n",
       "5   Biographical / Historical   3        0  \n",
       "6   Biographical / Historical   4        0  "
      ]
     },
     "execution_count": 4,
     "metadata": {},
     "output_type": "execute_result"
    }
   ],
   "source": [
    "df = pd.read_csv(dir_path+data_files[2], index_col=0)\n",
    "df.head()"
   ]
  },
  {
   "cell_type": "code",
   "execution_count": 6,
   "metadata": {},
   "outputs": [
    {
     "name": "stdout",
     "output_type": "stream",
     "text": [
      "Rows: 55260 \n",
      "Columns: 10\n"
     ]
    }
   ],
   "source": [
    "print(\"Rows:\",df.shape[0], \"\\nColumns:\",df.shape[1])"
   ]
  },
  {
   "cell_type": "markdown",
   "metadata": {},
   "source": [
    "<a id=\"1\"></a>\n",
    "### 1. Most Common Text Annotated Per Label\n",
    "\n",
    "Determine what the most frequently annotated text spans are for particular labels, as well as the type of description (metadata field) in which particular labels were applied. "
   ]
  },
  {
   "cell_type": "code",
   "execution_count": 60,
   "metadata": {},
   "outputs": [],
   "source": [
    "metadata_field_names = [\"Scope and Contents\", \"Biographical / Historical\", \n",
    "                        \"Title\", \"Processing Information\"]\n",
    "\n",
    "def getFieldRatios(df_field_values):\n",
    "    total = sum(df_field_values)\n",
    "    ratios = []\n",
    "    for v in df_field_values:\n",
    "        ratios += [v/total]\n",
    "    return ratios"
   ]
  },
  {
   "cell_type": "markdown",
   "metadata": {},
   "source": [
    "<a id=\"Omission\"></a>\n",
    "#### 1.1 Omission"
   ]
  },
  {
   "cell_type": "code",
   "execution_count": 7,
   "metadata": {},
   "outputs": [
    {
     "data": {
      "text/plain": [
       "(7586, 10)"
      ]
     },
     "execution_count": 7,
     "metadata": {},
     "output_type": "execute_result"
    }
   ],
   "source": [
    "df_om = df.loc[df.label == \"Omission\"]\n",
    "df_om.shape"
   ]
  },
  {
   "cell_type": "code",
   "execution_count": 8,
   "metadata": {
    "collapsed": true
   },
   "outputs": [
    {
     "data": {
      "text/plain": [
       "Thomson               981\n",
       "Ledermann             351\n",
       "a man                 286\n",
       "Beale                 220\n",
       "Beatty                146\n",
       "Lady Thomson           79\n",
       "men                    77\n",
       "two men                77\n",
       "group of men           43\n",
       "Thurstone              38\n",
       "an Indian man          38\n",
       "Auerbach               33\n",
       "Bartlett               32\n",
       "Wilmut                 28\n",
       "Levison                25\n",
       "a woman                25\n",
       "Koestler               24\n",
       "Burt                   23\n",
       "Mrs Kennedy-Fraser     21\n",
       "Mamaine                21\n",
       "three men              21\n",
       "Burns                  20\n",
       "Hector                 20\n",
       "colleagues             19\n",
       "Janine                 19\n",
       "another man            19\n",
       "Spearman               19\n",
       "his wife               18\n",
       "Corson                 18\n",
       "others                 17\n",
       "Name: text, dtype: int64"
      ]
     },
     "execution_count": 8,
     "metadata": {},
     "output_type": "execute_result"
    }
   ],
   "source": [
    "df_om_text = df_om.text.value_counts(sort=True, ascending=False)\n",
    "df_om_text.head(30)"
   ]
  },
  {
   "cell_type": "code",
   "execution_count": 81,
   "metadata": {},
   "outputs": [
    {
     "data": {
      "text/plain": [
       "Biographical / Historical     631\n",
       "Processing Information          3\n",
       "Scope and Contents           5480\n",
       "Title                        1472\n",
       "Name: field, dtype: int64"
      ]
     },
     "execution_count": 81,
     "metadata": {},
     "output_type": "execute_result"
    }
   ],
   "source": [
    "df_om_field = df_om.field.value_counts()\n",
    "df_om_field.sort_index(inplace=True)\n",
    "df_om_field_values = df_om_field.values\n",
    "df_om_field"
   ]
  },
  {
   "cell_type": "code",
   "execution_count": 86,
   "metadata": {},
   "outputs": [],
   "source": [
    "om_ratios = getFieldRatios(df_om_field_values)"
   ]
  },
  {
   "cell_type": "markdown",
   "metadata": {},
   "source": [
    "<a id=\"Stereotype\"></a>\n",
    "#### 1.2 Stereotype"
   ]
  },
  {
   "cell_type": "code",
   "execution_count": 19,
   "metadata": {},
   "outputs": [
    {
     "data": {
      "text/plain": [
       "(2648, 10)"
      ]
     },
     "execution_count": 19,
     "metadata": {},
     "output_type": "execute_result"
    }
   ],
   "source": [
    "df_st = df.loc[df.label == \"Stereotype\"]\n",
    "df_st.shape"
   ]
  },
  {
   "cell_type": "code",
   "execution_count": 20,
   "metadata": {
    "collapsed": true
   },
   "outputs": [
    {
     "data": {
      "text/plain": [
       "man                                429\n",
       "men                                342\n",
       "a man                              223\n",
       "a woman                            108\n",
       "woman                               67\n",
       "two men                             54\n",
       "women                               49\n",
       "a group of men                      32\n",
       "female                              24\n",
       "Man                                 22\n",
       "boys                                21\n",
       "an Indian man                       21\n",
       "a man and a woman                   21\n",
       "his                                 20\n",
       "boy                                 17\n",
       "his wife Florence Jewel Baillie     16\n",
       "Men                                 15\n",
       "cowboys                             15\n",
       "three men                           15\n",
       "Empress of Britain                  15\n",
       "his wife                            13\n",
       "Women                               12\n",
       "two women                           12\n",
       "another man                         12\n",
       "a boy                               11\n",
       "Woman                               11\n",
       "girl                                11\n",
       "a young woman                       10\n",
       "a young Chinese woman               10\n",
       "knighthood                           9\n",
       "Name: text, dtype: int64"
      ]
     },
     "execution_count": 20,
     "metadata": {},
     "output_type": "execute_result"
    }
   ],
   "source": [
    "df_st_text = df_st.text.value_counts(sort=True, ascending=False)\n",
    "df_st_text.head(30)"
   ]
  },
  {
   "cell_type": "code",
   "execution_count": 82,
   "metadata": {
    "scrolled": true
   },
   "outputs": [
    {
     "data": {
      "text/plain": [
       "Biographical / Historical     482\n",
       "Scope and Contents           1745\n",
       "Title                         421\n",
       "Name: field, dtype: int64"
      ]
     },
     "execution_count": 82,
     "metadata": {},
     "output_type": "execute_result"
    }
   ],
   "source": [
    "df_st_field = df_st.field.value_counts()\n",
    "df_st_field.sort_index(inplace=True)\n",
    "df_st_field_values = list(df_st_field.values)\n",
    "df_st_field"
   ]
  },
  {
   "cell_type": "code",
   "execution_count": 84,
   "metadata": {},
   "outputs": [
    {
     "data": {
      "text/plain": [
       "[482, 0, 1745, 421]"
      ]
     },
     "execution_count": 84,
     "metadata": {},
     "output_type": "execute_result"
    }
   ],
   "source": [
    "df_st_field_values.insert(1,0)\n",
    "df_st_field_values # Looks good"
   ]
  },
  {
   "cell_type": "code",
   "execution_count": 85,
   "metadata": {},
   "outputs": [],
   "source": [
    "st_ratios = getFieldRatios(df_st_field_values)"
   ]
  },
  {
   "cell_type": "markdown",
   "metadata": {},
   "source": [
    "<a id=\"Generalization\"></a>\n",
    "#### 1.3 Generalization"
   ]
  },
  {
   "cell_type": "code",
   "execution_count": 15,
   "metadata": {},
   "outputs": [
    {
     "data": {
      "text/plain": [
       "(2061, 10)"
      ]
     },
     "execution_count": 15,
     "metadata": {},
     "output_type": "execute_result"
    }
   ],
   "source": [
    "df_ge = df.loc[df.label == \"Generalization\"]\n",
    "df_ge.shape"
   ]
  },
  {
   "cell_type": "code",
   "execution_count": 16,
   "metadata": {
    "collapsed": true
   },
   "outputs": [
    {
     "data": {
      "text/plain": [
       "man           566\n",
       "woman         246\n",
       "boy            41\n",
       "he             36\n",
       "Thomson        35\n",
       "boys           34\n",
       "his            34\n",
       "Midwifery      31\n",
       "MA             25\n",
       "Empress        23\n",
       "Chairman       21\n",
       "M.A.           20\n",
       "He             20\n",
       "Beale          19\n",
       "M.B.           19\n",
       "Man            18\n",
       "cowboys        17\n",
       "Duchess        16\n",
       "B.Sc.          15\n",
       "Ledermann      15\n",
       "girls          15\n",
       "men            13\n",
       "Englishman     12\n",
       "Scotsman       12\n",
       "Lords          12\n",
       "cowboy         12\n",
       "Princess       11\n",
       "Ch.B.          10\n",
       "B.A.           10\n",
       "Sir             9\n",
       "Name: text, dtype: int64"
      ]
     },
     "execution_count": 16,
     "metadata": {},
     "output_type": "execute_result"
    }
   ],
   "source": [
    "df_ge_text = df_ge.text.value_counts(sort=True, ascending=False)\n",
    "df_ge_text.head(30)"
   ]
  },
  {
   "cell_type": "code",
   "execution_count": 87,
   "metadata": {},
   "outputs": [
    {
     "data": {
      "text/plain": [
       "Biographical / Historical     402\n",
       "Processing Information          4\n",
       "Scope and Contents           1193\n",
       "Title                         462\n",
       "Name: field, dtype: int64"
      ]
     },
     "execution_count": 87,
     "metadata": {},
     "output_type": "execute_result"
    }
   ],
   "source": [
    "df_ge_field = df_ge.field.value_counts()\n",
    "df_ge_field.sort_index(inplace=True)\n",
    "df_ge_field_values = df_ge_field.values\n",
    "df_ge_field"
   ]
  },
  {
   "cell_type": "code",
   "execution_count": 88,
   "metadata": {},
   "outputs": [],
   "source": [
    "ge_ratios = getFieldRatios(df_ge_field_values)"
   ]
  },
  {
   "cell_type": "markdown",
   "metadata": {},
   "source": [
    "#### Save the data to a CSV file:"
   ]
  },
  {
   "cell_type": "code",
   "execution_count": 91,
   "metadata": {},
   "outputs": [
    {
     "data": {
      "text/html": [
       "<div>\n",
       "<style scoped>\n",
       "    .dataframe tbody tr th:only-of-type {\n",
       "        vertical-align: middle;\n",
       "    }\n",
       "\n",
       "    .dataframe tbody tr th {\n",
       "        vertical-align: top;\n",
       "    }\n",
       "\n",
       "    .dataframe thead th {\n",
       "        text-align: right;\n",
       "    }\n",
       "</style>\n",
       "<table border=\"1\" class=\"dataframe\">\n",
       "  <thead>\n",
       "    <tr style=\"text-align: right;\">\n",
       "      <th></th>\n",
       "      <th>Biographical / Historical</th>\n",
       "      <th>Processing Information</th>\n",
       "      <th>Scope and Contents</th>\n",
       "      <th>Title</th>\n",
       "    </tr>\n",
       "  </thead>\n",
       "  <tbody>\n",
       "    <tr>\n",
       "      <th>Omission Count</th>\n",
       "      <td>631.000000</td>\n",
       "      <td>3.000000</td>\n",
       "      <td>5480.000000</td>\n",
       "      <td>1472.000000</td>\n",
       "    </tr>\n",
       "    <tr>\n",
       "      <th>Omission Ratio</th>\n",
       "      <td>0.083180</td>\n",
       "      <td>0.000395</td>\n",
       "      <td>0.722383</td>\n",
       "      <td>0.194042</td>\n",
       "    </tr>\n",
       "    <tr>\n",
       "      <th>Stereotype Count</th>\n",
       "      <td>482.000000</td>\n",
       "      <td>0.000000</td>\n",
       "      <td>1745.000000</td>\n",
       "      <td>421.000000</td>\n",
       "    </tr>\n",
       "    <tr>\n",
       "      <th>Stereotype Ratio</th>\n",
       "      <td>0.182024</td>\n",
       "      <td>0.000000</td>\n",
       "      <td>0.658988</td>\n",
       "      <td>0.158988</td>\n",
       "    </tr>\n",
       "    <tr>\n",
       "      <th>Generalization Count</th>\n",
       "      <td>402.000000</td>\n",
       "      <td>4.000000</td>\n",
       "      <td>1193.000000</td>\n",
       "      <td>462.000000</td>\n",
       "    </tr>\n",
       "    <tr>\n",
       "      <th>Generalization Ratio</th>\n",
       "      <td>0.195051</td>\n",
       "      <td>0.001941</td>\n",
       "      <td>0.578845</td>\n",
       "      <td>0.224163</td>\n",
       "    </tr>\n",
       "  </tbody>\n",
       "</table>\n",
       "</div>"
      ],
      "text/plain": [
       "                      Biographical / Historical  Processing Information  \\\n",
       "Omission Count                       631.000000                3.000000   \n",
       "Omission Ratio                         0.083180                0.000395   \n",
       "Stereotype Count                     482.000000                0.000000   \n",
       "Stereotype Ratio                       0.182024                0.000000   \n",
       "Generalization Count                 402.000000                4.000000   \n",
       "Generalization Ratio                   0.195051                0.001941   \n",
       "\n",
       "                      Scope and Contents        Title  \n",
       "Omission Count               5480.000000  1472.000000  \n",
       "Omission Ratio                  0.722383     0.194042  \n",
       "Stereotype Count             1745.000000   421.000000  \n",
       "Stereotype Ratio                0.658988     0.158988  \n",
       "Generalization Count         1193.000000   462.000000  \n",
       "Generalization Ratio            0.578845     0.224163  "
      ]
     },
     "execution_count": 91,
     "metadata": {},
     "output_type": "execute_result"
    }
   ],
   "source": [
    "df = pd.DataFrame({\"Omission Count\":df_om_field.values, \"Omission Ratio\":om_ratios, \n",
    "                   \"Stereotype Count\":df_st_field_values, \"Stereotype Ratio\":st_ratios,\n",
    "                   \"Generalization Count\": df_ge_field.values, \"Generalization Ratio\":ge_ratios,}, \n",
    "                  index=[\"Biographical / Historical\", \"Processing Information\", \n",
    "                         \"Scope and Contents\",  \"Title\"])\n",
    "df.T"
   ]
  },
  {
   "cell_type": "code",
   "execution_count": 92,
   "metadata": {},
   "outputs": [],
   "source": [
    "df = df.T\n",
    "df.to_csv(\"analysis_data/labels_per_metadata_field.csv\")"
   ]
  },
  {
   "cell_type": "markdown",
   "metadata": {},
   "source": [
    "<a id=\"2\"></a>\n",
    "## 2. Language of Material of Annotations\n",
    "\n",
    "First, find how many of each language there is across the entire dataset.  Then, find how many of each language there is for the `Omission`, `Stereotype`, and `Generalization` labels."
   ]
  },
  {
   "cell_type": "code",
   "execution_count": 98,
   "metadata": {},
   "outputs": [
    {
     "data": {
      "text/html": [
       "<div>\n",
       "<style scoped>\n",
       "    .dataframe tbody tr th:only-of-type {\n",
       "        vertical-align: middle;\n",
       "    }\n",
       "\n",
       "    .dataframe tbody tr th {\n",
       "        vertical-align: top;\n",
       "    }\n",
       "\n",
       "    .dataframe thead th {\n",
       "        text-align: right;\n",
       "    }\n",
       "</style>\n",
       "<table border=\"1\" class=\"dataframe\">\n",
       "  <thead>\n",
       "    <tr style=\"text-align: right;\">\n",
       "      <th></th>\n",
       "      <th>eadid</th>\n",
       "      <th>unit_title</th>\n",
       "      <th>unit_identifier</th>\n",
       "      <th>unique_language</th>\n",
       "      <th>unique_date</th>\n",
       "      <th>unique_geography</th>\n",
       "    </tr>\n",
       "  </thead>\n",
       "  <tbody>\n",
       "    <tr>\n",
       "      <th>0</th>\n",
       "      <td>Coll-1064</td>\n",
       "      <td>['Papers of Professor Walter Ledermann', '1 (3...</td>\n",
       "      <td>['Coll-1064', 'Coll-1064/1', 'Coll-1064/2', 'C...</td>\n",
       "      <td>['English']</td>\n",
       "      <td>['1937-01-01 - 1954-12-31', '1937-02-02 - 1938...</td>\n",
       "      <td>['Edinburgh (Scotland)', 'St Andrews (Scotland...</td>\n",
       "    </tr>\n",
       "    <tr>\n",
       "      <th>1</th>\n",
       "      <td>Coll-31</td>\n",
       "      <td>['Drawings from the Office of Sir Rowand Ander...</td>\n",
       "      <td>['Coll-31', 'Coll-31/1', 'Coll-31/1/1', 'Coll-...</td>\n",
       "      <td>['English']</td>\n",
       "      <td>['1814-01-01 - 1924-12-31', '1874-01-01 - 1905...</td>\n",
       "      <td>['']</td>\n",
       "    </tr>\n",
       "    <tr>\n",
       "      <th>2</th>\n",
       "      <td>Coll-51</td>\n",
       "      <td>['Papers of Sir Roderick Impey Murchison and h...</td>\n",
       "      <td>['Coll-51', 'Coll-51/1', 'Coll-51/2', 'Coll-51...</td>\n",
       "      <td>['English']</td>\n",
       "      <td>['1771-01-01 - 1935-12-31', '1723-01-01 - 1935...</td>\n",
       "      <td>['Calcutta (India)', 'Europe', 'Tarradale (Sco...</td>\n",
       "    </tr>\n",
       "  </tbody>\n",
       "</table>\n",
       "</div>"
      ],
      "text/plain": [
       "       eadid                                         unit_title  \\\n",
       "0  Coll-1064  ['Papers of Professor Walter Ledermann', '1 (3...   \n",
       "1    Coll-31  ['Drawings from the Office of Sir Rowand Ander...   \n",
       "2    Coll-51  ['Papers of Sir Roderick Impey Murchison and h...   \n",
       "\n",
       "                                     unit_identifier unique_language  \\\n",
       "0  ['Coll-1064', 'Coll-1064/1', 'Coll-1064/2', 'C...     ['English']   \n",
       "1  ['Coll-31', 'Coll-31/1', 'Coll-31/1/1', 'Coll-...     ['English']   \n",
       "2  ['Coll-51', 'Coll-51/1', 'Coll-51/2', 'Coll-51...     ['English']   \n",
       "\n",
       "                                         unique_date  \\\n",
       "0  ['1937-01-01 - 1954-12-31', '1937-02-02 - 1938...   \n",
       "1  ['1814-01-01 - 1924-12-31', '1874-01-01 - 1905...   \n",
       "2  ['1771-01-01 - 1935-12-31', '1723-01-01 - 1935...   \n",
       "\n",
       "                                    unique_geography  \n",
       "0  ['Edinburgh (Scotland)', 'St Andrews (Scotland...  \n",
       "1                                               ['']  \n",
       "2  ['Calcutta (India)', 'Europe', 'Tarradale (Sco...  "
      ]
     },
     "execution_count": 98,
     "metadata": {},
     "output_type": "execute_result"
    }
   ],
   "source": [
    "meta_df = pd.read_csv(\"data/CRC_units-grouped-by-fonds_clean.csv\", index_col=0)\n",
    "meta_df.head(3)"
   ]
  },
  {
   "cell_type": "code",
   "execution_count": 99,
   "metadata": {},
   "outputs": [
    {
     "name": "stdout",
     "output_type": "stream",
     "text": [
      "{'English': 1018, 'Russian': 9, 'Latin': 49, 'French': 32, 'Mostly English': 4, '': 16, 'Gaelic or Scottish Gaelic': 1, 'Multiple languages': 15, 'German': 29, 'Kikuyu or Gikuyu': 2, 'Kikuyu': 2, 'Gikuyu': 2, 'Spanish or Castilian': 2, 'Spanish': 7, 'Castilian': 2, 'Fulah': 1, 'Scots': 9, 'Polish': 6, 'Italian': 13, 'Scots Dialect': 1, 'Scottish Gaelic': 2, 'Czech': 2, 'Irish Gaelic': 2, 'Scots dialect': 1, 'Russin': 1, 'English Gaelic': 1, 'Gaelic Scottish Gaelic': 1, 'Swahili': 1, 'Arabic': 6, 'Bemba': 1, 'Egyptian (Ancient)': 1, 'Burmese': 4, 'Greek': 2, 'Hebrew': 5, 'Norman-French/French': 1, 'Old': 1, 'Chinese': 3, 'Afrikaans': 1, 'Norwegian': 2, 'Dutch': 4, 'Flemish': 1, 'France': 2, 'Efik': 1, 'Hindi': 1, 'Persian': 2, 'English mostly': 2, 'Korean': 1, 'Swedish': 5, 'Mainly English': 1, 'Japanese': 2, 'Hungarian': 3, 'Batak languages': 1, 'Portugese': 1, 'Czechoslavakian': 1, 'Japanese English translation': 1, 'Slavic languages': 1, 'Icelandic': 1, 'Bulgarian': 1, 'Romanian': 1, 'Danish': 1, 'Portuguese': 1, 'Ahmeric': 1, 'Hindustani': 1, 'Mainly Arabic': 1, 'Sanskrit': 1, 'Armenian': 1, 'Malay': 1, 'Javanese': 1, 'Siamese': 1, 'Urdu': 1, 'Pali': 1, 'Prakrit': 1, 'Syriac': 1, 'Sinhalese': 1, 'Mon': 1, 'Tibetan': 1, 'Ethiopic/Amharic': 1, 'Turkish': 1, 'Panjabi': 1, 'Tamil': 1, 'Cambodian': 1, 'Bengali': 1, 'Mongolian': 1}\n"
     ]
    }
   ],
   "source": [
    "languages = list(meta_df.unique_language)\n",
    "lang_counts = dict()\n",
    "for language in languages:\n",
    "    if type(language) == str:\n",
    "        l = language.replace(\"'\",\"\")\n",
    "        l = l.replace(\"[\",\"\")\n",
    "        l = l.replace(\"]\",\"\")\n",
    "        l_list = l.split(\", \")\n",
    "        for lang in l_list:\n",
    "            if lang == \"restEnglish\":\n",
    "                lang_counts[\"English\"] += 1\n",
    "            elif lang in lang_counts:\n",
    "                lang_counts[lang] += 1\n",
    "            else:\n",
    "                lang_counts[lang] = 1\n",
    "\n",
    "print(lang_counts)"
   ]
  },
  {
   "cell_type": "code",
   "execution_count": 100,
   "metadata": {},
   "outputs": [],
   "source": [
    "lang_counts_df = pd.DataFrame.from_dict(lang_counts, orient=\"index\").reset_index()\n",
    "lang_counts_df.columns = [\"language\", \"collection_count\"]\n",
    "lang_counts_df = lang_counts_df.sort_values(by=\"collection_count\", ascending=False)\n",
    "# lang_counts_df.head()\n",
    "lang_counts_df.to_csv(\"analysis_data/language_material_collection_counts.csv\")"
   ]
  },
  {
   "cell_type": "code",
   "execution_count": 111,
   "metadata": {},
   "outputs": [],
   "source": [
    "def getSubDf(data_df, label):\n",
    "    return data_df.loc[data_df.label == label]"
   ]
  },
  {
   "cell_type": "code",
   "execution_count": 109,
   "metadata": {
    "scrolled": true
   },
   "outputs": [
    {
     "data": {
      "text/html": [
       "<div>\n",
       "<style scoped>\n",
       "    .dataframe tbody tr th:only-of-type {\n",
       "        vertical-align: middle;\n",
       "    }\n",
       "\n",
       "    .dataframe tbody tr th {\n",
       "        vertical-align: top;\n",
       "    }\n",
       "\n",
       "    .dataframe thead th {\n",
       "        text-align: right;\n",
       "    }\n",
       "</style>\n",
       "<table border=\"1\" class=\"dataframe\">\n",
       "  <thead>\n",
       "    <tr style=\"text-align: right;\">\n",
       "      <th></th>\n",
       "      <th>file</th>\n",
       "      <th>offsets</th>\n",
       "      <th>text</th>\n",
       "      <th>label</th>\n",
       "      <th>category</th>\n",
       "      <th>eadid</th>\n",
       "      <th>description</th>\n",
       "      <th>field</th>\n",
       "      <th>id</th>\n",
       "      <th>desc_id</th>\n",
       "    </tr>\n",
       "  </thead>\n",
       "  <tbody>\n",
       "    <tr>\n",
       "      <th>9</th>\n",
       "      <td>AA5_00100.ann</td>\n",
       "      <td>(1032, 1043)</td>\n",
       "      <td>James Whyte</td>\n",
       "      <td>Masculine</td>\n",
       "      <td>Person-Name</td>\n",
       "      <td>AA5</td>\n",
       "      <td>Biographical / Historical:\\nProfessor James Ai...</td>\n",
       "      <td>Biographical / Historical</td>\n",
       "      <td>0</td>\n",
       "      <td>0</td>\n",
       "    </tr>\n",
       "    <tr>\n",
       "      <th>16</th>\n",
       "      <td>AA5_00100.ann</td>\n",
       "      <td>(1129, 1177)</td>\n",
       "      <td>chair of practical theology and Christian ethics</td>\n",
       "      <td>Occupation</td>\n",
       "      <td>Contextual</td>\n",
       "      <td>AA5</td>\n",
       "      <td>Biographical / Historical:\\nProfessor James Ai...</td>\n",
       "      <td>Biographical / Historical</td>\n",
       "      <td>1</td>\n",
       "      <td>0</td>\n",
       "    </tr>\n",
       "    <tr>\n",
       "      <th>4</th>\n",
       "      <td>AA5_00100.ann</td>\n",
       "      <td>(1217, 1219)</td>\n",
       "      <td>he</td>\n",
       "      <td>Gendered-Pronoun</td>\n",
       "      <td>Linguistic</td>\n",
       "      <td>AA5</td>\n",
       "      <td>Biographical / Historical:\\nProfessor James Ai...</td>\n",
       "      <td>Biographical / Historical</td>\n",
       "      <td>2</td>\n",
       "      <td>0</td>\n",
       "    </tr>\n",
       "    <tr>\n",
       "      <th>5</th>\n",
       "      <td>AA5_00100.ann</td>\n",
       "      <td>(1241, 1244)</td>\n",
       "      <td>His</td>\n",
       "      <td>Gendered-Pronoun</td>\n",
       "      <td>Linguistic</td>\n",
       "      <td>AA5</td>\n",
       "      <td>Biographical / Historical:\\nProfessor James Ai...</td>\n",
       "      <td>Biographical / Historical</td>\n",
       "      <td>3</td>\n",
       "      <td>0</td>\n",
       "    </tr>\n",
       "    <tr>\n",
       "      <th>6</th>\n",
       "      <td>AA5_00100.ann</td>\n",
       "      <td>(1315, 1317)</td>\n",
       "      <td>he</td>\n",
       "      <td>Gendered-Pronoun</td>\n",
       "      <td>Linguistic</td>\n",
       "      <td>AA5</td>\n",
       "      <td>Biographical / Historical:\\nProfessor James Ai...</td>\n",
       "      <td>Biographical / Historical</td>\n",
       "      <td>4</td>\n",
       "      <td>0</td>\n",
       "    </tr>\n",
       "  </tbody>\n",
       "</table>\n",
       "</div>"
      ],
      "text/plain": [
       "             file       offsets  \\\n",
       "9   AA5_00100.ann  (1032, 1043)   \n",
       "16  AA5_00100.ann  (1129, 1177)   \n",
       "4   AA5_00100.ann  (1217, 1219)   \n",
       "5   AA5_00100.ann  (1241, 1244)   \n",
       "6   AA5_00100.ann  (1315, 1317)   \n",
       "\n",
       "                                                text             label  \\\n",
       "9                                        James Whyte         Masculine   \n",
       "16  chair of practical theology and Christian ethics        Occupation   \n",
       "4                                                 he  Gendered-Pronoun   \n",
       "5                                                His  Gendered-Pronoun   \n",
       "6                                                 he  Gendered-Pronoun   \n",
       "\n",
       "       category eadid                                        description  \\\n",
       "9   Person-Name   AA5  Biographical / Historical:\\nProfessor James Ai...   \n",
       "16   Contextual   AA5  Biographical / Historical:\\nProfessor James Ai...   \n",
       "4    Linguistic   AA5  Biographical / Historical:\\nProfessor James Ai...   \n",
       "5    Linguistic   AA5  Biographical / Historical:\\nProfessor James Ai...   \n",
       "6    Linguistic   AA5  Biographical / Historical:\\nProfessor James Ai...   \n",
       "\n",
       "                        field  id  desc_id  \n",
       "9   Biographical / Historical   0        0  \n",
       "16  Biographical / Historical   1        0  \n",
       "4   Biographical / Historical   2        0  \n",
       "5   Biographical / Historical   3        0  \n",
       "6   Biographical / Historical   4        0  "
      ]
     },
     "execution_count": 109,
     "metadata": {},
     "output_type": "execute_result"
    }
   ],
   "source": [
    "data_df = pd.read_csv(dir_path+data_files[2], index_col=0)  # aggregated_final.csv\n",
    "data_df.head()"
   ]
  },
  {
   "cell_type": "markdown",
   "metadata": {},
   "source": [
    "<a id=\"2.1\"></a>\n",
    "### 2.1 Omission"
   ]
  },
  {
   "cell_type": "code",
   "execution_count": 112,
   "metadata": {},
   "outputs": [],
   "source": [
    "df = getSubDf(data_df, \"Omission\")\n",
    "eadids = list(df.eadid)"
   ]
  },
  {
   "cell_type": "code",
   "execution_count": 113,
   "metadata": {},
   "outputs": [
    {
     "name": "stdout",
     "output_type": "stream",
     "text": [
      "19304\n",
      "['English', 'Greek', 'Hebrew', 'German', 'English', 'Greek', 'Hebrew', 'German', 'English', 'Greek']\n"
     ]
    }
   ],
   "source": [
    "languages = []\n",
    "for eadid in eadids:\n",
    "    cell = meta_df.loc[meta_df.eadid == eadid].unique_language.values\n",
    "    for l in cell:\n",
    "        l = l.replace(\"'\",\"\")\n",
    "        l = l.replace(\"[\",\"\")\n",
    "        l = l.replace(\"]\",\"\")\n",
    "        l_list = l.split(\", \")\n",
    "        for language in l_list:\n",
    "            languages += [language]\n",
    "\n",
    "print(len(languages))\n",
    "print(languages[:10])"
   ]
  },
  {
   "cell_type": "code",
   "execution_count": 114,
   "metadata": {},
   "outputs": [],
   "source": [
    "lang_counts = Counter(languages)"
   ]
  },
  {
   "cell_type": "code",
   "execution_count": 115,
   "metadata": {},
   "outputs": [
    {
     "data": {
      "text/html": [
       "<div>\n",
       "<style scoped>\n",
       "    .dataframe tbody tr th:only-of-type {\n",
       "        vertical-align: middle;\n",
       "    }\n",
       "\n",
       "    .dataframe tbody tr th {\n",
       "        vertical-align: top;\n",
       "    }\n",
       "\n",
       "    .dataframe thead th {\n",
       "        text-align: right;\n",
       "    }\n",
       "</style>\n",
       "<table border=\"1\" class=\"dataframe\">\n",
       "  <thead>\n",
       "    <tr style=\"text-align: right;\">\n",
       "      <th></th>\n",
       "      <th>language</th>\n",
       "      <th>collection_count</th>\n",
       "    </tr>\n",
       "  </thead>\n",
       "  <tbody>\n",
       "    <tr>\n",
       "      <th>0</th>\n",
       "      <td>English</td>\n",
       "      <td>6409</td>\n",
       "    </tr>\n",
       "    <tr>\n",
       "      <th>4</th>\n",
       "      <td>French</td>\n",
       "      <td>2276</td>\n",
       "    </tr>\n",
       "    <tr>\n",
       "      <th>3</th>\n",
       "      <td>German</td>\n",
       "      <td>1892</td>\n",
       "    </tr>\n",
       "    <tr>\n",
       "      <th>6</th>\n",
       "      <td>Latin</td>\n",
       "      <td>1352</td>\n",
       "    </tr>\n",
       "    <tr>\n",
       "      <th>24</th>\n",
       "      <td>Polish</td>\n",
       "      <td>1100</td>\n",
       "    </tr>\n",
       "  </tbody>\n",
       "</table>\n",
       "</div>"
      ],
      "text/plain": [
       "   language  collection_count\n",
       "0   English              6409\n",
       "4    French              2276\n",
       "3    German              1892\n",
       "6     Latin              1352\n",
       "24   Polish              1100"
      ]
     },
     "execution_count": 115,
     "metadata": {},
     "output_type": "execute_result"
    }
   ],
   "source": [
    "lang_counts_df = pd.DataFrame.from_dict(lang_counts, orient=\"index\").reset_index()\n",
    "lang_counts_df.columns = [\"language\", \"collection_count\"]\n",
    "lang_counts_df = lang_counts_df.sort_values(by=\"collection_count\", ascending=False)\n",
    "lang_counts_df.head()"
   ]
  },
  {
   "cell_type": "code",
   "execution_count": 116,
   "metadata": {},
   "outputs": [],
   "source": [
    "lang_counts_df.to_csv(\"analysis_data/language_material_collection_counts_omission.csv\")"
   ]
  },
  {
   "cell_type": "markdown",
   "metadata": {},
   "source": [
    "<a id=\"2.2\"></a>\n",
    "### 2.2 Stereotype"
   ]
  },
  {
   "cell_type": "code",
   "execution_count": 117,
   "metadata": {},
   "outputs": [],
   "source": [
    "df = getSubDf(data_df, \"Stereotype\")\n",
    "eadids = list(df.eadid)"
   ]
  },
  {
   "cell_type": "code",
   "execution_count": 118,
   "metadata": {},
   "outputs": [
    {
     "name": "stdout",
     "output_type": "stream",
     "text": [
      "3322\n",
      "['English', 'Greek', 'Hebrew', 'German', 'English', 'Greek', 'Hebrew', 'German', 'English', 'Greek']\n"
     ]
    }
   ],
   "source": [
    "languages = []\n",
    "for eadid in eadids:\n",
    "    cell = meta_df.loc[meta_df.eadid == eadid].unique_language.values\n",
    "    for l in cell:\n",
    "        l = l.replace(\"'\",\"\")\n",
    "        l = l.replace(\"[\",\"\")\n",
    "        l = l.replace(\"]\",\"\")\n",
    "        l_list = l.split(\", \")\n",
    "        for language in l_list:\n",
    "            languages += [language]\n",
    "\n",
    "print(len(languages))\n",
    "print(languages[:10])"
   ]
  },
  {
   "cell_type": "code",
   "execution_count": 119,
   "metadata": {},
   "outputs": [],
   "source": [
    "lang_counts = Counter(languages)"
   ]
  },
  {
   "cell_type": "code",
   "execution_count": 120,
   "metadata": {},
   "outputs": [
    {
     "data": {
      "text/html": [
       "<div>\n",
       "<style scoped>\n",
       "    .dataframe tbody tr th:only-of-type {\n",
       "        vertical-align: middle;\n",
       "    }\n",
       "\n",
       "    .dataframe tbody tr th {\n",
       "        vertical-align: top;\n",
       "    }\n",
       "\n",
       "    .dataframe thead th {\n",
       "        text-align: right;\n",
       "    }\n",
       "</style>\n",
       "<table border=\"1\" class=\"dataframe\">\n",
       "  <thead>\n",
       "    <tr style=\"text-align: right;\">\n",
       "      <th></th>\n",
       "      <th>language</th>\n",
       "      <th>collection_count</th>\n",
       "    </tr>\n",
       "  </thead>\n",
       "  <tbody>\n",
       "    <tr>\n",
       "      <th>0</th>\n",
       "      <td>English</td>\n",
       "      <td>2261</td>\n",
       "    </tr>\n",
       "    <tr>\n",
       "      <th>3</th>\n",
       "      <td>German</td>\n",
       "      <td>178</td>\n",
       "    </tr>\n",
       "    <tr>\n",
       "      <th>13</th>\n",
       "      <td>French</td>\n",
       "      <td>172</td>\n",
       "    </tr>\n",
       "    <tr>\n",
       "      <th>2</th>\n",
       "      <td>Hebrew</td>\n",
       "      <td>83</td>\n",
       "    </tr>\n",
       "    <tr>\n",
       "      <th>1</th>\n",
       "      <td>Greek</td>\n",
       "      <td>79</td>\n",
       "    </tr>\n",
       "  </tbody>\n",
       "</table>\n",
       "</div>"
      ],
      "text/plain": [
       "   language  collection_count\n",
       "0   English              2261\n",
       "3    German               178\n",
       "13   French               172\n",
       "2    Hebrew                83\n",
       "1     Greek                79"
      ]
     },
     "execution_count": 120,
     "metadata": {},
     "output_type": "execute_result"
    }
   ],
   "source": [
    "lang_counts_df = pd.DataFrame.from_dict(lang_counts, orient=\"index\").reset_index()\n",
    "lang_counts_df.columns = [\"language\", \"collection_count\"]\n",
    "lang_counts_df = lang_counts_df.sort_values(by=\"collection_count\", ascending=False)\n",
    "lang_counts_df.head()"
   ]
  },
  {
   "cell_type": "code",
   "execution_count": 121,
   "metadata": {},
   "outputs": [],
   "source": [
    "lang_counts_df.to_csv(\"analysis_data/language_material_collection_counts_stereotype.csv\")"
   ]
  },
  {
   "cell_type": "markdown",
   "metadata": {},
   "source": [
    "<a id=\"2.3\"></a>\n",
    "### 2.3 Generalization"
   ]
  },
  {
   "cell_type": "code",
   "execution_count": 122,
   "metadata": {},
   "outputs": [],
   "source": [
    "df = getSubDf(data_df, \"Generalization\")\n",
    "eadids = list(df.eadid)"
   ]
  },
  {
   "cell_type": "code",
   "execution_count": 123,
   "metadata": {},
   "outputs": [
    {
     "name": "stdout",
     "output_type": "stream",
     "text": [
      "3476\n",
      "['English', 'Greek', 'Hebrew', 'German', 'English', 'Greek', 'Hebrew', 'German', 'English', 'Greek']\n"
     ]
    }
   ],
   "source": [
    "languages = []\n",
    "for eadid in eadids:\n",
    "    cell = meta_df.loc[meta_df.eadid == eadid].unique_language.values\n",
    "    for l in cell:\n",
    "        l = l.replace(\"'\",\"\")\n",
    "        l = l.replace(\"[\",\"\")\n",
    "        l = l.replace(\"]\",\"\")\n",
    "        l_list = l.split(\", \")\n",
    "        for language in l_list:\n",
    "            languages += [language]\n",
    "\n",
    "print(len(languages))\n",
    "print(languages[:10])"
   ]
  },
  {
   "cell_type": "code",
   "execution_count": 124,
   "metadata": {},
   "outputs": [],
   "source": [
    "lang_counts = Counter(languages)"
   ]
  },
  {
   "cell_type": "code",
   "execution_count": 125,
   "metadata": {},
   "outputs": [
    {
     "data": {
      "text/html": [
       "<div>\n",
       "<style scoped>\n",
       "    .dataframe tbody tr th:only-of-type {\n",
       "        vertical-align: middle;\n",
       "    }\n",
       "\n",
       "    .dataframe tbody tr th {\n",
       "        vertical-align: top;\n",
       "    }\n",
       "\n",
       "    .dataframe thead th {\n",
       "        text-align: right;\n",
       "    }\n",
       "</style>\n",
       "<table border=\"1\" class=\"dataframe\">\n",
       "  <thead>\n",
       "    <tr style=\"text-align: right;\">\n",
       "      <th></th>\n",
       "      <th>language</th>\n",
       "      <th>collection_count</th>\n",
       "    </tr>\n",
       "  </thead>\n",
       "  <tbody>\n",
       "    <tr>\n",
       "      <th>0</th>\n",
       "      <td>English</td>\n",
       "      <td>1677</td>\n",
       "    </tr>\n",
       "    <tr>\n",
       "      <th>13</th>\n",
       "      <td>French</td>\n",
       "      <td>295</td>\n",
       "    </tr>\n",
       "    <tr>\n",
       "      <th>3</th>\n",
       "      <td>German</td>\n",
       "      <td>210</td>\n",
       "    </tr>\n",
       "    <tr>\n",
       "      <th>6</th>\n",
       "      <td>Italian</td>\n",
       "      <td>158</td>\n",
       "    </tr>\n",
       "    <tr>\n",
       "      <th>5</th>\n",
       "      <td>Latin</td>\n",
       "      <td>156</td>\n",
       "    </tr>\n",
       "  </tbody>\n",
       "</table>\n",
       "</div>"
      ],
      "text/plain": [
       "   language  collection_count\n",
       "0   English              1677\n",
       "13   French               295\n",
       "3    German               210\n",
       "6   Italian               158\n",
       "5     Latin               156"
      ]
     },
     "execution_count": 125,
     "metadata": {},
     "output_type": "execute_result"
    }
   ],
   "source": [
    "lang_counts_df = pd.DataFrame.from_dict(lang_counts, orient=\"index\").reset_index()\n",
    "lang_counts_df.columns = [\"language\", \"collection_count\"]\n",
    "lang_counts_df = lang_counts_df.sort_values(by=\"collection_count\", ascending=False)\n",
    "lang_counts_df.head()"
   ]
  },
  {
   "cell_type": "code",
   "execution_count": 126,
   "metadata": {},
   "outputs": [],
   "source": [
    "lang_counts_df.to_csv(\"analysis_data/language_material_collection_counts_generalization.csv\")"
   ]
  },
  {
   "cell_type": "code",
   "execution_count": 41,
   "metadata": {},
   "outputs": [
    {
     "data": {
      "text/html": [
       "<div>\n",
       "<style scoped>\n",
       "    .dataframe tbody tr th:only-of-type {\n",
       "        vertical-align: middle;\n",
       "    }\n",
       "\n",
       "    .dataframe tbody tr th {\n",
       "        vertical-align: top;\n",
       "    }\n",
       "\n",
       "    .dataframe thead th {\n",
       "        text-align: right;\n",
       "    }\n",
       "</style>\n",
       "<table border=\"1\" class=\"dataframe\">\n",
       "  <thead>\n",
       "    <tr style=\"text-align: right;\">\n",
       "      <th></th>\n",
       "      <th>eadid</th>\n",
       "      <th>unit_title</th>\n",
       "      <th>unit_identifier</th>\n",
       "      <th>unique_language</th>\n",
       "      <th>unique_date</th>\n",
       "      <th>unique_geography</th>\n",
       "    </tr>\n",
       "  </thead>\n",
       "  <tbody>\n",
       "    <tr>\n",
       "      <th>0</th>\n",
       "      <td>Coll-1064</td>\n",
       "      <td>['Papers of Professor Walter Ledermann', '1 (3...</td>\n",
       "      <td>['Coll-1064', 'Coll-1064/1', 'Coll-1064/2', 'C...</td>\n",
       "      <td>['English']</td>\n",
       "      <td>['1937-01-01 - 1954-12-31', '1937-02-02 - 1938...</td>\n",
       "      <td>['Edinburgh (Scotland)', 'St Andrews (Scotland...</td>\n",
       "    </tr>\n",
       "    <tr>\n",
       "      <th>1</th>\n",
       "      <td>Coll-31</td>\n",
       "      <td>['Drawings from the Office of Sir Rowand Ander...</td>\n",
       "      <td>['Coll-31', 'Coll-31/1', 'Coll-31/1/1', 'Coll-...</td>\n",
       "      <td>['English']</td>\n",
       "      <td>['1814-01-01 - 1924-12-31', '1874-01-01 - 1905...</td>\n",
       "      <td>['']</td>\n",
       "    </tr>\n",
       "    <tr>\n",
       "      <th>2</th>\n",
       "      <td>Coll-51</td>\n",
       "      <td>['Papers of Sir Roderick Impey Murchison and h...</td>\n",
       "      <td>['Coll-51', 'Coll-51/1', 'Coll-51/2', 'Coll-51...</td>\n",
       "      <td>['English']</td>\n",
       "      <td>['1771-01-01 - 1935-12-31', '1723-01-01 - 1935...</td>\n",
       "      <td>['Calcutta (India)', 'Europe', 'Tarradale (Sco...</td>\n",
       "    </tr>\n",
       "    <tr>\n",
       "      <th>3</th>\n",
       "      <td>Coll-204</td>\n",
       "      <td>['Lecture Notes of John Robison', 'Introductio...</td>\n",
       "      <td>['Coll-204', 'Coll-204/1', 'Coll-204/2', 'Coll...</td>\n",
       "      <td>['English', 'Russian', 'Latin', 'French']</td>\n",
       "      <td>['1779-01-01 - 1801-12-31', '1779-01-01 - 1801...</td>\n",
       "      <td>['Edinburgh (Scotland)', 'Stirlingshire Scotla...</td>\n",
       "    </tr>\n",
       "    <tr>\n",
       "      <th>4</th>\n",
       "      <td>Coll-206</td>\n",
       "      <td>['Records of the Wernerian Natural History Soc...</td>\n",
       "      <td>['Coll-206', 'Coll-206/1', 'Coll-206/1/1', 'Co...</td>\n",
       "      <td>['English']</td>\n",
       "      <td>['1808-01-01 - 1858-12-31', '1808-01-12 - 1858...</td>\n",
       "      <td>['Edinburgh (Scotland)', 'Freiburg im Breisgau...</td>\n",
       "    </tr>\n",
       "  </tbody>\n",
       "</table>\n",
       "</div>"
      ],
      "text/plain": [
       "       eadid                                         unit_title  \\\n",
       "0  Coll-1064  ['Papers of Professor Walter Ledermann', '1 (3...   \n",
       "1    Coll-31  ['Drawings from the Office of Sir Rowand Ander...   \n",
       "2    Coll-51  ['Papers of Sir Roderick Impey Murchison and h...   \n",
       "3   Coll-204  ['Lecture Notes of John Robison', 'Introductio...   \n",
       "4   Coll-206  ['Records of the Wernerian Natural History Soc...   \n",
       "\n",
       "                                     unit_identifier  \\\n",
       "0  ['Coll-1064', 'Coll-1064/1', 'Coll-1064/2', 'C...   \n",
       "1  ['Coll-31', 'Coll-31/1', 'Coll-31/1/1', 'Coll-...   \n",
       "2  ['Coll-51', 'Coll-51/1', 'Coll-51/2', 'Coll-51...   \n",
       "3  ['Coll-204', 'Coll-204/1', 'Coll-204/2', 'Coll...   \n",
       "4  ['Coll-206', 'Coll-206/1', 'Coll-206/1/1', 'Co...   \n",
       "\n",
       "                             unique_language  \\\n",
       "0                                ['English']   \n",
       "1                                ['English']   \n",
       "2                                ['English']   \n",
       "3  ['English', 'Russian', 'Latin', 'French']   \n",
       "4                                ['English']   \n",
       "\n",
       "                                         unique_date  \\\n",
       "0  ['1937-01-01 - 1954-12-31', '1937-02-02 - 1938...   \n",
       "1  ['1814-01-01 - 1924-12-31', '1874-01-01 - 1905...   \n",
       "2  ['1771-01-01 - 1935-12-31', '1723-01-01 - 1935...   \n",
       "3  ['1779-01-01 - 1801-12-31', '1779-01-01 - 1801...   \n",
       "4  ['1808-01-01 - 1858-12-31', '1808-01-12 - 1858...   \n",
       "\n",
       "                                    unique_geography  \n",
       "0  ['Edinburgh (Scotland)', 'St Andrews (Scotland...  \n",
       "1                                               ['']  \n",
       "2  ['Calcutta (India)', 'Europe', 'Tarradale (Sco...  \n",
       "3  ['Edinburgh (Scotland)', 'Stirlingshire Scotla...  \n",
       "4  ['Edinburgh (Scotland)', 'Freiburg im Breisgau...  "
      ]
     },
     "execution_count": 41,
     "metadata": {},
     "output_type": "execute_result"
    }
   ],
   "source": [
    "meta_df.head()"
   ]
  },
  {
   "cell_type": "code",
   "execution_count": 42,
   "metadata": {
    "scrolled": true
   },
   "outputs": [
    {
     "data": {
      "text/html": [
       "<div>\n",
       "<style scoped>\n",
       "    .dataframe tbody tr th:only-of-type {\n",
       "        vertical-align: middle;\n",
       "    }\n",
       "\n",
       "    .dataframe tbody tr th {\n",
       "        vertical-align: top;\n",
       "    }\n",
       "\n",
       "    .dataframe thead th {\n",
       "        text-align: right;\n",
       "    }\n",
       "</style>\n",
       "<table border=\"1\" class=\"dataframe\">\n",
       "  <thead>\n",
       "    <tr style=\"text-align: right;\">\n",
       "      <th></th>\n",
       "      <th>file</th>\n",
       "      <th>offsets</th>\n",
       "      <th>text</th>\n",
       "      <th>label</th>\n",
       "      <th>category</th>\n",
       "      <th>eadid</th>\n",
       "      <th>annot_id</th>\n",
       "      <th>desc_id</th>\n",
       "    </tr>\n",
       "  </thead>\n",
       "  <tbody>\n",
       "    <tr>\n",
       "      <th>0</th>\n",
       "      <td>AA5_00100.ann</td>\n",
       "      <td>(789, 791)</td>\n",
       "      <td>He</td>\n",
       "      <td>Gendered-Pronoun</td>\n",
       "      <td>Linguistic</td>\n",
       "      <td>AA5</td>\n",
       "      <td>0</td>\n",
       "      <td>5223</td>\n",
       "    </tr>\n",
       "    <tr>\n",
       "      <th>1</th>\n",
       "      <td>AA5_00100.ann</td>\n",
       "      <td>(871, 873)</td>\n",
       "      <td>he</td>\n",
       "      <td>Gendered-Pronoun</td>\n",
       "      <td>Linguistic</td>\n",
       "      <td>AA5</td>\n",
       "      <td>1</td>\n",
       "      <td>5223</td>\n",
       "    </tr>\n",
       "    <tr>\n",
       "      <th>2</th>\n",
       "      <td>AA5_00100.ann</td>\n",
       "      <td>(913, 916)</td>\n",
       "      <td>his</td>\n",
       "      <td>Gendered-Pronoun</td>\n",
       "      <td>Linguistic</td>\n",
       "      <td>AA5</td>\n",
       "      <td>2</td>\n",
       "      <td>5223</td>\n",
       "    </tr>\n",
       "    <tr>\n",
       "      <th>3</th>\n",
       "      <td>AA5_00100.ann</td>\n",
       "      <td>(928, 930)</td>\n",
       "      <td>he</td>\n",
       "      <td>Gendered-Pronoun</td>\n",
       "      <td>Linguistic</td>\n",
       "      <td>AA5</td>\n",
       "      <td>3</td>\n",
       "      <td>5223</td>\n",
       "    </tr>\n",
       "    <tr>\n",
       "      <th>4</th>\n",
       "      <td>AA5_00100.ann</td>\n",
       "      <td>(1217, 1219)</td>\n",
       "      <td>he</td>\n",
       "      <td>Gendered-Pronoun</td>\n",
       "      <td>Linguistic</td>\n",
       "      <td>AA5</td>\n",
       "      <td>4</td>\n",
       "      <td>5223</td>\n",
       "    </tr>\n",
       "  </tbody>\n",
       "</table>\n",
       "</div>"
      ],
      "text/plain": [
       "            file       offsets text             label    category eadid  \\\n",
       "0  AA5_00100.ann    (789, 791)   He  Gendered-Pronoun  Linguistic   AA5   \n",
       "1  AA5_00100.ann    (871, 873)   he  Gendered-Pronoun  Linguistic   AA5   \n",
       "2  AA5_00100.ann    (913, 916)  his  Gendered-Pronoun  Linguistic   AA5   \n",
       "3  AA5_00100.ann    (928, 930)   he  Gendered-Pronoun  Linguistic   AA5   \n",
       "4  AA5_00100.ann  (1217, 1219)   he  Gendered-Pronoun  Linguistic   AA5   \n",
       "\n",
       "   annot_id  desc_id  \n",
       "0         0     5223  \n",
       "1         1     5223  \n",
       "2         2     5223  \n",
       "3         3     5223  \n",
       "4         4     5223  "
      ]
     },
     "execution_count": 42,
     "metadata": {},
     "output_type": "execute_result"
    }
   ],
   "source": [
    "data_df.head()"
   ]
  },
  {
   "cell_type": "markdown",
   "metadata": {},
   "source": [
    "<a id=\"3\"></a>\n",
    "## 3. Date of Material of Annotations\n",
    "\n",
    "First, find how many of each language there is across the entire dataset.  Then, find how many of each language there is for the `Omission`, `Stereotype`, and `Generalization` labels."
   ]
  },
  {
   "cell_type": "code",
   "execution_count": 129,
   "metadata": {},
   "outputs": [],
   "source": [
    "# meta_df = pd.read_csv(\"data/CRC_units-grouped-by-fonds_clean.csv\", index_col=0)"
   ]
  },
  {
   "cell_type": "code",
   "execution_count": 130,
   "metadata": {},
   "outputs": [],
   "source": [
    "# dates = list(meta_df.unique_date)\n",
    "# date_counts = dict()\n",
    "# for d in dates:\n",
    "#     if type(d) == str:\n",
    "#         d = d.replace(\"'\",\"\")\n",
    "#         d = d.replace(\"[\",\"\")\n",
    "#         d = d.replace(\"]\",\"\")\n",
    "#         d_list = d.split(\", \")\n",
    "#         for lang in l_list:\n",
    "#             if lang == \"restEnglish\":\n",
    "#                 lang_counts[\"English\"] += 1\n",
    "#             elif lang in lang_counts:\n",
    "#                 lang_counts[lang] += 1\n",
    "#             else:\n",
    "#                 lang_counts[lang] = 1\n",
    "\n",
    "# print(lang_counts)"
   ]
  },
  {
   "cell_type": "code",
   "execution_count": 100,
   "metadata": {},
   "outputs": [],
   "source": [
    "# lang_counts_df = pd.DataFrame.from_dict(lang_counts, orient=\"index\").reset_index()\n",
    "# lang_counts_df.columns = [\"language\", \"collection_count\"]\n",
    "# lang_counts_df = lang_counts_df.sort_values(by=\"collection_count\", ascending=False)\n",
    "# # lang_counts_df.head()\n",
    "# lang_counts_df.to_csv(\"analysis_data/language_material_collection_counts.csv\")"
   ]
  },
  {
   "cell_type": "markdown",
   "metadata": {},
   "source": [
    "## 4. Lengths of Descriptions and Annotations\n",
    "Minimum, maximum, average, and standard deviation of word and sentence counts...\n",
    "* Per description (by descid - a.k.a. per \"document\" for document classifiers)\n",
    "* Per metadata field (Title, Biographical / Historical, Scope and Contents, and Processing Information)\n",
    "* Per collection (identifiable with the `eadid` column)\n",
    "* Per annotation label (Omission, Stereotype, Generalization, etc.)\n",
    "* Per annotation category (Person Name, Linguistic, Contextual)"
   ]
  },
  {
   "cell_type": "code",
   "execution_count": null,
   "metadata": {},
   "outputs": [],
   "source": []
  }
 ],
 "metadata": {
  "kernelspec": {
   "display_name": "Python 3",
   "language": "python",
   "name": "python3"
  },
  "language_info": {
   "codemirror_mode": {
    "name": "ipython",
    "version": 3
   },
   "file_extension": ".py",
   "mimetype": "text/x-python",
   "name": "python",
   "nbconvert_exporter": "python",
   "pygments_lexer": "ipython3",
   "version": "3.8.10"
  }
 },
 "nbformat": 4,
 "nbformat_minor": 4
}
