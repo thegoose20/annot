{
 "cells": [
  {
   "cell_type": "markdown",
   "metadata": {},
   "source": [
    "# Merge Annotated Datasets for a Gold Standard, part 3\n",
    "\n",
    "#### To continue reconciling the differences in the five annotatated archival metadata descriptions datasets to create one merged dataset:\n",
    "\n",
    "  [4.](#4) Review overlapping annotations with the *same* label and add the longest annotation to the gold standard DataFrame, and then remove the others from the old DataFrame.  Be sure to record both annotators as contributing to gold standard in `annotator` column.\n",
    "\n",
    "  [5.](#5) For any files annotator 1 didn't label, add all annotator 0's `Gendered-Role` labels.  For any files annotator 0 didn't label, add all annotator 2's `Gendered-Role` labels.\n",
    "\n",
    "  [6.](#6) Add all the remaining `Generalization` labels to the gold standard DataFrame.  Change any text spans that end in -ess, -boy, -girl, or -man labeled as Gendered-Role to Generalization.\n",
    "\n",
    "  [7.](#7) Add all the remaining Person-Name labels from annotators 0 and 2 to the gold standard DataFrame.\n",
    "  \n",
    "  [8.](#8) Add the `Omission` and `Stereotype` labels from annotators 0, 3, and 4 to the gold standard DataFrame.\n",
    "  \n",
    "  [9.](#9) Count the number (and calculate the proportion) of labels each annotator contributed to the gold standard DataFrame.\n",
    "  \n",
    "  [10.](#10) Create a copy of the gold standard, drop the \"annotator\" column, and then drop duplicate rows from the gold standard DataFrame.  This is the final gold standard on which to train and evaluate classifiers.\n",
    "  \n",
    "***\n",
    "\n",
    "I. [Person-Name Overlaps](#p)\n",
    "\n",
    "* [Unknown](#p-u)\n",
    "* [Feminine](#p-f)\n",
    "* [Masculine](#p-m)\n",
    "\n",
    "II. [Linguistic Overlaps](#l)\n",
    "\n",
    "* [Gendered-Role](#l-gr)\n",
    "* [Generalization](#l-g)\n",
    "* [Gendered-Pronoun](#l-gp)\n",
    "\n",
    "III. [Contextual Overlaps](#c)\n",
    "\n",
    "* [Stereotype](#c-s)\n",
    "* [Omission](#c-om)\n",
    "* [Occupation](#c-o)\n",
    "\n",
    "IV. [Add to Gold](#g)\n",
    "* [Matches](#g-m)\n",
    "* [Overlaps](#g-o)\n",
    "* [Remainder (steps 5-8)](#g-r)"
   ]
  },
  {
   "cell_type": "code",
   "execution_count": 1,
   "metadata": {},
   "outputs": [],
   "source": [
    "import pandas as pd\n",
    "import numpy as np\n",
    "import string\n",
    "import csv\n",
    "import re\n",
    "import os\n",
    "from intervaltree import Interval, IntervalTree"
   ]
  },
  {
   "cell_type": "markdown",
   "metadata": {},
   "source": [
    "Find overlapping annotations among annotators 0, 1, & 2, and among annotators 0, 3, & 4, one label at a time, one file at a time.  Add the longest annotation (the largest difference between offsets) from among the overlapping annotations to the gold standard.\n",
    "\n",
    "**Functions:**"
   ]
  },
  {
   "cell_type": "code",
   "execution_count": 4,
   "metadata": {},
   "outputs": [],
   "source": [
    "# Separate the input DataFrame's offsets column into 'start' offset and 'end' offset columns of type int\n",
    "def splitOffsets(df):\n",
    "    offsets = list(df.offsets)\n",
    "    start, end = [], []\n",
    "    for o in offsets:\n",
    "        pair = o[1:-1]\n",
    "        pair_list = pair.split(\",\")\n",
    "        start += [pair_list[0]]\n",
    "        end += [pair_list[1]]\n",
    "    df[\"start\"] = start\n",
    "    df[\"end\"] = end\n",
    "    df = df.astype({\"start\":int, \"end\":int})\n",
    "    return df\n",
    "\n",
    "# Find the files both input annotators labeled\n",
    "def findCommonFiles(df_a, df_b):\n",
    "    common = []\n",
    "    files_a = set(list(df_a.file))\n",
    "    files_b = set(list(df_b.file))\n",
    "    for f in files_a:\n",
    "        if f in files_b:\n",
    "            common += [f]\n",
    "    return common\n",
    "\n",
    "# Create an interval tree for one annotator for a specified file and specified label\n",
    "def createIntervalTree(df, filename, labelname):\n",
    "    subdf = df[df.file == filename]                                       # Get only rows for the input file\n",
    "    subdf = subdf[subdf.label == labelname]                               # Get only rows for that file with the input label\n",
    "    offsets = list(zip(list(subdf.start), list(subdf.end)))\n",
    "    return IntervalTree.from_tuples(offsets)\n",
    "\n",
    "# Find strict agreements (exact matches)\n",
    "def findMatches(tree_exp, tree_pred):\n",
    "    matches = []\n",
    "    for annotation in tree_exp:\n",
    "        if annotation in tree_pred:\n",
    "            matches += [annotation]\n",
    "    return matches\n",
    "\n",
    "# Find annotations that overlap one another (including enveloping but excluding exactly matching annotations)\n",
    "# Note: exp = A, pred = B\n",
    "def findOverlaps(tree_exp, tree_pred):\n",
    "    overlaps_pred, overlaps_exp = [], []\n",
    "    for annotation in tree_exp:\n",
    "        overlapping_intervals = tree_pred.overlap(annotation)\n",
    "        if len(overlapping_intervals) > 0:\n",
    "            for oi in overlapping_intervals:\n",
    "                overlaps_pred += [oi]\n",
    "    for annotation in tree_pred:\n",
    "        overlapping_intervals = tree_exp.overlap(annotation)\n",
    "        if len(overlapping_intervals) > 0:\n",
    "            for oi in overlapping_intervals:\n",
    "                overlaps_exp += [oi]\n",
    "    return overlaps_exp, overlaps_pred\n",
    "\n",
    "# Record the type of agreement in the DataFrame\n",
    "def recordAgreements(df, labelname, filename, agreements, agreement_col_name, agreement_type):\n",
    "    df_label = df.loc[df.label == labelname]\n",
    "    df_file = df_label.loc[df_label.file == filename]\n",
    "    for a in agreements:\n",
    "        offset = \"(\"+str(a.begin)+\", \"+str(a.end)+\")\"\n",
    "        row = df_file.loc[df_file.offsets == offset].index\n",
    "        df.at[row, agreement_col_name] = agreement_type\n",
    "    return df\n",
    "\n",
    "# Record exact matches between two annotators' DataFrames in the DF's agreement columns \n",
    "def getAllExactMatchesPerLabel(annA, annB, sub_annA, sub_annB, agreement_A, agreement_B, labelname, common_files):\n",
    "    for f in common_files:\n",
    "        # Create interval trees of the offset data for each annotator for file f\n",
    "        treeA = createIntervalTree(sub_annA, f, labelname)\n",
    "        treeB = createIntervalTree(sub_annB, f, labelname)\n",
    "        # Find exact matches between the annotators\n",
    "        matches = findMatches(treeA,treeB)\n",
    "        annA = recordAgreements(annA,labelname,f,matches,agreement_B,\"Match\")\n",
    "        annB = recordAgreements(annB,labelname,f,matches,agreement_A,\"Match\")\n",
    "    return annA, annB\n",
    "\n",
    "# Record overlapping annotations between two annotators' DataFrames in the DF's agreement columns\n",
    "def getAllOverlapsPerLabel(annA, annB, sub_annA, sub_annB, agreement_A, agreement_B, labelname, common_files):\n",
    "    for f in common_files:\n",
    "        # Create interval trees of the offset data for each annotator for file f\n",
    "        treeA = createIntervalTree(sub_annA, f, labelname)\n",
    "        treeB = createIntervalTree(sub_annB, f, labelname)\n",
    "        # Find overlaps between the annotators\n",
    "        overlapsA, overlapsB = findOverlaps(treeA,treeB)\n",
    "        annA = recordAgreements(annA,labelname,f,overlapsA,agreement_B,\"Overlap\")\n",
    "        annB = recordAgreements(annB,labelname,f,overlapsB,agreement_A,\"Overlap\")\n",
    "    return annA, annB"
   ]
  },
  {
   "cell_type": "markdown",
   "metadata": {},
   "source": [
    "<a id=\"p\"></a>\n",
    "### Person-Name Overlaps: \n",
    "* Annotators: 0, 2 (excluding 1's data because has too many inconsistencies)\n",
    "* Labels: Unknown, Masculine, Feminine (Nonbinary not used)"
   ]
  },
  {
   "cell_type": "code",
   "execution_count": 44,
   "metadata": {},
   "outputs": [],
   "source": [
    "# Load data\n",
    "ann0 = pd.read_csv(\"labels0PL.csv\")\n",
    "# ann0.head()\n",
    "ann2 = pd.read_csv(\"labels2.csv\")\n",
    "# ann2.head()"
   ]
  },
  {
   "cell_type": "code",
   "execution_count": 45,
   "metadata": {},
   "outputs": [],
   "source": [
    "# Add a column to each annotator's DataFrame to record the type of agreement (or None if file not common between the annotators)\n",
    "ann0 = splitOffsets(ann0)\n",
    "ann0[\"agreement_2\"] = [None]*ann0.shape[0]\n",
    "# ann0.head()  # Looks good \n",
    "ann2 = splitOffsets(ann2)\n",
    "ann2[\"agreement_0\"] = [None]*ann2.shape[0]\n",
    "# ann2.tail()  # Looks good"
   ]
  },
  {
   "cell_type": "code",
   "execution_count": 46,
   "metadata": {},
   "outputs": [
    {
     "name": "stdout",
     "output_type": "stream",
     "text": [
      "170\n"
     ]
    }
   ],
   "source": [
    "# Find files both annotators 0 and 2 labeled\n",
    "common_files = findCommonFiles(ann0, ann2)\n",
    "print(len(common_files))"
   ]
  },
  {
   "cell_type": "markdown",
   "metadata": {},
   "source": [
    "<a id=\"p-u\"></a>\n",
    "#### UNKNOWN\n",
    "Find agreements (exact matches and overlaps) between annotator 0 and annotator 2's 'Unknown' annotations:"
   ]
  },
  {
   "cell_type": "code",
   "execution_count": 47,
   "metadata": {},
   "outputs": [],
   "source": [
    "labelname = \"Unknown\""
   ]
  },
  {
   "cell_type": "markdown",
   "metadata": {},
   "source": [
    "Find exact matches:"
   ]
  },
  {
   "cell_type": "code",
   "execution_count": 48,
   "metadata": {},
   "outputs": [
    {
     "name": "stdout",
     "output_type": "stream",
     "text": [
      "(6790, 12)\n",
      "(7025, 12)\n"
     ]
    }
   ],
   "source": [
    "# Create subsets of the annotators' DataFrames that include only the files they BOTH labeled\n",
    "sub_ann0 = ann0.loc[ann0.file.isin(common_files)]\n",
    "print(sub_ann0.shape)\n",
    "sub_ann2 = ann2.loc[ann2.file.isin(common_files)]\n",
    "print(sub_ann2.shape)"
   ]
  },
  {
   "cell_type": "code",
   "execution_count": 49,
   "metadata": {},
   "outputs": [
    {
     "name": "stdout",
     "output_type": "stream",
     "text": [
      "Exact matches in Annotator 0's DataFrame: 2630\n",
      "Exact matches in Annotator 2's DataFrame: 2630\n"
     ]
    }
   ],
   "source": [
    "annA = ann0\n",
    "sub_annA = sub_ann0\n",
    "agreement_B = \"agreement_2\"\n",
    "annB = ann2\n",
    "sub_annB = sub_ann2\n",
    "agreement_A = \"agreement_0\"\n",
    "ann0, ann2 = getAllExactMatchesPerLabel(annA, annB, sub_annA, sub_annB, agreement_A, agreement_B, labelname, common_files)\n",
    "\n",
    "print(\"Exact matches in Annotator 0's DataFrame:\", (ann0.loc[ann0.agreement_2 == \"Match\"]).shape[0])\n",
    "print(\"Exact matches in Annotator 2's DataFrame:\", (ann2.loc[ann2.agreement_0 == \"Match\"]).shape[0])"
   ]
  },
  {
   "cell_type": "code",
   "execution_count": 56,
   "metadata": {},
   "outputs": [
    {
     "name": "stdout",
     "output_type": "stream",
     "text": [
      "(2630, 12)\n",
      "(2630, 12)\n"
     ]
    }
   ],
   "source": [
    "# # Check by finding intersection of DataFrames - shouldn't be less than numbers of exact matches above\n",
    "# ann0_multiindex = ann0.set_index(['file', 'offsets', 'text'], inplace=False)\n",
    "# ann0_multiindex = ann0_multiindex.loc[ann0_multiindex.label == 'Unknown']\n",
    "# ann0_multiindex.drop(columns=['id', 'entity', 'category'],inplace=True)\n",
    "# ann2_multiindex = ann2.set_index(['file', 'offsets', 'text'], inplace=False)\n",
    "# ann2_multiindex.drop(columns=['id', 'entity', 'category'],inplace=True)\n",
    "# ann2_multiindex = ann2_multiindex.loc[ann2_multiindex.label == 'Unknown']\n",
    "# ann2_multiindex.tail()\n",
    "# intersection02 = ann0_multiindex.join(ann2_multiindex, on=['file', 'offsets', 'text'], how='inner', lsuffix='_0', rsuffix='_2')\n",
    "# # intersection02.head(10)\n",
    "# print(intersection02.shape)  # (2630, 12)\n",
    "# intersection20 = ann2_multiindex.join(ann0_multiindex, on=['file', 'offsets', 'text'], how='inner', lsuffix='_2', rsuffix='_0')\n",
    "# print(intersection20.shape)  # (2630, 12) - Looks good"
   ]
  },
  {
   "cell_type": "markdown",
   "metadata": {},
   "source": [
    "Find overlaps:"
   ]
  },
  {
   "cell_type": "code",
   "execution_count": 50,
   "metadata": {},
   "outputs": [
    {
     "name": "stdout",
     "output_type": "stream",
     "text": [
      "Overlaps in Annotator 0's DataFrame: 143\n",
      "Overlaps in Annotator 2's DataFrame: 142\n"
     ]
    }
   ],
   "source": [
    "annA = ann0\n",
    "sub_ann0 = ann0.loc[ann0.file.isin(common_files)]        # Look only at files both annotators labeled\n",
    "sub_annA = sub_ann0.loc[sub_ann0.agreement_2 != \"Match\"] # Filter out rows already recorded as having a \"Match\"\n",
    "agreement_B = \"agreement_2\"\n",
    "annB = ann2\n",
    "sub_ann2 = ann2.loc[ann2.file.isin(common_files)]        # Look only at files both annotators labeled\n",
    "sub_annB = sub_ann2.loc[sub_ann2.agreement_0 != \"Match\"] # Filter out rows already recorded as having a \"Match\"\n",
    "agreement_A = \"agreement_0\"\n",
    "ann0, ann2 = getAllOverlapsPerLabel(annA, annB, sub_annA, sub_annB, agreement_A, agreement_B, labelname, common_files)\n",
    "\n",
    "print(\"Overlaps in Annotator 0's DataFrame:\", ann0.loc[ann0.agreement_2 == \"Overlap\"].shape[0])\n",
    "print(\"Overlaps in Annotator 2's DataFrame:\", ann2.loc[ann2.agreement_0 == \"Overlap\"].shape[0])\n",
    "# ann0.loc[ann0.agreement_2 == \"Overlap\"] - looks good\n",
    "# ann2.loc[ann2.agreement_0 == \"Overlap\"] - looks good"
   ]
  },
  {
   "cell_type": "code",
   "execution_count": 16,
   "metadata": {},
   "outputs": [
    {
     "name": "stdout",
     "output_type": "stream",
     "text": [
      "Overlaps in Annotator 0's DataFrame: 2630\n",
      "Overlaps in Annotator 2's DataFrame: 2772\n"
     ]
    }
   ],
   "source": [
    "# # Check by finding overlaps before matches - should be same as or greater than the number of matches\n",
    "# labelname = 'Unknown'\n",
    "# ann0 = pd.read_csv(\"labels0PL.csv\")\n",
    "# ann2 = pd.read_csv(\"labels2.csv\")\n",
    "# ann0 = splitOffsets(ann0)\n",
    "# ann0[\"agreement_2\"] = [None]*ann0.shape[0]\n",
    "# ann2 = splitOffsets(ann2)\n",
    "# ann2[\"agreement_0\"] = [None]*ann2.shape[0]\n",
    "\n",
    "# common_files = findCommonFiles(ann0, ann2)\n",
    "# sub_ann0 = ann0.loc[ann0.file.isin(common_files)]  # Look only at files both annotators labeled\n",
    "# sub_ann2 = ann2.loc[ann2.file.isin(common_files)]  # Look only at files both annotators labeled\n",
    "\n",
    "# annA = ann0\n",
    "# sub_annA = sub_ann0\n",
    "# agreement_B = \"agreement_2\"\n",
    "# annB = ann2\n",
    "# sub_annB = sub_ann2\n",
    "# agreement_A = \"agreement_0\"\n",
    "# ann0, ann2 = getAllOverlapsPerLabel(annA, annB, sub_annA, sub_annB, agreement_A, agreement_B, labelname, common_files)\n",
    "\n",
    "# print(\"Overlaps in Annotator 0's DataFrame:\", ann0.loc[ann0.agreement_2 == \"Overlap\"].shape[0]) # 2630\n",
    "# print(\"Overlaps in Annotator 2's DataFrame:\", ann2.loc[ann2.agreement_0 == \"Overlap\"].shape[0]) # 2772 - looks good!"
   ]
  },
  {
   "cell_type": "markdown",
   "metadata": {},
   "source": [
    "The various sums of matches and overlaps all seem to be making sense and align with our double checks! Let's write the data to CSVs for safe-keeping and then move on to the other labels used in the annotation process."
   ]
  },
  {
   "cell_type": "code",
   "execution_count": 51,
   "metadata": {},
   "outputs": [],
   "source": [
    "ann0.to_csv(\"Agreements/ann0_agreement2_Unknown.csv\")\n",
    "ann2.to_csv(\"Agreements/ann2_agreement0_Unknown.csv\")"
   ]
  },
  {
   "cell_type": "markdown",
   "metadata": {},
   "source": [
    "<a id=\"p-f\"></a>\n",
    "#### FEMININE\n",
    "Find agreements (exact matches and overlaps) between annotator 0 and annotator 2's 'Feminine' annotations:"
   ]
  },
  {
   "cell_type": "code",
   "execution_count": 52,
   "metadata": {},
   "outputs": [],
   "source": [
    "labelname = \"Feminine\""
   ]
  },
  {
   "cell_type": "code",
   "execution_count": 53,
   "metadata": {},
   "outputs": [
    {
     "name": "stdout",
     "output_type": "stream",
     "text": [
      "Exact matches in Annotator 0's DataFrame: 3275\n",
      "Exact matches in Annotator 2's DataFrame: 3275\n"
     ]
    }
   ],
   "source": [
    "# Find exact matches\n",
    "sub_ann0 = ann0.loc[ann0.file.isin(common_files)]\n",
    "sub_ann2 = ann2.loc[ann2.file.isin(common_files)]\n",
    "annA = ann0\n",
    "sub_annA = sub_ann0\n",
    "agreement_B = \"agreement_2\"\n",
    "annB = ann2\n",
    "sub_annB = sub_ann2\n",
    "agreement_A = \"agreement_0\"\n",
    "ann0, ann2 = getAllExactMatchesPerLabel(annA, annB, sub_annA, sub_annB, agreement_A, agreement_B, labelname, common_files)\n",
    "\n",
    "print(\"Exact matches in Annotator 0's DataFrame:\", (ann0.loc[ann0.agreement_2 == \"Match\"]).shape[0])\n",
    "print(\"Exact matches in Annotator 2's DataFrame:\", (ann2.loc[ann2.agreement_0 == \"Match\"]).shape[0])"
   ]
  },
  {
   "cell_type": "code",
   "execution_count": 54,
   "metadata": {},
   "outputs": [
    {
     "name": "stdout",
     "output_type": "stream",
     "text": [
      "Overlaps in Annotator 0's DataFrame: 215\n",
      "Overlaps in Annotator 2's DataFrame: 217\n"
     ]
    }
   ],
   "source": [
    "# Find overlaps\n",
    "annA = ann0\n",
    "sub_ann0 = ann0.loc[ann0.file.isin(common_files)]        # Look only at files both annotators labeled\n",
    "sub_annA = sub_ann0.loc[sub_ann0.agreement_2 != \"Match\"] # Filter out rows already recorded as having a \"Match\"\n",
    "agreement_B = \"agreement_2\"\n",
    "annB = ann2\n",
    "sub_ann2 = ann2.loc[ann2.file.isin(common_files)]        # Look only at files both annotators labeled\n",
    "sub_annB = sub_ann2.loc[sub_ann2.agreement_0 != \"Match\"] # Filter out rows already recorded as having a \"Match\"\n",
    "agreement_A = \"agreement_0\"\n",
    "ann0, ann2 = getAllOverlapsPerLabel(annA, annB, sub_annA, sub_annB, agreement_A, agreement_B, labelname, common_files)\n",
    "\n",
    "print(\"Overlaps in Annotator 0's DataFrame:\", ann0.loc[ann0.agreement_2 == \"Overlap\"].shape[0])\n",
    "print(\"Overlaps in Annotator 2's DataFrame:\", ann2.loc[ann2.agreement_0 == \"Overlap\"].shape[0])"
   ]
  },
  {
   "cell_type": "code",
   "execution_count": 55,
   "metadata": {},
   "outputs": [],
   "source": [
    "ann0.to_csv(\"Agreements/ann0_agreement2_UnknownFeminine.csv\")\n",
    "ann2.to_csv(\"Agreements/ann2_agreement0_UnknownFeminine.csv\")"
   ]
  },
  {
   "cell_type": "markdown",
   "metadata": {},
   "source": [
    "<a id=\"p-m\"></a>\n",
    "#### MASCULINE\n",
    "Find agreements (exact matches and overlaps) between annotator 0 and annotator 2's 'Masculine' annotations:"
   ]
  },
  {
   "cell_type": "code",
   "execution_count": 56,
   "metadata": {},
   "outputs": [],
   "source": [
    "labelname = \"Masculine\""
   ]
  },
  {
   "cell_type": "code",
   "execution_count": 57,
   "metadata": {},
   "outputs": [
    {
     "name": "stdout",
     "output_type": "stream",
     "text": [
      "Exact matches in Annotator 0's DataFrame: 3968\n",
      "Exact matches in Annotator 2's DataFrame: 3968\n"
     ]
    }
   ],
   "source": [
    "# Find exact matches\n",
    "sub_ann0 = ann0.loc[ann0.file.isin(common_files)]\n",
    "sub_ann2 = ann2.loc[ann2.file.isin(common_files)]\n",
    "annA = ann0\n",
    "sub_annA = sub_ann0\n",
    "agreement_B = \"agreement_2\"\n",
    "annB = ann2\n",
    "sub_annB = sub_ann2\n",
    "agreement_A = \"agreement_0\"\n",
    "ann0, ann2 = getAllExactMatchesPerLabel(annA, annB, sub_annA, sub_annB, agreement_A, agreement_B, labelname, common_files)\n",
    "\n",
    "print(\"Exact matches in Annotator 0's DataFrame:\", (ann0.loc[ann0.agreement_2 == \"Match\"]).shape[0])\n",
    "print(\"Exact matches in Annotator 2's DataFrame:\", (ann2.loc[ann2.agreement_0 == \"Match\"]).shape[0])"
   ]
  },
  {
   "cell_type": "code",
   "execution_count": 58,
   "metadata": {},
   "outputs": [
    {
     "name": "stdout",
     "output_type": "stream",
     "text": [
      "Overlaps in Annotator 0's DataFrame: 250\n",
      "Overlaps in Annotator 2's DataFrame: 251\n"
     ]
    }
   ],
   "source": [
    "# Find overlaps\n",
    "annA = ann0\n",
    "sub_ann0 = ann0.loc[ann0.file.isin(common_files)]        # Look only at files both annotators labeled\n",
    "sub_annA = sub_ann0.loc[sub_ann0.agreement_2 != \"Match\"] # Filter out rows already recorded as having a \"Match\"\n",
    "agreement_B = \"agreement_2\"\n",
    "annB = ann2\n",
    "sub_ann2 = ann2.loc[ann2.file.isin(common_files)]        # Look only at files both annotators labeled\n",
    "sub_annB = sub_ann2.loc[sub_ann2.agreement_0 != \"Match\"] # Filter out rows already recorded as having a \"Match\"\n",
    "agreement_A = \"agreement_0\"\n",
    "ann0, ann2 = getAllOverlapsPerLabel(annA, annB, sub_annA, sub_annB, agreement_A, agreement_B, labelname, common_files)\n",
    "\n",
    "print(\"Overlaps in Annotator 0's DataFrame:\", ann0.loc[ann0.agreement_2 == \"Overlap\"].shape[0])\n",
    "print(\"Overlaps in Annotator 2's DataFrame:\", ann2.loc[ann2.agreement_0 == \"Overlap\"].shape[0])"
   ]
  },
  {
   "cell_type": "code",
   "execution_count": 59,
   "metadata": {},
   "outputs": [],
   "source": [
    "ann0.to_csv(\"Agreements/ann0_agreement2_UnknownFeminineMasculine.csv\")\n",
    "ann2.to_csv(\"Agreements/ann2_agreement0_UnknownFeminineMasculine.csv\")"
   ]
  },
  {
   "cell_type": "markdown",
   "metadata": {},
   "source": [
    "<a id=\"l\"></a>\n",
    "### Linguistic Overlaps: \n",
    "* Annotators: 0, 1, 2\n",
    "* Labels: Gendered-Role, Generalization, Gendered-Pronoun* \n",
    "\n",
    "**already added some to gold standard, so find matches and overlaps there too!*"
   ]
  },
  {
   "cell_type": "code",
   "execution_count": 64,
   "metadata": {},
   "outputs": [
    {
     "data": {
      "text/html": [
       "<div>\n",
       "<style scoped>\n",
       "    .dataframe tbody tr th:only-of-type {\n",
       "        vertical-align: middle;\n",
       "    }\n",
       "\n",
       "    .dataframe tbody tr th {\n",
       "        vertical-align: top;\n",
       "    }\n",
       "\n",
       "    .dataframe thead th {\n",
       "        text-align: right;\n",
       "    }\n",
       "</style>\n",
       "<table border=\"1\" class=\"dataframe\">\n",
       "  <thead>\n",
       "    <tr style=\"text-align: right;\">\n",
       "      <th></th>\n",
       "      <th>file</th>\n",
       "      <th>offsets</th>\n",
       "      <th>text</th>\n",
       "      <th>id</th>\n",
       "      <th>entity</th>\n",
       "      <th>label</th>\n",
       "      <th>annotator</th>\n",
       "      <th>category</th>\n",
       "      <th>remove</th>\n",
       "    </tr>\n",
       "  </thead>\n",
       "  <tbody>\n",
       "    <tr>\n",
       "      <th>0</th>\n",
       "      <td>Coll-1326_00100.ann</td>\n",
       "      <td>(1132, 1135)</td>\n",
       "      <td>his</td>\n",
       "      <td>0</td>\n",
       "      <td>T0</td>\n",
       "      <td>Gendered-Pronoun</td>\n",
       "      <td>Annotator 1</td>\n",
       "      <td>Linguistic</td>\n",
       "      <td>None</td>\n",
       "    </tr>\n",
       "    <tr>\n",
       "      <th>1</th>\n",
       "      <td>Coll-1326_00100.ann</td>\n",
       "      <td>(1142, 1144)</td>\n",
       "      <td>He</td>\n",
       "      <td>1</td>\n",
       "      <td>T1</td>\n",
       "      <td>Gendered-Pronoun</td>\n",
       "      <td>Annotator 1</td>\n",
       "      <td>Linguistic</td>\n",
       "      <td>None</td>\n",
       "    </tr>\n",
       "    <tr>\n",
       "      <th>2</th>\n",
       "      <td>Coll-1326_00100.ann</td>\n",
       "      <td>(1532, 1535)</td>\n",
       "      <td>his</td>\n",
       "      <td>2</td>\n",
       "      <td>T2</td>\n",
       "      <td>Gendered-Pronoun</td>\n",
       "      <td>Annotator 1</td>\n",
       "      <td>Linguistic</td>\n",
       "      <td>None</td>\n",
       "    </tr>\n",
       "    <tr>\n",
       "      <th>3</th>\n",
       "      <td>Coll-1326_00100.ann</td>\n",
       "      <td>(1548, 1550)</td>\n",
       "      <td>He</td>\n",
       "      <td>3</td>\n",
       "      <td>T3</td>\n",
       "      <td>Gendered-Pronoun</td>\n",
       "      <td>Annotator 1</td>\n",
       "      <td>Linguistic</td>\n",
       "      <td>None</td>\n",
       "    </tr>\n",
       "    <tr>\n",
       "      <th>4</th>\n",
       "      <td>Coll-1326_00100.ann</td>\n",
       "      <td>(48, 62)</td>\n",
       "      <td>Dr. Rutherford</td>\n",
       "      <td>4</td>\n",
       "      <td>T4</td>\n",
       "      <td>Unknown</td>\n",
       "      <td>Annotator 1</td>\n",
       "      <td>Person-Name</td>\n",
       "      <td>None</td>\n",
       "    </tr>\n",
       "  </tbody>\n",
       "</table>\n",
       "</div>"
      ],
      "text/plain": [
       "                  file       offsets            text  id entity  \\\n",
       "0  Coll-1326_00100.ann  (1132, 1135)             his   0     T0   \n",
       "1  Coll-1326_00100.ann  (1142, 1144)              He   1     T1   \n",
       "2  Coll-1326_00100.ann  (1532, 1535)             his   2     T2   \n",
       "3  Coll-1326_00100.ann  (1548, 1550)              He   3     T3   \n",
       "4  Coll-1326_00100.ann      (48, 62)  Dr. Rutherford   4     T4   \n",
       "\n",
       "              label    annotator     category remove  \n",
       "0  Gendered-Pronoun  Annotator 1   Linguistic   None  \n",
       "1  Gendered-Pronoun  Annotator 1   Linguistic   None  \n",
       "2  Gendered-Pronoun  Annotator 1   Linguistic   None  \n",
       "3  Gendered-Pronoun  Annotator 1   Linguistic   None  \n",
       "4           Unknown  Annotator 1  Person-Name   None  "
      ]
     },
     "execution_count": 64,
     "metadata": {},
     "output_type": "execute_result"
    }
   ],
   "source": [
    "# Load data\n",
    "ann0 = pd.read_csv(\"labels0PL.csv\")\n",
    "ann1 = pd.read_csv(\"labels1.csv\", index_col=0)\n",
    "ann1.set_index([\"file\",\"offsets\",\"text\"],inplace=True)\n",
    "ann1 = ann1.reset_index()\n",
    "ann2 = pd.read_csv(\"labels2.csv\")\n",
    "# ann0.head()\n",
    "ann1.head()  # looks good - organized like the other two DataFrames now\n",
    "# ann2.head()"
   ]
  },
  {
   "cell_type": "code",
   "execution_count": 65,
   "metadata": {},
   "outputs": [
    {
     "data": {
      "text/html": [
       "<div>\n",
       "<style scoped>\n",
       "    .dataframe tbody tr th:only-of-type {\n",
       "        vertical-align: middle;\n",
       "    }\n",
       "\n",
       "    .dataframe tbody tr th {\n",
       "        vertical-align: top;\n",
       "    }\n",
       "\n",
       "    .dataframe thead th {\n",
       "        text-align: right;\n",
       "    }\n",
       "</style>\n",
       "<table border=\"1\" class=\"dataframe\">\n",
       "  <thead>\n",
       "    <tr style=\"text-align: right;\">\n",
       "      <th></th>\n",
       "      <th>file</th>\n",
       "      <th>offsets</th>\n",
       "      <th>text</th>\n",
       "      <th>id</th>\n",
       "      <th>entity</th>\n",
       "      <th>label</th>\n",
       "      <th>annotator</th>\n",
       "      <th>category</th>\n",
       "      <th>remove</th>\n",
       "      <th>start</th>\n",
       "      <th>end</th>\n",
       "      <th>agreement_0</th>\n",
       "      <th>agreement_2</th>\n",
       "    </tr>\n",
       "  </thead>\n",
       "  <tbody>\n",
       "    <tr>\n",
       "      <th>16510</th>\n",
       "      <td>Coll-1434_11300.ann</td>\n",
       "      <td>(4867, 4870)</td>\n",
       "      <td>man</td>\n",
       "      <td>16657</td>\n",
       "      <td>T22</td>\n",
       "      <td>Gendered-Role</td>\n",
       "      <td>Annotator 1</td>\n",
       "      <td>Linguistic</td>\n",
       "      <td>None</td>\n",
       "      <td>4867</td>\n",
       "      <td>4870</td>\n",
       "      <td>None</td>\n",
       "      <td>None</td>\n",
       "    </tr>\n",
       "    <tr>\n",
       "      <th>16511</th>\n",
       "      <td>Coll-1434_09000.ann</td>\n",
       "      <td>(2117, 2120)</td>\n",
       "      <td>His</td>\n",
       "      <td>16658</td>\n",
       "      <td>T0</td>\n",
       "      <td>Gendered-Pronoun</td>\n",
       "      <td>Annotator 1</td>\n",
       "      <td>Linguistic</td>\n",
       "      <td>None</td>\n",
       "      <td>2117</td>\n",
       "      <td>2120</td>\n",
       "      <td>None</td>\n",
       "      <td>None</td>\n",
       "    </tr>\n",
       "    <tr>\n",
       "      <th>16512</th>\n",
       "      <td>Coll-1434_09000.ann</td>\n",
       "      <td>(2117, 2176)</td>\n",
       "      <td>His Excellency, the Kushbegi, Vice Emir of Bok...</td>\n",
       "      <td>16659</td>\n",
       "      <td>T1</td>\n",
       "      <td>Masculine</td>\n",
       "      <td>Annotator 1</td>\n",
       "      <td>Person-Name</td>\n",
       "      <td>None</td>\n",
       "      <td>2117</td>\n",
       "      <td>2176</td>\n",
       "      <td>None</td>\n",
       "      <td>None</td>\n",
       "    </tr>\n",
       "    <tr>\n",
       "      <th>16513</th>\n",
       "      <td>Coll-1434_09000.ann</td>\n",
       "      <td>(2137, 2145)</td>\n",
       "      <td>Kushbegi</td>\n",
       "      <td>16660</td>\n",
       "      <td>T2</td>\n",
       "      <td>Gendered-Role</td>\n",
       "      <td>Annotator 1</td>\n",
       "      <td>Linguistic</td>\n",
       "      <td>None</td>\n",
       "      <td>2137</td>\n",
       "      <td>2145</td>\n",
       "      <td>None</td>\n",
       "      <td>None</td>\n",
       "    </tr>\n",
       "    <tr>\n",
       "      <th>16514</th>\n",
       "      <td>Coll-1434_09000.ann</td>\n",
       "      <td>(2147, 2156)</td>\n",
       "      <td>Vice Emir</td>\n",
       "      <td>16661</td>\n",
       "      <td>T3</td>\n",
       "      <td>Gendered-Role</td>\n",
       "      <td>Annotator 1</td>\n",
       "      <td>Linguistic</td>\n",
       "      <td>None</td>\n",
       "      <td>2147</td>\n",
       "      <td>2156</td>\n",
       "      <td>None</td>\n",
       "      <td>None</td>\n",
       "    </tr>\n",
       "  </tbody>\n",
       "</table>\n",
       "</div>"
      ],
      "text/plain": [
       "                      file       offsets  \\\n",
       "16510  Coll-1434_11300.ann  (4867, 4870)   \n",
       "16511  Coll-1434_09000.ann  (2117, 2120)   \n",
       "16512  Coll-1434_09000.ann  (2117, 2176)   \n",
       "16513  Coll-1434_09000.ann  (2137, 2145)   \n",
       "16514  Coll-1434_09000.ann  (2147, 2156)   \n",
       "\n",
       "                                                    text     id entity  \\\n",
       "16510                                                man  16657    T22   \n",
       "16511                                                His  16658     T0   \n",
       "16512  His Excellency, the Kushbegi, Vice Emir of Bok...  16659     T1   \n",
       "16513                                           Kushbegi  16660     T2   \n",
       "16514                                          Vice Emir  16661     T3   \n",
       "\n",
       "                  label    annotator     category remove  start   end  \\\n",
       "16510     Gendered-Role  Annotator 1   Linguistic   None   4867  4870   \n",
       "16511  Gendered-Pronoun  Annotator 1   Linguistic   None   2117  2120   \n",
       "16512         Masculine  Annotator 1  Person-Name   None   2117  2176   \n",
       "16513     Gendered-Role  Annotator 1   Linguistic   None   2137  2145   \n",
       "16514     Gendered-Role  Annotator 1   Linguistic   None   2147  2156   \n",
       "\n",
       "      agreement_0 agreement_2  \n",
       "16510        None        None  \n",
       "16511        None        None  \n",
       "16512        None        None  \n",
       "16513        None        None  \n",
       "16514        None        None  "
      ]
     },
     "execution_count": 65,
     "metadata": {},
     "output_type": "execute_result"
    }
   ],
   "source": [
    "# Split the offsets into two columns and add columns to each annotator's DataFrame to record agreements\n",
    "ann0 = splitOffsets(ann0)\n",
    "ann0[\"agreement_1\"] = [None]*ann0.shape[0]\n",
    "ann0[\"agreement_2\"] = [None]*ann0.shape[0]\n",
    "ann1 = splitOffsets(ann1)\n",
    "ann1[\"agreement_0\"] = [None]*ann1.shape[0]\n",
    "ann1[\"agreement_2\"] = [None]*ann1.shape[0]\n",
    "ann2 = splitOffsets(ann2)\n",
    "ann2[\"agreement_0\"] = [None]*ann2.shape[0]\n",
    "ann2[\"agreement_1\"] = [None]*ann2.shape[0]\n",
    "ann1.tail()  # Looks good"
   ]
  },
  {
   "cell_type": "code",
   "execution_count": 66,
   "metadata": {},
   "outputs": [],
   "source": [
    "common_files02 = findCommonFiles(ann0, ann2)  # Find files both annotators 0 and 2 labeled\n",
    "common_files12 = findCommonFiles(ann1, ann2)  # Find files both annotators 1 and 2 labeled\n",
    "common_files01 = findCommonFiles(ann0, ann1)  # Find files both annotators 0 and 1 labeled"
   ]
  },
  {
   "cell_type": "markdown",
   "metadata": {},
   "source": [
    "<a id=\"l-gr\"></a>\n",
    "#### GENDERED-ROLE\n",
    "Find agreements (exact matches and overlaps) between annotators 0, 1, and 2's 'Gendered-Role' annotations:"
   ]
  },
  {
   "cell_type": "code",
   "execution_count": 67,
   "metadata": {},
   "outputs": [],
   "source": [
    "labelname = \"Gendered-Role\""
   ]
  },
  {
   "cell_type": "markdown",
   "metadata": {},
   "source": [
    "##### Annotators 0 & 2"
   ]
  },
  {
   "cell_type": "code",
   "execution_count": 71,
   "metadata": {},
   "outputs": [
    {
     "name": "stdout",
     "output_type": "stream",
     "text": [
      "Exact matches in Annotator 0's DataFrame: 1350\n",
      "Exact matches in Annotator 2's DataFrame: 1350\n"
     ]
    }
   ],
   "source": [
    "# Find exact matches\n",
    "common_files = common_files02\n",
    "annA = ann0\n",
    "annB = ann2\n",
    "agreement_A = \"agreement_0\"\n",
    "agreement_B = \"agreement_2\"\n",
    "\n",
    "sub_annA = annA.loc[annA.file.isin(common_files)]  # Look only at files both annotators labeled\n",
    "sub_annB = annB.loc[annB.file.isin(common_files)]  # Look only at files both annotators labeled\n",
    "\n",
    "ann0, ann2 = getAllExactMatchesPerLabel(annA, annB, sub_annA, sub_annB, agreement_A, agreement_B, labelname, common_files)\n",
    "\n",
    "print(\"Exact matches in Annotator 0's DataFrame:\", (ann0.loc[ann0.agreement_2 == \"Match\"]).shape[0])\n",
    "print(\"Exact matches in Annotator 2's DataFrame:\", (ann2.loc[ann2.agreement_0 == \"Match\"]).shape[0])"
   ]
  },
  {
   "cell_type": "code",
   "execution_count": 72,
   "metadata": {},
   "outputs": [
    {
     "name": "stdout",
     "output_type": "stream",
     "text": [
      "Overlaps in Annotator 0's DataFrame: 46\n",
      "Overlaps in Annotator 2's DataFrame: 46\n"
     ]
    }
   ],
   "source": [
    "# Find overlaps\n",
    "common_files = common_files02\n",
    "annA = ann0\n",
    "annB = ann2\n",
    "agreement_A = \"agreement_0\"\n",
    "agreement_B = \"agreement_2\"\n",
    "\n",
    "sub_annA = annA.loc[annA.file.isin(common_files)]          # Look only at files both annotators labeled\n",
    "sub_annA = sub_annA.loc[sub_annA[agreement_B] != \"Match\"]  # Filter out rows already recorded as having a \"Match\"\n",
    "sub_annB = annB.loc[annB.file.isin(common_files)]          # Look only at files both annotators labeled\n",
    "sub_annB = sub_annB.loc[sub_annB[agreement_A] != \"Match\"]  # Filter out rows already recorded as having a \"Match\"\n",
    "\n",
    "ann0, ann2 = getAllOverlapsPerLabel(annA, annB, sub_annA, sub_annB, agreement_A, agreement_B, labelname, common_files)\n",
    "annA = ann0\n",
    "annB = ann2\n",
    "print(\"Overlaps in Annotator 0's DataFrame:\", annA.loc[annA[agreement_B] == \"Overlap\"].shape[0])\n",
    "print(\"Overlaps in Annotator 2's DataFrame:\", annB.loc[annB[agreement_A] == \"Overlap\"].shape[0])"
   ]
  },
  {
   "cell_type": "markdown",
   "metadata": {},
   "source": [
    "##### Annotators 1 & 2"
   ]
  },
  {
   "cell_type": "code",
   "execution_count": 77,
   "metadata": {},
   "outputs": [
    {
     "name": "stdout",
     "output_type": "stream",
     "text": [
      "Exact matches in Annotator 1's DataFrame: 414\n",
      "Exact matches in Annotator 2's DataFrame: 414\n"
     ]
    }
   ],
   "source": [
    "# Find exact matches\n",
    "common_files = common_files12\n",
    "annA = ann1\n",
    "annB = ann2\n",
    "agreement_A = \"agreement_1\"\n",
    "agreement_B = \"agreement_2\"\n",
    "\n",
    "sub_annA = annA.loc[annA.file.isin(common_files)]  # Look only at files both annotators labeled\n",
    "sub_annB = annB.loc[annB.file.isin(common_files)]  # Look only at files both annotators labeled\n",
    "\n",
    "ann1, ann2 = getAllExactMatchesPerLabel(annA, annB, sub_annA, sub_annB, agreement_A, agreement_B, labelname, common_files)\n",
    "annA = ann1\n",
    "annB = ann2\n",
    "print(\"Exact matches in Annotator 1's DataFrame:\", (annA.loc[annA[agreement_B] == \"Match\"]).shape[0])\n",
    "print(\"Exact matches in Annotator 2's DataFrame:\", (annB.loc[annB[agreement_A] == \"Match\"]).shape[0])"
   ]
  },
  {
   "cell_type": "code",
   "execution_count": 78,
   "metadata": {},
   "outputs": [
    {
     "name": "stdout",
     "output_type": "stream",
     "text": [
      "Overlaps in Annotator 1's DataFrame: 21\n",
      "Overlaps in Annotator 2's DataFrame: 21\n"
     ]
    }
   ],
   "source": [
    "# Find overlaps\n",
    "common_files = common_files12\n",
    "annA = ann1\n",
    "annB = ann2\n",
    "agreement_A = \"agreement_1\"\n",
    "agreement_B = \"agreement_2\"\n",
    "\n",
    "sub_annA = annA.loc[annA.file.isin(common_files)]          # Look only at files both annotators labeled\n",
    "sub_annA = sub_annA.loc[sub_annA[agreement_B] != \"Match\"]  # Filter out rows already recorded as having a \"Match\"\n",
    "sub_annB = annB.loc[annB.file.isin(common_files)]          # Look only at files both annotators labeled\n",
    "sub_annB = sub_annB.loc[sub_annB[agreement_A] != \"Match\"]  # Filter out rows already recorded as having a \"Match\"\n",
    "\n",
    "ann1, ann2 = getAllOverlapsPerLabel(annA, annB, sub_annA, sub_annB, agreement_A, agreement_B, labelname, common_files)\n",
    "annA = ann1\n",
    "annB = ann2\n",
    "print(\"Overlaps in Annotator 1's DataFrame:\", annA.loc[annA[agreement_B] == \"Overlap\"].shape[0])\n",
    "print(\"Overlaps in Annotator 2's DataFrame:\", annB.loc[annB[agreement_A] == \"Overlap\"].shape[0])"
   ]
  },
  {
   "cell_type": "markdown",
   "metadata": {},
   "source": [
    "##### Annotators 0 & 1"
   ]
  },
  {
   "cell_type": "code",
   "execution_count": 79,
   "metadata": {},
   "outputs": [
    {
     "name": "stdout",
     "output_type": "stream",
     "text": [
      "Exact matches in Annotator 0's DataFrame: 1734\n",
      "Exact matches in Annotator 1's DataFrame: 1734\n"
     ]
    }
   ],
   "source": [
    "# Find exact matches\n",
    "common_files = common_files01\n",
    "annA = ann0\n",
    "annB = ann1\n",
    "agreement_A = \"agreement_0\"\n",
    "agreement_B = \"agreement_1\"\n",
    "\n",
    "sub_annA = annA.loc[annA.file.isin(common_files)]  # Look only at files both annotators labeled\n",
    "sub_annB = annB.loc[annB.file.isin(common_files)]  # Look only at files both annotators labeled\n",
    "\n",
    "ann0, ann1 = getAllExactMatchesPerLabel(annA, annB, sub_annA, sub_annB, agreement_A, agreement_B, labelname, common_files)\n",
    "annA = ann0\n",
    "annB = ann1\n",
    "print(\"Exact matches in Annotator 0's DataFrame:\", (annA.loc[annA[agreement_B] == \"Match\"]).shape[0])\n",
    "print(\"Exact matches in Annotator 1's DataFrame:\", (annB.loc[annB[agreement_A] == \"Match\"]).shape[0])"
   ]
  },
  {
   "cell_type": "code",
   "execution_count": 81,
   "metadata": {},
   "outputs": [
    {
     "name": "stdout",
     "output_type": "stream",
     "text": [
      "Overlaps in Annotator 0's DataFrame: 62\n",
      "Overlaps in Annotator 1's DataFrame: 62\n"
     ]
    }
   ],
   "source": [
    "# Find overlaps\n",
    "common_files = common_files01\n",
    "annA = ann0\n",
    "annB = ann1\n",
    "agreement_A = \"agreement_0\"\n",
    "agreement_B = \"agreement_1\"\n",
    "\n",
    "sub_annA = annA.loc[annA.file.isin(common_files)]          # Look only at files both annotators labeled\n",
    "sub_annA = sub_annA.loc[sub_annA[agreement_B] != \"Match\"]  # Filter out rows already recorded as having a \"Match\"\n",
    "sub_annB = annB.loc[annB.file.isin(common_files)]          # Look only at files both annotators labeled\n",
    "sub_annB = sub_annB.loc[sub_annB[agreement_A] != \"Match\"]  # Filter out rows already recorded as having a \"Match\"\n",
    "\n",
    "ann0, ann1 = getAllOverlapsPerLabel(annA, annB, sub_annA, sub_annB, agreement_A, agreement_B, labelname, common_files)\n",
    "annA = ann0\n",
    "annB = ann1\n",
    "print(\"Overlaps in Annotator 0's DataFrame:\", (annA.loc[annA[agreement_B] == \"Overlap\"]).shape[0])\n",
    "print(\"Overlaps in Annotator 1's DataFrame:\", (annB.loc[annB[agreement_A] == \"Overlap\"]).shape[0])"
   ]
  },
  {
   "cell_type": "code",
   "execution_count": 87,
   "metadata": {},
   "outputs": [],
   "source": [
    "# ann0.loc[ann0.label == \"Gendered-Role\"].head(20)\n",
    "# Write the data to files for safe-keeping\n",
    "ann0.to_csv(\"Agreements/ann0_agreement12_GenderedRole.csv\")\n",
    "ann1.to_csv(\"Agreements/ann1_agreement02_GenderedRole.csv\")\n",
    "ann2.to_csv(\"Agreements/ann2_agreement01_GenderedRole.csv\")"
   ]
  },
  {
   "cell_type": "markdown",
   "metadata": {},
   "source": [
    "<a id=\"l-g\"></a>\n",
    "#### GENERALIZATION\n",
    "Find agreements (exact matches and overlaps) between annotators 0, 1, and 2's 'Generalization' annotations:"
   ]
  },
  {
   "cell_type": "code",
   "execution_count": 88,
   "metadata": {},
   "outputs": [],
   "source": [
    "labelname = \"Generalization\""
   ]
  },
  {
   "cell_type": "markdown",
   "metadata": {},
   "source": [
    "##### Annotators 0 & 2"
   ]
  },
  {
   "cell_type": "code",
   "execution_count": 89,
   "metadata": {},
   "outputs": [
    {
     "name": "stdout",
     "output_type": "stream",
     "text": [
      "Exact matches in Annotator 0's DataFrame: 1397\n",
      "Exact matches in Annotator 2's DataFrame: 1397\n"
     ]
    }
   ],
   "source": [
    "# Find exact matches\n",
    "common_files = common_files02\n",
    "annA = ann0\n",
    "annB = ann2\n",
    "agreement_A = \"agreement_0\"\n",
    "agreement_B = \"agreement_2\"\n",
    "\n",
    "sub_annA = annA.loc[annA.file.isin(common_files)]  # Look only at files both annotators labeled\n",
    "sub_annB = annB.loc[annB.file.isin(common_files)]  # Look only at files both annotators labeled\n",
    "\n",
    "ann0, ann2 = getAllExactMatchesPerLabel(annA, annB, sub_annA, sub_annB, agreement_A, agreement_B, labelname, common_files)\n",
    "\n",
    "print(\"Exact matches in Annotator 0's DataFrame:\", (ann0.loc[ann0.agreement_2 == \"Match\"]).shape[0])\n",
    "print(\"Exact matches in Annotator 2's DataFrame:\", (ann2.loc[ann2.agreement_0 == \"Match\"]).shape[0])"
   ]
  },
  {
   "cell_type": "code",
   "execution_count": 90,
   "metadata": {},
   "outputs": [
    {
     "name": "stdout",
     "output_type": "stream",
     "text": [
      "Overlaps in Annotator 0's DataFrame: 71\n",
      "Overlaps in Annotator 2's DataFrame: 72\n"
     ]
    }
   ],
   "source": [
    "# Find overlaps\n",
    "common_files = common_files02\n",
    "annA = ann0\n",
    "annB = ann2\n",
    "agreement_A = \"agreement_0\"\n",
    "agreement_B = \"agreement_2\"\n",
    "\n",
    "sub_annA = annA.loc[annA.file.isin(common_files)]          # Look only at files both annotators labeled\n",
    "sub_annA = sub_annA.loc[sub_annA[agreement_B] != \"Match\"]  # Filter out rows already recorded as having a \"Match\"\n",
    "sub_annB = annB.loc[annB.file.isin(common_files)]          # Look only at files both annotators labeled\n",
    "sub_annB = sub_annB.loc[sub_annB[agreement_A] != \"Match\"]  # Filter out rows already recorded as having a \"Match\"\n",
    "\n",
    "ann0, ann2 = getAllOverlapsPerLabel(annA, annB, sub_annA, sub_annB, agreement_A, agreement_B, labelname, common_files)\n",
    "annA = ann0\n",
    "annB = ann2\n",
    "print(\"Overlaps in Annotator 0's DataFrame:\", annA.loc[annA[agreement_B] == \"Overlap\"].shape[0])\n",
    "print(\"Overlaps in Annotator 2's DataFrame:\", annB.loc[annB[agreement_A] == \"Overlap\"].shape[0])"
   ]
  },
  {
   "cell_type": "markdown",
   "metadata": {},
   "source": [
    "##### Annotators 1 & 2"
   ]
  },
  {
   "cell_type": "code",
   "execution_count": 91,
   "metadata": {},
   "outputs": [
    {
     "name": "stdout",
     "output_type": "stream",
     "text": [
      "Exact matches in Annotator 1's DataFrame: 415\n",
      "Exact matches in Annotator 2's DataFrame: 415\n"
     ]
    }
   ],
   "source": [
    "# Find exact matches\n",
    "common_files = common_files12\n",
    "annA = ann1\n",
    "annB = ann2\n",
    "agreement_A = \"agreement_1\"\n",
    "agreement_B = \"agreement_2\"\n",
    "\n",
    "sub_annA = annA.loc[annA.file.isin(common_files)]  # Look only at files both annotators labeled\n",
    "sub_annB = annB.loc[annB.file.isin(common_files)]  # Look only at files both annotators labeled\n",
    "\n",
    "ann1, ann2 = getAllExactMatchesPerLabel(annA, annB, sub_annA, sub_annB, agreement_A, agreement_B, labelname, common_files)\n",
    "annA = ann1\n",
    "annB = ann2\n",
    "print(\"Exact matches in Annotator 1's DataFrame:\", (annA.loc[annA[agreement_B] == \"Match\"]).shape[0])\n",
    "print(\"Exact matches in Annotator 2's DataFrame:\", (annB.loc[annB[agreement_A] == \"Match\"]).shape[0])"
   ]
  },
  {
   "cell_type": "code",
   "execution_count": 92,
   "metadata": {},
   "outputs": [
    {
     "name": "stdout",
     "output_type": "stream",
     "text": [
      "Overlaps in Annotator 1's DataFrame: 21\n",
      "Overlaps in Annotator 2's DataFrame: 21\n"
     ]
    }
   ],
   "source": [
    "# Find overlaps\n",
    "common_files = common_files12\n",
    "annA = ann1\n",
    "annB = ann2\n",
    "agreement_A = \"agreement_1\"\n",
    "agreement_B = \"agreement_2\"\n",
    "\n",
    "sub_annA = annA.loc[annA.file.isin(common_files)]          # Look only at files both annotators labeled\n",
    "sub_annA = sub_annA.loc[sub_annA[agreement_B] != \"Match\"]  # Filter out rows already recorded as having a \"Match\"\n",
    "sub_annB = annB.loc[annB.file.isin(common_files)]          # Look only at files both annotators labeled\n",
    "sub_annB = sub_annB.loc[sub_annB[agreement_A] != \"Match\"]  # Filter out rows already recorded as having a \"Match\"\n",
    "\n",
    "ann1, ann2 = getAllOverlapsPerLabel(annA, annB, sub_annA, sub_annB, agreement_A, agreement_B, labelname, common_files)\n",
    "annA = ann1\n",
    "annB = ann2\n",
    "print(\"Overlaps in Annotator 1's DataFrame:\", annA.loc[annA[agreement_B] == \"Overlap\"].shape[0])\n",
    "print(\"Overlaps in Annotator 2's DataFrame:\", annB.loc[annB[agreement_A] == \"Overlap\"].shape[0])"
   ]
  },
  {
   "cell_type": "markdown",
   "metadata": {},
   "source": [
    "##### Annotators 0 & 1"
   ]
  },
  {
   "cell_type": "code",
   "execution_count": 93,
   "metadata": {},
   "outputs": [
    {
     "name": "stdout",
     "output_type": "stream",
     "text": [
      "Exact matches in Annotator 0's DataFrame: 1766\n",
      "Exact matches in Annotator 1's DataFrame: 1766\n"
     ]
    }
   ],
   "source": [
    "# Find exact matches\n",
    "common_files = common_files01\n",
    "annA = ann0\n",
    "annB = ann1\n",
    "agreement_A = \"agreement_0\"\n",
    "agreement_B = \"agreement_1\"\n",
    "\n",
    "sub_annA = annA.loc[annA.file.isin(common_files)]  # Look only at files both annotators labeled\n",
    "sub_annB = annB.loc[annB.file.isin(common_files)]  # Look only at files both annotators labeled\n",
    "\n",
    "ann0, ann1 = getAllExactMatchesPerLabel(annA, annB, sub_annA, sub_annB, agreement_A, agreement_B, labelname, common_files)\n",
    "annA = ann0\n",
    "annB = ann1\n",
    "print(\"Exact matches in Annotator 0's DataFrame:\", (annA.loc[annA[agreement_B] == \"Match\"]).shape[0])\n",
    "print(\"Exact matches in Annotator 1's DataFrame:\", (annB.loc[annB[agreement_A] == \"Match\"]).shape[0])"
   ]
  },
  {
   "cell_type": "code",
   "execution_count": 94,
   "metadata": {},
   "outputs": [
    {
     "name": "stdout",
     "output_type": "stream",
     "text": [
      "Overlaps in Annotator 0's DataFrame: 67\n",
      "Overlaps in Annotator 1's DataFrame: 67\n"
     ]
    }
   ],
   "source": [
    "# Find overlaps\n",
    "common_files = common_files01\n",
    "annA = ann0\n",
    "annB = ann1\n",
    "agreement_A = \"agreement_0\"\n",
    "agreement_B = \"agreement_1\"\n",
    "\n",
    "sub_annA = annA.loc[annA.file.isin(common_files)]          # Look only at files both annotators labeled\n",
    "sub_annA = sub_annA.loc[sub_annA[agreement_B] != \"Match\"]  # Filter out rows already recorded as having a \"Match\"\n",
    "sub_annB = annB.loc[annB.file.isin(common_files)]          # Look only at files both annotators labeled\n",
    "sub_annB = sub_annB.loc[sub_annB[agreement_A] != \"Match\"]  # Filter out rows already recorded as having a \"Match\"\n",
    "\n",
    "ann0, ann1 = getAllOverlapsPerLabel(annA, annB, sub_annA, sub_annB, agreement_A, agreement_B, labelname, common_files)\n",
    "annA = ann0\n",
    "annB = ann1\n",
    "print(\"Overlaps in Annotator 0's DataFrame:\", (annA.loc[annA[agreement_B] == \"Overlap\"]).shape[0])\n",
    "print(\"Overlaps in Annotator 1's DataFrame:\", (annB.loc[annB[agreement_A] == \"Overlap\"]).shape[0])"
   ]
  },
  {
   "cell_type": "code",
   "execution_count": 95,
   "metadata": {},
   "outputs": [],
   "source": [
    "# Write the data to files for safe-keeping\n",
    "ann0.to_csv(\"Agreements/ann0_agreement12_Generalization.csv\")\n",
    "ann1.to_csv(\"Agreements/ann1_agreement02_Generalization.csv\")\n",
    "ann2.to_csv(\"Agreements/ann2_agreement01_Generalization.csv\")"
   ]
  },
  {
   "cell_type": "markdown",
   "metadata": {},
   "source": [
    "<a id=\"l-gp\"></a>\n",
    "#### GENDERED-PRONOUN\n",
    "Find agreements (exact matches and overlaps) between annotators 0, 1, and 2's 'Gendered-Pronoun' annotations:"
   ]
  },
  {
   "cell_type": "code",
   "execution_count": 96,
   "metadata": {},
   "outputs": [],
   "source": [
    "labelname = \"Gendered-Pronoun\""
   ]
  },
  {
   "cell_type": "markdown",
   "metadata": {},
   "source": [
    "##### Annotators 0 & 2"
   ]
  },
  {
   "cell_type": "code",
   "execution_count": 97,
   "metadata": {},
   "outputs": [
    {
     "name": "stdout",
     "output_type": "stream",
     "text": [
      "Exact matches in Annotator 0's DataFrame: 1918\n",
      "Exact matches in Annotator 2's DataFrame: 1918\n"
     ]
    }
   ],
   "source": [
    "# Find exact matches\n",
    "common_files = common_files02\n",
    "annA = ann0\n",
    "annB = ann2\n",
    "agreement_A = \"agreement_0\"\n",
    "agreement_B = \"agreement_2\"\n",
    "\n",
    "sub_annA = annA.loc[annA.file.isin(common_files)]  # Look only at files both annotators labeled\n",
    "sub_annB = annB.loc[annB.file.isin(common_files)]  # Look only at files both annotators labeled\n",
    "\n",
    "ann0, ann2 = getAllExactMatchesPerLabel(annA, annB, sub_annA, sub_annB, agreement_A, agreement_B, labelname, common_files)\n",
    "\n",
    "print(\"Exact matches in Annotator 0's DataFrame:\", (ann0.loc[ann0.agreement_2 == \"Match\"]).shape[0])\n",
    "print(\"Exact matches in Annotator 2's DataFrame:\", (ann2.loc[ann2.agreement_0 == \"Match\"]).shape[0])"
   ]
  },
  {
   "cell_type": "code",
   "execution_count": 98,
   "metadata": {},
   "outputs": [
    {
     "name": "stdout",
     "output_type": "stream",
     "text": [
      "Overlaps in Annotator 0's DataFrame: 71\n",
      "Overlaps in Annotator 2's DataFrame: 72\n"
     ]
    }
   ],
   "source": [
    "# Find overlaps\n",
    "common_files = common_files02\n",
    "annA = ann0\n",
    "annB = ann2\n",
    "agreement_A = \"agreement_0\"\n",
    "agreement_B = \"agreement_2\"\n",
    "\n",
    "sub_annA = annA.loc[annA.file.isin(common_files)]          # Look only at files both annotators labeled\n",
    "sub_annA = sub_annA.loc[sub_annA[agreement_B] != \"Match\"]  # Filter out rows already recorded as having a \"Match\"\n",
    "sub_annB = annB.loc[annB.file.isin(common_files)]          # Look only at files both annotators labeled\n",
    "sub_annB = sub_annB.loc[sub_annB[agreement_A] != \"Match\"]  # Filter out rows already recorded as having a \"Match\"\n",
    "\n",
    "ann0, ann2 = getAllOverlapsPerLabel(annA, annB, sub_annA, sub_annB, agreement_A, agreement_B, labelname, common_files)\n",
    "annA = ann0\n",
    "annB = ann2\n",
    "print(\"Overlaps in Annotator 0's DataFrame:\", annA.loc[annA[agreement_B] == \"Overlap\"].shape[0])\n",
    "print(\"Overlaps in Annotator 2's DataFrame:\", annB.loc[annB[agreement_A] == \"Overlap\"].shape[0])"
   ]
  },
  {
   "cell_type": "markdown",
   "metadata": {},
   "source": [
    "##### Annotators 1 & 2"
   ]
  },
  {
   "cell_type": "code",
   "execution_count": 99,
   "metadata": {},
   "outputs": [
    {
     "name": "stdout",
     "output_type": "stream",
     "text": [
      "Exact matches in Annotator 1's DataFrame: 933\n",
      "Exact matches in Annotator 2's DataFrame: 933\n"
     ]
    }
   ],
   "source": [
    "# Find exact matches\n",
    "common_files = common_files12\n",
    "annA = ann1\n",
    "annB = ann2\n",
    "agreement_A = \"agreement_1\"\n",
    "agreement_B = \"agreement_2\"\n",
    "\n",
    "sub_annA = annA.loc[annA.file.isin(common_files)]  # Look only at files both annotators labeled\n",
    "sub_annB = annB.loc[annB.file.isin(common_files)]  # Look only at files both annotators labeled\n",
    "\n",
    "ann1, ann2 = getAllExactMatchesPerLabel(annA, annB, sub_annA, sub_annB, agreement_A, agreement_B, labelname, common_files)\n",
    "annA = ann1\n",
    "annB = ann2\n",
    "print(\"Exact matches in Annotator 1's DataFrame:\", (annA.loc[annA[agreement_B] == \"Match\"]).shape[0])\n",
    "print(\"Exact matches in Annotator 2's DataFrame:\", (annB.loc[annB[agreement_A] == \"Match\"]).shape[0])"
   ]
  },
  {
   "cell_type": "code",
   "execution_count": 100,
   "metadata": {},
   "outputs": [
    {
     "name": "stdout",
     "output_type": "stream",
     "text": [
      "Overlaps in Annotator 1's DataFrame: 21\n",
      "Overlaps in Annotator 2's DataFrame: 21\n"
     ]
    }
   ],
   "source": [
    "# Find overlaps\n",
    "common_files = common_files12\n",
    "annA = ann1\n",
    "annB = ann2\n",
    "agreement_A = \"agreement_1\"\n",
    "agreement_B = \"agreement_2\"\n",
    "\n",
    "sub_annA = annA.loc[annA.file.isin(common_files)]          # Look only at files both annotators labeled\n",
    "sub_annA = sub_annA.loc[sub_annA[agreement_B] != \"Match\"]  # Filter out rows already recorded as having a \"Match\"\n",
    "sub_annB = annB.loc[annB.file.isin(common_files)]          # Look only at files both annotators labeled\n",
    "sub_annB = sub_annB.loc[sub_annB[agreement_A] != \"Match\"]  # Filter out rows already recorded as having a \"Match\"\n",
    "\n",
    "ann1, ann2 = getAllOverlapsPerLabel(annA, annB, sub_annA, sub_annB, agreement_A, agreement_B, labelname, common_files)\n",
    "annA = ann1\n",
    "annB = ann2\n",
    "print(\"Overlaps in Annotator 1's DataFrame:\", annA.loc[annA[agreement_B] == \"Overlap\"].shape[0])\n",
    "print(\"Overlaps in Annotator 2's DataFrame:\", annB.loc[annB[agreement_A] == \"Overlap\"].shape[0])"
   ]
  },
  {
   "cell_type": "markdown",
   "metadata": {},
   "source": [
    "##### Annotators 0 & 1"
   ]
  },
  {
   "cell_type": "code",
   "execution_count": 101,
   "metadata": {},
   "outputs": [
    {
     "name": "stdout",
     "output_type": "stream",
     "text": [
      "Exact matches in Annotator 0's DataFrame: 5161\n",
      "Exact matches in Annotator 1's DataFrame: 5161\n"
     ]
    }
   ],
   "source": [
    "# Find exact matches\n",
    "common_files = common_files01\n",
    "annA = ann0\n",
    "annB = ann1\n",
    "agreement_A = \"agreement_0\"\n",
    "agreement_B = \"agreement_1\"\n",
    "\n",
    "sub_annA = annA.loc[annA.file.isin(common_files)]  # Look only at files both annotators labeled\n",
    "sub_annB = annB.loc[annB.file.isin(common_files)]  # Look only at files both annotators labeled\n",
    "\n",
    "ann0, ann1 = getAllExactMatchesPerLabel(annA, annB, sub_annA, sub_annB, agreement_A, agreement_B, labelname, common_files)\n",
    "annA = ann0\n",
    "annB = ann1\n",
    "print(\"Exact matches in Annotator 0's DataFrame:\", (annA.loc[annA[agreement_B] == \"Match\"]).shape[0])\n",
    "print(\"Exact matches in Annotator 1's DataFrame:\", (annB.loc[annB[agreement_A] == \"Match\"]).shape[0])"
   ]
  },
  {
   "cell_type": "code",
   "execution_count": 102,
   "metadata": {},
   "outputs": [
    {
     "name": "stdout",
     "output_type": "stream",
     "text": [
      "Overlaps in Annotator 0's DataFrame: 68\n",
      "Overlaps in Annotator 1's DataFrame: 68\n"
     ]
    }
   ],
   "source": [
    "# Find overlaps\n",
    "common_files = common_files01\n",
    "annA = ann0\n",
    "annB = ann1\n",
    "agreement_A = \"agreement_0\"\n",
    "agreement_B = \"agreement_1\"\n",
    "\n",
    "sub_annA = annA.loc[annA.file.isin(common_files)]          # Look only at files both annotators labeled\n",
    "sub_annA = sub_annA.loc[sub_annA[agreement_B] != \"Match\"]  # Filter out rows already recorded as having a \"Match\"\n",
    "sub_annB = annB.loc[annB.file.isin(common_files)]          # Look only at files both annotators labeled\n",
    "sub_annB = sub_annB.loc[sub_annB[agreement_A] != \"Match\"]  # Filter out rows already recorded as having a \"Match\"\n",
    "\n",
    "ann0, ann1 = getAllOverlapsPerLabel(annA, annB, sub_annA, sub_annB, agreement_A, agreement_B, labelname, common_files)\n",
    "annA = ann0\n",
    "annB = ann1\n",
    "print(\"Overlaps in Annotator 0's DataFrame:\", (annA.loc[annA[agreement_B] == \"Overlap\"]).shape[0])\n",
    "print(\"Overlaps in Annotator 1's DataFrame:\", (annB.loc[annB[agreement_A] == \"Overlap\"]).shape[0])"
   ]
  },
  {
   "cell_type": "code",
   "execution_count": 103,
   "metadata": {},
   "outputs": [],
   "source": [
    "# # Write the data to files for safe-keeping\n",
    "ann0.to_csv(\"Agreements/ann0_agreement12_GenderedPronoun.csv\")\n",
    "ann1.to_csv(\"Agreements/ann1_agreement02_GenderedPronoun.csv\")\n",
    "ann2.to_csv(\"Agreements/ann2_agreement01_GenderedPronoun.csv\")"
   ]
  },
  {
   "cell_type": "markdown",
   "metadata": {},
   "source": [
    "<a id=\"c\"></a>\n",
    "### Contextual Overlaps: \n",
    "* Annotators: 0, 3, 4\n",
    "* Labels: Stereotype, Omission, Occupation* \n",
    "\n",
    "**already added some to gold standard, so find matches and overlaps there too!*"
   ]
  },
  {
   "cell_type": "code",
   "execution_count": 110,
   "metadata": {},
   "outputs": [
    {
     "data": {
      "text/html": [
       "<div>\n",
       "<style scoped>\n",
       "    .dataframe tbody tr th:only-of-type {\n",
       "        vertical-align: middle;\n",
       "    }\n",
       "\n",
       "    .dataframe tbody tr th {\n",
       "        vertical-align: top;\n",
       "    }\n",
       "\n",
       "    .dataframe thead th {\n",
       "        text-align: right;\n",
       "    }\n",
       "</style>\n",
       "<table border=\"1\" class=\"dataframe\">\n",
       "  <thead>\n",
       "    <tr style=\"text-align: right;\">\n",
       "      <th></th>\n",
       "      <th>file</th>\n",
       "      <th>offsets</th>\n",
       "      <th>text</th>\n",
       "      <th>id</th>\n",
       "      <th>entity</th>\n",
       "      <th>label</th>\n",
       "      <th>annotator</th>\n",
       "      <th>category</th>\n",
       "      <th>remove</th>\n",
       "    </tr>\n",
       "  </thead>\n",
       "  <tbody>\n",
       "    <tr>\n",
       "      <th>0</th>\n",
       "      <td>BAI_01200.ann</td>\n",
       "      <td>(2381, 2397)</td>\n",
       "      <td>Duke of Montrose</td>\n",
       "      <td>22</td>\n",
       "      <td>T20</td>\n",
       "      <td>Omission</td>\n",
       "      <td>Annotator 4</td>\n",
       "      <td>Contextual</td>\n",
       "      <td>None</td>\n",
       "    </tr>\n",
       "    <tr>\n",
       "      <th>1</th>\n",
       "      <td>BAI_01200.ann</td>\n",
       "      <td>(2578, 2592)</td>\n",
       "      <td>women's groups</td>\n",
       "      <td>24</td>\n",
       "      <td>T22</td>\n",
       "      <td>Stereotype</td>\n",
       "      <td>Annotator 4</td>\n",
       "      <td>Contextual</td>\n",
       "      <td>None</td>\n",
       "    </tr>\n",
       "    <tr>\n",
       "      <th>2</th>\n",
       "      <td>BAI_01200.ann</td>\n",
       "      <td>(5450, 5476)</td>\n",
       "      <td>Fowler and Pearse families</td>\n",
       "      <td>27</td>\n",
       "      <td>T26</td>\n",
       "      <td>Omission</td>\n",
       "      <td>Annotator 4</td>\n",
       "      <td>Contextual</td>\n",
       "      <td>None</td>\n",
       "    </tr>\n",
       "    <tr>\n",
       "      <th>3</th>\n",
       "      <td>Coll-1434_15200.ann</td>\n",
       "      <td>(3822, 3836)</td>\n",
       "      <td>President Taft</td>\n",
       "      <td>36</td>\n",
       "      <td>T11</td>\n",
       "      <td>Omission</td>\n",
       "      <td>Annotator 4</td>\n",
       "      <td>Contextual</td>\n",
       "      <td>None</td>\n",
       "    </tr>\n",
       "    <tr>\n",
       "      <th>4</th>\n",
       "      <td>Coll-1434_15200.ann</td>\n",
       "      <td>(5109, 5123)</td>\n",
       "      <td>A group of men</td>\n",
       "      <td>44</td>\n",
       "      <td>T16</td>\n",
       "      <td>Stereotype</td>\n",
       "      <td>Annotator 4</td>\n",
       "      <td>Contextual</td>\n",
       "      <td>None</td>\n",
       "    </tr>\n",
       "  </tbody>\n",
       "</table>\n",
       "</div>"
      ],
      "text/plain": [
       "                  file       offsets                        text  id entity  \\\n",
       "0        BAI_01200.ann  (2381, 2397)            Duke of Montrose  22    T20   \n",
       "1        BAI_01200.ann  (2578, 2592)              women's groups  24    T22   \n",
       "2        BAI_01200.ann  (5450, 5476)  Fowler and Pearse families  27    T26   \n",
       "3  Coll-1434_15200.ann  (3822, 3836)              President Taft  36    T11   \n",
       "4  Coll-1434_15200.ann  (5109, 5123)              A group of men  44    T16   \n",
       "\n",
       "        label    annotator    category remove  \n",
       "0    Omission  Annotator 4  Contextual   None  \n",
       "1  Stereotype  Annotator 4  Contextual   None  \n",
       "2    Omission  Annotator 4  Contextual   None  \n",
       "3    Omission  Annotator 4  Contextual   None  \n",
       "4  Stereotype  Annotator 4  Contextual   None  "
      ]
     },
     "execution_count": 110,
     "metadata": {},
     "output_type": "execute_result"
    }
   ],
   "source": [
    "# Load data\n",
    "ann0 = pd.read_csv(\"labels0C.csv\", index_col=0)\n",
    "ann0.set_index([\"file\",\"offsets\",\"text\"],inplace=True)\n",
    "ann0 = ann0.reset_index()\n",
    "ann0[\"remove\"] = [None]*ann0.shape[0]\n",
    "ann3 = pd.read_csv(\"labels3.csv\", index_col=0)\n",
    "ann3.set_index([\"file\",\"offsets\",\"text\"],inplace=True)\n",
    "ann3 = ann3.reset_index()\n",
    "ann3[\"remove\"] = [None]*ann3.shape[0]\n",
    "ann4 = pd.read_csv(\"labels4.csv\", index_col=0)\n",
    "ann4.set_index([\"file\",\"offsets\",\"text\"],inplace=True)\n",
    "ann4 = ann4.reset_index()\n",
    "ann4[\"remove\"] = [None]*ann4.shape[0]\n",
    "# ann0.head()\n",
    "# ann3.head()\n",
    "ann4.head()   # Looks good - all matching columns and column order"
   ]
  },
  {
   "cell_type": "code",
   "execution_count": 111,
   "metadata": {},
   "outputs": [
    {
     "data": {
      "text/html": [
       "<div>\n",
       "<style scoped>\n",
       "    .dataframe tbody tr th:only-of-type {\n",
       "        vertical-align: middle;\n",
       "    }\n",
       "\n",
       "    .dataframe tbody tr th {\n",
       "        vertical-align: top;\n",
       "    }\n",
       "\n",
       "    .dataframe thead th {\n",
       "        text-align: right;\n",
       "    }\n",
       "</style>\n",
       "<table border=\"1\" class=\"dataframe\">\n",
       "  <thead>\n",
       "    <tr style=\"text-align: right;\">\n",
       "      <th></th>\n",
       "      <th>file</th>\n",
       "      <th>offsets</th>\n",
       "      <th>text</th>\n",
       "      <th>id</th>\n",
       "      <th>entity</th>\n",
       "      <th>label</th>\n",
       "      <th>annotator</th>\n",
       "      <th>category</th>\n",
       "      <th>remove</th>\n",
       "      <th>start</th>\n",
       "      <th>end</th>\n",
       "      <th>agreement_0</th>\n",
       "      <th>agreement_3</th>\n",
       "    </tr>\n",
       "  </thead>\n",
       "  <tbody>\n",
       "    <tr>\n",
       "      <th>2355</th>\n",
       "      <td>Coll-146_16400.ann</td>\n",
       "      <td>(2134, 2139)</td>\n",
       "      <td>a boy</td>\n",
       "      <td>6586</td>\n",
       "      <td>T2</td>\n",
       "      <td>Stereotype</td>\n",
       "      <td>Annotator 4</td>\n",
       "      <td>Contextual</td>\n",
       "      <td>None</td>\n",
       "      <td>2134</td>\n",
       "      <td>2139</td>\n",
       "      <td>None</td>\n",
       "      <td>None</td>\n",
       "    </tr>\n",
       "    <tr>\n",
       "      <th>2356</th>\n",
       "      <td>Coll-1490_00300.ann</td>\n",
       "      <td>(1094, 1101)</td>\n",
       "      <td>friends</td>\n",
       "      <td>6588</td>\n",
       "      <td>T1</td>\n",
       "      <td>Omission</td>\n",
       "      <td>Annotator 4</td>\n",
       "      <td>Contextual</td>\n",
       "      <td>None</td>\n",
       "      <td>1094</td>\n",
       "      <td>1101</td>\n",
       "      <td>None</td>\n",
       "      <td>None</td>\n",
       "    </tr>\n",
       "    <tr>\n",
       "      <th>2357</th>\n",
       "      <td>Coll-1490_00300.ann</td>\n",
       "      <td>(1000, 1012)</td>\n",
       "      <td>Lady Jackson</td>\n",
       "      <td>6589</td>\n",
       "      <td>T2</td>\n",
       "      <td>Omission</td>\n",
       "      <td>Annotator 4</td>\n",
       "      <td>Contextual</td>\n",
       "      <td>None</td>\n",
       "      <td>1000</td>\n",
       "      <td>1012</td>\n",
       "      <td>None</td>\n",
       "      <td>None</td>\n",
       "    </tr>\n",
       "    <tr>\n",
       "      <th>2358</th>\n",
       "      <td>Coll-1490_00300.ann</td>\n",
       "      <td>(386, 393)</td>\n",
       "      <td>wedding</td>\n",
       "      <td>6590</td>\n",
       "      <td>T3</td>\n",
       "      <td>Omission</td>\n",
       "      <td>Annotator 4</td>\n",
       "      <td>Contextual</td>\n",
       "      <td>None</td>\n",
       "      <td>386</td>\n",
       "      <td>393</td>\n",
       "      <td>None</td>\n",
       "      <td>None</td>\n",
       "    </tr>\n",
       "    <tr>\n",
       "      <th>2359</th>\n",
       "      <td>Coll-1490_00300.ann</td>\n",
       "      <td>(7, 12)</td>\n",
       "      <td>Kitty</td>\n",
       "      <td>6591</td>\n",
       "      <td>T5</td>\n",
       "      <td>Omission</td>\n",
       "      <td>Annotator 4</td>\n",
       "      <td>Contextual</td>\n",
       "      <td>None</td>\n",
       "      <td>7</td>\n",
       "      <td>12</td>\n",
       "      <td>None</td>\n",
       "      <td>None</td>\n",
       "    </tr>\n",
       "  </tbody>\n",
       "</table>\n",
       "</div>"
      ],
      "text/plain": [
       "                     file       offsets          text    id entity  \\\n",
       "2355   Coll-146_16400.ann  (2134, 2139)         a boy  6586     T2   \n",
       "2356  Coll-1490_00300.ann  (1094, 1101)       friends  6588     T1   \n",
       "2357  Coll-1490_00300.ann  (1000, 1012)  Lady Jackson  6589     T2   \n",
       "2358  Coll-1490_00300.ann    (386, 393)       wedding  6590     T3   \n",
       "2359  Coll-1490_00300.ann       (7, 12)         Kitty  6591     T5   \n",
       "\n",
       "           label    annotator    category remove  start   end agreement_0  \\\n",
       "2355  Stereotype  Annotator 4  Contextual   None   2134  2139        None   \n",
       "2356    Omission  Annotator 4  Contextual   None   1094  1101        None   \n",
       "2357    Omission  Annotator 4  Contextual   None   1000  1012        None   \n",
       "2358    Omission  Annotator 4  Contextual   None    386   393        None   \n",
       "2359    Omission  Annotator 4  Contextual   None      7    12        None   \n",
       "\n",
       "     agreement_3  \n",
       "2355        None  \n",
       "2356        None  \n",
       "2357        None  \n",
       "2358        None  \n",
       "2359        None  "
      ]
     },
     "execution_count": 111,
     "metadata": {},
     "output_type": "execute_result"
    }
   ],
   "source": [
    "# Split the offsets into two columns and add columns to each annotator's DataFrame to record agreements\n",
    "ann0 = splitOffsets(ann0)\n",
    "ann0[\"agreement_3\"] = [None]*ann0.shape[0]\n",
    "ann0[\"agreement_4\"] = [None]*ann0.shape[0]\n",
    "ann3 = splitOffsets(ann3)\n",
    "ann3[\"agreement_0\"] = [None]*ann3.shape[0]\n",
    "ann3[\"agreement_4\"] = [None]*ann3.shape[0]\n",
    "ann4 = splitOffsets(ann4)\n",
    "ann4[\"agreement_0\"] = [None]*ann4.shape[0]\n",
    "ann4[\"agreement_3\"] = [None]*ann4.shape[0]\n",
    "ann4.tail()  # Looks good"
   ]
  },
  {
   "cell_type": "code",
   "execution_count": 112,
   "metadata": {},
   "outputs": [],
   "source": [
    "common_files03 = findCommonFiles(ann0, ann3)  # Find files both annotators 0 and 3 labeled\n",
    "common_files34 = findCommonFiles(ann3, ann4)  # Find files both annotators 3 and 4 labeled\n",
    "common_files04 = findCommonFiles(ann0, ann4)  # Find files both annotators 0 and 4 labeled"
   ]
  },
  {
   "cell_type": "markdown",
   "metadata": {},
   "source": [
    "<a id=\"c-s\"></a>\n",
    "#### STEREOTYPE\n",
    "Find agreements (exact matches and overlaps) between annotators 0, 3, and 4's 'Stereotype' annotations:"
   ]
  },
  {
   "cell_type": "code",
   "execution_count": 113,
   "metadata": {},
   "outputs": [],
   "source": [
    "labelname = \"Stereotype\""
   ]
  },
  {
   "cell_type": "markdown",
   "metadata": {},
   "source": [
    "##### Annotators 0 & 3"
   ]
  },
  {
   "cell_type": "code",
   "execution_count": 114,
   "metadata": {},
   "outputs": [
    {
     "name": "stdout",
     "output_type": "stream",
     "text": [
      "Exact matches in Annotator 0's DataFrame: 444\n",
      "Exact matches in Annotator 3's DataFrame: 444\n"
     ]
    }
   ],
   "source": [
    "# Find exact matches\n",
    "common_files = common_files03\n",
    "annA = ann0\n",
    "annB = ann3\n",
    "agreement_A = \"agreement_0\"\n",
    "agreement_B = \"agreement_3\"\n",
    "\n",
    "sub_annA = annA.loc[annA.file.isin(common_files)]  # Look only at files both annotators labeled\n",
    "sub_annB = annB.loc[annB.file.isin(common_files)]  # Look only at files both annotators labeled\n",
    "\n",
    "ann0, ann3 = getAllExactMatchesPerLabel(annA, annB, sub_annA, sub_annB, agreement_A, agreement_B, labelname, common_files)\n",
    "annA = ann0\n",
    "annB = ann3\n",
    "print(\"Exact matches in Annotator 0's DataFrame:\", (annA.loc[annA[agreement_B] == \"Match\"]).shape[0])\n",
    "print(\"Exact matches in Annotator 3's DataFrame:\", (annB.loc[annB[agreement_A] == \"Match\"]).shape[0])"
   ]
  },
  {
   "cell_type": "code",
   "execution_count": 115,
   "metadata": {},
   "outputs": [
    {
     "name": "stdout",
     "output_type": "stream",
     "text": [
      "Overlaps in Annotator 0's DataFrame: 60\n",
      "Overlaps in Annotator 3's DataFrame: 55\n"
     ]
    }
   ],
   "source": [
    "# Find overlaps\n",
    "annA = ann0\n",
    "annB = ann3\n",
    "\n",
    "sub_annA = annA.loc[annA.file.isin(common_files)]          # Look only at files both annotators labeled\n",
    "sub_annA = sub_annA.loc[sub_annA[agreement_B] != \"Match\"]  # Filter out rows already recorded as having a \"Match\"\n",
    "sub_annB = annB.loc[annB.file.isin(common_files)]          # Look only at files both annotators labeled\n",
    "sub_annB = sub_annB.loc[sub_annB[agreement_A] != \"Match\"]  # Filter out rows already recorded as having a \"Match\"\n",
    "\n",
    "ann0, ann2 = getAllOverlapsPerLabel(annA, annB, sub_annA, sub_annB, agreement_A, agreement_B, labelname, common_files)\n",
    "annA = ann0\n",
    "annB = ann3\n",
    "print(\"Overlaps in Annotator 0's DataFrame:\", annA.loc[annA[agreement_B] == \"Overlap\"].shape[0])\n",
    "print(\"Overlaps in Annotator 3's DataFrame:\", annB.loc[annB[agreement_A] == \"Overlap\"].shape[0])"
   ]
  },
  {
   "cell_type": "markdown",
   "metadata": {},
   "source": [
    "##### Annotators 3 & 4"
   ]
  },
  {
   "cell_type": "code",
   "execution_count": 116,
   "metadata": {},
   "outputs": [
    {
     "name": "stdout",
     "output_type": "stream",
     "text": [
      "Exact matches in Annotator 3's DataFrame: 4\n",
      "Exact matches in Annotator 4's DataFrame: 4\n"
     ]
    }
   ],
   "source": [
    "# Find exact matches\n",
    "common_files = common_files34\n",
    "annA = ann3\n",
    "annB = ann4\n",
    "agreement_A = \"agreement_3\"\n",
    "agreement_B = \"agreement_4\"\n",
    "\n",
    "sub_annA = annA.loc[annA.file.isin(common_files)]  # Look only at files both annotators labeled\n",
    "sub_annB = annB.loc[annB.file.isin(common_files)]  # Look only at files both annotators labeled\n",
    "\n",
    "ann3, ann4 = getAllExactMatchesPerLabel(annA, annB, sub_annA, sub_annB, agreement_A, agreement_B, labelname, common_files)\n",
    "annA = ann3\n",
    "annB = ann4\n",
    "print(\"Exact matches in Annotator 3's DataFrame:\", (annA.loc[annA[agreement_B] == \"Match\"]).shape[0])\n",
    "print(\"Exact matches in Annotator 4's DataFrame:\", (annB.loc[annB[agreement_A] == \"Match\"]).shape[0])"
   ]
  },
  {
   "cell_type": "code",
   "execution_count": 117,
   "metadata": {},
   "outputs": [
    {
     "name": "stdout",
     "output_type": "stream",
     "text": [
      "Overlaps in Annotator 3's DataFrame: 17\n",
      "Overlaps in Annotator 4's DataFrame: 19\n"
     ]
    }
   ],
   "source": [
    "# Find overlaps\n",
    "annA = ann3\n",
    "annB = ann4\n",
    "\n",
    "sub_annA = annA.loc[annA.file.isin(common_files)]          # Look only at files both annotators labeled\n",
    "sub_annA = sub_annA.loc[sub_annA[agreement_B] != \"Match\"]  # Filter out rows already recorded as having a \"Match\"\n",
    "sub_annB = annB.loc[annB.file.isin(common_files)]          # Look only at files both annotators labeled\n",
    "sub_annB = sub_annB.loc[sub_annB[agreement_A] != \"Match\"]  # Filter out rows already recorded as having a \"Match\"\n",
    "\n",
    "ann3, ann4 = getAllOverlapsPerLabel(annA, annB, sub_annA, sub_annB, agreement_A, agreement_B, labelname, common_files)\n",
    "annA = ann3\n",
    "annB = ann4\n",
    "print(\"Overlaps in Annotator 3's DataFrame:\", annA.loc[annA[agreement_B] == \"Overlap\"].shape[0])\n",
    "print(\"Overlaps in Annotator 4's DataFrame:\", annB.loc[annB[agreement_A] == \"Overlap\"].shape[0])"
   ]
  },
  {
   "cell_type": "markdown",
   "metadata": {},
   "source": [
    "##### Annotators 0 & 4"
   ]
  },
  {
   "cell_type": "code",
   "execution_count": 118,
   "metadata": {},
   "outputs": [
    {
     "name": "stdout",
     "output_type": "stream",
     "text": [
      "Exact matches in Annotator 0's DataFrame: 43\n",
      "Exact matches in Annotator 4's DataFrame: 43\n"
     ]
    }
   ],
   "source": [
    "# Find exact matches\n",
    "common_files = common_files04\n",
    "annA = ann0\n",
    "annB = ann4\n",
    "agreement_A = \"agreement_0\"\n",
    "agreement_B = \"agreement_4\"\n",
    "\n",
    "sub_annA = annA.loc[annA.file.isin(common_files)]  # Look only at files both annotators labeled\n",
    "sub_annB = annB.loc[annB.file.isin(common_files)]  # Look only at files both annotators labeled\n",
    "\n",
    "ann0, ann4 = getAllExactMatchesPerLabel(annA, annB, sub_annA, sub_annB, agreement_A, agreement_B, labelname, common_files)\n",
    "annA = ann0\n",
    "annB = ann4\n",
    "print(\"Exact matches in Annotator 0's DataFrame:\", (annA.loc[annA[agreement_B] == \"Match\"]).shape[0])\n",
    "print(\"Exact matches in Annotator 4's DataFrame:\", (annB.loc[annB[agreement_A] == \"Match\"]).shape[0])"
   ]
  },
  {
   "cell_type": "code",
   "execution_count": 119,
   "metadata": {},
   "outputs": [
    {
     "name": "stdout",
     "output_type": "stream",
     "text": [
      "Overlaps in Annotator 0's DataFrame: 117\n",
      "Overlaps in Annotator 4's DataFrame: 97\n"
     ]
    }
   ],
   "source": [
    "# Find overlaps\n",
    "annA = ann0\n",
    "annB = ann4\n",
    "\n",
    "sub_annA = annA.loc[annA.file.isin(common_files)]          # Look only at files both annotators labeled\n",
    "sub_annA = sub_annA.loc[sub_annA[agreement_B] != \"Match\"]  # Filter out rows already recorded as having a \"Match\"\n",
    "sub_annB = annB.loc[annB.file.isin(common_files)]          # Look only at files both annotators labeled\n",
    "sub_annB = sub_annB.loc[sub_annB[agreement_A] != \"Match\"]  # Filter out rows already recorded as having a \"Match\"\n",
    "\n",
    "ann0, ann4 = getAllOverlapsPerLabel(annA, annB, sub_annA, sub_annB, agreement_A, agreement_B, labelname, common_files)\n",
    "annA = ann0\n",
    "annB = ann4\n",
    "print(\"Overlaps in Annotator 0's DataFrame:\", (annA.loc[annA[agreement_B] == \"Overlap\"]).shape[0])\n",
    "print(\"Overlaps in Annotator 4's DataFrame:\", (annB.loc[annB[agreement_A] == \"Overlap\"]).shape[0])"
   ]
  },
  {
   "cell_type": "code",
   "execution_count": 120,
   "metadata": {},
   "outputs": [],
   "source": [
    "# # Write the data to files for safe-keeping\n",
    "ann0.to_csv(\"Agreements/ann0_agreement34_Stereotype.csv\")\n",
    "ann3.to_csv(\"Agreements/ann3_agreement04_Stereotype.csv\")\n",
    "ann4.to_csv(\"Agreements/ann4_agreement03_Stereotype.csv\")"
   ]
  },
  {
   "cell_type": "markdown",
   "metadata": {},
   "source": [
    "<a id=\"c-om\"></a>\n",
    "#### OMISSION\n",
    "Find agreements (exact matches and overlaps) between annotators 0, 3, and 4's 'Omission' annotations:"
   ]
  },
  {
   "cell_type": "code",
   "execution_count": 121,
   "metadata": {},
   "outputs": [],
   "source": [
    "labelname = \"Omission\""
   ]
  },
  {
   "cell_type": "markdown",
   "metadata": {},
   "source": [
    "##### Annotators 0 & 3"
   ]
  },
  {
   "cell_type": "code",
   "execution_count": 122,
   "metadata": {},
   "outputs": [
    {
     "name": "stdout",
     "output_type": "stream",
     "text": [
      "Exact matches in Annotator 0's DataFrame: 1228\n",
      "Exact matches in Annotator 3's DataFrame: 1228\n"
     ]
    }
   ],
   "source": [
    "# Find exact matches\n",
    "common_files = common_files03\n",
    "annA = ann0\n",
    "annB = ann3\n",
    "agreement_A = \"agreement_0\"\n",
    "agreement_B = \"agreement_3\"\n",
    "\n",
    "sub_annA = annA.loc[annA.file.isin(common_files)]  # Look only at files both annotators labeled\n",
    "sub_annB = annB.loc[annB.file.isin(common_files)]  # Look only at files both annotators labeled\n",
    "\n",
    "ann0, ann3 = getAllExactMatchesPerLabel(annA, annB, sub_annA, sub_annB, agreement_A, agreement_B, labelname, common_files)\n",
    "annA = ann0\n",
    "annB = ann3\n",
    "print(\"Exact matches in Annotator 0's DataFrame:\", (annA.loc[annA[agreement_B] == \"Match\"]).shape[0])\n",
    "print(\"Exact matches in Annotator 3's DataFrame:\", (annB.loc[annB[agreement_A] == \"Match\"]).shape[0])"
   ]
  },
  {
   "cell_type": "code",
   "execution_count": 123,
   "metadata": {},
   "outputs": [
    {
     "name": "stdout",
     "output_type": "stream",
     "text": [
      "Overlaps in Annotator 0's DataFrame: 628\n",
      "Overlaps in Annotator 3's DataFrame: 573\n"
     ]
    }
   ],
   "source": [
    "# Find overlaps\n",
    "annA = ann0\n",
    "annB = ann3\n",
    "\n",
    "sub_annA = annA.loc[annA.file.isin(common_files)]          # Look only at files both annotators labeled\n",
    "sub_annA = sub_annA.loc[sub_annA[agreement_B] != \"Match\"]  # Filter out rows already recorded as having a \"Match\"\n",
    "sub_annB = annB.loc[annB.file.isin(common_files)]          # Look only at files both annotators labeled\n",
    "sub_annB = sub_annB.loc[sub_annB[agreement_A] != \"Match\"]  # Filter out rows already recorded as having a \"Match\"\n",
    "\n",
    "ann0, ann2 = getAllOverlapsPerLabel(annA, annB, sub_annA, sub_annB, agreement_A, agreement_B, labelname, common_files)\n",
    "annA = ann0\n",
    "annB = ann3\n",
    "print(\"Overlaps in Annotator 0's DataFrame:\", annA.loc[annA[agreement_B] == \"Overlap\"].shape[0])\n",
    "print(\"Overlaps in Annotator 3's DataFrame:\", annB.loc[annB[agreement_A] == \"Overlap\"].shape[0])"
   ]
  },
  {
   "cell_type": "markdown",
   "metadata": {},
   "source": [
    "##### Annotators 3 & 4"
   ]
  },
  {
   "cell_type": "code",
   "execution_count": 124,
   "metadata": {},
   "outputs": [
    {
     "name": "stdout",
     "output_type": "stream",
     "text": [
      "Exact matches in Annotator 3's DataFrame: 191\n",
      "Exact matches in Annotator 4's DataFrame: 191\n"
     ]
    }
   ],
   "source": [
    "# Find exact matches\n",
    "common_files = common_files34\n",
    "annA = ann3\n",
    "annB = ann4\n",
    "agreement_A = \"agreement_3\"\n",
    "agreement_B = \"agreement_4\"\n",
    "\n",
    "sub_annA = annA.loc[annA.file.isin(common_files)]  # Look only at files both annotators labeled\n",
    "sub_annB = annB.loc[annB.file.isin(common_files)]  # Look only at files both annotators labeled\n",
    "\n",
    "ann3, ann4 = getAllExactMatchesPerLabel(annA, annB, sub_annA, sub_annB, agreement_A, agreement_B, labelname, common_files)\n",
    "annA = ann3\n",
    "annB = ann4\n",
    "print(\"Exact matches in Annotator 3's DataFrame:\", (annA.loc[annA[agreement_B] == \"Match\"]).shape[0])\n",
    "print(\"Exact matches in Annotator 4's DataFrame:\", (annB.loc[annB[agreement_A] == \"Match\"]).shape[0])"
   ]
  },
  {
   "cell_type": "code",
   "execution_count": 125,
   "metadata": {},
   "outputs": [
    {
     "name": "stdout",
     "output_type": "stream",
     "text": [
      "Overlaps in Annotator 3's DataFrame: 39\n",
      "Overlaps in Annotator 4's DataFrame: 44\n"
     ]
    }
   ],
   "source": [
    "# Find overlaps\n",
    "annA = ann3\n",
    "annB = ann4\n",
    "\n",
    "sub_annA = annA.loc[annA.file.isin(common_files)]          # Look only at files both annotators labeled\n",
    "sub_annA = sub_annA.loc[sub_annA[agreement_B] != \"Match\"]  # Filter out rows already recorded as having a \"Match\"\n",
    "sub_annB = annB.loc[annB.file.isin(common_files)]          # Look only at files both annotators labeled\n",
    "sub_annB = sub_annB.loc[sub_annB[agreement_A] != \"Match\"]  # Filter out rows already recorded as having a \"Match\"\n",
    "\n",
    "ann3, ann4 = getAllOverlapsPerLabel(annA, annB, sub_annA, sub_annB, agreement_A, agreement_B, labelname, common_files)\n",
    "annA = ann3\n",
    "annB = ann4\n",
    "print(\"Overlaps in Annotator 3's DataFrame:\", annA.loc[annA[agreement_B] == \"Overlap\"].shape[0])\n",
    "print(\"Overlaps in Annotator 4's DataFrame:\", annB.loc[annB[agreement_A] == \"Overlap\"].shape[0])"
   ]
  },
  {
   "cell_type": "markdown",
   "metadata": {},
   "source": [
    "##### Annotators 0 & 4"
   ]
  },
  {
   "cell_type": "code",
   "execution_count": 126,
   "metadata": {},
   "outputs": [
    {
     "name": "stdout",
     "output_type": "stream",
     "text": [
      "Exact matches in Annotator 0's DataFrame: 396\n",
      "Exact matches in Annotator 4's DataFrame: 396\n"
     ]
    }
   ],
   "source": [
    "# Find exact matches\n",
    "common_files = common_files04\n",
    "annA = ann0\n",
    "annB = ann4\n",
    "agreement_A = \"agreement_0\"\n",
    "agreement_B = \"agreement_4\"\n",
    "\n",
    "sub_annA = annA.loc[annA.file.isin(common_files)]  # Look only at files both annotators labeled\n",
    "sub_annB = annB.loc[annB.file.isin(common_files)]  # Look only at files both annotators labeled\n",
    "\n",
    "ann0, ann4 = getAllExactMatchesPerLabel(annA, annB, sub_annA, sub_annB, agreement_A, agreement_B, labelname, common_files)\n",
    "annA = ann0\n",
    "annB = ann4\n",
    "print(\"Exact matches in Annotator 0's DataFrame:\", (annA.loc[annA[agreement_B] == \"Match\"]).shape[0])\n",
    "print(\"Exact matches in Annotator 4's DataFrame:\", (annB.loc[annB[agreement_A] == \"Match\"]).shape[0])"
   ]
  },
  {
   "cell_type": "code",
   "execution_count": 127,
   "metadata": {},
   "outputs": [
    {
     "name": "stdout",
     "output_type": "stream",
     "text": [
      "Overlaps in Annotator 0's DataFrame: 175\n",
      "Overlaps in Annotator 4's DataFrame: 152\n"
     ]
    }
   ],
   "source": [
    "# Find overlaps\n",
    "annA = ann0\n",
    "annB = ann4\n",
    "\n",
    "sub_annA = annA.loc[annA.file.isin(common_files)]          # Look only at files both annotators labeled\n",
    "sub_annA = sub_annA.loc[sub_annA[agreement_B] != \"Match\"]  # Filter out rows already recorded as having a \"Match\"\n",
    "sub_annB = annB.loc[annB.file.isin(common_files)]          # Look only at files both annotators labeled\n",
    "sub_annB = sub_annB.loc[sub_annB[agreement_A] != \"Match\"]  # Filter out rows already recorded as having a \"Match\"\n",
    "\n",
    "ann0, ann4 = getAllOverlapsPerLabel(annA, annB, sub_annA, sub_annB, agreement_A, agreement_B, labelname, common_files)\n",
    "annA = ann0\n",
    "annB = ann4\n",
    "print(\"Overlaps in Annotator 0's DataFrame:\", (annA.loc[annA[agreement_B] == \"Overlap\"]).shape[0])\n",
    "print(\"Overlaps in Annotator 4's DataFrame:\", (annB.loc[annB[agreement_A] == \"Overlap\"]).shape[0])"
   ]
  },
  {
   "cell_type": "code",
   "execution_count": 128,
   "metadata": {},
   "outputs": [],
   "source": [
    "# # Write the data to files for safe-keeping\n",
    "ann0.to_csv(\"Agreements/ann0_agreement34_Omission.csv\")\n",
    "ann3.to_csv(\"Agreements/ann3_agreement04_Omission.csv\")\n",
    "ann4.to_csv(\"Agreements/ann4_agreement03_Omission.csv\")"
   ]
  },
  {
   "cell_type": "markdown",
   "metadata": {},
   "source": [
    "<a id=\"c-o\"></a>\n",
    "#### OCCUPATION\n",
    "Find agreements (exact matches and overlaps) between annotators 0, 3, and 4's 'Occupation' annotations:"
   ]
  },
  {
   "cell_type": "code",
   "execution_count": 129,
   "metadata": {},
   "outputs": [],
   "source": [
    "labelname = \"Occupation\""
   ]
  },
  {
   "cell_type": "markdown",
   "metadata": {},
   "source": [
    "##### Annotators 0 & 3"
   ]
  },
  {
   "cell_type": "code",
   "execution_count": 130,
   "metadata": {},
   "outputs": [
    {
     "name": "stdout",
     "output_type": "stream",
     "text": [
      "Exact matches in Annotator 0's DataFrame: 1228\n",
      "Exact matches in Annotator 3's DataFrame: 1228\n"
     ]
    }
   ],
   "source": [
    "# Find exact matches\n",
    "common_files = common_files03\n",
    "annA = ann0\n",
    "annB = ann3\n",
    "agreement_A = \"agreement_0\"\n",
    "agreement_B = \"agreement_3\"\n",
    "\n",
    "sub_annA = annA.loc[annA.file.isin(common_files)]  # Look only at files both annotators labeled\n",
    "sub_annB = annB.loc[annB.file.isin(common_files)]  # Look only at files both annotators labeled\n",
    "\n",
    "ann0, ann3 = getAllExactMatchesPerLabel(annA, annB, sub_annA, sub_annB, agreement_A, agreement_B, labelname, common_files)\n",
    "annA = ann0\n",
    "annB = ann3\n",
    "print(\"Exact matches in Annotator 0's DataFrame:\", (annA.loc[annA[agreement_B] == \"Match\"]).shape[0])\n",
    "print(\"Exact matches in Annotator 3's DataFrame:\", (annB.loc[annB[agreement_A] == \"Match\"]).shape[0])"
   ]
  },
  {
   "cell_type": "code",
   "execution_count": 131,
   "metadata": {},
   "outputs": [
    {
     "name": "stdout",
     "output_type": "stream",
     "text": [
      "Overlaps in Annotator 0's DataFrame: 628\n",
      "Overlaps in Annotator 3's DataFrame: 573\n"
     ]
    }
   ],
   "source": [
    "# Find overlaps\n",
    "annA = ann0\n",
    "annB = ann3\n",
    "\n",
    "sub_annA = annA.loc[annA.file.isin(common_files)]          # Look only at files both annotators labeled\n",
    "sub_annA = sub_annA.loc[sub_annA[agreement_B] != \"Match\"]  # Filter out rows already recorded as having a \"Match\"\n",
    "sub_annB = annB.loc[annB.file.isin(common_files)]          # Look only at files both annotators labeled\n",
    "sub_annB = sub_annB.loc[sub_annB[agreement_A] != \"Match\"]  # Filter out rows already recorded as having a \"Match\"\n",
    "\n",
    "ann0, ann2 = getAllOverlapsPerLabel(annA, annB, sub_annA, sub_annB, agreement_A, agreement_B, labelname, common_files)\n",
    "annA = ann0\n",
    "annB = ann3\n",
    "print(\"Overlaps in Annotator 0's DataFrame:\", annA.loc[annA[agreement_B] == \"Overlap\"].shape[0])\n",
    "print(\"Overlaps in Annotator 3's DataFrame:\", annB.loc[annB[agreement_A] == \"Overlap\"].shape[0])"
   ]
  },
  {
   "cell_type": "markdown",
   "metadata": {},
   "source": [
    "##### Annotators 3 & 4"
   ]
  },
  {
   "cell_type": "code",
   "execution_count": 132,
   "metadata": {},
   "outputs": [
    {
     "name": "stdout",
     "output_type": "stream",
     "text": [
      "Exact matches in Annotator 3's DataFrame: 191\n",
      "Exact matches in Annotator 4's DataFrame: 191\n"
     ]
    }
   ],
   "source": [
    "# Find exact matches\n",
    "common_files = common_files34\n",
    "annA = ann3\n",
    "annB = ann4\n",
    "agreement_A = \"agreement_3\"\n",
    "agreement_B = \"agreement_4\"\n",
    "\n",
    "sub_annA = annA.loc[annA.file.isin(common_files)]  # Look only at files both annotators labeled\n",
    "sub_annB = annB.loc[annB.file.isin(common_files)]  # Look only at files both annotators labeled\n",
    "\n",
    "ann3, ann4 = getAllExactMatchesPerLabel(annA, annB, sub_annA, sub_annB, agreement_A, agreement_B, labelname, common_files)\n",
    "annA = ann3\n",
    "annB = ann4\n",
    "print(\"Exact matches in Annotator 3's DataFrame:\", (annA.loc[annA[agreement_B] == \"Match\"]).shape[0])\n",
    "print(\"Exact matches in Annotator 4's DataFrame:\", (annB.loc[annB[agreement_A] == \"Match\"]).shape[0])"
   ]
  },
  {
   "cell_type": "code",
   "execution_count": 133,
   "metadata": {},
   "outputs": [
    {
     "name": "stdout",
     "output_type": "stream",
     "text": [
      "Overlaps in Annotator 3's DataFrame: 39\n",
      "Overlaps in Annotator 4's DataFrame: 44\n"
     ]
    }
   ],
   "source": [
    "# Find overlaps\n",
    "annA = ann3\n",
    "annB = ann4\n",
    "\n",
    "sub_annA = annA.loc[annA.file.isin(common_files)]          # Look only at files both annotators labeled\n",
    "sub_annA = sub_annA.loc[sub_annA[agreement_B] != \"Match\"]  # Filter out rows already recorded as having a \"Match\"\n",
    "sub_annB = annB.loc[annB.file.isin(common_files)]          # Look only at files both annotators labeled\n",
    "sub_annB = sub_annB.loc[sub_annB[agreement_A] != \"Match\"]  # Filter out rows already recorded as having a \"Match\"\n",
    "\n",
    "ann3, ann4 = getAllOverlapsPerLabel(annA, annB, sub_annA, sub_annB, agreement_A, agreement_B, labelname, common_files)\n",
    "annA = ann3\n",
    "annB = ann4\n",
    "print(\"Overlaps in Annotator 3's DataFrame:\", annA.loc[annA[agreement_B] == \"Overlap\"].shape[0])\n",
    "print(\"Overlaps in Annotator 4's DataFrame:\", annB.loc[annB[agreement_A] == \"Overlap\"].shape[0])"
   ]
  },
  {
   "cell_type": "markdown",
   "metadata": {},
   "source": [
    "##### Annotators 0 & 4"
   ]
  },
  {
   "cell_type": "code",
   "execution_count": 134,
   "metadata": {},
   "outputs": [
    {
     "name": "stdout",
     "output_type": "stream",
     "text": [
      "Exact matches in Annotator 0's DataFrame: 396\n",
      "Exact matches in Annotator 4's DataFrame: 396\n"
     ]
    }
   ],
   "source": [
    "# Find exact matches\n",
    "common_files = common_files04\n",
    "annA = ann0\n",
    "annB = ann4\n",
    "agreement_A = \"agreement_0\"\n",
    "agreement_B = \"agreement_4\"\n",
    "\n",
    "sub_annA = annA.loc[annA.file.isin(common_files)]  # Look only at files both annotators labeled\n",
    "sub_annB = annB.loc[annB.file.isin(common_files)]  # Look only at files both annotators labeled\n",
    "\n",
    "ann0, ann4 = getAllExactMatchesPerLabel(annA, annB, sub_annA, sub_annB, agreement_A, agreement_B, labelname, common_files)\n",
    "annA = ann0\n",
    "annB = ann4\n",
    "print(\"Exact matches in Annotator 0's DataFrame:\", (annA.loc[annA[agreement_B] == \"Match\"]).shape[0])\n",
    "print(\"Exact matches in Annotator 4's DataFrame:\", (annB.loc[annB[agreement_A] == \"Match\"]).shape[0])"
   ]
  },
  {
   "cell_type": "code",
   "execution_count": 135,
   "metadata": {},
   "outputs": [
    {
     "name": "stdout",
     "output_type": "stream",
     "text": [
      "Overlaps in Annotator 0's DataFrame: 175\n",
      "Overlaps in Annotator 4's DataFrame: 152\n"
     ]
    }
   ],
   "source": [
    "# Find overlaps\n",
    "annA = ann0\n",
    "annB = ann4\n",
    "\n",
    "sub_annA = annA.loc[annA.file.isin(common_files)]          # Look only at files both annotators labeled\n",
    "sub_annA = sub_annA.loc[sub_annA[agreement_B] != \"Match\"]  # Filter out rows already recorded as having a \"Match\"\n",
    "sub_annB = annB.loc[annB.file.isin(common_files)]          # Look only at files both annotators labeled\n",
    "sub_annB = sub_annB.loc[sub_annB[agreement_A] != \"Match\"]  # Filter out rows already recorded as having a \"Match\"\n",
    "\n",
    "ann0, ann4 = getAllOverlapsPerLabel(annA, annB, sub_annA, sub_annB, agreement_A, agreement_B, labelname, common_files)\n",
    "annA = ann0\n",
    "annB = ann4\n",
    "print(\"Overlaps in Annotator 0's DataFrame:\", (annA.loc[annA[agreement_B] == \"Overlap\"]).shape[0])\n",
    "print(\"Overlaps in Annotator 4's DataFrame:\", (annB.loc[annB[agreement_A] == \"Overlap\"]).shape[0])"
   ]
  },
  {
   "cell_type": "code",
   "execution_count": 136,
   "metadata": {},
   "outputs": [],
   "source": [
    "# # Write the data to files for safe-keeping\n",
    "ann0.to_csv(\"Agreements/ann0_agreement34_Occupation.csv\")\n",
    "ann3.to_csv(\"Agreements/ann3_agreement04_Occupation.csv\")\n",
    "ann4.to_csv(\"Agreements/ann4_agreement03_Occupation.csv\")"
   ]
  },
  {
   "cell_type": "markdown",
   "metadata": {},
   "source": [
    "<a id=\"g\"></a>\n",
    "### Add to Gold\n",
    "\n",
    "* Add one version of matching rows to gold standard\n",
    "* Add longest row among rows of overlapping annotations to gold standard\n",
    "* Pick one from each group of overlapping annotations in gold standard for Gendered Pronoun and Occupation"
   ]
  },
  {
   "cell_type": "code",
   "execution_count": 9,
   "metadata": {},
   "outputs": [],
   "source": [
    "# # Clean up annotator column values\n",
    "# gold = pd.read_csv(\"gold_standard.csv\", dtype={\"file\":str, \"offsets\":str, \"text\":str, \"id\":str, \"entity\":str, \"label\":str,\n",
    "#                                               \"annotator\":str, \"category\":str})\n",
    "# gold.replace(\"Annotator 0\", \"0\", inplace=True)\n",
    "# gold.replace(\"Annotator 1\", \"1\", inplace=True)\n",
    "# gold.replace(\"Annotator 2\", \"2\", inplace=True)\n",
    "# gold.replace(\"Annotator 3\", \"3\", inplace=True)\n",
    "# gold.replace(\"Annotator 4\", \"4\", inplace=True)\n",
    "# gold.annotator.unique()\n",
    "# gold.to_csv(\"gold_standard.csv\")"
   ]
  },
  {
   "cell_type": "code",
   "execution_count": 4,
   "metadata": {},
   "outputs": [
    {
     "data": {
      "text/html": [
       "<div>\n",
       "<style scoped>\n",
       "    .dataframe tbody tr th:only-of-type {\n",
       "        vertical-align: middle;\n",
       "    }\n",
       "\n",
       "    .dataframe tbody tr th {\n",
       "        vertical-align: top;\n",
       "    }\n",
       "\n",
       "    .dataframe thead th {\n",
       "        text-align: right;\n",
       "    }\n",
       "</style>\n",
       "<table border=\"1\" class=\"dataframe\">\n",
       "  <thead>\n",
       "    <tr style=\"text-align: right;\">\n",
       "      <th></th>\n",
       "      <th>file</th>\n",
       "      <th>offsets</th>\n",
       "      <th>text</th>\n",
       "      <th>id</th>\n",
       "      <th>entity</th>\n",
       "      <th>label</th>\n",
       "      <th>annotator</th>\n",
       "      <th>category</th>\n",
       "    </tr>\n",
       "  </thead>\n",
       "  <tbody>\n",
       "    <tr>\n",
       "      <th>0</th>\n",
       "      <td>Coll-1434_11900.ann</td>\n",
       "      <td>(1954, 1957)</td>\n",
       "      <td>his</td>\n",
       "      <td>22593</td>\n",
       "      <td>T1</td>\n",
       "      <td>Generalization</td>\n",
       "      <td>0</td>\n",
       "      <td>Linguistic</td>\n",
       "    </tr>\n",
       "    <tr>\n",
       "      <th>1</th>\n",
       "      <td>Coll-1397_00100.ann</td>\n",
       "      <td>(2633, 2638)</td>\n",
       "      <td>Lords</td>\n",
       "      <td>29349</td>\n",
       "      <td>T58</td>\n",
       "      <td>Generalization</td>\n",
       "      <td>0</td>\n",
       "      <td>Linguistic</td>\n",
       "    </tr>\n",
       "    <tr>\n",
       "      <th>2</th>\n",
       "      <td>Coll-1310_00800.ann</td>\n",
       "      <td>(3703, 3706)</td>\n",
       "      <td>Man</td>\n",
       "      <td>15451</td>\n",
       "      <td>T54</td>\n",
       "      <td>Generalization</td>\n",
       "      <td>0</td>\n",
       "      <td>Linguistic</td>\n",
       "    </tr>\n",
       "    <tr>\n",
       "      <th>3</th>\n",
       "      <td>Coll-1434_14500.ann</td>\n",
       "      <td>(5782, 5788)</td>\n",
       "      <td>cowboy</td>\n",
       "      <td>8005</td>\n",
       "      <td>T76</td>\n",
       "      <td>Generalization</td>\n",
       "      <td>0</td>\n",
       "      <td>Linguistic</td>\n",
       "    </tr>\n",
       "    <tr>\n",
       "      <th>4</th>\n",
       "      <td>BAI_02300.ann</td>\n",
       "      <td>(1586, 1596)</td>\n",
       "      <td>shipmaster</td>\n",
       "      <td>20810</td>\n",
       "      <td>T53</td>\n",
       "      <td>Generalization</td>\n",
       "      <td>0</td>\n",
       "      <td>Linguistic</td>\n",
       "    </tr>\n",
       "  </tbody>\n",
       "</table>\n",
       "</div>"
      ],
      "text/plain": [
       "                  file       offsets        text     id entity  \\\n",
       "0  Coll-1434_11900.ann  (1954, 1957)         his  22593     T1   \n",
       "1  Coll-1397_00100.ann  (2633, 2638)       Lords  29349    T58   \n",
       "2  Coll-1310_00800.ann  (3703, 3706)         Man  15451    T54   \n",
       "3  Coll-1434_14500.ann  (5782, 5788)      cowboy   8005    T76   \n",
       "4        BAI_02300.ann  (1586, 1596)  shipmaster  20810    T53   \n",
       "\n",
       "            label  annotator    category  \n",
       "0  Generalization          0  Linguistic  \n",
       "1  Generalization          0  Linguistic  \n",
       "2  Generalization          0  Linguistic  \n",
       "3  Generalization          0  Linguistic  \n",
       "4  Generalization          0  Linguistic  "
      ]
     },
     "execution_count": 4,
     "metadata": {},
     "output_type": "execute_result"
    }
   ],
   "source": [
    "gold = pd.read_csv(\"gold_standard.csv\", index_col=0)\n",
    "gold.head()"
   ]
  },
  {
   "cell_type": "markdown",
   "metadata": {},
   "source": [
    "<a id=\"g-m\"></a>\n",
    "#### MATCHES"
   ]
  },
  {
   "cell_type": "code",
   "execution_count": 6,
   "metadata": {},
   "outputs": [],
   "source": [
    "def useAnnotatorNumber(df):\n",
    "    df.replace(\"Annotator 0\", \"0\", inplace=True)\n",
    "    df.replace(\"Annotator 1\", \"1\", inplace=True)\n",
    "    df.replace(\"Annotator 2\", \"2\", inplace=True)\n",
    "    df.replace(\"Annotator 3\", \"3\", inplace=True)\n",
    "    df.replace(\"Annotator 4\", \"4\", inplace=True)\n",
    "    return df\n",
    "\n",
    "def addMatchedRows(filename, merged_df):\n",
    "    # Load and format the DataFrames\n",
    "    filepath = \"Agreements/\"+filename\n",
    "    df = pd.read_csv(filepath,index_col=0)\n",
    "    agmt_colA = df.columns[-1]\n",
    "    agmt_colB = df.columns[-2]\n",
    "    matchesA = df.loc[df[agmt_colA] == \"Match\"]\n",
    "    if \"agreement\" in agmt_colB:\n",
    "        matchesB = df.loc[df[agmt_colB] == \"Match\"]\n",
    "        # Make sure the columns are the same and in the same order\n",
    "        matchesB = matchesB[[\"file\",\"offsets\",\"text\",\"id\",\"entity\",\"label\",\"annotator\",\"category\"]]\n",
    "    else:\n",
    "        matchesB = pd.DataFrame()\n",
    "    # Make sure the columns are the same and in the same order\n",
    "    matchesA = matchesA[[\"file\",\"offsets\",\"text\",\"id\",\"entity\",\"label\",\"annotator\",\"category\"]]\n",
    "    merged_df = merged_df[[\"file\",\"offsets\",\"text\",\"id\",\"entity\",\"label\",\"annotator\",\"category\"]]\n",
    "    \n",
    "    # Append the rows of matches to the merged DataFrame \n",
    "    old_row_count = gold.shape[0]\n",
    "    new_row_count = matchesA.shape[0] + matchesB.shape[0]\n",
    "    added = (gold.append(matchesA)).append(matchesB)\n",
    "    assert(added.shape[0] == old_row_count + new_row_count)\n",
    "    \n",
    "    # Clean up annotator columns so values are all a single digit string\n",
    "    added = useAnnotatorNumber(added)\n",
    "    \n",
    "    return added"
   ]
  },
  {
   "cell_type": "code",
   "execution_count": 6,
   "metadata": {},
   "outputs": [
    {
     "name": "stdout",
     "output_type": "stream",
     "text": [
      "65770\n",
      "66357\n"
     ]
    }
   ],
   "source": [
    "agreement_files = os.listdir(\"./Agreements\")\n",
    "merged = gold\n",
    "print(merged.shape[0])\n",
    "for f in agreement_files:\n",
    "    if f != \".ipynb_checkpoints\":\n",
    "        merged = addMatchedRows(f, merged)\n",
    "print(merged.shape[0])  # 65770, 66357"
   ]
  },
  {
   "cell_type": "code",
   "execution_count": 7,
   "metadata": {},
   "outputs": [],
   "source": [
    "merged.annotator.unique()\n",
    "merged.replace('4',4,inplace=True)\n",
    "merged.annotator.unique()\n",
    "merged.to_csv(\"merged.csv\")"
   ]
  },
  {
   "cell_type": "markdown",
   "metadata": {},
   "source": [
    "<a id=\"g-o\"></a>\n",
    "#### OVERLAPS"
   ]
  },
  {
   "cell_type": "code",
   "execution_count": 17,
   "metadata": {},
   "outputs": [],
   "source": [
    "# Input a dataframe and the labelname under consideration\n",
    "# Output two DataFrames that are the subset of the input DataFrame, the first being all annotations that\n",
    "# overlap with one other annotator and the second being all annotations that overlap with two other annotators,\n",
    "# both with rows whose label is the input labelname\n",
    "def getOverlaps(df, labelname):\n",
    "    df = df.loc[df.label == labelname]\n",
    "    agmt_colA = df.columns[-1]\n",
    "    agmt_colB = df.columns[-2]\n",
    "    overlaps = df.loc[df[agmt_colA] == \"Overlap\"]\n",
    "    overlaps = overlaps.append(df.loc[df[agmt_colB] == \"Overlap\"])\n",
    "    # Remove any matched rows from the overlap DataFrame (those rows have already been added to the merged dataset)\n",
    "    overlaps = overlaps.loc[df[agmt_colA] != \"Match\"]\n",
    "    overlaps = overlaps.loc[df[agmt_colB] != \"Match\"]\n",
    "#     triple_overlaps = (overlaps.dropna())\n",
    "#     double_overlaps = overlaps.drop(index=list(triple_overlaps.index))\n",
    "    return overlaps #double_overlaps,triple_overlaps\n",
    "\n",
    "# Create an interval tree for one annotator's agreement DataFrame for a specified file and label\n",
    "def createIntervalTree(df, filename):\n",
    "    subdf = df.loc[df.file == filename]\n",
    "    offsets = list(zip(list(subdf.start), list(subdf.end)))\n",
    "    return IntervalTree.from_tuples(offsets)\n",
    "\n",
    "# Find the longest text span (interval) annotated for each group of overlapping annotations,\n",
    "# comparing two or three trees (two or three annotators' labels) for one file at a time and\n",
    "# for one label at a time\n",
    "def findBiggestIntervals(tree_exp, tree_pred, tree_pred2=False):\n",
    "    interval_list = []\n",
    "    for annotation in tree_exp:\n",
    "        biggest_interval = annotation\n",
    "        overlapping_intervals = list(tree_pred.overlap(annotation))\n",
    "        if tree_pred2:\n",
    "            overlapping_intervals += list(tree_pred2.overlap(annotation))\n",
    "        if len(overlapping_intervals) > 0:\n",
    "            for oi in overlapping_intervals:\n",
    "                if (annotation.end - annotation.begin) <= (oi.begin - oi.end):\n",
    "                    biggest_interval = oi\n",
    "        interval_list += [biggest_interval]\n",
    "    return interval_list"
   ]
  },
  {
   "cell_type": "code",
   "execution_count": 20,
   "metadata": {},
   "outputs": [],
   "source": [
    "def getRowsToAdd(df0, df1, df2=pd.DataFrame()):\n",
    "    if df2.empty:\n",
    "            file_list = list(set(list(df0.file)+list(df1.file)))\n",
    "    else:\n",
    "        file_list = list(set(list(df0.file)+list(df1.file)+list(df2.file)))\n",
    "    for_merged = pd.DataFrame(columns=['file', 'offsets', 'text', 'id', 'entity', 'label', 'annotator', 'category', 'remove', 'start', 'end'])\n",
    "    for f in file_list:\n",
    "        tree0 = createIntervalTree(df0, f)\n",
    "        tree1 = createIntervalTree(df1, f)\n",
    "        # Find biggest intervals for file f, label Gendered Role\n",
    "        if df2.empty:\n",
    "            biggest_intervals = findBiggestIntervals(tree0, tree1)\n",
    "        else:\n",
    "            tree2 = createIntervalTree(df2, f)\n",
    "            biggest_intervals = findBiggestIntervals(tree0, tree1, tree2)\n",
    "        # Get rows for merged dataset\n",
    "        df0 = df0[['file', 'offsets', 'text', 'id', 'entity', 'label', 'annotator', 'category', 'remove', 'start', 'end']]\n",
    "        df1 = df1[['file', 'offsets', 'text', 'id', 'entity', 'label', 'annotator', 'category', 'remove', 'start', 'end']]\n",
    "        if df2.empty:\n",
    "            df = df0.append(df1)\n",
    "        else:\n",
    "            df2 = df2[['file', 'offsets', 'text', 'id', 'entity', 'label', 'annotator', 'category', 'remove', 'start', 'end']]\n",
    "            df = (df0.append(df1)).append(df2)\n",
    "        for iv in biggest_intervals:\n",
    "            row = df.loc[df.start == iv.begin]\n",
    "            row = row.loc[row.end == iv.end]\n",
    "            for_merged = for_merged.append(row)\n",
    "\n",
    "    return for_merged"
   ]
  },
  {
   "cell_type": "code",
   "execution_count": 21,
   "metadata": {},
   "outputs": [
    {
     "name": "stdout",
     "output_type": "stream",
     "text": [
      "['.ipynb_checkpoints', 'ann0_agreement2_UnknownFeminineMasculine.csv', 'ann2_agreement0_UnknownFeminineMasculine.csv', 'ann0_agreement12_GenderedRole.csv', 'ann1_agreement02_GenderedRole.csv', 'ann2_agreement01_GenderedRole.csv', 'ann0_agreement12_Generalization.csv', 'ann1_agreement02_Generalization.csv', 'ann2_agreement01_Generalization.csv', 'ann0_agreement12_GenderedPronoun.csv', 'ann1_agreement02_GenderedPronoun.csv', 'ann2_agreement01_GenderedPronoun.csv', 'ann0_agreement34_Stereotype.csv', 'ann3_agreement04_Stereotype.csv', 'ann4_agreement03_Stereotype.csv', 'ann0_agreement34_Omission.csv', 'ann3_agreement04_Omission.csv', 'ann4_agreement03_Omission.csv', 'ann0_agreement34_Occupation.csv', 'ann3_agreement04_Occupation.csv', 'ann4_agreement03_Occupation.csv']\n"
     ]
    }
   ],
   "source": [
    "print(os.listdir(\"./Agreements\"))"
   ]
  },
  {
   "cell_type": "markdown",
   "metadata": {},
   "source": [
    "##### Gendered Role\n",
    "Among annotators 0, 1, and 2"
   ]
  },
  {
   "cell_type": "code",
   "execution_count": 264,
   "metadata": {},
   "outputs": [],
   "source": [
    "labelname = \"Gendered-Role\"\n",
    "df0 = pd.read_csv(\"Agreements/ann0_agreement12_GenderedRole.csv\",index_col=0)\n",
    "df0 = getOverlaps(df0, labelname)\n",
    "# df0.head()  # Looks good\n",
    "df1 = pd.read_csv('Agreements/ann1_agreement02_GenderedRole.csv',index_col=0)\n",
    "df1 = getOverlaps(df1, labelname)\n",
    "df2 = pd.read_csv('Agreements/ann2_agreement01_GenderedRole.csv',index_col=0)\n",
    "df2 = getOverlaps(df2, labelname)"
   ]
  },
  {
   "cell_type": "code",
   "execution_count": 265,
   "metadata": {},
   "outputs": [],
   "source": [
    "# double_overlaps0,triple_overlaps0 = getOverlaps(df0)\n",
    "# double_overlaps1,triple_overlaps1 = getOverlaps(df1)\n",
    "# double_overlaps2,triple_overlaps2 = getOverlaps(df2)\n",
    "# print(\"Double and Triple Overlaps for Gendered Role Annotations\")\n",
    "# print(\"- Annotator 0:\",double_overlaps0.shape[0], triple_overlaps0.shape[0])  # Makes sense\n",
    "# print(\"- Annotator 1:\",double_overlaps1.shape[0], triple_overlaps1.shape[0])\n",
    "# print(\"- Annotator 2:\",double_overlaps2.shape[0], triple_overlaps2.shape[0])\n",
    "# double_overlaps1.head() # Looks good\n",
    "# triple_overlaps2.tail()  # Looks good"
   ]
  },
  {
   "cell_type": "code",
   "execution_count": 266,
   "metadata": {},
   "outputs": [
    {
     "data": {
      "text/plain": [
       "(208, 11)"
      ]
     },
     "execution_count": 266,
     "metadata": {},
     "output_type": "execute_result"
    }
   ],
   "source": [
    "for_merged = getRowsToAdd(df0, df1, df2)\n",
    "for_merged = for_merged.append(getRowsToAdd(df1, df0, df2))\n",
    "for_merged = for_merged.append(getRowsToAdd(df2, df0, df1))\n",
    "for_merged.shape"
   ]
  },
  {
   "cell_type": "code",
   "execution_count": 267,
   "metadata": {},
   "outputs": [
    {
     "data": {
      "text/html": [
       "<div>\n",
       "<style scoped>\n",
       "    .dataframe tbody tr th:only-of-type {\n",
       "        vertical-align: middle;\n",
       "    }\n",
       "\n",
       "    .dataframe tbody tr th {\n",
       "        vertical-align: top;\n",
       "    }\n",
       "\n",
       "    .dataframe thead th {\n",
       "        text-align: right;\n",
       "    }\n",
       "</style>\n",
       "<table border=\"1\" class=\"dataframe\">\n",
       "  <thead>\n",
       "    <tr style=\"text-align: right;\">\n",
       "      <th></th>\n",
       "      <th>file</th>\n",
       "      <th>offsets</th>\n",
       "      <th>text</th>\n",
       "      <th>id</th>\n",
       "      <th>entity</th>\n",
       "      <th>label</th>\n",
       "      <th>annotator</th>\n",
       "      <th>category</th>\n",
       "      <th>remove</th>\n",
       "      <th>start</th>\n",
       "      <th>end</th>\n",
       "    </tr>\n",
       "  </thead>\n",
       "  <tbody>\n",
       "    <tr>\n",
       "      <th>2260</th>\n",
       "      <td>Coll-1462_00100.ann</td>\n",
       "      <td>(1143, 1156)</td>\n",
       "      <td>granddaughter</td>\n",
       "      <td>3339</td>\n",
       "      <td>T3</td>\n",
       "      <td>Gendered-Role</td>\n",
       "      <td>0</td>\n",
       "      <td>Linguistic</td>\n",
       "      <td>None</td>\n",
       "      <td>1143</td>\n",
       "      <td>1156</td>\n",
       "    </tr>\n",
       "    <tr>\n",
       "      <th>10439</th>\n",
       "      <td>Coll-1434_16000.ann</td>\n",
       "      <td>(2393, 2397)</td>\n",
       "      <td>boys</td>\n",
       "      <td>15310</td>\n",
       "      <td>T34</td>\n",
       "      <td>Gendered-Role</td>\n",
       "      <td>0</td>\n",
       "      <td>Linguistic</td>\n",
       "      <td>None</td>\n",
       "      <td>2393</td>\n",
       "      <td>2397</td>\n",
       "    </tr>\n",
       "    <tr>\n",
       "      <th>18422</th>\n",
       "      <td>Coll-1109_00100.ann</td>\n",
       "      <td>(480, 492)</td>\n",
       "      <td>Lord Provost</td>\n",
       "      <td>26879</td>\n",
       "      <td>T0</td>\n",
       "      <td>Gendered-Role</td>\n",
       "      <td>0</td>\n",
       "      <td>Linguistic</td>\n",
       "      <td>None</td>\n",
       "      <td>480</td>\n",
       "      <td>492</td>\n",
       "    </tr>\n",
       "    <tr>\n",
       "      <th>13530</th>\n",
       "      <td>Coll-1383_00600.ann</td>\n",
       "      <td>(8394, 8400)</td>\n",
       "      <td>Master</td>\n",
       "      <td>19689</td>\n",
       "      <td>T137</td>\n",
       "      <td>Gendered-Role</td>\n",
       "      <td>0</td>\n",
       "      <td>Linguistic</td>\n",
       "      <td>None</td>\n",
       "      <td>8394</td>\n",
       "      <td>8400</td>\n",
       "    </tr>\n",
       "    <tr>\n",
       "      <th>11139</th>\n",
       "      <td>Coll-1434_09700.ann</td>\n",
       "      <td>(559, 565)</td>\n",
       "      <td>Prince</td>\n",
       "      <td>16369</td>\n",
       "      <td>T14</td>\n",
       "      <td>Gendered-Role</td>\n",
       "      <td>0</td>\n",
       "      <td>Linguistic</td>\n",
       "      <td>None</td>\n",
       "      <td>559</td>\n",
       "      <td>565</td>\n",
       "    </tr>\n",
       "  </tbody>\n",
       "</table>\n",
       "</div>"
      ],
      "text/plain": [
       "                      file       offsets           text     id entity  \\\n",
       "2260   Coll-1462_00100.ann  (1143, 1156)  granddaughter   3339     T3   \n",
       "10439  Coll-1434_16000.ann  (2393, 2397)           boys  15310    T34   \n",
       "18422  Coll-1109_00100.ann    (480, 492)   Lord Provost  26879     T0   \n",
       "13530  Coll-1383_00600.ann  (8394, 8400)         Master  19689   T137   \n",
       "11139  Coll-1434_09700.ann    (559, 565)         Prince  16369    T14   \n",
       "\n",
       "               label annotator    category remove  start   end  \n",
       "2260   Gendered-Role         0  Linguistic   None   1143  1156  \n",
       "10439  Gendered-Role         0  Linguistic   None   2393  2397  \n",
       "18422  Gendered-Role         0  Linguistic   None    480   492  \n",
       "13530  Gendered-Role         0  Linguistic   None   8394  8400  \n",
       "11139  Gendered-Role         0  Linguistic   None    559   565  "
      ]
     },
     "execution_count": 267,
     "metadata": {},
     "output_type": "execute_result"
    }
   ],
   "source": [
    "# Clean up annotator columns so values are all a single digit string\n",
    "for_merged = useAnnotatorNumber(for_merged)\n",
    "for_merged.head()"
   ]
  },
  {
   "cell_type": "code",
   "execution_count": 268,
   "metadata": {},
   "outputs": [],
   "source": [
    "# Write to CSV file for safe-keeping\n",
    "for_merged.to_csv(\"overlaps_for_merged.csv\")"
   ]
  },
  {
   "cell_type": "markdown",
   "metadata": {},
   "source": [
    "##### Gendered Pronoun\n",
    "Among annotators 0, 1, and 2"
   ]
  },
  {
   "cell_type": "code",
   "execution_count": 269,
   "metadata": {},
   "outputs": [],
   "source": [
    "labelname = \"Gendered-Pronoun\"\n",
    "df0 = pd.read_csv(\"Agreements/ann0_agreement12_GenderedPronoun.csv\",index_col=0)\n",
    "df0 = getOverlaps(df0, labelname)\n",
    "df1 = pd.read_csv('Agreements/ann1_agreement02_GenderedPronoun.csv',index_col=0)\n",
    "df1 = getOverlaps(df1, labelname)\n",
    "df2 = pd.read_csv('Agreements/ann2_agreement01_GenderedPronoun.csv',index_col=0)\n",
    "df2 = getOverlaps(df2, labelname)"
   ]
  },
  {
   "cell_type": "code",
   "execution_count": 270,
   "metadata": {},
   "outputs": [
    {
     "data": {
      "text/plain": [
       "(2, 11)"
      ]
     },
     "execution_count": 270,
     "metadata": {},
     "output_type": "execute_result"
    }
   ],
   "source": [
    "for_merged = getRowsToAdd(df0, df1, df2)\n",
    "for_merged = for_merged.append(getRowsToAdd(df1, df0, df2))\n",
    "for_merged = for_merged.append(getRowsToAdd(df2, df0, df1))\n",
    "for_merged.shape"
   ]
  },
  {
   "cell_type": "code",
   "execution_count": 271,
   "metadata": {},
   "outputs": [
    {
     "data": {
      "text/html": [
       "<div>\n",
       "<style scoped>\n",
       "    .dataframe tbody tr th:only-of-type {\n",
       "        vertical-align: middle;\n",
       "    }\n",
       "\n",
       "    .dataframe tbody tr th {\n",
       "        vertical-align: top;\n",
       "    }\n",
       "\n",
       "    .dataframe thead th {\n",
       "        text-align: right;\n",
       "    }\n",
       "</style>\n",
       "<table border=\"1\" class=\"dataframe\">\n",
       "  <thead>\n",
       "    <tr style=\"text-align: right;\">\n",
       "      <th></th>\n",
       "      <th>file</th>\n",
       "      <th>offsets</th>\n",
       "      <th>text</th>\n",
       "      <th>id</th>\n",
       "      <th>entity</th>\n",
       "      <th>label</th>\n",
       "      <th>annotator</th>\n",
       "      <th>category</th>\n",
       "      <th>remove</th>\n",
       "      <th>start</th>\n",
       "      <th>end</th>\n",
       "    </tr>\n",
       "  </thead>\n",
       "  <tbody>\n",
       "    <tr>\n",
       "      <th>21262</th>\n",
       "      <td>Coll-1036_00500.ann</td>\n",
       "      <td>(16401, 16403)</td>\n",
       "      <td>He</td>\n",
       "      <td>31028</td>\n",
       "      <td>T221</td>\n",
       "      <td>Gendered-Pronoun</td>\n",
       "      <td>0</td>\n",
       "      <td>Linguistic</td>\n",
       "      <td>None</td>\n",
       "      <td>16401</td>\n",
       "      <td>16403</td>\n",
       "    </tr>\n",
       "    <tr>\n",
       "      <th>16059</th>\n",
       "      <td>Coll-1036_00500.ann</td>\n",
       "      <td>(16401, 16405)</td>\n",
       "      <td>He's</td>\n",
       "      <td>16204</td>\n",
       "      <td>T157</td>\n",
       "      <td>Gendered-Pronoun</td>\n",
       "      <td>1</td>\n",
       "      <td>Linguistic</td>\n",
       "      <td>None</td>\n",
       "      <td>16401</td>\n",
       "      <td>16405</td>\n",
       "    </tr>\n",
       "  </tbody>\n",
       "</table>\n",
       "</div>"
      ],
      "text/plain": [
       "                      file         offsets  text     id entity  \\\n",
       "21262  Coll-1036_00500.ann  (16401, 16403)    He  31028   T221   \n",
       "16059  Coll-1036_00500.ann  (16401, 16405)  He's  16204   T157   \n",
       "\n",
       "                  label annotator    category remove  start    end  \n",
       "21262  Gendered-Pronoun         0  Linguistic   None  16401  16403  \n",
       "16059  Gendered-Pronoun         1  Linguistic   None  16401  16405  "
      ]
     },
     "execution_count": 271,
     "metadata": {},
     "output_type": "execute_result"
    }
   ],
   "source": [
    "# Clean up annotator columns so values are all a single digit string\n",
    "for_merged = useAnnotatorNumber(for_merged)\n",
    "for_merged.head()"
   ]
  },
  {
   "cell_type": "code",
   "execution_count": 272,
   "metadata": {},
   "outputs": [],
   "source": [
    "# Write to CSV file for safe-keeping\n",
    "already_added = pd.read_csv(\"overlaps_for_merged.csv\", index_col=0)\n",
    "# already_added.shape\n",
    "to_merge = already_added.append(for_merged)\n",
    "# to_merge.shape\n",
    "to_merge.to_csv(\"overlaps_for_merged.csv\")"
   ]
  },
  {
   "cell_type": "markdown",
   "metadata": {},
   "source": [
    "##### Generalization\n",
    "Among annotators 0, 1, and 2"
   ]
  },
  {
   "cell_type": "code",
   "execution_count": 273,
   "metadata": {},
   "outputs": [],
   "source": [
    "# ['.ipynb_checkpoints', 'ann0_agreement2_UnknownFeminineMasculine.csv', 'ann2_agreement0_UnknownFeminineMasculine.csv', 'ann0_agreement12_GenderedRole.csv', 'ann1_agreement02_GenderedRole.csv', 'ann2_agreement01_GenderedRole.csv', 'ann0_agreement12_Generalization.csv', 'ann1_agreement02_Generalization.csv', 'ann2_agreement01_Generalization.csv', 'ann0_agreement12_GenderedPronoun.csv', 'ann1_agreement02_GenderedPronoun.csv', 'ann2_agreement01_GenderedPronoun.csv', 'ann0_agreement34_Stereotype.csv', 'ann3_agreement04_Stereotype.csv', 'ann4_agreement03_Stereotype.csv', 'ann0_agreement34_Omission.csv', 'ann3_agreement04_Omission.csv', 'ann4_agreement03_Omission.csv', 'ann0_agreement34_Occupation.csv', 'ann3_agreement04_Occupation.csv', 'ann4_agreement03_Occupation.csv']\n",
    "labelname = \"Generalization\"\n",
    "df0 = pd.read_csv(\"Agreements/ann0_agreement12_Generalization.csv\",index_col=0)\n",
    "df0 = getOverlaps(df0, labelname)\n",
    "df1 = pd.read_csv('Agreements/ann1_agreement02_Generalization.csv',index_col=0)\n",
    "df1 = getOverlaps(df1, labelname)\n",
    "df2 = pd.read_csv('Agreements/ann2_agreement01_Generalization.csv',index_col=0)\n",
    "df2 = getOverlaps(df2, labelname)"
   ]
  },
  {
   "cell_type": "code",
   "execution_count": 274,
   "metadata": {},
   "outputs": [
    {
     "data": {
      "text/plain": [
       "(61, 11)"
      ]
     },
     "execution_count": 274,
     "metadata": {},
     "output_type": "execute_result"
    }
   ],
   "source": [
    "for_merged = getRowsToAdd(df0, df1, df2)\n",
    "for_merged = for_merged.append(getRowsToAdd(df1, df0, df2))\n",
    "for_merged = for_merged.append(getRowsToAdd(df2, df0, df1))\n",
    "for_merged.shape"
   ]
  },
  {
   "cell_type": "code",
   "execution_count": 275,
   "metadata": {},
   "outputs": [
    {
     "data": {
      "text/html": [
       "<div>\n",
       "<style scoped>\n",
       "    .dataframe tbody tr th:only-of-type {\n",
       "        vertical-align: middle;\n",
       "    }\n",
       "\n",
       "    .dataframe tbody tr th {\n",
       "        vertical-align: top;\n",
       "    }\n",
       "\n",
       "    .dataframe thead th {\n",
       "        text-align: right;\n",
       "    }\n",
       "</style>\n",
       "<table border=\"1\" class=\"dataframe\">\n",
       "  <thead>\n",
       "    <tr style=\"text-align: right;\">\n",
       "      <th></th>\n",
       "      <th>file</th>\n",
       "      <th>offsets</th>\n",
       "      <th>text</th>\n",
       "      <th>id</th>\n",
       "      <th>entity</th>\n",
       "      <th>label</th>\n",
       "      <th>annotator</th>\n",
       "      <th>category</th>\n",
       "      <th>remove</th>\n",
       "      <th>start</th>\n",
       "      <th>end</th>\n",
       "    </tr>\n",
       "  </thead>\n",
       "  <tbody>\n",
       "    <tr>\n",
       "      <th>4063</th>\n",
       "      <td>Coll-1443_00100.ann</td>\n",
       "      <td>(7684, 7689)</td>\n",
       "      <td>B.Ed.</td>\n",
       "      <td>6028</td>\n",
       "      <td>T116</td>\n",
       "      <td>Generalization</td>\n",
       "      <td>0</td>\n",
       "      <td>Linguistic</td>\n",
       "      <td>None</td>\n",
       "      <td>7684</td>\n",
       "      <td>7689</td>\n",
       "    </tr>\n",
       "    <tr>\n",
       "      <th>9242</th>\n",
       "      <td>Coll-100_00100.ann</td>\n",
       "      <td>(557, 581)</td>\n",
       "      <td>C.M. (Master in Surgery)</td>\n",
       "      <td>13501</td>\n",
       "      <td>T18</td>\n",
       "      <td>Generalization</td>\n",
       "      <td>0</td>\n",
       "      <td>Linguistic</td>\n",
       "      <td>None</td>\n",
       "      <td>557</td>\n",
       "      <td>581</td>\n",
       "    </tr>\n",
       "    <tr>\n",
       "      <th>9240</th>\n",
       "      <td>Coll-100_00100.ann</td>\n",
       "      <td>(514, 519)</td>\n",
       "      <td>B.Sc.</td>\n",
       "      <td>13499</td>\n",
       "      <td>T16</td>\n",
       "      <td>Generalization</td>\n",
       "      <td>0</td>\n",
       "      <td>Linguistic</td>\n",
       "      <td>None</td>\n",
       "      <td>514</td>\n",
       "      <td>519</td>\n",
       "    </tr>\n",
       "    <tr>\n",
       "      <th>9241</th>\n",
       "      <td>Coll-100_00100.ann</td>\n",
       "      <td>(548, 552)</td>\n",
       "      <td>M.B.</td>\n",
       "      <td>13500</td>\n",
       "      <td>T17</td>\n",
       "      <td>Generalization</td>\n",
       "      <td>0</td>\n",
       "      <td>Linguistic</td>\n",
       "      <td>None</td>\n",
       "      <td>548</td>\n",
       "      <td>552</td>\n",
       "    </tr>\n",
       "    <tr>\n",
       "      <th>14267</th>\n",
       "      <td>BAI_02300.ann</td>\n",
       "      <td>(544, 548)</td>\n",
       "      <td>M.B.</td>\n",
       "      <td>20796</td>\n",
       "      <td>T38</td>\n",
       "      <td>Generalization</td>\n",
       "      <td>0</td>\n",
       "      <td>Linguistic</td>\n",
       "      <td>None</td>\n",
       "      <td>544</td>\n",
       "      <td>548</td>\n",
       "    </tr>\n",
       "  </tbody>\n",
       "</table>\n",
       "</div>"
      ],
      "text/plain": [
       "                      file       offsets                      text     id  \\\n",
       "4063   Coll-1443_00100.ann  (7684, 7689)                     B.Ed.   6028   \n",
       "9242    Coll-100_00100.ann    (557, 581)  C.M. (Master in Surgery)  13501   \n",
       "9240    Coll-100_00100.ann    (514, 519)                     B.Sc.  13499   \n",
       "9241    Coll-100_00100.ann    (548, 552)                      M.B.  13500   \n",
       "14267        BAI_02300.ann    (544, 548)                      M.B.  20796   \n",
       "\n",
       "      entity           label annotator    category remove  start   end  \n",
       "4063    T116  Generalization         0  Linguistic   None   7684  7689  \n",
       "9242     T18  Generalization         0  Linguistic   None    557   581  \n",
       "9240     T16  Generalization         0  Linguistic   None    514   519  \n",
       "9241     T17  Generalization         0  Linguistic   None    548   552  \n",
       "14267    T38  Generalization         0  Linguistic   None    544   548  "
      ]
     },
     "execution_count": 275,
     "metadata": {},
     "output_type": "execute_result"
    }
   ],
   "source": [
    "# Clean up annotator columns so values are all a single digit string\n",
    "for_merged = useAnnotatorNumber(for_merged)\n",
    "for_merged.head()"
   ]
  },
  {
   "cell_type": "code",
   "execution_count": 276,
   "metadata": {},
   "outputs": [
    {
     "data": {
      "text/plain": [
       "(210, 11)"
      ]
     },
     "execution_count": 276,
     "metadata": {},
     "output_type": "execute_result"
    }
   ],
   "source": [
    "# Add the new rows with rows already added and write them to a CSV file for safe-keeping\n",
    "already_added = pd.read_csv(\"overlaps_for_merged.csv\", index_col=0)\n",
    "already_added.shape  # Looks good"
   ]
  },
  {
   "cell_type": "code",
   "execution_count": 277,
   "metadata": {},
   "outputs": [
    {
     "data": {
      "text/plain": [
       "(271, 11)"
      ]
     },
     "execution_count": 277,
     "metadata": {},
     "output_type": "execute_result"
    }
   ],
   "source": [
    "to_merge = already_added.append(for_merged)\n",
    "to_merge.shape  # Looks good"
   ]
  },
  {
   "cell_type": "code",
   "execution_count": 278,
   "metadata": {},
   "outputs": [],
   "source": [
    "to_merge.to_csv(\"overlaps_for_merged.csv\")"
   ]
  },
  {
   "cell_type": "markdown",
   "metadata": {},
   "source": [
    "##### Stereotype\n",
    "Among annotators 0, 3, and 4"
   ]
  },
  {
   "cell_type": "code",
   "execution_count": 279,
   "metadata": {},
   "outputs": [],
   "source": [
    "# ['ann0_agreement2_UnknownFeminineMasculine.csv', 'ann2_agreement0_UnknownFeminineMasculine.csv', 'ann0_agreement12_GenderedRole.csv', 'ann1_agreement02_GenderedRole.csv', 'ann2_agreement01_GenderedRole.csv', 'ann0_agreement12_Generalization.csv', 'ann1_agreement02_Generalization.csv', 'ann2_agreement01_Generalization.csv', 'ann0_agreement12_GenderedPronoun.csv', 'ann1_agreement02_GenderedPronoun.csv', 'ann2_agreement01_GenderedPronoun.csv', 'ann0_agreement34_Stereotype.csv', 'ann3_agreement04_Stereotype.csv', 'ann4_agreement03_Stereotype.csv', 'ann0_agreement34_Omission.csv', 'ann3_agreement04_Omission.csv', 'ann4_agreement03_Omission.csv', 'ann0_agreement34_Occupation.csv', 'ann3_agreement04_Occupation.csv', 'ann4_agreement03_Occupation.csv']\n",
    "labelname = \"Stereotype\"\n",
    "df0 = pd.read_csv(\"Agreements/ann0_agreement34_Stereotype.csv\",index_col=0)\n",
    "df0 = getOverlaps(df0, labelname)\n",
    "df3 = pd.read_csv('Agreements/ann3_agreement04_Stereotype.csv',index_col=0)\n",
    "df3 = getOverlaps(df3, labelname)\n",
    "df4 = pd.read_csv('Agreements/ann4_agreement03_Stereotype.csv',index_col=0)\n",
    "df4 = getOverlaps(df4, labelname)"
   ]
  },
  {
   "cell_type": "code",
   "execution_count": 280,
   "metadata": {},
   "outputs": [
    {
     "data": {
      "text/plain": [
       "(349, 11)"
      ]
     },
     "execution_count": 280,
     "metadata": {},
     "output_type": "execute_result"
    }
   ],
   "source": [
    "for_merged = getRowsToAdd(df0, df3, df4)\n",
    "for_merged = for_merged.append(getRowsToAdd(df3, df0, df4))\n",
    "for_merged = for_merged.append(getRowsToAdd(df4, df0, df3))\n",
    "for_merged.shape"
   ]
  },
  {
   "cell_type": "code",
   "execution_count": 281,
   "metadata": {},
   "outputs": [
    {
     "data": {
      "text/html": [
       "<div>\n",
       "<style scoped>\n",
       "    .dataframe tbody tr th:only-of-type {\n",
       "        vertical-align: middle;\n",
       "    }\n",
       "\n",
       "    .dataframe tbody tr th {\n",
       "        vertical-align: top;\n",
       "    }\n",
       "\n",
       "    .dataframe thead th {\n",
       "        text-align: right;\n",
       "    }\n",
       "</style>\n",
       "<table border=\"1\" class=\"dataframe\">\n",
       "  <thead>\n",
       "    <tr style=\"text-align: right;\">\n",
       "      <th></th>\n",
       "      <th>file</th>\n",
       "      <th>offsets</th>\n",
       "      <th>text</th>\n",
       "      <th>id</th>\n",
       "      <th>entity</th>\n",
       "      <th>label</th>\n",
       "      <th>annotator</th>\n",
       "      <th>category</th>\n",
       "      <th>remove</th>\n",
       "      <th>start</th>\n",
       "      <th>end</th>\n",
       "    </tr>\n",
       "  </thead>\n",
       "  <tbody>\n",
       "    <tr>\n",
       "      <th>5713</th>\n",
       "      <td>Coll-1310_02500.ann</td>\n",
       "      <td>(8949, 8956)</td>\n",
       "      <td>problem</td>\n",
       "      <td>29634</td>\n",
       "      <td>T216</td>\n",
       "      <td>Stereotype</td>\n",
       "      <td>0</td>\n",
       "      <td>Contextual</td>\n",
       "      <td>NaN</td>\n",
       "      <td>8949</td>\n",
       "      <td>8956</td>\n",
       "    </tr>\n",
       "    <tr>\n",
       "      <th>3917</th>\n",
       "      <td>Coll-1404_00100.ann</td>\n",
       "      <td>(969, 992)</td>\n",
       "      <td>honorary degree of D.D.</td>\n",
       "      <td>20610</td>\n",
       "      <td>T16</td>\n",
       "      <td>Stereotype</td>\n",
       "      <td>0</td>\n",
       "      <td>Contextual</td>\n",
       "      <td>NaN</td>\n",
       "      <td>969</td>\n",
       "      <td>992</td>\n",
       "    </tr>\n",
       "    <tr>\n",
       "      <th>5728</th>\n",
       "      <td>Coll-1373_00100.ann</td>\n",
       "      <td>(5140, 5149)</td>\n",
       "      <td>Wernerian</td>\n",
       "      <td>29706</td>\n",
       "      <td>T50</td>\n",
       "      <td>Stereotype</td>\n",
       "      <td>0</td>\n",
       "      <td>Contextual</td>\n",
       "      <td>NaN</td>\n",
       "      <td>5140</td>\n",
       "      <td>5149</td>\n",
       "    </tr>\n",
       "    <tr>\n",
       "      <th>1601</th>\n",
       "      <td>Coll-1434_19100.ann</td>\n",
       "      <td>(493, 496)</td>\n",
       "      <td>men</td>\n",
       "      <td>7708</td>\n",
       "      <td>T9</td>\n",
       "      <td>Stereotype</td>\n",
       "      <td>0</td>\n",
       "      <td>Contextual</td>\n",
       "      <td>NaN</td>\n",
       "      <td>493</td>\n",
       "      <td>496</td>\n",
       "    </tr>\n",
       "    <tr>\n",
       "      <th>4700</th>\n",
       "      <td>Coll-1310_00400.ann</td>\n",
       "      <td>(1208, 1284)</td>\n",
       "      <td>awarded the declaration of the Third Class of ...</td>\n",
       "      <td>24107</td>\n",
       "      <td>T47</td>\n",
       "      <td>Stereotype</td>\n",
       "      <td>0</td>\n",
       "      <td>Contextual</td>\n",
       "      <td>NaN</td>\n",
       "      <td>1208</td>\n",
       "      <td>1284</td>\n",
       "    </tr>\n",
       "  </tbody>\n",
       "</table>\n",
       "</div>"
      ],
      "text/plain": [
       "                     file       offsets  \\\n",
       "5713  Coll-1310_02500.ann  (8949, 8956)   \n",
       "3917  Coll-1404_00100.ann    (969, 992)   \n",
       "5728  Coll-1373_00100.ann  (5140, 5149)   \n",
       "1601  Coll-1434_19100.ann    (493, 496)   \n",
       "4700  Coll-1310_00400.ann  (1208, 1284)   \n",
       "\n",
       "                                                   text     id entity  \\\n",
       "5713                                            problem  29634   T216   \n",
       "3917                            honorary degree of D.D.  20610    T16   \n",
       "5728                                          Wernerian  29706    T50   \n",
       "1601                                                men   7708     T9   \n",
       "4700  awarded the declaration of the Third Class of ...  24107    T47   \n",
       "\n",
       "           label annotator    category  remove  start   end  \n",
       "5713  Stereotype         0  Contextual     NaN   8949  8956  \n",
       "3917  Stereotype         0  Contextual     NaN    969   992  \n",
       "5728  Stereotype         0  Contextual     NaN   5140  5149  \n",
       "1601  Stereotype         0  Contextual     NaN    493   496  \n",
       "4700  Stereotype         0  Contextual     NaN   1208  1284  "
      ]
     },
     "execution_count": 281,
     "metadata": {},
     "output_type": "execute_result"
    }
   ],
   "source": [
    "# Clean up annotator columns so values are all a single digit string\n",
    "for_merged = useAnnotatorNumber(for_merged)\n",
    "for_merged.head()"
   ]
  },
  {
   "cell_type": "code",
   "execution_count": 282,
   "metadata": {},
   "outputs": [
    {
     "data": {
      "text/plain": [
       "(271, 11)"
      ]
     },
     "execution_count": 282,
     "metadata": {},
     "output_type": "execute_result"
    }
   ],
   "source": [
    "# Add the new rows with rows already added and write them to a CSV file for safe-keeping\n",
    "already_added = pd.read_csv(\"overlaps_for_merged.csv\", index_col=0)\n",
    "already_added.shape  # Looks good"
   ]
  },
  {
   "cell_type": "code",
   "execution_count": 283,
   "metadata": {},
   "outputs": [
    {
     "data": {
      "text/plain": [
       "(620, 11)"
      ]
     },
     "execution_count": 283,
     "metadata": {},
     "output_type": "execute_result"
    }
   ],
   "source": [
    "to_merge = already_added.append(for_merged)\n",
    "to_merge.shape  # Looks good"
   ]
  },
  {
   "cell_type": "code",
   "execution_count": 284,
   "metadata": {},
   "outputs": [],
   "source": [
    "to_merge.to_csv(\"overlaps_for_merged.csv\")"
   ]
  },
  {
   "cell_type": "markdown",
   "metadata": {},
   "source": [
    "##### Omission\n",
    "Among annotators 0, 3, and 4"
   ]
  },
  {
   "cell_type": "code",
   "execution_count": 285,
   "metadata": {},
   "outputs": [],
   "source": [
    "# ['ann0_agreement2_UnknownFeminineMasculine.csv', 'ann2_agreement0_UnknownFeminineMasculine.csv', 'ann0_agreement12_GenderedRole.csv', 'ann1_agreement02_GenderedRole.csv', 'ann2_agreement01_GenderedRole.csv', 'ann0_agreement12_Generalization.csv', 'ann1_agreement02_Generalization.csv', 'ann2_agreement01_Generalization.csv', 'ann0_agreement12_GenderedPronoun.csv', 'ann1_agreement02_GenderedPronoun.csv', 'ann2_agreement01_GenderedPronoun.csv', 'ann0_agreement34_Stereotype.csv', 'ann3_agreement04_Stereotype.csv', 'ann4_agreement03_Stereotype.csv', 'ann0_agreement34_Omission.csv', 'ann3_agreement04_Omission.csv', 'ann4_agreement03_Omission.csv', 'ann0_agreement34_Occupation.csv', 'ann3_agreement04_Occupation.csv', 'ann4_agreement03_Occupation.csv']\n",
    "labelname = \"Omission\"\n",
    "df0 = pd.read_csv(\"Agreements/ann0_agreement34_Omission.csv\",index_col=0)\n",
    "df0 = getOverlaps(df0, labelname)\n",
    "df3 = pd.read_csv('Agreements/ann3_agreement04_Omission.csv',index_col=0)\n",
    "df3 = getOverlaps(df3, labelname)\n",
    "df4 = pd.read_csv('Agreements/ann4_agreement03_Omission.csv',index_col=0)\n",
    "df4 = getOverlaps(df4, labelname)"
   ]
  },
  {
   "cell_type": "code",
   "execution_count": 286,
   "metadata": {},
   "outputs": [
    {
     "data": {
      "text/plain": [
       "(1206, 11)"
      ]
     },
     "execution_count": 286,
     "metadata": {},
     "output_type": "execute_result"
    }
   ],
   "source": [
    "for_merged = getRowsToAdd(df0, df3, df4)\n",
    "for_merged = for_merged.append(getRowsToAdd(df3, df0, df4))\n",
    "for_merged = for_merged.append(getRowsToAdd(df4, df0, df3))\n",
    "for_merged.shape"
   ]
  },
  {
   "cell_type": "code",
   "execution_count": 287,
   "metadata": {},
   "outputs": [
    {
     "data": {
      "text/html": [
       "<div>\n",
       "<style scoped>\n",
       "    .dataframe tbody tr th:only-of-type {\n",
       "        vertical-align: middle;\n",
       "    }\n",
       "\n",
       "    .dataframe tbody tr th {\n",
       "        vertical-align: top;\n",
       "    }\n",
       "\n",
       "    .dataframe thead th {\n",
       "        text-align: right;\n",
       "    }\n",
       "</style>\n",
       "<table border=\"1\" class=\"dataframe\">\n",
       "  <thead>\n",
       "    <tr style=\"text-align: right;\">\n",
       "      <th></th>\n",
       "      <th>file</th>\n",
       "      <th>offsets</th>\n",
       "      <th>text</th>\n",
       "      <th>id</th>\n",
       "      <th>entity</th>\n",
       "      <th>label</th>\n",
       "      <th>annotator</th>\n",
       "      <th>category</th>\n",
       "      <th>remove</th>\n",
       "      <th>start</th>\n",
       "      <th>end</th>\n",
       "    </tr>\n",
       "  </thead>\n",
       "  <tbody>\n",
       "    <tr>\n",
       "      <th>5256</th>\n",
       "      <td>Coll-1022_00100.ann</td>\n",
       "      <td>(5698, 5704)</td>\n",
       "      <td>Corson</td>\n",
       "      <td>27269</td>\n",
       "      <td>T110</td>\n",
       "      <td>Omission</td>\n",
       "      <td>0</td>\n",
       "      <td>Contextual</td>\n",
       "      <td>NaN</td>\n",
       "      <td>5698</td>\n",
       "      <td>5704</td>\n",
       "    </tr>\n",
       "    <tr>\n",
       "      <th>938</th>\n",
       "      <td>Coll-1434_02200.ann</td>\n",
       "      <td>(57, 63)</td>\n",
       "      <td>Family</td>\n",
       "      <td>4624</td>\n",
       "      <td>T23</td>\n",
       "      <td>Omission</td>\n",
       "      <td>0</td>\n",
       "      <td>Contextual</td>\n",
       "      <td>NaN</td>\n",
       "      <td>57</td>\n",
       "      <td>63</td>\n",
       "    </tr>\n",
       "    <tr>\n",
       "      <th>935</th>\n",
       "      <td>Coll-1434_02200.ann</td>\n",
       "      <td>(749, 761)</td>\n",
       "      <td>Fruit Seller</td>\n",
       "      <td>4617</td>\n",
       "      <td>T16</td>\n",
       "      <td>Omission</td>\n",
       "      <td>0</td>\n",
       "      <td>Contextual</td>\n",
       "      <td>NaN</td>\n",
       "      <td>749</td>\n",
       "      <td>761</td>\n",
       "    </tr>\n",
       "    <tr>\n",
       "      <th>3800</th>\n",
       "      <td>Coll-1434_02900.ann</td>\n",
       "      <td>(792, 800)</td>\n",
       "      <td>Students</td>\n",
       "      <td>20210</td>\n",
       "      <td>T1</td>\n",
       "      <td>Omission</td>\n",
       "      <td>0</td>\n",
       "      <td>Contextual</td>\n",
       "      <td>NaN</td>\n",
       "      <td>792</td>\n",
       "      <td>800</td>\n",
       "    </tr>\n",
       "    <tr>\n",
       "      <th>3919</th>\n",
       "      <td>Coll-1404_00100.ann</td>\n",
       "      <td>(80, 83)</td>\n",
       "      <td>Sir</td>\n",
       "      <td>20620</td>\n",
       "      <td>T26</td>\n",
       "      <td>Omission</td>\n",
       "      <td>0</td>\n",
       "      <td>Contextual</td>\n",
       "      <td>NaN</td>\n",
       "      <td>80</td>\n",
       "      <td>83</td>\n",
       "    </tr>\n",
       "  </tbody>\n",
       "</table>\n",
       "</div>"
      ],
      "text/plain": [
       "                     file       offsets          text     id entity     label  \\\n",
       "5256  Coll-1022_00100.ann  (5698, 5704)        Corson  27269   T110  Omission   \n",
       "938   Coll-1434_02200.ann      (57, 63)        Family   4624    T23  Omission   \n",
       "935   Coll-1434_02200.ann    (749, 761)  Fruit Seller   4617    T16  Omission   \n",
       "3800  Coll-1434_02900.ann    (792, 800)      Students  20210     T1  Omission   \n",
       "3919  Coll-1404_00100.ann      (80, 83)           Sir  20620    T26  Omission   \n",
       "\n",
       "     annotator    category  remove  start   end  \n",
       "5256         0  Contextual     NaN   5698  5704  \n",
       "938          0  Contextual     NaN     57    63  \n",
       "935          0  Contextual     NaN    749   761  \n",
       "3800         0  Contextual     NaN    792   800  \n",
       "3919         0  Contextual     NaN     80    83  "
      ]
     },
     "execution_count": 287,
     "metadata": {},
     "output_type": "execute_result"
    }
   ],
   "source": [
    "# Clean up annotator columns so values are all a single digit string\n",
    "for_merged = useAnnotatorNumber(for_merged)\n",
    "for_merged.head()"
   ]
  },
  {
   "cell_type": "code",
   "execution_count": 288,
   "metadata": {},
   "outputs": [
    {
     "data": {
      "text/plain": [
       "(620, 11)"
      ]
     },
     "execution_count": 288,
     "metadata": {},
     "output_type": "execute_result"
    }
   ],
   "source": [
    "# Add the new rows with rows already added and write them to a CSV file for safe-keeping\n",
    "already_added = pd.read_csv(\"overlaps_for_merged.csv\", index_col=0)\n",
    "already_added.shape  # Looks good"
   ]
  },
  {
   "cell_type": "code",
   "execution_count": 289,
   "metadata": {},
   "outputs": [
    {
     "data": {
      "text/plain": [
       "(1826, 11)"
      ]
     },
     "execution_count": 289,
     "metadata": {},
     "output_type": "execute_result"
    }
   ],
   "source": [
    "to_merge = already_added.append(for_merged)\n",
    "to_merge.shape  # Looks good"
   ]
  },
  {
   "cell_type": "code",
   "execution_count": 290,
   "metadata": {},
   "outputs": [],
   "source": [
    "to_merge.to_csv(\"overlaps_for_merged.csv\")"
   ]
  },
  {
   "cell_type": "markdown",
   "metadata": {},
   "source": [
    "##### Occupation\n",
    "Among annotators 0, 3, and 4"
   ]
  },
  {
   "cell_type": "code",
   "execution_count": 291,
   "metadata": {},
   "outputs": [],
   "source": [
    "# ['ann0_agreement2_UnknownFeminineMasculine.csv', 'ann2_agreement0_UnknownFeminineMasculine.csv', 'ann0_agreement12_GenderedRole.csv', 'ann1_agreement02_GenderedRole.csv', 'ann2_agreement01_GenderedRole.csv', 'ann0_agreement12_Generalization.csv', 'ann1_agreement02_Generalization.csv', 'ann2_agreement01_Generalization.csv', 'ann0_agreement12_GenderedPronoun.csv', 'ann1_agreement02_GenderedPronoun.csv', 'ann2_agreement01_GenderedPronoun.csv', 'ann0_agreement34_Stereotype.csv', 'ann3_agreement04_Stereotype.csv', 'ann4_agreement03_Stereotype.csv', 'ann0_agreement34_Omission.csv', 'ann3_agreement04_Omission.csv', 'ann4_agreement03_Omission.csv', 'ann0_agreement34_Occupation.csv', 'ann3_agreement04_Occupation.csv', 'ann4_agreement03_Occupation.csv']\n",
    "labelname = \"Occupation\"\n",
    "df0 = pd.read_csv(\"Agreements/ann0_agreement34_Occupation.csv\",index_col=0)\n",
    "df0 = getOverlaps(df0, labelname)\n",
    "df3 = pd.read_csv('Agreements/ann3_agreement04_Occupation.csv',index_col=0)\n",
    "df3 = getOverlaps(df3, labelname)\n",
    "df4 = pd.read_csv('Agreements/ann4_agreement03_Occupation.csv',index_col=0)\n",
    "df4 = getOverlaps(df4, labelname)"
   ]
  },
  {
   "cell_type": "code",
   "execution_count": 292,
   "metadata": {},
   "outputs": [
    {
     "data": {
      "text/plain": [
       "(0, 11)"
      ]
     },
     "execution_count": 292,
     "metadata": {},
     "output_type": "execute_result"
    }
   ],
   "source": [
    "for_merged = getRowsToAdd(df0, df3, df4)\n",
    "for_merged = for_merged.append(getRowsToAdd(df3, df0, df4))\n",
    "for_merged = for_merged.append(getRowsToAdd(df4, df0, df3))\n",
    "for_merged.shape"
   ]
  },
  {
   "cell_type": "markdown",
   "metadata": {},
   "source": [
    "None to add!"
   ]
  },
  {
   "cell_type": "markdown",
   "metadata": {},
   "source": [
    "##### Unknown\n",
    "Among annotators 0 and 2"
   ]
  },
  {
   "cell_type": "code",
   "execution_count": 299,
   "metadata": {},
   "outputs": [],
   "source": [
    "# ['.ipynb_checkpoints', 'ann0_agreement2_UnknownFeminineMasculine.csv', 'ann2_agreement0_UnknownFeminineMasculine.csv', 'ann0_agreement12_GenderedRole.csv', 'ann1_agreement02_GenderedRole.csv', 'ann2_agreement01_GenderedRole.csv', 'ann0_agreement12_Generalization.csv', 'ann1_agreement02_Generalization.csv', 'ann2_agreement01_Generalization.csv', 'ann0_agreement12_GenderedPronoun.csv', 'ann1_agreement02_GenderedPronoun.csv', 'ann2_agreement01_GenderedPronoun.csv', 'ann0_agreement34_Stereotype.csv', 'ann3_agreement04_Stereotype.csv', 'ann4_agreement03_Stereotype.csv', 'ann0_agreement34_Omission.csv', 'ann3_agreement04_Omission.csv', 'ann4_agreement03_Omission.csv', 'ann0_agreement34_Occupation.csv', 'ann3_agreement04_Occupation.csv', 'ann4_agreement03_Occupation.csv']\n",
    "labelname = \"Unknown\"\n",
    "df0 = pd.read_csv(\"Agreements/ann0_agreement2_UnknownFeminineMasculine.csv\",index_col=0)\n",
    "df0 = getOverlaps(df0, labelname)\n",
    "df2 = pd.read_csv('Agreements/ann2_agreement0_UnknownFeminineMasculine.csv',index_col=0)\n",
    "df2 = getOverlaps(df2, labelname)"
   ]
  },
  {
   "cell_type": "code",
   "execution_count": 300,
   "metadata": {},
   "outputs": [
    {
     "data": {
      "text/plain": [
       "(285, 11)"
      ]
     },
     "execution_count": 300,
     "metadata": {},
     "output_type": "execute_result"
    }
   ],
   "source": [
    "for_merged = getRowsToAdd(df0, df2)\n",
    "for_merged = for_merged.append(getRowsToAdd(df2, df0))\n",
    "for_merged.shape"
   ]
  },
  {
   "cell_type": "code",
   "execution_count": 302,
   "metadata": {},
   "outputs": [
    {
     "data": {
      "text/html": [
       "<div>\n",
       "<style scoped>\n",
       "    .dataframe tbody tr th:only-of-type {\n",
       "        vertical-align: middle;\n",
       "    }\n",
       "\n",
       "    .dataframe tbody tr th {\n",
       "        vertical-align: top;\n",
       "    }\n",
       "\n",
       "    .dataframe thead th {\n",
       "        text-align: right;\n",
       "    }\n",
       "</style>\n",
       "<table border=\"1\" class=\"dataframe\">\n",
       "  <thead>\n",
       "    <tr style=\"text-align: right;\">\n",
       "      <th></th>\n",
       "      <th>file</th>\n",
       "      <th>offsets</th>\n",
       "      <th>text</th>\n",
       "      <th>id</th>\n",
       "      <th>entity</th>\n",
       "      <th>label</th>\n",
       "      <th>annotator</th>\n",
       "      <th>category</th>\n",
       "      <th>remove</th>\n",
       "      <th>start</th>\n",
       "      <th>end</th>\n",
       "    </tr>\n",
       "  </thead>\n",
       "  <tbody>\n",
       "    <tr>\n",
       "      <th>18109</th>\n",
       "      <td>Coll-1434_17400.ann</td>\n",
       "      <td>(3622, 3632)</td>\n",
       "      <td>Fred] Heal</td>\n",
       "      <td>18405</td>\n",
       "      <td>T16</td>\n",
       "      <td>Unknown</td>\n",
       "      <td>2</td>\n",
       "      <td>Person-Name</td>\n",
       "      <td>None</td>\n",
       "      <td>3622</td>\n",
       "      <td>3632</td>\n",
       "    </tr>\n",
       "    <tr>\n",
       "      <th>3256</th>\n",
       "      <td>Coll-1052_00100.ann</td>\n",
       "      <td>(5752, 5759)</td>\n",
       "      <td>athleen</td>\n",
       "      <td>3375</td>\n",
       "      <td>T34</td>\n",
       "      <td>Unknown</td>\n",
       "      <td>2</td>\n",
       "      <td>Person-Name</td>\n",
       "      <td>None</td>\n",
       "      <td>5752</td>\n",
       "      <td>5759</td>\n",
       "    </tr>\n",
       "    <tr>\n",
       "      <th>114</th>\n",
       "      <td>BAI_00800.ann</td>\n",
       "      <td>(636, 654)</td>\n",
       "      <td>Mary  Sarah Fowler</td>\n",
       "      <td>116</td>\n",
       "      <td>T6</td>\n",
       "      <td>Unknown</td>\n",
       "      <td>2</td>\n",
       "      <td>Person-Name</td>\n",
       "      <td>None</td>\n",
       "      <td>636</td>\n",
       "      <td>654</td>\n",
       "    </tr>\n",
       "    <tr>\n",
       "      <th>148</th>\n",
       "      <td>BAI_01100.ann</td>\n",
       "      <td>(294, 306)</td>\n",
       "      <td>Prof McIntyr</td>\n",
       "      <td>150</td>\n",
       "      <td>T4</td>\n",
       "      <td>Unknown</td>\n",
       "      <td>2</td>\n",
       "      <td>Person-Name</td>\n",
       "      <td>None</td>\n",
       "      <td>294</td>\n",
       "      <td>306</td>\n",
       "    </tr>\n",
       "    <tr>\n",
       "      <th>1660</th>\n",
       "      <td>Coll-1034_00100.ann</td>\n",
       "      <td>(510, 516)</td>\n",
       "      <td>Hegel;</td>\n",
       "      <td>1700</td>\n",
       "      <td>T10</td>\n",
       "      <td>Unknown</td>\n",
       "      <td>2</td>\n",
       "      <td>Person-Name</td>\n",
       "      <td>None</td>\n",
       "      <td>510</td>\n",
       "      <td>516</td>\n",
       "    </tr>\n",
       "  </tbody>\n",
       "</table>\n",
       "</div>"
      ],
      "text/plain": [
       "                      file       offsets                text     id entity  \\\n",
       "18109  Coll-1434_17400.ann  (3622, 3632)          Fred] Heal  18405    T16   \n",
       "3256   Coll-1052_00100.ann  (5752, 5759)             athleen   3375    T34   \n",
       "114          BAI_00800.ann    (636, 654)  Mary  Sarah Fowler    116     T6   \n",
       "148          BAI_01100.ann    (294, 306)        Prof McIntyr    150     T4   \n",
       "1660   Coll-1034_00100.ann    (510, 516)              Hegel;   1700    T10   \n",
       "\n",
       "         label annotator     category remove  start   end  \n",
       "18109  Unknown         2  Person-Name   None   3622  3632  \n",
       "3256   Unknown         2  Person-Name   None   5752  5759  \n",
       "114    Unknown         2  Person-Name   None    636   654  \n",
       "148    Unknown         2  Person-Name   None    294   306  \n",
       "1660   Unknown         2  Person-Name   None    510   516  "
      ]
     },
     "execution_count": 302,
     "metadata": {},
     "output_type": "execute_result"
    }
   ],
   "source": [
    "# Clean up annotator columns so values are all a single digit string\n",
    "for_merged.replace(\"Annotator 0\", \"0\", inplace=True)\n",
    "for_merged.replace(\"Annotator 2\", \"2\", inplace=True)\n",
    "for_merged.tail()"
   ]
  },
  {
   "cell_type": "code",
   "execution_count": 303,
   "metadata": {},
   "outputs": [
    {
     "data": {
      "text/plain": [
       "(1826, 11)"
      ]
     },
     "execution_count": 303,
     "metadata": {},
     "output_type": "execute_result"
    }
   ],
   "source": [
    "# Add the new rows with rows already added and write them to a CSV file for safe-keeping\n",
    "already_added = pd.read_csv(\"overlaps_for_merged.csv\", index_col=0)\n",
    "already_added.shape  # Looks good"
   ]
  },
  {
   "cell_type": "code",
   "execution_count": 304,
   "metadata": {},
   "outputs": [
    {
     "data": {
      "text/plain": [
       "(2111, 11)"
      ]
     },
     "execution_count": 304,
     "metadata": {},
     "output_type": "execute_result"
    }
   ],
   "source": [
    "to_merge = already_added.append(for_merged)\n",
    "to_merge.shape  # Looks good"
   ]
  },
  {
   "cell_type": "code",
   "execution_count": 305,
   "metadata": {},
   "outputs": [],
   "source": [
    "to_merge.to_csv(\"overlaps_for_merged.csv\")"
   ]
  },
  {
   "cell_type": "markdown",
   "metadata": {},
   "source": [
    "##### Feminine\n",
    "Among annotators 0 and 2"
   ]
  },
  {
   "cell_type": "code",
   "execution_count": 306,
   "metadata": {},
   "outputs": [],
   "source": [
    "# ['.ipynb_checkpoints', 'ann0_agreement2_UnknownFeminineMasculine.csv', 'ann2_agreement0_UnknownFeminineMasculine.csv', 'ann0_agreement12_GenderedRole.csv', 'ann1_agreement02_GenderedRole.csv', 'ann2_agreement01_GenderedRole.csv', 'ann0_agreement12_Generalization.csv', 'ann1_agreement02_Generalization.csv', 'ann2_agreement01_Generalization.csv', 'ann0_agreement12_GenderedPronoun.csv', 'ann1_agreement02_GenderedPronoun.csv', 'ann2_agreement01_GenderedPronoun.csv', 'ann0_agreement34_Stereotype.csv', 'ann3_agreement04_Stereotype.csv', 'ann4_agreement03_Stereotype.csv', 'ann0_agreement34_Omission.csv', 'ann3_agreement04_Omission.csv', 'ann4_agreement03_Omission.csv', 'ann0_agreement34_Occupation.csv', 'ann3_agreement04_Occupation.csv', 'ann4_agreement03_Occupation.csv']\n",
    "labelname = \"Feminine\"\n",
    "df0 = pd.read_csv(\"Agreements/ann0_agreement2_UnknownFeminineMasculine.csv\",index_col=0)\n",
    "df0 = getOverlaps(df0, labelname)\n",
    "df2 = pd.read_csv('Agreements/ann2_agreement0_UnknownFeminineMasculine.csv',index_col=0)\n",
    "df2 = getOverlaps(df2, labelname)"
   ]
  },
  {
   "cell_type": "code",
   "execution_count": 307,
   "metadata": {},
   "outputs": [
    {
     "data": {
      "text/plain": [
       "(147, 11)"
      ]
     },
     "execution_count": 307,
     "metadata": {},
     "output_type": "execute_result"
    }
   ],
   "source": [
    "for_merged = getRowsToAdd(df0, df2)\n",
    "for_merged = for_merged.append(getRowsToAdd(df2, df0))\n",
    "for_merged.shape"
   ]
  },
  {
   "cell_type": "code",
   "execution_count": 308,
   "metadata": {},
   "outputs": [
    {
     "data": {
      "text/html": [
       "<div>\n",
       "<style scoped>\n",
       "    .dataframe tbody tr th:only-of-type {\n",
       "        vertical-align: middle;\n",
       "    }\n",
       "\n",
       "    .dataframe tbody tr th {\n",
       "        vertical-align: top;\n",
       "    }\n",
       "\n",
       "    .dataframe thead th {\n",
       "        text-align: right;\n",
       "    }\n",
       "</style>\n",
       "<table border=\"1\" class=\"dataframe\">\n",
       "  <thead>\n",
       "    <tr style=\"text-align: right;\">\n",
       "      <th></th>\n",
       "      <th>file</th>\n",
       "      <th>offsets</th>\n",
       "      <th>text</th>\n",
       "      <th>id</th>\n",
       "      <th>entity</th>\n",
       "      <th>label</th>\n",
       "      <th>annotator</th>\n",
       "      <th>category</th>\n",
       "      <th>remove</th>\n",
       "      <th>start</th>\n",
       "      <th>end</th>\n",
       "    </tr>\n",
       "  </thead>\n",
       "  <tbody>\n",
       "    <tr>\n",
       "      <th>1803</th>\n",
       "      <td>Coll-1036_00400.ann</td>\n",
       "      <td>(13481, 13496)</td>\n",
       "      <td>Marjory Kennedy</td>\n",
       "      <td>1845</td>\n",
       "      <td>T124</td>\n",
       "      <td>Feminine</td>\n",
       "      <td>2</td>\n",
       "      <td>Person-Name</td>\n",
       "      <td>None</td>\n",
       "      <td>13481</td>\n",
       "      <td>13496</td>\n",
       "    </tr>\n",
       "    <tr>\n",
       "      <th>2020</th>\n",
       "      <td>Coll-1036_00400.ann</td>\n",
       "      <td>(34507, 34525)</td>\n",
       "      <td>Skye, Mrs Mathison</td>\n",
       "      <td>2069</td>\n",
       "      <td>T348</td>\n",
       "      <td>Feminine</td>\n",
       "      <td>2</td>\n",
       "      <td>Person-Name</td>\n",
       "      <td>None</td>\n",
       "      <td>34507</td>\n",
       "      <td>34525</td>\n",
       "    </tr>\n",
       "    <tr>\n",
       "      <th>2125</th>\n",
       "      <td>Coll-1036_00400.ann</td>\n",
       "      <td>(43949, 43973)</td>\n",
       "      <td>Fraser, Marjory Kennedy-</td>\n",
       "      <td>2179</td>\n",
       "      <td>T458</td>\n",
       "      <td>Feminine</td>\n",
       "      <td>2</td>\n",
       "      <td>Person-Name</td>\n",
       "      <td>None</td>\n",
       "      <td>43949</td>\n",
       "      <td>43973</td>\n",
       "    </tr>\n",
       "    <tr>\n",
       "      <th>2563</th>\n",
       "      <td>Coll-1036_00400.ann</td>\n",
       "      <td>(102334, 102356)</td>\n",
       "      <td>Marjory Kennedy-Fraser</td>\n",
       "      <td>2647</td>\n",
       "      <td>T926</td>\n",
       "      <td>Feminine</td>\n",
       "      <td>2</td>\n",
       "      <td>Person-Name</td>\n",
       "      <td>None</td>\n",
       "      <td>102334</td>\n",
       "      <td>102356</td>\n",
       "    </tr>\n",
       "    <tr>\n",
       "      <th>18814</th>\n",
       "      <td>Coll-1434_20700.ann</td>\n",
       "      <td>(4017, 4020)</td>\n",
       "      <td>J.G</td>\n",
       "      <td>19144</td>\n",
       "      <td>T24</td>\n",
       "      <td>Feminine</td>\n",
       "      <td>2</td>\n",
       "      <td>Person-Name</td>\n",
       "      <td>None</td>\n",
       "      <td>4017</td>\n",
       "      <td>4020</td>\n",
       "    </tr>\n",
       "  </tbody>\n",
       "</table>\n",
       "</div>"
      ],
      "text/plain": [
       "                      file           offsets                      text     id  \\\n",
       "1803   Coll-1036_00400.ann    (13481, 13496)           Marjory Kennedy   1845   \n",
       "2020   Coll-1036_00400.ann    (34507, 34525)        Skye, Mrs Mathison   2069   \n",
       "2125   Coll-1036_00400.ann    (43949, 43973)  Fraser, Marjory Kennedy-   2179   \n",
       "2563   Coll-1036_00400.ann  (102334, 102356)    Marjory Kennedy-Fraser   2647   \n",
       "18814  Coll-1434_20700.ann      (4017, 4020)                       J.G  19144   \n",
       "\n",
       "      entity     label annotator     category remove   start     end  \n",
       "1803    T124  Feminine         2  Person-Name   None   13481   13496  \n",
       "2020    T348  Feminine         2  Person-Name   None   34507   34525  \n",
       "2125    T458  Feminine         2  Person-Name   None   43949   43973  \n",
       "2563    T926  Feminine         2  Person-Name   None  102334  102356  \n",
       "18814    T24  Feminine         2  Person-Name   None    4017    4020  "
      ]
     },
     "execution_count": 308,
     "metadata": {},
     "output_type": "execute_result"
    }
   ],
   "source": [
    "# Clean up annotator columns so values are all a single digit string\n",
    "for_merged.replace(\"Annotator 0\", \"0\", inplace=True)\n",
    "for_merged.replace(\"Annotator 2\", \"2\", inplace=True)\n",
    "for_merged.tail()"
   ]
  },
  {
   "cell_type": "code",
   "execution_count": 309,
   "metadata": {},
   "outputs": [
    {
     "data": {
      "text/plain": [
       "(2111, 11)"
      ]
     },
     "execution_count": 309,
     "metadata": {},
     "output_type": "execute_result"
    }
   ],
   "source": [
    "# Add the new rows with rows already added and write them to a CSV file for safe-keeping\n",
    "already_added = pd.read_csv(\"overlaps_for_merged.csv\", index_col=0)\n",
    "already_added.shape  # Looks good"
   ]
  },
  {
   "cell_type": "code",
   "execution_count": 310,
   "metadata": {},
   "outputs": [
    {
     "data": {
      "text/plain": [
       "(2258, 11)"
      ]
     },
     "execution_count": 310,
     "metadata": {},
     "output_type": "execute_result"
    }
   ],
   "source": [
    "to_merge = already_added.append(for_merged)\n",
    "to_merge.shape  # Looks good"
   ]
  },
  {
   "cell_type": "code",
   "execution_count": 311,
   "metadata": {},
   "outputs": [],
   "source": [
    "to_merge.to_csv(\"overlaps_for_merged.csv\")"
   ]
  },
  {
   "cell_type": "markdown",
   "metadata": {},
   "source": [
    "##### Masculine\n",
    "Among annotators 0 and 2"
   ]
  },
  {
   "cell_type": "code",
   "execution_count": 312,
   "metadata": {},
   "outputs": [],
   "source": [
    "# ['.ipynb_checkpoints', 'ann0_agreement2_UnknownFeminineMasculine.csv', 'ann2_agreement0_UnknownFeminineMasculine.csv', 'ann0_agreement12_GenderedRole.csv', 'ann1_agreement02_GenderedRole.csv', 'ann2_agreement01_GenderedRole.csv', 'ann0_agreement12_Generalization.csv', 'ann1_agreement02_Generalization.csv', 'ann2_agreement01_Generalization.csv', 'ann0_agreement12_GenderedPronoun.csv', 'ann1_agreement02_GenderedPronoun.csv', 'ann2_agreement01_GenderedPronoun.csv', 'ann0_agreement34_Stereotype.csv', 'ann3_agreement04_Stereotype.csv', 'ann4_agreement03_Stereotype.csv', 'ann0_agreement34_Omission.csv', 'ann3_agreement04_Omission.csv', 'ann4_agreement03_Omission.csv', 'ann0_agreement34_Occupation.csv', 'ann3_agreement04_Occupation.csv', 'ann4_agreement03_Occupation.csv']\n",
    "labelname = \"Masculine\"\n",
    "df0 = pd.read_csv(\"Agreements/ann0_agreement2_UnknownFeminineMasculine.csv\",index_col=0)\n",
    "df0 = getOverlaps(df0, labelname)\n",
    "df2 = pd.read_csv('Agreements/ann2_agreement0_UnknownFeminineMasculine.csv',index_col=0)\n",
    "df2 = getOverlaps(df2, labelname)"
   ]
  },
  {
   "cell_type": "code",
   "execution_count": 313,
   "metadata": {},
   "outputs": [
    {
     "data": {
      "text/plain": [
       "(69, 11)"
      ]
     },
     "execution_count": 313,
     "metadata": {},
     "output_type": "execute_result"
    }
   ],
   "source": [
    "for_merged = getRowsToAdd(df0, df2)\n",
    "for_merged = for_merged.append(getRowsToAdd(df2, df0))\n",
    "for_merged.shape"
   ]
  },
  {
   "cell_type": "code",
   "execution_count": 314,
   "metadata": {},
   "outputs": [
    {
     "data": {
      "text/html": [
       "<div>\n",
       "<style scoped>\n",
       "    .dataframe tbody tr th:only-of-type {\n",
       "        vertical-align: middle;\n",
       "    }\n",
       "\n",
       "    .dataframe tbody tr th {\n",
       "        vertical-align: top;\n",
       "    }\n",
       "\n",
       "    .dataframe thead th {\n",
       "        text-align: right;\n",
       "    }\n",
       "</style>\n",
       "<table border=\"1\" class=\"dataframe\">\n",
       "  <thead>\n",
       "    <tr style=\"text-align: right;\">\n",
       "      <th></th>\n",
       "      <th>file</th>\n",
       "      <th>offsets</th>\n",
       "      <th>text</th>\n",
       "      <th>id</th>\n",
       "      <th>entity</th>\n",
       "      <th>label</th>\n",
       "      <th>annotator</th>\n",
       "      <th>category</th>\n",
       "      <th>remove</th>\n",
       "      <th>start</th>\n",
       "      <th>end</th>\n",
       "    </tr>\n",
       "  </thead>\n",
       "  <tbody>\n",
       "    <tr>\n",
       "      <th>4041</th>\n",
       "      <td>Coll-1036_00500.ann</td>\n",
       "      <td>(4036, 4052)</td>\n",
       "      <td>Kennedy, Robert,</td>\n",
       "      <td>4196</td>\n",
       "      <td>T42</td>\n",
       "      <td>Masculine</td>\n",
       "      <td>2</td>\n",
       "      <td>Person-Name</td>\n",
       "      <td>None</td>\n",
       "      <td>4036</td>\n",
       "      <td>4052</td>\n",
       "    </tr>\n",
       "    <tr>\n",
       "      <th>3403</th>\n",
       "      <td>Coll-1057_00300.ann</td>\n",
       "      <td>(644, 648)</td>\n",
       "      <td>Alan</td>\n",
       "      <td>3527</td>\n",
       "      <td>T6</td>\n",
       "      <td>Masculine</td>\n",
       "      <td>2</td>\n",
       "      <td>Person-Name</td>\n",
       "      <td>None</td>\n",
       "      <td>644</td>\n",
       "      <td>648</td>\n",
       "    </tr>\n",
       "    <tr>\n",
       "      <th>3404</th>\n",
       "      <td>Coll-1057_00300.ann</td>\n",
       "      <td>(659, 662)</td>\n",
       "      <td>Ken</td>\n",
       "      <td>3528</td>\n",
       "      <td>T7</td>\n",
       "      <td>Masculine</td>\n",
       "      <td>2</td>\n",
       "      <td>Person-Name</td>\n",
       "      <td>None</td>\n",
       "      <td>659</td>\n",
       "      <td>662</td>\n",
       "    </tr>\n",
       "    <tr>\n",
       "      <th>18941</th>\n",
       "      <td>Coll-1438_00100.ann</td>\n",
       "      <td>(4065, 4075)</td>\n",
       "      <td>Henderson'</td>\n",
       "      <td>19272</td>\n",
       "      <td>T79</td>\n",
       "      <td>Masculine</td>\n",
       "      <td>2</td>\n",
       "      <td>Person-Name</td>\n",
       "      <td>None</td>\n",
       "      <td>4065</td>\n",
       "      <td>4075</td>\n",
       "    </tr>\n",
       "    <tr>\n",
       "      <th>18770</th>\n",
       "      <td>Coll-1434_20500.ann</td>\n",
       "      <td>(2199, 2205)</td>\n",
       "      <td>Oarlot</td>\n",
       "      <td>19098</td>\n",
       "      <td>T14</td>\n",
       "      <td>Masculine</td>\n",
       "      <td>2</td>\n",
       "      <td>Person-Name</td>\n",
       "      <td>None</td>\n",
       "      <td>2199</td>\n",
       "      <td>2205</td>\n",
       "    </tr>\n",
       "  </tbody>\n",
       "</table>\n",
       "</div>"
      ],
      "text/plain": [
       "                      file       offsets              text     id entity  \\\n",
       "4041   Coll-1036_00500.ann  (4036, 4052)  Kennedy, Robert,   4196    T42   \n",
       "3403   Coll-1057_00300.ann    (644, 648)              Alan   3527     T6   \n",
       "3404   Coll-1057_00300.ann    (659, 662)               Ken   3528     T7   \n",
       "18941  Coll-1438_00100.ann  (4065, 4075)        Henderson'  19272    T79   \n",
       "18770  Coll-1434_20500.ann  (2199, 2205)            Oarlot  19098    T14   \n",
       "\n",
       "           label annotator     category remove  start   end  \n",
       "4041   Masculine         2  Person-Name   None   4036  4052  \n",
       "3403   Masculine         2  Person-Name   None    644   648  \n",
       "3404   Masculine         2  Person-Name   None    659   662  \n",
       "18941  Masculine         2  Person-Name   None   4065  4075  \n",
       "18770  Masculine         2  Person-Name   None   2199  2205  "
      ]
     },
     "execution_count": 314,
     "metadata": {},
     "output_type": "execute_result"
    }
   ],
   "source": [
    "# Clean up annotator columns so values are all a single digit string\n",
    "for_merged.replace(\"Annotator 0\", \"0\", inplace=True)\n",
    "for_merged.replace(\"Annotator 2\", \"2\", inplace=True)\n",
    "for_merged.tail()"
   ]
  },
  {
   "cell_type": "code",
   "execution_count": 315,
   "metadata": {},
   "outputs": [
    {
     "data": {
      "text/plain": [
       "(2258, 11)"
      ]
     },
     "execution_count": 315,
     "metadata": {},
     "output_type": "execute_result"
    }
   ],
   "source": [
    "# Add the new rows with rows already added and write them to a CSV file for safe-keeping\n",
    "already_added = pd.read_csv(\"overlaps_for_merged.csv\", index_col=0)\n",
    "already_added.shape  # Looks good"
   ]
  },
  {
   "cell_type": "code",
   "execution_count": 316,
   "metadata": {},
   "outputs": [
    {
     "data": {
      "text/plain": [
       "(2327, 11)"
      ]
     },
     "execution_count": 316,
     "metadata": {},
     "output_type": "execute_result"
    }
   ],
   "source": [
    "to_merge = already_added.append(for_merged)\n",
    "to_merge.shape  # Looks good"
   ]
  },
  {
   "cell_type": "code",
   "execution_count": 317,
   "metadata": {},
   "outputs": [],
   "source": [
    "to_merge.to_csv(\"overlaps_for_merged.csv\")"
   ]
  },
  {
   "cell_type": "markdown",
   "metadata": {},
   "source": [
    "#### Remove reviewed rows"
   ]
  },
  {
   "cell_type": "markdown",
   "metadata": {},
   "source": [
    "Record which rows have been reviewed because they have matches or overlaps, and can thus be removed from the annotator's DataFrames.  Use the unique IDs for each annotator's annotation to determine which rows to remove, one annotator at a time."
   ]
  },
  {
   "cell_type": "code",
   "execution_count": 49,
   "metadata": {},
   "outputs": [],
   "source": [
    "contextual_labels = [\"Occupation\",\"Omission\",\"Stereotype\"]\n",
    "linguistic_labels = [\"Gendered-Role\",\"Generalization\",\"Gendered-Pronoun\"]\n",
    "\n",
    "def getMatchAndOverlapRows(labels_list,agmt_cols,files):\n",
    "    df1 = pd.DataFrame()\n",
    "    i = 1\n",
    "    while i < 3:\n",
    "        df = pd.read_csv(files[i], index_col=0)\n",
    "        df = df.loc[df.label == labels_list[(i)]]\n",
    "        df = df.loc[df[agmt_cols[0]].isin([\"Overlap\",\"Match\"])]\n",
    "        df = df.loc[df[agmt_cols[1]].isin([\"Overlap\",\"Match\"])]\n",
    "        df1 = df1.append(df)\n",
    "        i += 1\n",
    "    matches_or_overlaps = df1[['file', 'offsets', 'text', 'id', 'entity', 'label', 'annotator', 'category', 'remove', 'start', 'end']]\n",
    "    assert len(set(matches_or_overlaps.id)) == len(list(matches_or_overlaps.id)), \"Each IDs should be unique\"\n",
    "    return matches_or_overlaps"
   ]
  },
  {
   "cell_type": "markdown",
   "metadata": {},
   "source": [
    "##### Annotator 0"
   ]
  },
  {
   "cell_type": "code",
   "execution_count": 53,
   "metadata": {},
   "outputs": [],
   "source": [
    "# Get all annotator 0's matched or overlapped annotations for the Person-Name and Linguistic categories of labels\n",
    "files0 = ['Agreements/ann0_agreement2_UnknownFeminineMasculine.csv', 'Agreements/ann0_agreement12_GenderedRole.csv',\n",
    "          'Agreements/ann0_agreement12_Generalization.csv','Agreements/ann0_agreement12_GenderedPronoun.csv']\n",
    "# Get only the Person-Name and Linguistic Rows with agreements recorded for them (matches or overlaps)\n",
    "# df0p = pd.read_csv(files0[0], index_col=0)\n",
    "# df0p = df0p.loc[df0p.category == \"Person-Name\"]\n",
    "# df0p = df0p.loc[df0p.agreement_2.isin([\"Overlap\",\"Match\"])]\n",
    "# df0p.tail(10) # Looks good\n",
    "\n",
    "labels_list = linguistic_labels\n",
    "df0l = pd.DataFrame()\n",
    "i = 1\n",
    "while i < 4:\n",
    "    df0l_i = pd.read_csv(files0[i], index_col=0)\n",
    "    df0l_i = df0l_i.loc[df0l_i.label == labels_list[(i-1)]]\n",
    "#     df0l_i = df0l_i.loc[df0l_i.agreement_2.isin([\"Overlap\",\"Match\"])]\n",
    "    df0l_i = df0l_i.loc[df0l_i.agreement_1.isin([\"Overlap\",\"Match\"])]\n",
    "    df0l = df0l.append(df0l_i)\n",
    "    i += 1\n",
    "# df0l.tail(20)  # Looks good\n",
    "\n",
    "# df0p = df0p[['file', 'offsets', 'text', 'id', 'entity', 'label', 'annotator', 'category', 'remove', 'start', 'end']]\n",
    "# df0l = \n",
    "matches_or_overlaps0PL = df0l[['file', 'offsets', 'text', 'id', 'entity', 'label', 'annotator', 'category', 'remove', 'start', 'end']]\n",
    "# matches_or_overlaps0PL = df0p.append(df0l)\n",
    "assert len(set(matches_or_overlaps0PL.id)) == len(list(matches_or_overlaps0PL.id)), \"Each IDs should be unique\""
   ]
  },
  {
   "cell_type": "code",
   "execution_count": 56,
   "metadata": {},
   "outputs": [
    {
     "name": "stdout",
     "output_type": "stream",
     "text": [
      "(15587, 10)\n",
      "(11935, 10)\n"
     ]
    }
   ],
   "source": [
    "# Remove the matched or overlapped annotations from annotator 0's Person-Name and Linguistic annotation data\n",
    "indeces_to_remove = list(matches_or_overlaps0PL.index)\n",
    "# print(indeces_to_remove)  # Looks good\n",
    "ann0PL = pd.read_csv(\"labels0PL.csv\")\n",
    "remaining_i = list(ann0PL.index)\n",
    "i_to_drop = [i for i in indeces_to_remove if i in remaining_i]\n",
    "# print(i_to_drop)\n",
    "print(ann0PL.shape)\n",
    "ann0PL = ann0PL.drop(index=i_to_drop)  #indeces_to_remove\n",
    "print(ann0PL.shape)\n",
    "# (21794, 9)\n",
    "# (15587, 9)  # After removing overlaps and agreements with annotator 2"
   ]
  },
  {
   "cell_type": "code",
   "execution_count": 57,
   "metadata": {},
   "outputs": [],
   "source": [
    "# Update the annotator 0 data file\n",
    "ann0PL.to_csv(\"labels0PL.csv\")\n",
    "# Write the agreed upon annotations to a file for annotator 0 (rows that overlapped or matched with data from annotators 1 or 2)\n",
    "# matches_or_overlaps0PL.to_csv(\"labels0PL_agreed2.csv\")\n",
    "matches_or_overlaps0PL.to_csv(\"labels0PL_agreed1.csv\")"
   ]
  },
  {
   "cell_type": "code",
   "execution_count": 36,
   "metadata": {},
   "outputs": [],
   "source": [
    "# Get all annotator 0's matched or overlapped annotations for the Contextual categories of labels\n",
    "files0 = ['Agreements/ann0_agreement34_Occupation.csv', 'Agreements/ann0_agreement34_Omission.csv',\n",
    "          'Agreements/ann0_agreement34_Stereotype.csv']\n",
    "\n",
    "labels_list = contextual_labels\n",
    "agmt_cols = [\"agreement_3\", \"agreement_4\"]\n",
    "matches_or_overlaps0C = getMatchAndOverlapRows(labels_list,agmt_cols,files0)"
   ]
  },
  {
   "cell_type": "code",
   "execution_count": 37,
   "metadata": {},
   "outputs": [
    {
     "name": "stdout",
     "output_type": "stream",
     "text": [
      "(6157, 9)\n",
      "(5973, 9)\n"
     ]
    }
   ],
   "source": [
    "# Remove the matched or overlapped annotations from annotator 0's Person-Name and Linguistic annotation data\n",
    "indeces_to_remove = list(matches_or_overlaps0C.index)\n",
    "ann0C = pd.read_csv(\"labels0C.csv\")\n",
    "print(ann0C.shape)\n",
    "ann0C = ann0C.drop(index=indeces_to_remove)\n",
    "print(ann0C.shape)"
   ]
  },
  {
   "cell_type": "code",
   "execution_count": 38,
   "metadata": {},
   "outputs": [],
   "source": [
    "# Update the annotator 0 data file\n",
    "ann0C.to_csv(\"labels0C.csv\")\n",
    "# Write the agreed upon annotations to a file for annotator 0 (rows that overlapped or matched with data from anns 3 or 4)\n",
    "matches_or_overlaps0C.to_csv(\"labels0C_agreed.csv\")"
   ]
  },
  {
   "cell_type": "markdown",
   "metadata": {},
   "source": [
    "##### Annotator 1"
   ]
  },
  {
   "cell_type": "code",
   "execution_count": 50,
   "metadata": {},
   "outputs": [],
   "source": [
    "# Get all annotator 1's matched or overlapped annotations for the Contextual categories of labels\n",
    "files1 = ['Agreements/ann1_agreement02_GenderedRole.csv', 'Agreements/ann1_agreement02_Generalization.csv',\n",
    "          'Agreements/ann1_agreement02_GenderedPronoun.csv']\n",
    "labels_list = linguistic_labels\n",
    "agmt_cols = [\"agreement_0\", \"agreement_2\"]\n",
    "matches_or_overlaps1 = getMatchAndOverlapRows(labels_list,agmt_cols,files1)"
   ]
  },
  {
   "cell_type": "code",
   "execution_count": 51,
   "metadata": {},
   "outputs": [
    {
     "name": "stdout",
     "output_type": "stream",
     "text": [
      "(16515, 10)\n",
      "(15999, 10)\n"
     ]
    }
   ],
   "source": [
    "# Remove the matched or overlapped annotations from annotator 1's Person-Name and Linguistic annotation data\n",
    "indeces_to_remove = list(matches_or_overlaps1.index)\n",
    "ann1 = pd.read_csv(\"labels1.csv\")\n",
    "print(ann1.shape)\n",
    "ann1 = ann1.drop(index=indeces_to_remove)\n",
    "print(ann1.shape)"
   ]
  },
  {
   "cell_type": "code",
   "execution_count": 52,
   "metadata": {},
   "outputs": [],
   "source": [
    "# Update the annotator 1 data file\n",
    "ann1.to_csv(\"labels1.csv\")\n",
    "# Write the agreed upon annotations to a file for annotator 1\n",
    "matches_or_overlaps1.to_csv(\"labels1_agreed.csv\")"
   ]
  },
  {
   "cell_type": "markdown",
   "metadata": {},
   "source": [
    "##### Annotator 2"
   ]
  },
  {
   "cell_type": "code",
   "execution_count": 61,
   "metadata": {},
   "outputs": [],
   "source": [
    "# Get all annotator 2's matched or overlapped annotations\n",
    "files2 = ['Agreements/ann2_agreement0_UnknownFeminineMasculine.csv', 'Agreements/ann2_agreement01_GenderedRole.csv',\n",
    "           'Agreements/ann2_agreement01_Generalization.csv', 'Agreements/ann2_agreement01_GenderedPronoun.csv']\n",
    "\n",
    "# Get only the Person-Name and Linguistic Rows with agreements recorded for them (matches or overlaps)\n",
    "df2p = pd.read_csv(files2[0], index_col=0)\n",
    "df2p = df2p.loc[df2p.category == \"Person-Name\"]\n",
    "df2p = df2p.loc[df2p.agreement_0.isin([\"Overlap\",\"Match\"])]\n",
    "# df2p.tail(10) # Looks good\n",
    "\n",
    "labels_list = linguistic_labels\n",
    "df2l = pd.DataFrame()\n",
    "i = 1\n",
    "while i < 4:\n",
    "    df2l_i = pd.read_csv(files2[i], index_col=0)\n",
    "    df2l_i = df2l_i.loc[df2l_i.label == labels_list[(i-1)]]\n",
    "    df2l_i = df2l_i.loc[df2l_i.agreement_0.isin([\"Overlap\",\"Match\"])]\n",
    "    df2l_i = df2l_i.loc[df2l_i.agreement_1.isin([\"Overlap\",\"Match\"])]\n",
    "    df2l = df2l.append(df2l_i)\n",
    "    i += 1\n",
    "\n",
    "# df2p = df2p[['file', 'offsets', 'text', 'id', 'entity', 'label', 'annotator', 'category', 'remove', 'start', 'end']]\n",
    "# df2l = df2l[['file', 'offsets', 'text', 'id', 'entity', 'label', 'annotator', 'category', 'remove', 'start', 'end']]\n",
    "matches_or_overlaps2 = df2p.append(df2l)\n",
    "assert len(set(matches_or_overlaps2.id)) == len(list(matches_or_overlaps2.id)), \"Each IDs should be unique\""
   ]
  },
  {
   "cell_type": "code",
   "execution_count": 62,
   "metadata": {},
   "outputs": [
    {
     "name": "stdout",
     "output_type": "stream",
     "text": [
      "(19532, 9)\n",
      "(14384, 9)\n"
     ]
    }
   ],
   "source": [
    "# Remove the matched or overlapped annotations from annotator 2's Person-Name and Linguistic annotation data\n",
    "indeces_to_remove = list(matches_or_overlaps2.index)\n",
    "ann2 = pd.read_csv(\"labels2.csv\")\n",
    "print(ann2.shape)\n",
    "ann2 = ann2.drop(index=indeces_to_remove)\n",
    "print(ann2.shape)"
   ]
  },
  {
   "cell_type": "code",
   "execution_count": 63,
   "metadata": {},
   "outputs": [],
   "source": [
    "# Update the annotator 2 data file\n",
    "ann2.to_csv(\"labels2.csv\")\n",
    "# Write the agreed upon annotations to a file for annotator 2\n",
    "matches_or_overlaps2.to_csv(\"labels2_agreed.csv\")"
   ]
  },
  {
   "cell_type": "markdown",
   "metadata": {},
   "source": [
    "##### Annotator 3"
   ]
  },
  {
   "cell_type": "code",
   "execution_count": 64,
   "metadata": {},
   "outputs": [],
   "source": [
    "# Get all annotator 3's matched or overlapped annotations for the Contextual categories of labels\n",
    "files = ['Agreements/ann3_agreement04_Occupation.csv', 'Agreements/ann3_agreement04_Omission.csv',\n",
    "          'Agreements/ann3_agreement04_Stereotype.csv']\n",
    "labels_list = contextual_labels\n",
    "agmt_cols = [\"agreement_0\", \"agreement_4\"]\n",
    "matches_or_overlaps = getMatchAndOverlapRows(labels_list,agmt_cols,files)"
   ]
  },
  {
   "cell_type": "code",
   "execution_count": 65,
   "metadata": {},
   "outputs": [
    {
     "name": "stdout",
     "output_type": "stream",
     "text": [
      "(2767, 9)\n",
      "(2585, 9)\n"
     ]
    }
   ],
   "source": [
    "# Remove the matched or overlapped annotations from annotator 3's annotation data\n",
    "indeces_to_remove = list(matches_or_overlaps.index)\n",
    "ann = pd.read_csv(\"labels3.csv\")\n",
    "print(ann.shape)\n",
    "ann = ann.drop(index=indeces_to_remove)\n",
    "print(ann.shape)"
   ]
  },
  {
   "cell_type": "code",
   "execution_count": 66,
   "metadata": {},
   "outputs": [],
   "source": [
    "# Update the annotator 3 data file\n",
    "ann.to_csv(\"labels3.csv\")\n",
    "# Write the agreed upon annotations to a file for annotator 3\n",
    "matches_or_overlaps.to_csv(\"labels3_agreed.csv\")"
   ]
  },
  {
   "cell_type": "markdown",
   "metadata": {},
   "source": [
    "##### Annotator 4"
   ]
  },
  {
   "cell_type": "code",
   "execution_count": 67,
   "metadata": {},
   "outputs": [],
   "source": [
    "# Get all annotator 4's matched or overlapped annotations for the Contextual categories of labels\n",
    "files = ['Agreements/ann4_agreement03_Occupation.csv', 'Agreements/ann4_agreement03_Omission.csv',\n",
    "          'Agreements/ann4_agreement03_Stereotype.csv']\n",
    "labels_list = contextual_labels\n",
    "agmt_cols = [\"agreement_0\", \"agreement_3\"]\n",
    "matches_or_overlaps = getMatchAndOverlapRows(labels_list,agmt_cols,files)"
   ]
  },
  {
   "cell_type": "code",
   "execution_count": 68,
   "metadata": {},
   "outputs": [
    {
     "name": "stdout",
     "output_type": "stream",
     "text": [
      "(2360, 9)\n",
      "(2176, 9)\n"
     ]
    }
   ],
   "source": [
    "# Remove the matched or overlapped annotations from annotator 3's annotation data\n",
    "indeces_to_remove = list(matches_or_overlaps.index)\n",
    "ann = pd.read_csv(\"labels4.csv\")\n",
    "print(ann.shape)\n",
    "ann = ann.drop(index=indeces_to_remove)\n",
    "print(ann.shape)"
   ]
  },
  {
   "cell_type": "code",
   "execution_count": 69,
   "metadata": {},
   "outputs": [],
   "source": [
    "# Update the annotator 3 data file\n",
    "ann.to_csv(\"labels4.csv\")\n",
    "# Write the agreed upon annotations to a file for annotator 3\n",
    "matches_or_overlaps.to_csv(\"labels4_agreed.csv\")"
   ]
  },
  {
   "cell_type": "markdown",
   "metadata": {},
   "source": [
    "<a id=\"g-r\"></a>\n",
    "#### REMAINING STEPS"
   ]
  },
  {
   "cell_type": "code",
   "execution_count": 7,
   "metadata": {},
   "outputs": [
    {
     "name": "stdout",
     "output_type": "stream",
     "text": [
      "(1696, 8)\n",
      "(290, 8)\n",
      "(66479, 8)\n"
     ]
    },
    {
     "data": {
      "text/html": [
       "<div>\n",
       "<style scoped>\n",
       "    .dataframe tbody tr th:only-of-type {\n",
       "        vertical-align: middle;\n",
       "    }\n",
       "\n",
       "    .dataframe tbody tr th {\n",
       "        vertical-align: top;\n",
       "    }\n",
       "\n",
       "    .dataframe thead th {\n",
       "        text-align: right;\n",
       "    }\n",
       "</style>\n",
       "<table border=\"1\" class=\"dataframe\">\n",
       "  <thead>\n",
       "    <tr style=\"text-align: right;\">\n",
       "      <th></th>\n",
       "      <th>file</th>\n",
       "      <th>offsets</th>\n",
       "      <th>text</th>\n",
       "      <th>id</th>\n",
       "      <th>entity</th>\n",
       "      <th>label</th>\n",
       "      <th>annotator</th>\n",
       "      <th>category</th>\n",
       "    </tr>\n",
       "  </thead>\n",
       "  <tbody>\n",
       "    <tr>\n",
       "      <th>0</th>\n",
       "      <td>Coll-1434_11900.ann</td>\n",
       "      <td>(1954, 1957)</td>\n",
       "      <td>his</td>\n",
       "      <td>22593</td>\n",
       "      <td>T1</td>\n",
       "      <td>Generalization</td>\n",
       "      <td>0</td>\n",
       "      <td>Linguistic</td>\n",
       "    </tr>\n",
       "    <tr>\n",
       "      <th>1</th>\n",
       "      <td>Coll-1397_00100.ann</td>\n",
       "      <td>(2633, 2638)</td>\n",
       "      <td>Lords</td>\n",
       "      <td>29349</td>\n",
       "      <td>T58</td>\n",
       "      <td>Generalization</td>\n",
       "      <td>0</td>\n",
       "      <td>Linguistic</td>\n",
       "    </tr>\n",
       "    <tr>\n",
       "      <th>2</th>\n",
       "      <td>Coll-1310_00800.ann</td>\n",
       "      <td>(3703, 3706)</td>\n",
       "      <td>Man</td>\n",
       "      <td>15451</td>\n",
       "      <td>T54</td>\n",
       "      <td>Generalization</td>\n",
       "      <td>0</td>\n",
       "      <td>Linguistic</td>\n",
       "    </tr>\n",
       "    <tr>\n",
       "      <th>3</th>\n",
       "      <td>Coll-1434_14500.ann</td>\n",
       "      <td>(5782, 5788)</td>\n",
       "      <td>cowboy</td>\n",
       "      <td>8005</td>\n",
       "      <td>T76</td>\n",
       "      <td>Generalization</td>\n",
       "      <td>0</td>\n",
       "      <td>Linguistic</td>\n",
       "    </tr>\n",
       "    <tr>\n",
       "      <th>4</th>\n",
       "      <td>BAI_02300.ann</td>\n",
       "      <td>(1586, 1596)</td>\n",
       "      <td>shipmaster</td>\n",
       "      <td>20810</td>\n",
       "      <td>T53</td>\n",
       "      <td>Generalization</td>\n",
       "      <td>0</td>\n",
       "      <td>Linguistic</td>\n",
       "    </tr>\n",
       "  </tbody>\n",
       "</table>\n",
       "</div>"
      ],
      "text/plain": [
       "                  file       offsets        text     id entity  \\\n",
       "0  Coll-1434_11900.ann  (1954, 1957)         his  22593     T1   \n",
       "1  Coll-1397_00100.ann  (2633, 2638)       Lords  29349    T58   \n",
       "2  Coll-1310_00800.ann  (3703, 3706)         Man  15451    T54   \n",
       "3  Coll-1434_14500.ann  (5782, 5788)      cowboy   8005    T76   \n",
       "4        BAI_02300.ann  (1586, 1596)  shipmaster  20810    T53   \n",
       "\n",
       "            label annotator    category  \n",
       "0  Generalization         0  Linguistic  \n",
       "1  Generalization         0  Linguistic  \n",
       "2  Generalization         0  Linguistic  \n",
       "3  Generalization         0  Linguistic  \n",
       "4  Generalization         0  Linguistic  "
      ]
     },
     "execution_count": 7,
     "metadata": {},
     "output_type": "execute_result"
    }
   ],
   "source": [
    "# 5. For any files annotator 1 didn't label, add all annotator 0's `Gendered-Role` labels. \n",
    "merged = pd.read_csv(\"merged.csv\",index_col=0)  # Contains disagreements + GP and O + matched\n",
    "merged = merged.astype({'file':str, 'offsets':str,'text':str, 'id':int, 'entity':str, 'label':str, 'annotator':int, 'category':str})\n",
    "merged = merged.drop_duplicates()\n",
    "# # 5. For any files annotator 1 didn't label, add all annotator 0's Gendered-Role labels. \n",
    "ann0 = pd.read_csv(\"labels0PL.csv\",index_col=0)\n",
    "ann0 = ann0[['file', 'offsets','text', 'id', 'entity', 'label', 'annotator', 'category']]  # align with merged's columns\n",
    "ann1 = pd.read_csv(\"labels1.csv\",index_col=0)\n",
    "ann1 = ann1[['file', 'offsets','text', 'id', 'entity', 'label', 'annotator', 'category']]\n",
    "ann0_gr = ann0.loc[ann0.label == \"Gendered-Role\"]\n",
    "ann1_gr = ann1.loc[ann1.label == \"Gendered-Role\"]\n",
    "common01 = findCommonFiles(ann0_gr, ann1_gr)\n",
    "to_drop = list((ann0_gr.loc[ann0_gr.file.isin(common01)]).index)\n",
    "print(ann0_gr.shape)\n",
    "ann0_gr = ann0_gr.drop(index=to_drop)\n",
    "print(ann0_gr.shape)\n",
    "ann0_gr = useAnnotatorNumber(ann0_gr)\n",
    "merged = merged.append(ann0_gr)\n",
    "print(merged.shape)\n",
    "merged.head()"
   ]
  },
  {
   "cell_type": "code",
   "execution_count": 8,
   "metadata": {},
   "outputs": [
    {
     "name": "stdout",
     "output_type": "stream",
     "text": [
      "(1622, 8)\n",
      "(981, 8)\n",
      "(67460, 8)\n"
     ]
    },
    {
     "data": {
      "text/html": [
       "<div>\n",
       "<style scoped>\n",
       "    .dataframe tbody tr th:only-of-type {\n",
       "        vertical-align: middle;\n",
       "    }\n",
       "\n",
       "    .dataframe tbody tr th {\n",
       "        vertical-align: top;\n",
       "    }\n",
       "\n",
       "    .dataframe thead th {\n",
       "        text-align: right;\n",
       "    }\n",
       "</style>\n",
       "<table border=\"1\" class=\"dataframe\">\n",
       "  <thead>\n",
       "    <tr style=\"text-align: right;\">\n",
       "      <th></th>\n",
       "      <th>file</th>\n",
       "      <th>offsets</th>\n",
       "      <th>text</th>\n",
       "      <th>id</th>\n",
       "      <th>entity</th>\n",
       "      <th>label</th>\n",
       "      <th>annotator</th>\n",
       "      <th>category</th>\n",
       "    </tr>\n",
       "  </thead>\n",
       "  <tbody>\n",
       "    <tr>\n",
       "      <th>19397</th>\n",
       "      <td>Coll-1460_00100.ann</td>\n",
       "      <td>(506, 508)</td>\n",
       "      <td>Mr</td>\n",
       "      <td>19760</td>\n",
       "      <td>T0</td>\n",
       "      <td>Gendered-Role</td>\n",
       "      <td>2</td>\n",
       "      <td>Linguistic</td>\n",
       "    </tr>\n",
       "    <tr>\n",
       "      <th>19398</th>\n",
       "      <td>Coll-1460_00100.ann</td>\n",
       "      <td>(911, 915)</td>\n",
       "      <td>Miss</td>\n",
       "      <td>19761</td>\n",
       "      <td>T1</td>\n",
       "      <td>Gendered-Role</td>\n",
       "      <td>2</td>\n",
       "      <td>Linguistic</td>\n",
       "    </tr>\n",
       "    <tr>\n",
       "      <th>19461</th>\n",
       "      <td>Coll-1463_00100.ann</td>\n",
       "      <td>(607, 611)</td>\n",
       "      <td>King</td>\n",
       "      <td>19825</td>\n",
       "      <td>T0</td>\n",
       "      <td>Gendered-Role</td>\n",
       "      <td>2</td>\n",
       "      <td>Linguistic</td>\n",
       "    </tr>\n",
       "    <tr>\n",
       "      <th>19465</th>\n",
       "      <td>Coll-1463_00100.ann</td>\n",
       "      <td>(649, 662)</td>\n",
       "      <td>Prince Regent</td>\n",
       "      <td>19829</td>\n",
       "      <td>T4</td>\n",
       "      <td>Gendered-Role</td>\n",
       "      <td>2</td>\n",
       "      <td>Linguistic</td>\n",
       "    </tr>\n",
       "    <tr>\n",
       "      <th>19470</th>\n",
       "      <td>Coll-1465_00100.ann</td>\n",
       "      <td>(957, 967)</td>\n",
       "      <td>Englishman</td>\n",
       "      <td>19834</td>\n",
       "      <td>T3</td>\n",
       "      <td>Gendered-Role</td>\n",
       "      <td>2</td>\n",
       "      <td>Linguistic</td>\n",
       "    </tr>\n",
       "  </tbody>\n",
       "</table>\n",
       "</div>"
      ],
      "text/plain": [
       "                      file     offsets           text     id entity  \\\n",
       "19397  Coll-1460_00100.ann  (506, 508)             Mr  19760     T0   \n",
       "19398  Coll-1460_00100.ann  (911, 915)           Miss  19761     T1   \n",
       "19461  Coll-1463_00100.ann  (607, 611)           King  19825     T0   \n",
       "19465  Coll-1463_00100.ann  (649, 662)  Prince Regent  19829     T4   \n",
       "19470  Coll-1465_00100.ann  (957, 967)     Englishman  19834     T3   \n",
       "\n",
       "               label annotator    category  \n",
       "19397  Gendered-Role         2  Linguistic  \n",
       "19398  Gendered-Role         2  Linguistic  \n",
       "19461  Gendered-Role         2  Linguistic  \n",
       "19465  Gendered-Role         2  Linguistic  \n",
       "19470  Gendered-Role         2  Linguistic  "
      ]
     },
     "execution_count": 8,
     "metadata": {},
     "output_type": "execute_result"
    }
   ],
   "source": [
    "# 5. (continued) For any files annotator 0 didn't label, add all annotator 2's Gendered-Role labels.\n",
    "ann2 = pd.read_csv(\"labels2.csv\",index_col=0)\n",
    "ann2 = ann2[['file', 'offsets','text', 'id', 'entity', 'label', 'annotator', 'category']]\n",
    "ann0_gr = ann0.loc[ann0.label == \"Gendered-Role\"]\n",
    "ann2_gr = ann2.loc[ann2.label == \"Gendered-Role\"]\n",
    "common02 = findCommonFiles(ann0_gr, ann2_gr)\n",
    "to_drop = list((ann2_gr.loc[ann2_gr.file.isin(common02)]).index)\n",
    "print(ann2_gr.shape)\n",
    "ann2_gr = ann2_gr.drop(index=to_drop)\n",
    "print(ann2_gr.shape)\n",
    "ann2_gr = useAnnotatorNumber(ann2_gr)\n",
    "merged = merged.append(ann2_gr)\n",
    "print(merged.shape)\n",
    "merged.tail()"
   ]
  },
  {
   "cell_type": "code",
   "execution_count": 9,
   "metadata": {},
   "outputs": [
    {
     "name": "stdout",
     "output_type": "stream",
     "text": [
      "(67460, 8)\n",
      "(67817, 8)\n"
     ]
    },
    {
     "data": {
      "text/html": [
       "<div>\n",
       "<style scoped>\n",
       "    .dataframe tbody tr th:only-of-type {\n",
       "        vertical-align: middle;\n",
       "    }\n",
       "\n",
       "    .dataframe tbody tr th {\n",
       "        vertical-align: top;\n",
       "    }\n",
       "\n",
       "    .dataframe thead th {\n",
       "        text-align: right;\n",
       "    }\n",
       "</style>\n",
       "<table border=\"1\" class=\"dataframe\">\n",
       "  <thead>\n",
       "    <tr style=\"text-align: right;\">\n",
       "      <th></th>\n",
       "      <th>file</th>\n",
       "      <th>offsets</th>\n",
       "      <th>text</th>\n",
       "      <th>id</th>\n",
       "      <th>entity</th>\n",
       "      <th>label</th>\n",
       "      <th>annotator</th>\n",
       "      <th>category</th>\n",
       "    </tr>\n",
       "  </thead>\n",
       "  <tbody>\n",
       "    <tr>\n",
       "      <th>19230</th>\n",
       "      <td>Coll-1448_00100.ann</td>\n",
       "      <td>(959, 963)</td>\n",
       "      <td>B.Ed</td>\n",
       "      <td>19584</td>\n",
       "      <td>T22</td>\n",
       "      <td>Generalization</td>\n",
       "      <td>Annotator 2</td>\n",
       "      <td>Linguistic</td>\n",
       "    </tr>\n",
       "    <tr>\n",
       "      <th>19250</th>\n",
       "      <td>Coll-1451_00100.ann</td>\n",
       "      <td>(855, 860)</td>\n",
       "      <td>B.Sc.</td>\n",
       "      <td>19608</td>\n",
       "      <td>T12</td>\n",
       "      <td>Generalization</td>\n",
       "      <td>Annotator 2</td>\n",
       "      <td>Linguistic</td>\n",
       "    </tr>\n",
       "    <tr>\n",
       "      <th>19287</th>\n",
       "      <td>Coll-1453_00100.ann</td>\n",
       "      <td>(1081, 1084)</td>\n",
       "      <td>M.A</td>\n",
       "      <td>19645</td>\n",
       "      <td>T4</td>\n",
       "      <td>Generalization</td>\n",
       "      <td>Annotator 2</td>\n",
       "      <td>Linguistic</td>\n",
       "    </tr>\n",
       "    <tr>\n",
       "      <th>19347</th>\n",
       "      <td>Coll-1455_00100.ann</td>\n",
       "      <td>(1112, 1117)</td>\n",
       "      <td>B.Sc.</td>\n",
       "      <td>19706</td>\n",
       "      <td>T11</td>\n",
       "      <td>Generalization</td>\n",
       "      <td>Annotator 2</td>\n",
       "      <td>Linguistic</td>\n",
       "    </tr>\n",
       "    <tr>\n",
       "      <th>19445</th>\n",
       "      <td>Coll-1462_00100.ann</td>\n",
       "      <td>(729, 739)</td>\n",
       "      <td>countrymen</td>\n",
       "      <td>19808</td>\n",
       "      <td>T23</td>\n",
       "      <td>Generalization</td>\n",
       "      <td>Annotator 2</td>\n",
       "      <td>Linguistic</td>\n",
       "    </tr>\n",
       "  </tbody>\n",
       "</table>\n",
       "</div>"
      ],
      "text/plain": [
       "                      file       offsets        text     id entity  \\\n",
       "19230  Coll-1448_00100.ann    (959, 963)        B.Ed  19584    T22   \n",
       "19250  Coll-1451_00100.ann    (855, 860)       B.Sc.  19608    T12   \n",
       "19287  Coll-1453_00100.ann  (1081, 1084)         M.A  19645     T4   \n",
       "19347  Coll-1455_00100.ann  (1112, 1117)       B.Sc.  19706    T11   \n",
       "19445  Coll-1462_00100.ann    (729, 739)  countrymen  19808    T23   \n",
       "\n",
       "                label    annotator    category  \n",
       "19230  Generalization  Annotator 2  Linguistic  \n",
       "19250  Generalization  Annotator 2  Linguistic  \n",
       "19287  Generalization  Annotator 2  Linguistic  \n",
       "19347  Generalization  Annotator 2  Linguistic  \n",
       "19445  Generalization  Annotator 2  Linguistic  "
      ]
     },
     "execution_count": 9,
     "metadata": {},
     "output_type": "execute_result"
    }
   ],
   "source": [
    "# 6. Add all the remaining Generalization labels to the merged DataFrame. \n",
    "print(merged.shape)\n",
    "anns = [ann0, ann1, ann2]\n",
    "for ann in anns:\n",
    "    ann_g = ann.loc[ann.label == \"Generalization\"]\n",
    "    ann_g.head()\n",
    "    merged = merged.append(ann_g)\n",
    "print(merged.shape)\n",
    "merged.tail()"
   ]
  },
  {
   "cell_type": "code",
   "execution_count": 10,
   "metadata": {},
   "outputs": [
    {
     "name": "stdout",
     "output_type": "stream",
     "text": [
      "{'Scotsman', 'Duchess', 'Yeoman', 'Knight Commander', 'Kirkman', 'heiress', 'Empresses', 'girls', 'boy', 'Sealwoman', 'Baroness', 'girl', 'Cornishman', 'tribesman', 'Fatherless', 'milkman', \"Spearman's\", 'Messrs', 'Shepherdess', 'sportsman', 'cowboys', \"woman's\", 'governesses', 'statesman', 'Tribesman', \"man's\", 'Mitherless', 'authoress', 'Wasp-Woman', 'Grand Duchess', 'managing Director', \"Woman's\", 'cowboy', 'Messrs.', 'Vice-Chairman', 'man', 'warehouseman', 'policeman', 'Heiress', 'schoolboy', 'Husbandman', 'Seal-Woman', 'horsewoman', 'Manageress', 'Englishman', 'clergyman', 'Empress', 'Empress Dowager', 'Woman', 'boys', 'co-chairman', 'land-girls', 'Schoolboys', 'day-girl', 'Seal-woman', 'man-of-war', 'Princess', \"Seal-Woman'\", 'Milkman', 'Messers', 'actress', 'yes-man', 'Shepherdesses', 'chairman', 'Marquess', 'Chairman', 'Knight Commander of the Indian Empire', 'Scotchman', 'Clegyman', 'Gentleman', 'Bardess', 'mess-boy', 'mistress', 'choirboy', 'Knight Commander of the Order of the British Empire', 'woman', 'horesman', 'Cowboy', 'Countess', 'gentleman'}\n"
     ]
    }
   ],
   "source": [
    "# 6. (continued) Change any text spans that end in -ess, -boy, -girl, or -man labeled as Gendered-Role to Generalization.\n",
    "merged_gr = merged.loc[merged.label == \"Gendered-Role\"]\n",
    "merged_gr_text = list(merged_gr.text)\n",
    "to_change = []\n",
    "for t in merged_gr_text:\n",
    "    if (\"ess\" in t) or (\"boy\" in t) or (\"girl\" in t) or (\"man\" in t):\n",
    "        to_change += [t]\n",
    "to_change = set(to_change)\n",
    "print(to_change)"
   ]
  },
  {
   "cell_type": "markdown",
   "metadata": {},
   "source": [
    "Some of these we don't actually want to change, so let's manually edit the set to create our final list of text spans whose label should be Generalization:"
   ]
  },
  {
   "cell_type": "code",
   "execution_count": 11,
   "metadata": {},
   "outputs": [],
   "source": [
    "to_change = ['boys', 'man', 'yes-man', 'clergyman', 'woman', 'girls', 'Chairman', 'Englishman', \"woman's\", 'Tribesman', 'schoolboy', 'actress', 'Duchess', 'Princess', 'Empress Dowager', 'statesman', 'Vice-Chairman', 'cowboys', \"Seal-Woman'\", 'Cornishman', 'horsewoman', 'Shepherdesses', 'Countess', 'Schoolboys', 'Baroness', 'Wasp-Woman', 'heiress', 'Yeoman', 'gentleman', 'Sealwoman', 'horesman', 'Marquess', 'cowboy', 'Manageress', 'chairman', 'boy', 'choirboy', 'co-chairman', 'Empress', 'milkman', 'land-girls', 'mess-boy', 'Scotsman', 'Seal-woman', 'Seal-Woman', 'policeman', 'Clegyman', 'authoress', 'Shepherdess', 'Milkman', 'Heiress', 'Kirkman', 'Empresses', 'day-girl', 'mistress', 'warehouseman', 'Bardess', 'Grand Duchess', 'Cowboy', 'Husbandman', 'sportsman', 'Gentleman', 'tribesman', 'governesses', 'Scotchman']\n",
    "# removed: 'Knight Commander of the Order of the British Empire','Knight Commander of the Indian Empire', 'Mitherless', 'Fatherless', \"Woman's\", 'Messrs','Messers', 'Messrs.', 'Knight Commander', 'man-of-war', 'girl', \"man's\", \"Spearman's\",'managing Director', 'Woman'"
   ]
  },
  {
   "cell_type": "code",
   "execution_count": 12,
   "metadata": {},
   "outputs": [],
   "source": [
    "merged_gr_to_change = merged_gr.loc[merged_gr.text.isin(to_change)]\n",
    "i_to_change = list(merged_gr_to_change.index)\n",
    "for i in i_to_change:\n",
    "    merged.at[i,\"label\"] = \"Generalization\"\n",
    "merged = merged.drop_duplicates(subset=['file', 'offsets', 'text', 'id', 'entity', 'label', 'annotator', 'category'])"
   ]
  },
  {
   "cell_type": "code",
   "execution_count": 13,
   "metadata": {},
   "outputs": [
    {
     "data": {
      "text/html": [
       "<div>\n",
       "<style scoped>\n",
       "    .dataframe tbody tr th:only-of-type {\n",
       "        vertical-align: middle;\n",
       "    }\n",
       "\n",
       "    .dataframe tbody tr th {\n",
       "        vertical-align: top;\n",
       "    }\n",
       "\n",
       "    .dataframe thead th {\n",
       "        text-align: right;\n",
       "    }\n",
       "</style>\n",
       "<table border=\"1\" class=\"dataframe\">\n",
       "  <thead>\n",
       "    <tr style=\"text-align: right;\">\n",
       "      <th></th>\n",
       "      <th>file</th>\n",
       "      <th>offsets</th>\n",
       "      <th>text</th>\n",
       "      <th>id</th>\n",
       "      <th>entity</th>\n",
       "      <th>label</th>\n",
       "      <th>annotator</th>\n",
       "      <th>category</th>\n",
       "    </tr>\n",
       "  </thead>\n",
       "  <tbody>\n",
       "    <tr>\n",
       "      <th>14651</th>\n",
       "      <td>Coll-1383_00600.ann</td>\n",
       "      <td>(5374, 5378)</td>\n",
       "      <td>Lady</td>\n",
       "      <td>19631</td>\n",
       "      <td>T79</td>\n",
       "      <td>Gendered-Role</td>\n",
       "      <td>0</td>\n",
       "      <td>Linguistic</td>\n",
       "    </tr>\n",
       "    <tr>\n",
       "      <th>58746</th>\n",
       "      <td>Coll-1452_00100.ann</td>\n",
       "      <td>(1726, 1733)</td>\n",
       "      <td>Empress</td>\n",
       "      <td>19631</td>\n",
       "      <td>T18</td>\n",
       "      <td>Generalization</td>\n",
       "      <td>2</td>\n",
       "      <td>Linguistic</td>\n",
       "    </tr>\n",
       "    <tr>\n",
       "      <th>19273</th>\n",
       "      <td>Coll-1452_00100.ann</td>\n",
       "      <td>(1726, 1733)</td>\n",
       "      <td>Empress</td>\n",
       "      <td>19631</td>\n",
       "      <td>T18</td>\n",
       "      <td>Generalization</td>\n",
       "      <td>2</td>\n",
       "      <td>Linguistic</td>\n",
       "    </tr>\n",
       "  </tbody>\n",
       "</table>\n",
       "</div>"
      ],
      "text/plain": [
       "                      file       offsets     text     id entity  \\\n",
       "14651  Coll-1383_00600.ann  (5374, 5378)     Lady  19631    T79   \n",
       "58746  Coll-1452_00100.ann  (1726, 1733)  Empress  19631    T18   \n",
       "19273  Coll-1452_00100.ann  (1726, 1733)  Empress  19631    T18   \n",
       "\n",
       "                label annotator    category  \n",
       "14651   Gendered-Role         0  Linguistic  \n",
       "58746  Generalization         2  Linguistic  \n",
       "19273  Generalization         2  Linguistic  "
      ]
     },
     "execution_count": 13,
     "metadata": {},
     "output_type": "execute_result"
    }
   ],
   "source": [
    "merged.loc[merged.id == 19631]  # \"Empress\" should be Generalization"
   ]
  },
  {
   "cell_type": "code",
   "execution_count": 14,
   "metadata": {},
   "outputs": [],
   "source": [
    "# WHY ARE THERE STILL DUPLICATES?"
   ]
  },
  {
   "cell_type": "code",
   "execution_count": 15,
   "metadata": {},
   "outputs": [
    {
     "name": "stdout",
     "output_type": "stream",
     "text": [
      "(7606, 8)\n",
      "(12255, 8)\n"
     ]
    }
   ],
   "source": [
    "# 7. Add all the remaining Person-Name labels from annotators 0 and 2 to the gold standard DataFrame.\n",
    "ann0_p = ann0.loc[ann0.category == \"Person-Name\"]\n",
    "print(ann0_p.shape)\n",
    "ann2_p = ann2.loc[ann2.category == \"Person-Name\"]\n",
    "print(ann2_p.shape)"
   ]
  },
  {
   "cell_type": "code",
   "execution_count": 16,
   "metadata": {},
   "outputs": [
    {
     "name": "stdout",
     "output_type": "stream",
     "text": [
      "(87678, 8)\n"
     ]
    }
   ],
   "source": [
    "merged = (merged.append(ann0_p)).append(ann2_p)\n",
    "print(merged.shape)"
   ]
  },
  {
   "cell_type": "code",
   "execution_count": 18,
   "metadata": {},
   "outputs": [
    {
     "data": {
      "text/plain": [
       "(98332, 8)"
      ]
     },
     "execution_count": 18,
     "metadata": {},
     "output_type": "execute_result"
    }
   ],
   "source": [
    "# 8. Add the Omission and Stereotype labels from annotators 0, 3, and 4 to the merged DataFrame.\n",
    "ann0 = pd.read_csv(\"labels0C.csv\",index_col=0)\n",
    "ann0 = ann0[['file', 'offsets','text', 'id', 'entity', 'label', 'annotator', 'category']]\n",
    "# ann0.head()  # Looks good\n",
    "ann0_o = ann0.loc[ann0.label == \"Omission\"]\n",
    "ann0_s = ann0.loc[ann0.label == \"Stereotype\"]\n",
    "\n",
    "ann3 = pd.read_csv(\"labels3.csv\",index_col=0)\n",
    "ann3 = ann3[['file', 'offsets','text', 'id', 'entity', 'label', 'annotator', 'category']]\n",
    "ann3_o = ann3.loc[ann3.label == \"Omission\"]\n",
    "ann3_s = ann3.loc[ann3.label == \"Stereotype\"]\n",
    "\n",
    "ann4 = pd.read_csv(\"labels4.csv\",index_col=0)\n",
    "ann4 = ann4[['file', 'offsets','text', 'id', 'entity', 'label', 'annotator', 'category']]\n",
    "ann4_o = ann4.loc[ann4.label == \"Omission\"]\n",
    "ann4_s = ann4.loc[ann4.label == \"Stereotype\"]\n",
    "\n",
    "merged = (merged.append(ann0_o)).append(ann0_s)\n",
    "merged = (merged.append(ann3_o)).append(ann3_s)\n",
    "merged = (merged.append(ann4_o)).append(ann4_s)\n",
    "merged.shape"
   ]
  },
  {
   "cell_type": "code",
   "execution_count": 19,
   "metadata": {},
   "outputs": [
    {
     "data": {
      "text/html": [
       "<div>\n",
       "<style scoped>\n",
       "    .dataframe tbody tr th:only-of-type {\n",
       "        vertical-align: middle;\n",
       "    }\n",
       "\n",
       "    .dataframe tbody tr th {\n",
       "        vertical-align: top;\n",
       "    }\n",
       "\n",
       "    .dataframe thead th {\n",
       "        text-align: right;\n",
       "    }\n",
       "</style>\n",
       "<table border=\"1\" class=\"dataframe\">\n",
       "  <thead>\n",
       "    <tr style=\"text-align: right;\">\n",
       "      <th></th>\n",
       "      <th>file</th>\n",
       "      <th>offsets</th>\n",
       "      <th>text</th>\n",
       "      <th>id</th>\n",
       "      <th>entity</th>\n",
       "      <th>label</th>\n",
       "      <th>annotator</th>\n",
       "      <th>category</th>\n",
       "    </tr>\n",
       "  </thead>\n",
       "  <tbody>\n",
       "    <tr>\n",
       "      <th>0</th>\n",
       "      <td>Coll-1434_11900.ann</td>\n",
       "      <td>(1954, 1957)</td>\n",
       "      <td>his</td>\n",
       "      <td>22593</td>\n",
       "      <td>T1</td>\n",
       "      <td>Generalization</td>\n",
       "      <td>0</td>\n",
       "      <td>Linguistic</td>\n",
       "    </tr>\n",
       "    <tr>\n",
       "      <th>1</th>\n",
       "      <td>Coll-1397_00100.ann</td>\n",
       "      <td>(2633, 2638)</td>\n",
       "      <td>Lords</td>\n",
       "      <td>29349</td>\n",
       "      <td>T58</td>\n",
       "      <td>Generalization</td>\n",
       "      <td>0</td>\n",
       "      <td>Linguistic</td>\n",
       "    </tr>\n",
       "    <tr>\n",
       "      <th>2</th>\n",
       "      <td>Coll-1310_00800.ann</td>\n",
       "      <td>(3703, 3706)</td>\n",
       "      <td>Man</td>\n",
       "      <td>15451</td>\n",
       "      <td>T54</td>\n",
       "      <td>Generalization</td>\n",
       "      <td>0</td>\n",
       "      <td>Linguistic</td>\n",
       "    </tr>\n",
       "    <tr>\n",
       "      <th>3</th>\n",
       "      <td>Coll-1434_14500.ann</td>\n",
       "      <td>(5782, 5788)</td>\n",
       "      <td>cowboy</td>\n",
       "      <td>8005</td>\n",
       "      <td>T76</td>\n",
       "      <td>Generalization</td>\n",
       "      <td>0</td>\n",
       "      <td>Linguistic</td>\n",
       "    </tr>\n",
       "    <tr>\n",
       "      <th>4</th>\n",
       "      <td>BAI_02300.ann</td>\n",
       "      <td>(1586, 1596)</td>\n",
       "      <td>shipmaster</td>\n",
       "      <td>20810</td>\n",
       "      <td>T53</td>\n",
       "      <td>Generalization</td>\n",
       "      <td>0</td>\n",
       "      <td>Linguistic</td>\n",
       "    </tr>\n",
       "  </tbody>\n",
       "</table>\n",
       "</div>"
      ],
      "text/plain": [
       "                  file       offsets        text     id entity  \\\n",
       "0  Coll-1434_11900.ann  (1954, 1957)         his  22593     T1   \n",
       "1  Coll-1397_00100.ann  (2633, 2638)       Lords  29349    T58   \n",
       "2  Coll-1310_00800.ann  (3703, 3706)         Man  15451    T54   \n",
       "3  Coll-1434_14500.ann  (5782, 5788)      cowboy   8005    T76   \n",
       "4        BAI_02300.ann  (1586, 1596)  shipmaster  20810    T53   \n",
       "\n",
       "            label annotator    category  \n",
       "0  Generalization         0  Linguistic  \n",
       "1  Generalization         0  Linguistic  \n",
       "2  Generalization         0  Linguistic  \n",
       "3  Generalization         0  Linguistic  \n",
       "4  Generalization         0  Linguistic  "
      ]
     },
     "execution_count": 19,
     "metadata": {},
     "output_type": "execute_result"
    }
   ],
   "source": [
    "# Make sure all annotators are listed as integers in the 'annotator' column of the gold DataFrame\n",
    "merged = useAnnotatorNumber(merged)\n",
    "merged.head()  # Looks good"
   ]
  },
  {
   "cell_type": "code",
   "execution_count": 20,
   "metadata": {},
   "outputs": [
    {
     "data": {
      "text/html": [
       "<div>\n",
       "<style scoped>\n",
       "    .dataframe tbody tr th:only-of-type {\n",
       "        vertical-align: middle;\n",
       "    }\n",
       "\n",
       "    .dataframe tbody tr th {\n",
       "        vertical-align: top;\n",
       "    }\n",
       "\n",
       "    .dataframe thead th {\n",
       "        text-align: right;\n",
       "    }\n",
       "</style>\n",
       "<table border=\"1\" class=\"dataframe\">\n",
       "  <thead>\n",
       "    <tr style=\"text-align: right;\">\n",
       "      <th></th>\n",
       "      <th>file</th>\n",
       "      <th>offsets</th>\n",
       "      <th>text</th>\n",
       "      <th>id</th>\n",
       "      <th>entity</th>\n",
       "      <th>label</th>\n",
       "      <th>annotator</th>\n",
       "      <th>category</th>\n",
       "    </tr>\n",
       "  </thead>\n",
       "  <tbody>\n",
       "    <tr>\n",
       "      <th>2340</th>\n",
       "      <td>Coll-1434_20400.ann</td>\n",
       "      <td>(5497, 5524)</td>\n",
       "      <td>a group of young Khond boys</td>\n",
       "      <td>6559</td>\n",
       "      <td>T25</td>\n",
       "      <td>Stereotype</td>\n",
       "      <td>4</td>\n",
       "      <td>Contextual</td>\n",
       "    </tr>\n",
       "    <tr>\n",
       "      <th>2351</th>\n",
       "      <td>Coll-146_30100.ann</td>\n",
       "      <td>(2242, 2247)</td>\n",
       "      <td>Woman</td>\n",
       "      <td>6575</td>\n",
       "      <td>T8</td>\n",
       "      <td>Stereotype</td>\n",
       "      <td>4</td>\n",
       "      <td>Contextual</td>\n",
       "    </tr>\n",
       "    <tr>\n",
       "      <th>2353</th>\n",
       "      <td>Coll-1434_19600.ann</td>\n",
       "      <td>(4129, 4134)</td>\n",
       "      <td>a man</td>\n",
       "      <td>6582</td>\n",
       "      <td>T6</td>\n",
       "      <td>Stereotype</td>\n",
       "      <td>4</td>\n",
       "      <td>Contextual</td>\n",
       "    </tr>\n",
       "    <tr>\n",
       "      <th>2354</th>\n",
       "      <td>Coll-1434_19600.ann</td>\n",
       "      <td>(528, 544)</td>\n",
       "      <td>a group of women</td>\n",
       "      <td>6584</td>\n",
       "      <td>T8</td>\n",
       "      <td>Stereotype</td>\n",
       "      <td>4</td>\n",
       "      <td>Contextual</td>\n",
       "    </tr>\n",
       "    <tr>\n",
       "      <th>2355</th>\n",
       "      <td>Coll-146_16400.ann</td>\n",
       "      <td>(2134, 2139)</td>\n",
       "      <td>a boy</td>\n",
       "      <td>6586</td>\n",
       "      <td>T2</td>\n",
       "      <td>Stereotype</td>\n",
       "      <td>4</td>\n",
       "      <td>Contextual</td>\n",
       "    </tr>\n",
       "  </tbody>\n",
       "</table>\n",
       "</div>"
      ],
      "text/plain": [
       "                     file       offsets                         text    id  \\\n",
       "2340  Coll-1434_20400.ann  (5497, 5524)  a group of young Khond boys  6559   \n",
       "2351   Coll-146_30100.ann  (2242, 2247)                        Woman  6575   \n",
       "2353  Coll-1434_19600.ann  (4129, 4134)                        a man  6582   \n",
       "2354  Coll-1434_19600.ann    (528, 544)             a group of women  6584   \n",
       "2355   Coll-146_16400.ann  (2134, 2139)                        a boy  6586   \n",
       "\n",
       "     entity       label annotator    category  \n",
       "2340    T25  Stereotype         4  Contextual  \n",
       "2351     T8  Stereotype         4  Contextual  \n",
       "2353     T6  Stereotype         4  Contextual  \n",
       "2354     T8  Stereotype         4  Contextual  \n",
       "2355     T2  Stereotype         4  Contextual  "
      ]
     },
     "execution_count": 20,
     "metadata": {},
     "output_type": "execute_result"
    }
   ],
   "source": [
    "merged.tail()  # Looks good"
   ]
  },
  {
   "cell_type": "code",
   "execution_count": 21,
   "metadata": {},
   "outputs": [],
   "source": [
    "# Write merged with non-disagreed and non-agreed rows to CSV\n",
    "merged.to_csv(\"merged.csv\")"
   ]
  },
  {
   "cell_type": "markdown",
   "metadata": {},
   "source": [
    "#### Remove Duplicates from the Merged Dataset\n",
    "* Make sure there aren't any overlapping or matching Occupations or Gendered-Pronoun labels in the gold data\n",
    "* Combine the `merged` and `overlaps_fo_merged` CSVs into one DataFrame\n",
    "* Count total rows per annotator in the resulting dataset\n",
    "* Remove `annotator`, `id`, `entity`, and `remove` rows and drop duplicates to get only unique annotations in the aggregated (a.k.a. merged, formerly gold) dataset\n",
    "* Write the final aggregated dataset"
   ]
  },
  {
   "cell_type": "markdown",
   "metadata": {},
   "source": [
    "Let's double check that there aren't any overlapping Occupation or Gendered-Pronoun labels.  Any matching labels would have been removed when we dropped duplicate rows from the data, so we don't have to worry about those anymore.\n",
    "\n",
    "We'll change our functions from the start of this Notebook slightly to do so, and add one more at the end..."
   ]
  },
  {
   "cell_type": "code",
   "execution_count": 22,
   "metadata": {},
   "outputs": [],
   "source": [
    "# Separate the input DataFrame's offsets column into 'start' offset and 'end' offset columns of type int\n",
    "def splitOffsets(df):\n",
    "    offsets = list(df.offsets)\n",
    "    start_list, end_list = [], []\n",
    "    for o in offsets:\n",
    "        pair = o[1:-1]\n",
    "        pair_list = pair.split(\",\")\n",
    "        start_list += [int(pair_list[0])]\n",
    "        end_list += [int(pair_list[1])]\n",
    "    df = df.assign(start = start_list)\n",
    "    df = df.assign(end = end_list)\n",
    "    return df\n",
    "\n",
    "# Find the files both input annotators labeled\n",
    "def findCommonFiles(df_a, df_b):\n",
    "    common = []\n",
    "    files_a = set(list(df_a.file))\n",
    "    files_b = set(list(df_b.file))\n",
    "    for f in files_a:\n",
    "        if f in files_b:\n",
    "            common += [f]\n",
    "    return common\n",
    "\n",
    "# Create an interval tree for one annotator for a specified file and specified label\n",
    "def createIntervalTree(df, filename, labelname):\n",
    "    subdf = df[df.file == filename]                                       # Get only rows for the input file\n",
    "    subdf = subdf[subdf.label == labelname]                               # Get only rows for that file with the input label\n",
    "    offsets = list(zip(list(subdf.start), list(subdf.end)))\n",
    "    return IntervalTree.from_tuples(offsets)\n",
    "\n",
    "# Find strict agreements (exact matches)\n",
    "def findMatches(tree_exp, tree_pred):\n",
    "    matches = []\n",
    "    for annotation in tree_exp:\n",
    "        if annotation in tree_pred:\n",
    "            matches += [annotation]\n",
    "    return matches\n",
    "\n",
    "# Find annotations that overlap one another (including enveloping but excluding exactly matching annotations)\n",
    "# Note: exp = A, pred = B\n",
    "def findOverlaps(tree_exp, tree_pred):\n",
    "    overlaps_pred, overlaps_exp = [], []\n",
    "    for annotation in tree_exp:\n",
    "        overlapping_intervals = tree_pred.overlap(annotation)\n",
    "        if len(overlapping_intervals) > 0:\n",
    "            for oi in overlapping_intervals:\n",
    "                overlaps_pred += [oi]\n",
    "    for annotation in tree_pred:\n",
    "        overlapping_intervals = tree_exp.overlap(annotation)\n",
    "        if len(overlapping_intervals) > 0:\n",
    "            for oi in overlapping_intervals:\n",
    "                overlaps_exp += [oi]\n",
    "    return overlaps_exp, overlaps_pred\n",
    "\n",
    "# Record the type of agreement in the DataFrame\n",
    "def recordAgreements(df, labelname, filename, agreements, agreement_col_name, agreement_type):\n",
    "    df_label = df.loc[df.label == labelname]\n",
    "    df_file = df_label.loc[df_label.file == filename]\n",
    "    for a in agreements:\n",
    "        offset = \"(\"+str(a.begin)+\", \"+str(a.end)+\")\"\n",
    "        row = df_file.loc[df_file.offsets == offset].index\n",
    "        df.at[row, agreement_col_name] = agreement_type\n",
    "    return df\n",
    "\n",
    "# Record overlapping annotations between two annotators' DataFrames in the DF's agreement columns\n",
    "def getAllOverlapsPerLabel(annA, annB, sub_annA, sub_annB, agreement_A, agreement_B, labelname, common_files):\n",
    "    sub_annA = splitOffsets(sub_annA)\n",
    "    sub_annB = splitOffsets(sub_annB)\n",
    "    for f in common_files:\n",
    "        # Create interval trees of the offset data for each annotator for file f\n",
    "        treeA = createIntervalTree(sub_annA, f, labelname)\n",
    "        treeB = createIntervalTree(sub_annB, f, labelname)\n",
    "        # Find overlaps between the annotators\n",
    "        overlapsA, overlapsB = findOverlaps(treeA,treeB)\n",
    "        annA = recordAgreements(annA,labelname,f,overlapsA,agreement_B,\"Overlap\")\n",
    "        annB = recordAgreements(annB,labelname,f,overlapsB,agreement_A,\"Overlap\")\n",
    "    return annA, annB\n",
    "\n",
    "# Create an interval tree for one annotator's agreement DataFrame for a specified file\n",
    "def createSubIntervalTree(df, filename):\n",
    "    subdf = df.loc[df.file == filename]\n",
    "    offsets = list(zip(list(subdf.start), list(subdf.end)))\n",
    "    return IntervalTree.from_tuples(offsets)\n",
    "\n",
    "# SAME AS ABOVE - COPIED FOR REFERENCE\n",
    "# Find the longest text span (interval) annotated for each group of overlapping annotations,\n",
    "# comparing two or three trees (two or three annotators' labels) for one file at a time and\n",
    "# for one label at a time\n",
    "def findBiggestIntervals(tree_exp, tree_pred, tree_pred2=False):\n",
    "    interval_list = []\n",
    "    for annotation in tree_exp:\n",
    "        biggest_interval = annotation\n",
    "        overlapping_intervals = list(tree_pred.overlap(annotation))\n",
    "        if tree_pred2:\n",
    "            overlapping_intervals += list(tree_pred2.overlap(annotation))\n",
    "        if len(overlapping_intervals) > 0:\n",
    "            for oi in overlapping_intervals:\n",
    "                if (annotation.end - annotation.begin) <= (oi.begin - oi.end):\n",
    "                    biggest_interval = oi\n",
    "        interval_list += [biggest_interval]\n",
    "    return interval_list\n",
    "\n",
    "def removeOverlapsFromMerged(labelname, dfa, dfb, agmta, agmtb, dfagp, dfbgp, merged):\n",
    "    dfa, dfb = getAllOverlapsPerLabel(dfa, dfb, dfagp, dfbgp, agmta, agmtb, labelname, common)\n",
    "\n",
    "    # Drop duplicates from the overlaps so only one from among a group of matching annotations remains\n",
    "    dfa = dfa.loc[dfa[agmtb] == \"Overlap\"]\n",
    "    dfb = dfb.loc[dfb[agmta] == \"Overlap\"]\n",
    "    dfa = dfa[['file', 'offsets', 'text', 'id', 'entity', 'label', 'annotator','category']]\n",
    "    dfb = dfb[['file', 'offsets', 'text', 'id', 'entity', 'label', 'annotator','category']]\n",
    "    df = dfa.append(dfb)\n",
    "    print(df.shape)\n",
    "    df = df.drop_duplicates(subset=[\"file\",\"offsets\",\"text\",\"label\"])\n",
    "    print(df.shape)\n",
    "    \n",
    "    dfa = splitOffsets(dfa)  # Get start and end columns\n",
    "    dfb = splitOffsets(dfb)  # Get start and end columns\n",
    "    iv_dict = {}\n",
    "    for f in common:\n",
    "        treea = createSubIntervalTree(dfa, f)\n",
    "        treeb = createSubIntervalTree(dfb, f)\n",
    "        biggest_ivs = findBiggestIntervals(treea, treeb)\n",
    "        iv_dict[f] = [\"(\"+str(iv.begin)+\", \"+str(iv.end)+\")\" for iv in biggest_ivs]\n",
    "    # print(iv_dict) # Looks good\n",
    "\n",
    "    # Get the indeces of the overlaps that should be dropped (not the biggest interval)\n",
    "    indeces_to_drop = []\n",
    "    for f in common:\n",
    "        suba = dfa.loc[dfa.file == f]  # subset of rows for the given file and label and annotator\n",
    "        subb = dfb.loc[dfb.file == f]  # subset of rows for the given file and label and annotator\n",
    "        intervals = iv_dict[f]\n",
    "        i_a = (suba.loc[~suba.offsets.isin(intervals)]).index\n",
    "        indeces_to_drop += list(i_a)\n",
    "        i_b = (subb.loc[~subb.offsets.isin(intervals)]).index\n",
    "        indeces_to_drop += list(i_b)\n",
    "    print(indeces_to_drop)\n",
    "\n",
    "    # Drop rows with indeces found above from the merged dataset so only one annotation from each group of overlaps remains\n",
    "    if len(indeces_to_drop) > 0:\n",
    "        print(merged.shape)\n",
    "        for i in indeces_to_drop:\n",
    "            try:\n",
    "                merged = merged.drop(index=[i])\n",
    "            except KeyError:                      # Some indeces may have been removed if they were in other overlap groups\n",
    "                continue\n",
    "        print(merged.shape)\n",
    "    else:\n",
    "        print(\"None to drop!\")\n",
    "    \n",
    "    return merged"
   ]
  },
  {
   "cell_type": "code",
   "execution_count": 23,
   "metadata": {},
   "outputs": [],
   "source": [
    "merged = pd.read_csv(\"merged.csv\",index_col=0)  # Contains disagreements + GP and O + matched + remaining\n",
    "merged0 = merged.loc[merged.annotator == 0]\n",
    "merged1 = merged.loc[merged.annotator == 1]\n",
    "merged2 = merged.loc[merged.annotator == 2]\n",
    "merged3 = merged.loc[merged.annotator == 3]\n",
    "merged4 = merged.loc[merged.annotator == 4]"
   ]
  },
  {
   "cell_type": "markdown",
   "metadata": {},
   "source": [
    "##### Gendered Pronoun\n",
    "Keep only one annotation from each group of overlapping (excluding matching) annotations between annotators 0 and 1"
   ]
  },
  {
   "cell_type": "code",
   "execution_count": 24,
   "metadata": {},
   "outputs": [
    {
     "name": "stdout",
     "output_type": "stream",
     "text": [
      "(8542, 8)\n",
      "(5245, 8)\n",
      "[39017, 24138]\n",
      "(98332, 8)\n",
      "(98330, 8)\n"
     ]
    }
   ],
   "source": [
    "labelname = \"Gendered-Pronoun\"\n",
    "dfa, dfb = merged0, merged1\n",
    "agmta, agmtb = \"agreement_0\", \"agreement_1\"\n",
    "common = findCommonFiles(dfa,dfb)\n",
    "dfagp = dfa.loc[dfa.label == labelname]\n",
    "dfbgp = dfb.loc[dfb.label == labelname]\n",
    "dfa = dfa.assign(agreement_1 = [None]*(dfa.shape[0]))  # agmtb\n",
    "dfb = dfb.assign(agreement_0 = [None]*(dfb.shape[0]))  # agmta\n",
    "merged = removeOverlapsFromMerged(labelname, dfa, dfb, agmta, agmtb, dfagp, dfbgp, merged)"
   ]
  },
  {
   "cell_type": "markdown",
   "metadata": {},
   "source": [
    "Keep only one annotation from each group of overlapping (excluding matching) annotations between annotators 0 and 2"
   ]
  },
  {
   "cell_type": "code",
   "execution_count": 25,
   "metadata": {},
   "outputs": [
    {
     "name": "stdout",
     "output_type": "stream",
     "text": [
      "(1303, 8)\n",
      "(793, 8)\n",
      "[]\n",
      "None to drop!\n"
     ]
    }
   ],
   "source": [
    "labelname = \"Gendered-Pronoun\"\n",
    "dfa, dfb = merged0, merged2\n",
    "agmta, agmtb = \"agreement_0\", \"agreement_2\"\n",
    "common = findCommonFiles(dfa,dfb)\n",
    "dfagp = dfa.loc[dfa.label == labelname]\n",
    "dfbgp = dfb.loc[dfb.label == labelname]\n",
    "dfa = dfa.assign(agreement_2 = [None]*(dfa.shape[0]))  # agmtb\n",
    "dfb = dfb.assign(agreement_0 = [None]*(dfb.shape[0]))  # agmta\n",
    "merged = removeOverlapsFromMerged(labelname, dfa, dfb, agmta, agmtb, dfagp, dfbgp, merged)"
   ]
  },
  {
   "cell_type": "code",
   "execution_count": 26,
   "metadata": {},
   "outputs": [
    {
     "name": "stdout",
     "output_type": "stream",
     "text": [
      "(1036, 8)\n",
      "(518, 8)\n",
      "[]\n",
      "None to drop!\n"
     ]
    }
   ],
   "source": [
    "# G-P overlaps between 1 and 2\n",
    "labelname = \"Gendered-Pronoun\"\n",
    "dfa, dfb = merged1, merged2\n",
    "agmta, agmtb = \"agreement_1\", \"agreement_2\"\n",
    "common = findCommonFiles(dfa,dfb)\n",
    "dfagp = dfa.loc[dfa.label == labelname]\n",
    "dfbgp = dfb.loc[dfb.label == labelname]\n",
    "dfa = dfa.assign(agreement_2 = [None]*(dfa.shape[0]))  # agmtb\n",
    "dfb = dfb.assign(agreement_1 = [None]*(dfb.shape[0]))  # agmta\n",
    "merged = removeOverlapsFromMerged(labelname, dfa, dfb, agmta, agmtb, dfagp, dfbgp, merged)"
   ]
  },
  {
   "cell_type": "markdown",
   "metadata": {},
   "source": [
    "##### Occupation\n",
    "Keep only one annotation from each group of overlapping (excluding matching) annotations between annotators 0 and 3"
   ]
  },
  {
   "cell_type": "code",
   "execution_count": 27,
   "metadata": {},
   "outputs": [
    {
     "name": "stdout",
     "output_type": "stream",
     "text": [
      "(3941, 8)\n",
      "(2244, 8)\n",
      "[62048, 62049, 62057, 63349, 63351, 62977, 63160, 63163, 63415, 62073, 63524, 63525, 63526, 63533, 63013, 62082, 62083, 63841, 63856, 62013, 62014, 62225, 62006, 62699, 62705, 63914, 62666, 62667, 62551, 62851, 62856, 63106, 63107, 63112, 63114, 63174, 63479, 62256, 63605, 62211, 62212, 62213, 62221, 61867, 61740, 63794, 62605, 62608, 62613, 62618, 62623, 62901, 62904, 62905, 62908, 62291, 62295, 63624, 63625, 63626, 63631, 63634, 62253, 63500, 63502, 63503, 63504, 63505, 61735, 62259, 62260, 62261, 62263, 62265, 63082, 62815, 63071, 63073, 63311, 62176, 63127, 63139, 63772, 62848, 63386, 63387, 63381, 61807, 62686, 62687, 62688, 63862, 63863, 63866, 63539, 63729, 63732, 63735, 64015, 63020, 63021, 63887, 62079, 63120, 63121, 62781, 62115, 62119, 62120, 63519, 63324, 62003, 62004, 62894, 62530, 62133, 62134, 61819, 61822, 61824, 63090, 63091, 63939, 63941, 61939, 63289, 63290, 63142, 61770, 61774, 61775, 63045, 63048, 63049, 63060, 61991, 61992, 63357, 63665, 63666, 63668, 63266, 63267, 63268, 63269, 63270, 63272, 63719, 62889, 63253, 62010, 61884, 62951, 63806, 63809, 63810, 62520, 63233, 61722, 62914, 63401, 63402, 63403, 63404, 63506, 63508, 63221, 63223, 63224, 63227, 62168, 62169, 61836, 63181, 63215, 63584, 63895, 63896, 63834, 63836, 62387, 62434, 62437, 62480, 61843, 62964, 63638, 63646, 63647, 63648, 63592, 62636, 62927, 63449, 63400, 63937, 62713, 62202, 62563, 63576, 63187, 62522, 62525, 62505, 61959, 61963, 62805, 62806, 61852, 63205, 62693, 62797, 61848, 62592, 62594, 62896, 63708, 63711, 63712, 62829, 63326, 62254, 62255, 63535, 62736, 62737, 62742, 62677, 62684, 64029, 63547, 62146, 62147, 62070, 63698, 61965, 61967, 63919, 63207, 62506, 63389, 61936, 61937, 63954, 62650, 62652, 62653, 63820, 62880, 62287, 63292, 63335, 63343, 63155, 63156, 63070, 63682, 62145, 63872, 62123, 62024, 62025, 62026, 62027, 63003, 63005, 63926, 63928, 63068, 62777, 62945, 62946, 62947]\n",
      "(98330, 8)\n",
      "(98057, 8)\n"
     ]
    }
   ],
   "source": [
    "# Occupation overlaps between 0 and 3\n",
    "labelname = \"Occupation\"\n",
    "dfa, dfb = merged0, merged3\n",
    "agmta, agmtb = \"agreement_0\", \"agreement_3\"\n",
    "common = findCommonFiles(dfa,dfb)\n",
    "dfagp = dfa.loc[dfa.label == labelname]\n",
    "dfbgp = dfb.loc[dfb.label == labelname]\n",
    "dfa = dfa.assign(agreement_3 = [None]*(dfa.shape[0]))  # agmtb\n",
    "dfb = dfb.assign(agreement_0 = [None]*(dfb.shape[0]))  # agmta\n",
    "merged = removeOverlapsFromMerged(labelname, dfa, dfb, agmta, agmtb, dfagp, dfbgp, merged)"
   ]
  },
  {
   "cell_type": "code",
   "execution_count": 28,
   "metadata": {},
   "outputs": [
    {
     "name": "stdout",
     "output_type": "stream",
     "text": [
      "(1442, 8)\n",
      "(828, 8)\n",
      "[65102, 65261, 65262, 65091, 64645, 64649, 64058, 64059, 64388, 64389, 64405, 64411, 64416, 64419, 65043, 64492, 64791, 65112, 65391, 65393, 65056, 65018, 65114, 65118, 65122, 65123, 65124, 65127, 65128, 65131, 65134, 65135, 65137, 65138, 65140, 65146, 65149, 65150, 65151, 64540, 64035, 64036, 64037, 64760, 65363, 64045, 64766, 64771, 64773, 65317, 65318, 65322, 65437, 65438, 65441, 65442, 65583, 64121, 64174, 64178, 64209, 64267, 64301, 64314, 64325, 64362, 64365, 64603, 64680, 65065, 65679, 64703, 64704, 64705, 64499, 64913, 64688, 64762, 64876, 64899, 64903, 65607, 64880, 64888, 64891, 65513, 65516, 65520, 65510, 65088, 64783, 64784, 64526, 64852, 65713, 65301, 65302, 65167, 65168, 65685, 65689, 64612, 64552, 64553, 64554, 64555, 64556]\n",
      "(98057, 8)\n",
      "(97950, 8)\n"
     ]
    }
   ],
   "source": [
    "# Occupation overlaps between 0 and 4\n",
    "labelname = \"Occupation\"\n",
    "dfa, dfb = merged0, merged4\n",
    "agmta, agmtb = \"agreement_0\", \"agreement_4\"\n",
    "common = findCommonFiles(dfa,dfb)\n",
    "dfagp = dfa.loc[dfa.label == labelname]\n",
    "dfbgp = dfb.loc[dfb.label == labelname]\n",
    "dfa = dfa.assign(agreement_4 = [None]*(dfa.shape[0]))  # agmtb\n",
    "dfb = dfb.assign(agreement_0 = [None]*(dfb.shape[0]))  # agmta\n",
    "merged = removeOverlapsFromMerged(labelname, dfa, dfb, agmta, agmtb, dfagp, dfbgp, merged)"
   ]
  },
  {
   "cell_type": "code",
   "execution_count": 29,
   "metadata": {},
   "outputs": [
    {
     "name": "stdout",
     "output_type": "stream",
     "text": [
      "(838, 8)\n",
      "(472, 8)\n",
      "[65261, 64649, 64058, 64404, 64416, 64417, 65114, 65118, 65122, 65123, 65124, 65127, 65128, 65131, 65135, 65140, 65146, 65149, 65150, 64760, 64773, 65317, 65318, 65437, 65438, 65440, 65583, 65305, 64121, 64174, 64254, 64267, 64314, 64325, 64362, 64381, 64899, 64903, 64884, 64888, 65513, 65516, 65520, 65521, 64529, 65277, 64851, 64852, 64853, 65302, 65685, 64612, 64552]\n",
      "(97950, 8)\n",
      "(97938, 8)\n"
     ]
    }
   ],
   "source": [
    "# Occupation overlaps between 3 and 4\n",
    "labelname = \"Occupation\"\n",
    "dfa, dfb = merged3, merged4\n",
    "agmta, agmtb = \"agreement_3\", \"agreement_4\"\n",
    "common = findCommonFiles(dfa,dfb)\n",
    "dfagp = dfa.loc[dfa.label == labelname]\n",
    "dfbgp = dfb.loc[dfb.label == labelname]\n",
    "dfa = dfa.assign(agreement_4 = [None]*(dfa.shape[0]))  # agmtb\n",
    "dfb = dfb.assign(agreement_3 = [None]*(dfb.shape[0]))  # agmta\n",
    "merged = removeOverlapsFromMerged(labelname, dfa, dfb, agmta, agmtb, dfagp, dfbgp, merged)"
   ]
  },
  {
   "cell_type": "code",
   "execution_count": 30,
   "metadata": {},
   "outputs": [
    {
     "data": {
      "text/html": [
       "<div>\n",
       "<style scoped>\n",
       "    .dataframe tbody tr th:only-of-type {\n",
       "        vertical-align: middle;\n",
       "    }\n",
       "\n",
       "    .dataframe tbody tr th {\n",
       "        vertical-align: top;\n",
       "    }\n",
       "\n",
       "    .dataframe thead th {\n",
       "        text-align: right;\n",
       "    }\n",
       "</style>\n",
       "<table border=\"1\" class=\"dataframe\">\n",
       "  <thead>\n",
       "    <tr style=\"text-align: right;\">\n",
       "      <th></th>\n",
       "      <th>file</th>\n",
       "      <th>offsets</th>\n",
       "      <th>text</th>\n",
       "      <th>id</th>\n",
       "      <th>entity</th>\n",
       "      <th>label</th>\n",
       "      <th>annotator</th>\n",
       "      <th>category</th>\n",
       "    </tr>\n",
       "  </thead>\n",
       "  <tbody>\n",
       "    <tr>\n",
       "      <th>2340</th>\n",
       "      <td>Coll-1434_20400.ann</td>\n",
       "      <td>(5497, 5524)</td>\n",
       "      <td>a group of young Khond boys</td>\n",
       "      <td>6559</td>\n",
       "      <td>T25</td>\n",
       "      <td>Stereotype</td>\n",
       "      <td>4</td>\n",
       "      <td>Contextual</td>\n",
       "    </tr>\n",
       "    <tr>\n",
       "      <th>2351</th>\n",
       "      <td>Coll-146_30100.ann</td>\n",
       "      <td>(2242, 2247)</td>\n",
       "      <td>Woman</td>\n",
       "      <td>6575</td>\n",
       "      <td>T8</td>\n",
       "      <td>Stereotype</td>\n",
       "      <td>4</td>\n",
       "      <td>Contextual</td>\n",
       "    </tr>\n",
       "    <tr>\n",
       "      <th>2353</th>\n",
       "      <td>Coll-1434_19600.ann</td>\n",
       "      <td>(4129, 4134)</td>\n",
       "      <td>a man</td>\n",
       "      <td>6582</td>\n",
       "      <td>T6</td>\n",
       "      <td>Stereotype</td>\n",
       "      <td>4</td>\n",
       "      <td>Contextual</td>\n",
       "    </tr>\n",
       "    <tr>\n",
       "      <th>2354</th>\n",
       "      <td>Coll-1434_19600.ann</td>\n",
       "      <td>(528, 544)</td>\n",
       "      <td>a group of women</td>\n",
       "      <td>6584</td>\n",
       "      <td>T8</td>\n",
       "      <td>Stereotype</td>\n",
       "      <td>4</td>\n",
       "      <td>Contextual</td>\n",
       "    </tr>\n",
       "    <tr>\n",
       "      <th>2355</th>\n",
       "      <td>Coll-146_16400.ann</td>\n",
       "      <td>(2134, 2139)</td>\n",
       "      <td>a boy</td>\n",
       "      <td>6586</td>\n",
       "      <td>T2</td>\n",
       "      <td>Stereotype</td>\n",
       "      <td>4</td>\n",
       "      <td>Contextual</td>\n",
       "    </tr>\n",
       "  </tbody>\n",
       "</table>\n",
       "</div>"
      ],
      "text/plain": [
       "                     file       offsets                         text    id  \\\n",
       "2340  Coll-1434_20400.ann  (5497, 5524)  a group of young Khond boys  6559   \n",
       "2351   Coll-146_30100.ann  (2242, 2247)                        Woman  6575   \n",
       "2353  Coll-1434_19600.ann  (4129, 4134)                        a man  6582   \n",
       "2354  Coll-1434_19600.ann    (528, 544)             a group of women  6584   \n",
       "2355   Coll-146_16400.ann  (2134, 2139)                        a boy  6586   \n",
       "\n",
       "     entity       label  annotator    category  \n",
       "2340    T25  Stereotype          4  Contextual  \n",
       "2351     T8  Stereotype          4  Contextual  \n",
       "2353     T6  Stereotype          4  Contextual  \n",
       "2354     T8  Stereotype          4  Contextual  \n",
       "2355     T2  Stereotype          4  Contextual  "
      ]
     },
     "execution_count": 30,
     "metadata": {},
     "output_type": "execute_result"
    }
   ],
   "source": [
    "merged.tail()  # Looks good!"
   ]
  },
  {
   "cell_type": "markdown",
   "metadata": {},
   "source": [
    "Now combine the data in the `merged` DataFrame, which contains annotation data chosen from disagreements as well as gendered pronouns and occupations determined to be valid and not overlapping (matches may still be present), with annotation data in the `overlaps_for_merged.csv` file, which contains annotations chosen from agreements (matched, enveloped, and overlapped among two or more annotators)."
   ]
  },
  {
   "cell_type": "code",
   "execution_count": 31,
   "metadata": {},
   "outputs": [
    {
     "data": {
      "text/html": [
       "<div>\n",
       "<style scoped>\n",
       "    .dataframe tbody tr th:only-of-type {\n",
       "        vertical-align: middle;\n",
       "    }\n",
       "\n",
       "    .dataframe tbody tr th {\n",
       "        vertical-align: top;\n",
       "    }\n",
       "\n",
       "    .dataframe thead th {\n",
       "        text-align: right;\n",
       "    }\n",
       "</style>\n",
       "<table border=\"1\" class=\"dataframe\">\n",
       "  <thead>\n",
       "    <tr style=\"text-align: right;\">\n",
       "      <th></th>\n",
       "      <th>file</th>\n",
       "      <th>offsets</th>\n",
       "      <th>text</th>\n",
       "      <th>id</th>\n",
       "      <th>entity</th>\n",
       "      <th>label</th>\n",
       "      <th>annotator</th>\n",
       "      <th>category</th>\n",
       "    </tr>\n",
       "  </thead>\n",
       "  <tbody>\n",
       "    <tr>\n",
       "      <th>2260</th>\n",
       "      <td>Coll-1462_00100.ann</td>\n",
       "      <td>(1143, 1156)</td>\n",
       "      <td>granddaughter</td>\n",
       "      <td>3339</td>\n",
       "      <td>T3</td>\n",
       "      <td>Gendered-Role</td>\n",
       "      <td>0</td>\n",
       "      <td>Linguistic</td>\n",
       "    </tr>\n",
       "    <tr>\n",
       "      <th>10439</th>\n",
       "      <td>Coll-1434_16000.ann</td>\n",
       "      <td>(2393, 2397)</td>\n",
       "      <td>boys</td>\n",
       "      <td>15310</td>\n",
       "      <td>T34</td>\n",
       "      <td>Gendered-Role</td>\n",
       "      <td>0</td>\n",
       "      <td>Linguistic</td>\n",
       "    </tr>\n",
       "    <tr>\n",
       "      <th>18422</th>\n",
       "      <td>Coll-1109_00100.ann</td>\n",
       "      <td>(480, 492)</td>\n",
       "      <td>Lord Provost</td>\n",
       "      <td>26879</td>\n",
       "      <td>T0</td>\n",
       "      <td>Gendered-Role</td>\n",
       "      <td>0</td>\n",
       "      <td>Linguistic</td>\n",
       "    </tr>\n",
       "    <tr>\n",
       "      <th>13530</th>\n",
       "      <td>Coll-1383_00600.ann</td>\n",
       "      <td>(8394, 8400)</td>\n",
       "      <td>Master</td>\n",
       "      <td>19689</td>\n",
       "      <td>T137</td>\n",
       "      <td>Gendered-Role</td>\n",
       "      <td>0</td>\n",
       "      <td>Linguistic</td>\n",
       "    </tr>\n",
       "    <tr>\n",
       "      <th>11139</th>\n",
       "      <td>Coll-1434_09700.ann</td>\n",
       "      <td>(559, 565)</td>\n",
       "      <td>Prince</td>\n",
       "      <td>16369</td>\n",
       "      <td>T14</td>\n",
       "      <td>Gendered-Role</td>\n",
       "      <td>0</td>\n",
       "      <td>Linguistic</td>\n",
       "    </tr>\n",
       "  </tbody>\n",
       "</table>\n",
       "</div>"
      ],
      "text/plain": [
       "                      file       offsets           text     id entity  \\\n",
       "2260   Coll-1462_00100.ann  (1143, 1156)  granddaughter   3339     T3   \n",
       "10439  Coll-1434_16000.ann  (2393, 2397)           boys  15310    T34   \n",
       "18422  Coll-1109_00100.ann    (480, 492)   Lord Provost  26879     T0   \n",
       "13530  Coll-1383_00600.ann  (8394, 8400)         Master  19689   T137   \n",
       "11139  Coll-1434_09700.ann    (559, 565)         Prince  16369    T14   \n",
       "\n",
       "               label  annotator    category  \n",
       "2260   Gendered-Role          0  Linguistic  \n",
       "10439  Gendered-Role          0  Linguistic  \n",
       "18422  Gendered-Role          0  Linguistic  \n",
       "13530  Gendered-Role          0  Linguistic  \n",
       "11139  Gendered-Role          0  Linguistic  "
      ]
     },
     "execution_count": 31,
     "metadata": {},
     "output_type": "execute_result"
    }
   ],
   "source": [
    "# Drop remove, start, end cols from merged\n",
    "overlaps_for_merged = pd.read_csv(\"overlaps_for_merged.csv\", index_col=0)\n",
    "overlaps_for_merged = overlaps_for_merged.drop(labels=[\"remove\",\"start\",\"end\"], axis=1)\n",
    "overlaps_for_merged.head()"
   ]
  },
  {
   "cell_type": "code",
   "execution_count": 32,
   "metadata": {},
   "outputs": [
    {
     "name": "stdout",
     "output_type": "stream",
     "text": [
      "(76543, 8)\n"
     ]
    }
   ],
   "source": [
    "# Combine the DataFrames\n",
    "aggregated = merged.append(overlaps_for_merged)\n",
    "assert aggregated.shape[0] == merged.shape[0] + overlaps_for_merged.shape[0]\n",
    "# Remove rows where all column values are duplicated (e.g., the same annotation by the same annotator appears more than once)\n",
    "aggregated = aggregated.astype({'file':str, 'offsets':str,'text':str, 'id':int, 'entity':str, 'label':str, 'annotator':int, 'category':str})\n",
    "aggregated = aggregated.drop_duplicates()\n",
    "print(aggregated.shape)  # (Number of rows, Number of columns)"
   ]
  },
  {
   "cell_type": "code",
   "execution_count": 33,
   "metadata": {},
   "outputs": [
    {
     "name": "stdout",
     "output_type": "stream",
     "text": [
      "Rows per Annotator\n",
      "- 0: 31291\n",
      "- 1: 16595\n",
      "- 2: 19733\n",
      "- 3: 4587\n",
      "- 4: 4337\n"
     ]
    }
   ],
   "source": [
    "print(\"Rows per Annotator\")\n",
    "print(\"- 0:\",aggregated.loc[aggregated.annotator == 0].shape[0])\n",
    "print(\"- 1:\",aggregated.loc[aggregated.annotator == 1].shape[0])\n",
    "print(\"- 2:\",aggregated.loc[aggregated.annotator == 2].shape[0])\n",
    "print(\"- 3:\",aggregated.loc[aggregated.annotator == 3].shape[0])\n",
    "print(\"- 4:\",aggregated.loc[aggregated.annotator == 4].shape[0])"
   ]
  },
  {
   "cell_type": "code",
   "execution_count": 34,
   "metadata": {},
   "outputs": [],
   "source": [
    "# Write non-unique aggregated dataset to CSV\n",
    "aggregated.to_csv(\"aggregated_with_annotator_col.csv\")"
   ]
  },
  {
   "cell_type": "code",
   "execution_count": 35,
   "metadata": {},
   "outputs": [
    {
     "data": {
      "text/html": [
       "<div>\n",
       "<style scoped>\n",
       "    .dataframe tbody tr th:only-of-type {\n",
       "        vertical-align: middle;\n",
       "    }\n",
       "\n",
       "    .dataframe tbody tr th {\n",
       "        vertical-align: top;\n",
       "    }\n",
       "\n",
       "    .dataframe thead th {\n",
       "        text-align: right;\n",
       "    }\n",
       "</style>\n",
       "<table border=\"1\" class=\"dataframe\">\n",
       "  <thead>\n",
       "    <tr style=\"text-align: right;\">\n",
       "      <th></th>\n",
       "      <th>file</th>\n",
       "      <th>offsets</th>\n",
       "      <th>text</th>\n",
       "      <th>label</th>\n",
       "      <th>category</th>\n",
       "    </tr>\n",
       "  </thead>\n",
       "  <tbody>\n",
       "    <tr>\n",
       "      <th>0</th>\n",
       "      <td>Coll-1434_11900.ann</td>\n",
       "      <td>(1954, 1957)</td>\n",
       "      <td>his</td>\n",
       "      <td>Generalization</td>\n",
       "      <td>Linguistic</td>\n",
       "    </tr>\n",
       "    <tr>\n",
       "      <th>1</th>\n",
       "      <td>Coll-1397_00100.ann</td>\n",
       "      <td>(2633, 2638)</td>\n",
       "      <td>Lords</td>\n",
       "      <td>Generalization</td>\n",
       "      <td>Linguistic</td>\n",
       "    </tr>\n",
       "    <tr>\n",
       "      <th>2</th>\n",
       "      <td>Coll-1310_00800.ann</td>\n",
       "      <td>(3703, 3706)</td>\n",
       "      <td>Man</td>\n",
       "      <td>Generalization</td>\n",
       "      <td>Linguistic</td>\n",
       "    </tr>\n",
       "    <tr>\n",
       "      <th>3</th>\n",
       "      <td>Coll-1434_14500.ann</td>\n",
       "      <td>(5782, 5788)</td>\n",
       "      <td>cowboy</td>\n",
       "      <td>Generalization</td>\n",
       "      <td>Linguistic</td>\n",
       "    </tr>\n",
       "    <tr>\n",
       "      <th>4</th>\n",
       "      <td>BAI_02300.ann</td>\n",
       "      <td>(1586, 1596)</td>\n",
       "      <td>shipmaster</td>\n",
       "      <td>Generalization</td>\n",
       "      <td>Linguistic</td>\n",
       "    </tr>\n",
       "  </tbody>\n",
       "</table>\n",
       "</div>"
      ],
      "text/plain": [
       "                  file       offsets        text           label    category\n",
       "0  Coll-1434_11900.ann  (1954, 1957)         his  Generalization  Linguistic\n",
       "1  Coll-1397_00100.ann  (2633, 2638)       Lords  Generalization  Linguistic\n",
       "2  Coll-1310_00800.ann  (3703, 3706)         Man  Generalization  Linguistic\n",
       "3  Coll-1434_14500.ann  (5782, 5788)      cowboy  Generalization  Linguistic\n",
       "4        BAI_02300.ann  (1586, 1596)  shipmaster  Generalization  Linguistic"
      ]
     },
     "execution_count": 35,
     "metadata": {},
     "output_type": "execute_result"
    }
   ],
   "source": [
    "# Remove annotator, entity, and id columns\n",
    "unique_aggregated = aggregated.drop(labels=[\"id\",\"entity\",\"annotator\"], axis=1)\n",
    "unique_aggregated.head()"
   ]
  },
  {
   "cell_type": "code",
   "execution_count": 36,
   "metadata": {},
   "outputs": [
    {
     "name": "stdout",
     "output_type": "stream",
     "text": [
      "76543\n",
      "55260\n",
      "Rows Dropped: 21283\n"
     ]
    }
   ],
   "source": [
    "before = unique_aggregated.shape[0]\n",
    "print(before)\n",
    "# Drop duplicate rows (e.g., the same annotation made by different annotators)\n",
    "unique_aggregated = unique_aggregated.drop_duplicates()\n",
    "after = unique_aggregated.shape[0]\n",
    "print(after)\n",
    "print(\"Rows Dropped:\", before-after)"
   ]
  },
  {
   "cell_type": "markdown",
   "metadata": {},
   "source": [
    "21,283 rows that were identical annotations made by more than one annotator have been removed from the aggregated dataset, leaving us with 55,260 rows of unique annotations."
   ]
  },
  {
   "cell_type": "code",
   "execution_count": 37,
   "metadata": {},
   "outputs": [],
   "source": [
    "# Write final aggregated dataset without duplicates to CSV\n",
    "unique_aggregated.to_csv(\"aggregated_final.csv\")"
   ]
  },
  {
   "cell_type": "code",
   "execution_count": null,
   "metadata": {},
   "outputs": [],
   "source": []
  }
 ],
 "metadata": {
  "kernelspec": {
   "display_name": "Python 3",
   "language": "python",
   "name": "python3"
  },
  "language_info": {
   "codemirror_mode": {
    "name": "ipython",
    "version": 3
   },
   "file_extension": ".py",
   "mimetype": "text/x-python",
   "name": "python",
   "nbconvert_exporter": "python",
   "pygments_lexer": "ipython3",
   "version": "3.8.10"
  }
 },
 "nbformat": 4,
 "nbformat_minor": 4
}
