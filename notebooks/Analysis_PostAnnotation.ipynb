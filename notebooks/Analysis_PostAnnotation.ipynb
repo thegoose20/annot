{
 "cells": [
  {
   "cell_type": "markdown",
   "metadata": {},
   "source": [
    "# Gendered Language Annotation in brat\n",
    "\n",
    "Annotation workflow:\n",
    "1. Load metadata descriptions for annotation into [brat](https://brat.nlplab.org/) [completed]\n",
    "2. Specify annotation schema in brat [completed]\n",
    "3. Set up five annotator accounts [completed]\n",
    "4. Annotate descriptions [completed]\n",
    "5. Export annotations [completed]\n",
    "6. Evaluate inter-annotator agreement (IAA)\n",
    "***\n",
    "TABLE OF CONTENTS\n",
    "\n",
    "**I. [Build Annotation DataFrames](#dfs)**\n",
    "  \n",
    "  i. [Functions](#fnct)\n",
    "  \n",
    "  ii. [Annotator Data Loading](#load)\n",
    "\n",
    "**II. [Inter-Annotator Agreement (IAA)](#iaa)**\n",
    "\n",
    "  i. [Prepare the Data](#prep)\n",
    "\n",
    "  ii. [Functions: Find True/False Positives and True/False Negatives](#tfptfn)\n",
    "\n",
    "   * [Contextual Label Analysis](#cont)\n",
    "   * [Linguistic and Person-Name Label Analysis](#ling-pers)\n",
    "  \n",
    "  \n",
    "  iii. [Calculate IAA](#iaa)\n",
    "  \n",
    "  iv. [With bratiaa](#bratiaa)\n",
    "  \n",
    "***"
   ]
  },
  {
   "cell_type": "markdown",
   "metadata": {},
   "source": [
    "#### Import libraries:"
   ]
  },
  {
   "cell_type": "code",
   "execution_count": 12,
   "metadata": {},
   "outputs": [],
   "source": [
    "import pandas as pd\n",
    "import nltk\n",
    "from nltk.tokenize import word_tokenize\n",
    "from nltk.tokenize import sent_tokenize\n",
    "# nltk.download('punkt')\n",
    "from nltk.corpus import PlaintextCorpusReader\n",
    "# nltk.download('averaged_perceptron_tagger')\n",
    "# from nltk.tag import pos_tag\n",
    "import string\n",
    "import csv\n",
    "import re\n",
    "import os\n",
    "from intervaltree import Interval, IntervalTree\n",
    "# import seaborn as sn\n",
    "# import matplotlib.pyplot as plt\n",
    "# from bokeh.plotting import figure,show\n",
    "# from bokeh.io import output_notebook\n",
    "# from bokeh.palettes import Turbo256, viridis\n",
    "# from bokeh.models.mappers import CategoricalColorMapper\n",
    "# output_notebook()"
   ]
  },
  {
   "cell_type": "markdown",
   "metadata": {},
   "source": [
    "#### Remove Unannotated Files:\n",
    "* Annotator 0 labeled through file Coll-146_00800\n",
    "* Annotator 1 labeled through file Coll-1434_14700\n",
    "* Annotator 2 labeled through file Coll-146_28300\n",
    "* Annotator 3 labeled through file Coll-1434_14700\n",
    "* Annotator 4 labeled through file Coll-1497_00400"
   ]
  },
  {
   "cell_type": "code",
   "execution_count": 2,
   "metadata": {},
   "outputs": [],
   "source": [
    "def removeUnannotatedFiles(filepath, last_ann_file):\n",
    "    filenames = os.listdir(filepath)\n",
    "    filenames.sort()\n",
    "    start_len = len(filenames)\n",
    "    # Remove unannotated files\n",
    "    i = filenames.index(last_ann_file) + 1\n",
    "    last_i = len(filenames) - 1\n",
    "    while i <= last_i:\n",
    "        f = os.path.join(filepath, filenames[i])\n",
    "        if os.path.exists(f):\n",
    "            os.remove(f)\n",
    "        i += 1\n",
    "    # Remove the first file in the directory, .stats_cache\n",
    "    stats_cache = os.path.join(filepath, filenames[0])\n",
    "    if os.path.exists(stats_cache):\n",
    "        os.remove(stats_cache)\n",
    "        \n",
    "    end_len = len(os.listdir(filepath))\n",
    "    \n",
    "    print(\"Removed \"+str(start_len - end_len)+\" files from \"+filepath)"
   ]
  },
  {
   "cell_type": "code",
   "execution_count": 3,
   "metadata": {
    "scrolled": true
   },
   "outputs": [
    {
     "name": "stdout",
     "output_type": "stream",
     "text": [
      "Removed 1 files from ../IAA/annotator-0\n",
      "['AA4_00100.txt', 'AA5_00100.ann', 'AA5_00100.txt', 'AA6_00100.ann', 'AA6_00100.txt', 'AA7_00100.ann', 'AA7_00100.txt', 'BAI_00100.ann', 'BAI_00100.txt', 'BAI_00200.ann', 'BAI_00200.txt', 'BAI_00300.ann', 'BAI_00300.txt', 'BAI_00400.ann', 'BAI_00400.txt', 'BAI_00500.ann', 'BAI_00500.txt', 'BAI_00600.ann', 'BAI_00600.txt', 'BAI_00700.ann', 'BAI_00700.txt', 'BAI_00800.ann', 'BAI_00800.txt', 'BAI_00900.ann', 'BAI_00900.txt', 'BAI_01000.ann', 'BAI_01000.txt', 'BAI_01100.ann', 'BAI_01100.txt', 'BAI_01200.ann', 'BAI_01200.txt', 'BAI_01300.ann', 'BAI_01300.txt', 'BAI_01400.ann', 'BAI_01400.txt', 'BAI_01500.ann', 'BAI_01500.txt', 'BAI_01600.ann', 'BAI_01600.txt', 'BAI_01700.ann', 'BAI_01700.txt', 'BAI_01800.ann', 'BAI_01800.txt', 'BAI_01900.ann', 'BAI_01900.txt', 'BAI_02000.ann', 'BAI_02000.txt', 'BAI_02100.ann', 'BAI_02100.txt', 'BAI_02200.ann', 'BAI_02200.txt', 'BAI_02300.ann', 'BAI_02300.txt', 'BAI_02400.ann', 'BAI_02400.txt', 'BAI_02500.ann', 'BAI_02500.txt', 'Coll-1000_00100.ann', 'Coll-1000_00100.txt', 'Coll-1001_00100.ann', 'Coll-1001_00100.txt', 'Coll-1004_00100.ann', 'Coll-1004_00100.txt', 'Coll-100_00100.ann', 'Coll-100_00100.txt', 'Coll-1010_00100.ann', 'Coll-1010_00100.txt', 'Coll-1014_00100.ann', 'Coll-1014_00100.txt', 'Coll-1018_00100.ann', 'Coll-1018_00100.txt', 'Coll-1021_00100.ann', 'Coll-1021_00100.txt', 'Coll-1022_00100.ann', 'Coll-1022_00100.txt', 'Coll-1022_00200.ann', 'Coll-1022_00200.txt', 'Coll-1024_00100.ann', 'Coll-1024_00100.txt', 'Coll-1028_00100.ann', 'Coll-1028_00100.txt', 'Coll-1030_00100.ann', 'Coll-1030_00100.txt', 'Coll-1032_00100.ann', 'Coll-1032_00100.txt', 'Coll-1034_00100.ann', 'Coll-1034_00100.txt', 'Coll-1036_00100.ann', 'Coll-1036_00100.txt', 'Coll-1036_00200.ann', 'Coll-1036_00200.txt', 'Coll-1036_00300.ann', 'Coll-1036_00300.txt', 'Coll-1036_00400.ann', 'Coll-1036_00400.txt', 'Coll-1036_00500.ann', 'Coll-1036_00500.txt', 'Coll-1036_00600.ann', 'Coll-1036_00600.txt', 'Coll-1036_00700.ann', 'Coll-1036_00700.txt', 'Coll-1037_00100.ann', 'Coll-1037_00100.txt', 'Coll-1038_00100.ann', 'Coll-1038_00100.txt', 'Coll-1039_00100.ann', 'Coll-1039_00100.txt', 'Coll-103_00100.ann', 'Coll-103_00100.txt', 'Coll-1041_00100.ann', 'Coll-1041_00100.txt', 'Coll-1044_00100.ann', 'Coll-1044_00100.txt', 'Coll-1046_00100.ann', 'Coll-1046_00100.txt', 'Coll-1048_00100.ann', 'Coll-1048_00100.txt', 'Coll-1050_00100.ann', 'Coll-1050_00100.txt', 'Coll-1052_00100.ann', 'Coll-1052_00100.txt', 'Coll-1054_00100.ann', 'Coll-1054_00100.txt', 'Coll-1055_00100.ann', 'Coll-1055_00100.txt', 'Coll-1057_00100.ann', 'Coll-1057_00100.txt', 'Coll-1057_00200.ann', 'Coll-1057_00200.txt', 'Coll-1057_00300.ann', 'Coll-1057_00300.txt', 'Coll-1057_00400.ann', 'Coll-1057_00400.txt', 'Coll-1057_00500.ann', 'Coll-1057_00500.txt', 'Coll-1057_00600.ann', 'Coll-1057_00600.txt', 'Coll-1057_00700.ann', 'Coll-1057_00700.txt', 'Coll-1057_00800.ann', 'Coll-1057_00800.txt', 'Coll-1057_00900.ann', 'Coll-1057_00900.txt', 'Coll-1057_01000.ann', 'Coll-1057_01000.txt', 'Coll-1058_00100.ann', 'Coll-1058_00100.txt', 'Coll-1059_00100.ann', 'Coll-1059_00100.txt', 'Coll-1060_00100.ann', 'Coll-1060_00100.txt', 'Coll-1061_00100.ann', 'Coll-1061_00100.txt', 'Coll-1061_00200.ann', 'Coll-1061_00200.txt', 'Coll-1061_00300.ann', 'Coll-1061_00300.txt', 'Coll-1061_00400.ann', 'Coll-1061_00400.txt', 'Coll-1061_00500.ann', 'Coll-1061_00500.txt', 'Coll-1061_00600.ann', 'Coll-1061_00600.txt', 'Coll-1061_00700.ann', 'Coll-1061_00700.txt', 'Coll-1061_00800.ann', 'Coll-1061_00800.txt', 'Coll-1061_00900.ann', 'Coll-1061_00900.txt', 'Coll-1062_00100.ann', 'Coll-1062_00100.txt', 'Coll-1063_00100.ann', 'Coll-1063_00100.txt', 'Coll-1064_00100.ann', 'Coll-1064_00100.txt', 'Coll-1064_00200.ann', 'Coll-1064_00200.txt', 'Coll-1064_00300.ann', 'Coll-1064_00300.txt', 'Coll-1064_00400.ann', 'Coll-1064_00400.txt', 'Coll-1064_00500.ann', 'Coll-1064_00500.txt', 'Coll-1064_00600.ann', 'Coll-1064_00600.txt', 'Coll-1064_00700.ann', 'Coll-1064_00700.txt', 'Coll-1064_00800.ann', 'Coll-1064_00800.txt', 'Coll-1066_00100.ann', 'Coll-1066_00100.txt', 'Coll-1068_00100.ann', 'Coll-1068_00100.txt', 'Coll-1069_00100.ann', 'Coll-1069_00100.txt', 'Coll-1070_00100.ann', 'Coll-1070_00100.txt', 'Coll-1071_00100.ann', 'Coll-1071_00100.txt', 'Coll-1072_00100.ann', 'Coll-1072_00100.txt', 'Coll-1075_00100.ann', 'Coll-1075_00100.txt', 'Coll-1076_00100.ann', 'Coll-1076_00100.txt', 'Coll-1077_00100.ann', 'Coll-1077_00100.txt', 'Coll-1079_00100.ann', 'Coll-1079_00100.txt', 'Coll-1080_00100.ann', 'Coll-1080_00100.txt', 'Coll-1081_00100.ann', 'Coll-1081_00100.txt', 'Coll-1082_00100.ann', 'Coll-1082_00100.txt', 'Coll-1083_00100.ann', 'Coll-1083_00100.txt', 'Coll-1084_00100.ann', 'Coll-1084_00100.txt', 'Coll-1085_00100.ann', 'Coll-1085_00100.txt', 'Coll-1086_00100.ann', 'Coll-1086_00100.txt', 'Coll-1087_00100.ann', 'Coll-1087_00100.txt', 'Coll-1088_00100.ann', 'Coll-1088_00100.txt', 'Coll-1089_00100.ann', 'Coll-1089_00100.txt', 'Coll-1090_00100.ann', 'Coll-1090_00100.txt', 'Coll-1091_00100.ann', 'Coll-1091_00100.txt', 'Coll-1092_00100.ann', 'Coll-1092_00100.txt', 'Coll-1093_00100.ann', 'Coll-1093_00100.txt', 'Coll-1096_00100.ann', 'Coll-1096_00100.txt', 'Coll-1097_00100.ann', 'Coll-1097_00100.txt', 'Coll-1099_00100.ann', 'Coll-1099_00100.txt', 'Coll-1100_00100.ann', 'Coll-1100_00100.txt', 'Coll-1101_00100.ann', 'Coll-1101_00100.txt', 'Coll-1102_00100.ann', 'Coll-1102_00100.txt', 'Coll-1103_00100.ann', 'Coll-1103_00100.txt', 'Coll-1104_00100.ann', 'Coll-1104_00100.txt', 'Coll-1105_00100.ann', 'Coll-1105_00100.txt', 'Coll-1106_00100.ann', 'Coll-1106_00100.txt', 'Coll-1107_00100.ann', 'Coll-1107_00100.txt', 'Coll-1108_00100.ann', 'Coll-1108_00100.txt', 'Coll-1109_00100.ann', 'Coll-1109_00100.txt', 'Coll-1110_00100.ann', 'Coll-1110_00100.txt', 'Coll-1111_00100.ann', 'Coll-1111_00100.txt', 'Coll-1114_00100.ann', 'Coll-1114_00100.txt', 'Coll-1115_00100.ann', 'Coll-1115_00100.txt', 'Coll-1116_00100.ann', 'Coll-1116_00100.txt', 'Coll-1117_00100.ann', 'Coll-1117_00100.txt', 'Coll-1118_00100.ann', 'Coll-1118_00100.txt', 'Coll-1119_00100.ann', 'Coll-1119_00100.txt', 'Coll-1121_00100.ann', 'Coll-1121_00100.txt', 'Coll-1122_00100.ann', 'Coll-1122_00100.txt', 'Coll-1123_00100.ann', 'Coll-1123_00100.txt', 'Coll-1124_00100.ann', 'Coll-1124_00100.txt', 'Coll-1125_00100.ann', 'Coll-1125_00100.txt', 'Coll-1126_00100.ann', 'Coll-1126_00100.txt', 'Coll-1127_00100.ann', 'Coll-1127_00100.txt', 'Coll-1129_00100.ann', 'Coll-1129_00100.txt', 'Coll-1130_00100.ann', 'Coll-1130_00100.txt', 'Coll-1133_00100.ann', 'Coll-1133_00100.txt', 'Coll-1134_00100.ann', 'Coll-1134_00100.txt', 'Coll-1135_00100.ann', 'Coll-1135_00100.txt', 'Coll-1136_00100.ann', 'Coll-1136_00100.txt', 'Coll-1137_00100.ann', 'Coll-1137_00100.txt', 'Coll-1138_00100.ann', 'Coll-1138_00100.txt', 'Coll-1139_00100.ann', 'Coll-1139_00100.txt', 'Coll-1140_00100.ann', 'Coll-1140_00100.txt', 'Coll-1142_00100.ann', 'Coll-1142_00100.txt', 'Coll-1143_00100.ann', 'Coll-1143_00100.txt', 'Coll-1145_00100.ann', 'Coll-1145_00100.txt', 'Coll-1146_00100.ann', 'Coll-1146_00100.txt', 'Coll-1148_00100.ann', 'Coll-1148_00100.txt', 'Coll-1149_00100.ann', 'Coll-1149_00100.txt', 'Coll-1150_00100.ann', 'Coll-1150_00100.txt', 'Coll-1151_00100.ann', 'Coll-1151_00100.txt', 'Coll-1152_00100.ann', 'Coll-1152_00100.txt', 'Coll-1153_00100.ann', 'Coll-1153_00100.txt', 'Coll-1154_00100.ann', 'Coll-1154_00100.txt', 'Coll-1155_00100.ann', 'Coll-1155_00100.txt', 'Coll-1156_00100.ann', 'Coll-1156_00100.txt', 'Coll-1157_00100.ann', 'Coll-1157_00100.txt', 'Coll-1158_00100.ann', 'Coll-1158_00100.txt', 'Coll-1159_00100.ann', 'Coll-1159_00100.txt', 'Coll-1160_00100.ann', 'Coll-1160_00100.txt', 'Coll-1161_00100.ann', 'Coll-1161_00100.txt', 'Coll-1162_00100.ann', 'Coll-1162_00100.txt', 'Coll-1163_00100.ann', 'Coll-1163_00100.txt', 'Coll-1164_00100.ann', 'Coll-1164_00100.txt', 'Coll-1165_00100.ann', 'Coll-1165_00100.txt', 'Coll-1166_00100.ann', 'Coll-1166_00100.txt', 'Coll-1167_00100.ann', 'Coll-1167_00100.txt', 'Coll-1167_00200.ann', 'Coll-1167_00200.txt', 'Coll-1167_00300.ann', 'Coll-1167_00300.txt', 'Coll-1167_00400.ann', 'Coll-1167_00400.txt', 'Coll-1167_00500.ann', 'Coll-1167_00500.txt', 'Coll-1167_00600.ann', 'Coll-1167_00600.txt', 'Coll-1167_00700.ann', 'Coll-1167_00700.txt', 'Coll-1167_00800.ann', 'Coll-1167_00800.txt', 'Coll-1167_00900.ann', 'Coll-1167_00900.txt', 'Coll-1167_01000.ann', 'Coll-1167_01000.txt', 'Coll-1167_01100.ann', 'Coll-1167_01100.txt', 'Coll-1167_01200.ann', 'Coll-1167_01200.txt', 'Coll-1167_01300.ann', 'Coll-1167_01300.txt', 'Coll-1167_01400.ann', 'Coll-1167_01400.txt', 'Coll-1167_01500.ann', 'Coll-1167_01500.txt', 'Coll-1167_01600.ann', 'Coll-1167_01600.txt', 'Coll-1168_00100.ann', 'Coll-1168_00100.txt', 'Coll-1170_00100.ann', 'Coll-1170_00100.txt', 'Coll-1171_00100.ann', 'Coll-1171_00100.txt', 'Coll-1172_00100.ann', 'Coll-1172_00100.txt', 'Coll-1173_00100.ann', 'Coll-1173_00100.txt', 'Coll-1174_00100.ann', 'Coll-1174_00100.txt', 'Coll-1175_00100.ann', 'Coll-1175_00100.txt', 'Coll-1176_00100.ann', 'Coll-1176_00100.txt', 'Coll-1179_00100.ann', 'Coll-1179_00100.txt', 'Coll-1180_00100.ann', 'Coll-1180_00100.txt', 'Coll-1181_00100.ann', 'Coll-1181_00100.txt', 'Coll-1182_00100.ann', 'Coll-1182_00100.txt', 'Coll-11_00100.ann', 'Coll-11_00100.txt', 'Coll-1234_00100.ann', 'Coll-1234_00100.txt', 'Coll-1235_00100.ann', 'Coll-1235_00100.txt', 'Coll-1236_00100.ann', 'Coll-1236_00100.txt', 'Coll-1237_00100.ann', 'Coll-1237_00100.txt', 'Coll-1238_00100.ann', 'Coll-1238_00100.txt', 'Coll-1239_00100.ann', 'Coll-1239_00100.txt', 'Coll-1240_00100.ann', 'Coll-1240_00100.txt', 'Coll-1241_00100.ann', 'Coll-1241_00100.txt', 'Coll-1242_00100.ann', 'Coll-1242_00100.txt', 'Coll-1243_00100.ann', 'Coll-1243_00100.txt', 'Coll-1244_00100.ann', 'Coll-1244_00100.txt', 'Coll-1245_00100.ann', 'Coll-1245_00100.txt', 'Coll-1246_00100.ann', 'Coll-1246_00100.txt', 'Coll-1247_00100.ann', 'Coll-1247_00100.txt', 'Coll-1248_00100.ann', 'Coll-1248_00100.txt', 'Coll-1250_00100.ann', 'Coll-1250_00100.txt', 'Coll-1251_00100.ann', 'Coll-1251_00100.txt', 'Coll-1252_00100.ann', 'Coll-1252_00100.txt', 'Coll-1253_00100.ann', 'Coll-1253_00100.txt', 'Coll-1254_00100.ann', 'Coll-1254_00100.txt', 'Coll-1255_00100.ann', 'Coll-1255_00100.txt', 'Coll-1255_00200.ann', 'Coll-1255_00200.txt', 'Coll-1255_00300.ann', 'Coll-1255_00300.txt', 'Coll-1255_00400.ann', 'Coll-1255_00400.txt', 'Coll-1255_00500.ann', 'Coll-1255_00500.txt', 'Coll-1255_00600.ann', 'Coll-1255_00600.txt', 'Coll-1255_00700.ann', 'Coll-1255_00700.txt', 'Coll-1255_00800.ann', 'Coll-1255_00800.txt', 'Coll-1255_00900.ann', 'Coll-1255_00900.txt', 'Coll-1255_01000.ann', 'Coll-1255_01000.txt', 'Coll-1255_01100.ann', 'Coll-1255_01100.txt', 'Coll-1255_01200.ann', 'Coll-1255_01200.txt', 'Coll-1255_01300.ann', 'Coll-1255_01300.txt', 'Coll-1256_00100.ann', 'Coll-1256_00100.txt', 'Coll-1257_00100.ann', 'Coll-1257_00100.txt', 'Coll-1258_00100.ann', 'Coll-1258_00100.txt', 'Coll-1259_00100.ann', 'Coll-1259_00100.txt', 'Coll-125_00100.ann', 'Coll-125_00100.txt', 'Coll-1260_00100.ann', 'Coll-1260_00100.txt', 'Coll-1261_00100.ann', 'Coll-1261_00100.txt', 'Coll-1262_00100.ann', 'Coll-1262_00100.txt', 'Coll-1263_00100.ann', 'Coll-1263_00100.txt', 'Coll-1264_00100.ann', 'Coll-1264_00100.txt', 'Coll-1265_00100.ann', 'Coll-1265_00100.txt', 'Coll-1266_00100.ann', 'Coll-1266_00100.txt', 'Coll-1266_00200.ann', 'Coll-1266_00200.txt', 'Coll-1266_00300.ann', 'Coll-1266_00300.txt', 'Coll-1267_00100.ann', 'Coll-1267_00100.txt', 'Coll-1269_00100.ann', 'Coll-1269_00100.txt', 'Coll-126_00100.ann', 'Coll-126_00100.txt', 'Coll-1270_00100.ann', 'Coll-1270_00100.txt', 'Coll-1271_00100.ann', 'Coll-1271_00100.txt', 'Coll-1272_00100.ann', 'Coll-1272_00100.txt', 'Coll-1273_00100.ann', 'Coll-1273_00100.txt', 'Coll-1274_00100.ann', 'Coll-1274_00100.txt', 'Coll-1275_00100.ann', 'Coll-1275_00100.txt', 'Coll-1276_00100.ann', 'Coll-1276_00100.txt', 'Coll-1277_00100.ann', 'Coll-1277_00100.txt', 'Coll-1279_00100.ann', 'Coll-1279_00100.txt', 'Coll-127_00100.ann', 'Coll-127_00100.txt', 'Coll-1280_00100.ann', 'Coll-1280_00100.txt', 'Coll-1281_00100.ann', 'Coll-1281_00100.txt', 'Coll-1282_00100.ann', 'Coll-1282_00100.txt', 'Coll-1283_00100.ann', 'Coll-1283_00100.txt', 'Coll-1285_00100.ann', 'Coll-1285_00100.txt', 'Coll-1287_00100.ann', 'Coll-1287_00100.txt', 'Coll-1288_00100.ann', 'Coll-1288_00100.txt', 'Coll-1289_00100.ann', 'Coll-1289_00100.txt', 'Coll-1290_00100.ann', 'Coll-1290_00100.txt', 'Coll-1291_00100.ann', 'Coll-1291_00100.txt', 'Coll-1292_00100.ann', 'Coll-1292_00100.txt', 'Coll-1293_00100.ann', 'Coll-1293_00100.txt', 'Coll-1294_00100.ann', 'Coll-1294_00100.txt', 'Coll-1296_00100.ann', 'Coll-1296_00100.txt', 'Coll-1297_00100.ann', 'Coll-1297_00100.txt', 'Coll-1298_00100.ann', 'Coll-1298_00100.txt', 'Coll-1299_00100.ann', 'Coll-1299_00100.txt', 'Coll-1300_00100.ann', 'Coll-1300_00100.txt', 'Coll-1301_00100.ann', 'Coll-1301_00100.txt', 'Coll-1302_00100.ann', 'Coll-1302_00100.txt', 'Coll-1304_00100.ann', 'Coll-1304_00100.txt', 'Coll-1305_00100.ann', 'Coll-1305_00100.txt', 'Coll-1306_00100.ann', 'Coll-1306_00100.txt', 'Coll-1307_00100.ann', 'Coll-1307_00100.txt', 'Coll-1308_00100.ann', 'Coll-1308_00100.txt', 'Coll-1309_00100.ann', 'Coll-1309_00100.txt', 'Coll-1310_00100.ann', 'Coll-1310_00100.txt', 'Coll-1310_00200.ann', 'Coll-1310_00200.txt', 'Coll-1310_00300.ann', 'Coll-1310_00300.txt', 'Coll-1310_00400.ann', 'Coll-1310_00400.txt', 'Coll-1310_00500.ann', 'Coll-1310_00500.txt', 'Coll-1310_00600.ann', 'Coll-1310_00600.txt', 'Coll-1310_00700.ann', 'Coll-1310_00700.txt', 'Coll-1310_00800.ann', 'Coll-1310_00800.txt', 'Coll-1310_00900.ann', 'Coll-1310_00900.txt', 'Coll-1310_01000.ann', 'Coll-1310_01000.txt', 'Coll-1310_01100.ann', 'Coll-1310_01100.txt', 'Coll-1310_01200.ann', 'Coll-1310_01200.txt', 'Coll-1310_01300.ann', 'Coll-1310_01300.txt', 'Coll-1310_01400.ann', 'Coll-1310_01400.txt', 'Coll-1310_01500.ann', 'Coll-1310_01500.txt', 'Coll-1310_01600.ann', 'Coll-1310_01600.txt', 'Coll-1310_01700.ann', 'Coll-1310_01700.txt', 'Coll-1310_01800.ann', 'Coll-1310_01800.txt', 'Coll-1310_01900.ann', 'Coll-1310_01900.txt', 'Coll-1310_02000.ann', 'Coll-1310_02000.txt', 'Coll-1310_02100.ann', 'Coll-1310_02100.txt', 'Coll-1310_02200.ann', 'Coll-1310_02200.txt', 'Coll-1310_02300.ann', 'Coll-1310_02300.txt', 'Coll-1310_02400.ann', 'Coll-1310_02400.txt', 'Coll-1310_02500.ann', 'Coll-1310_02500.txt', 'Coll-1310_02600.ann', 'Coll-1310_02600.txt', 'Coll-1310_02700.ann', 'Coll-1310_02700.txt', 'Coll-1310_02800.ann', 'Coll-1310_02800.txt', 'Coll-1310_02900.ann', 'Coll-1310_02900.txt', 'Coll-1310_03000.ann', 'Coll-1310_03000.txt', 'Coll-1311_00100.ann', 'Coll-1311_00100.txt', 'Coll-1312_00100.ann', 'Coll-1312_00100.txt', 'Coll-1313_00100.ann', 'Coll-1313_00100.txt', 'Coll-1314_00100.ann', 'Coll-1314_00100.txt', 'Coll-1315_00100.ann', 'Coll-1315_00100.txt', 'Coll-1316_00100.ann', 'Coll-1316_00100.txt', 'Coll-1317_00100.ann', 'Coll-1317_00100.txt', 'Coll-1318_00100.ann', 'Coll-1318_00100.txt', 'Coll-1319_00100.ann', 'Coll-1319_00100.txt', 'Coll-1320_00100.ann', 'Coll-1320_00100.txt', 'Coll-1320_00200.ann', 'Coll-1320_00200.txt', 'Coll-1320_00300.ann', 'Coll-1320_00300.txt', 'Coll-1320_00400.ann', 'Coll-1320_00400.txt', 'Coll-1320_00500.ann', 'Coll-1320_00500.txt', 'Coll-1320_00600.ann', 'Coll-1320_00600.txt', 'Coll-1320_00700.ann', 'Coll-1320_00700.txt', 'Coll-1320_00800.ann', 'Coll-1320_00800.txt', 'Coll-1320_00900.ann', 'Coll-1320_00900.txt', 'Coll-1320_01000.ann', 'Coll-1320_01000.txt', 'Coll-1320_01100.ann', 'Coll-1320_01100.txt', 'Coll-1320_01200.ann', 'Coll-1320_01200.txt', 'Coll-1320_01300.ann', 'Coll-1320_01300.txt', 'Coll-1320_01400.ann', 'Coll-1320_01400.txt', 'Coll-1320_01500.ann', 'Coll-1320_01500.txt', 'Coll-1320_01600.ann', 'Coll-1320_01600.txt', 'Coll-1320_01700.ann', 'Coll-1320_01700.txt', 'Coll-1320_01800.ann', 'Coll-1320_01800.txt', 'Coll-1320_01900.ann', 'Coll-1320_01900.txt', 'Coll-1320_02000.ann', 'Coll-1320_02000.txt', 'Coll-1321_00100.ann', 'Coll-1321_00100.txt', 'Coll-1322_00100.ann', 'Coll-1322_00100.txt', 'Coll-1323_00100.ann', 'Coll-1323_00100.txt', 'Coll-1324_00100.ann', 'Coll-1324_00100.txt', 'Coll-1325_00100.ann', 'Coll-1325_00100.txt', 'Coll-1326_00100.ann', 'Coll-1326_00100.txt', 'Coll-1327_00100.ann', 'Coll-1327_00100.txt', 'Coll-1328_00100.ann', 'Coll-1328_00100.txt', 'Coll-1329_00100.ann', 'Coll-1329_00100.txt', 'Coll-132_00100.ann', 'Coll-132_00100.txt', 'Coll-134_00100.ann', 'Coll-134_00100.txt', 'Coll-1350_00100.ann', 'Coll-1350_00100.txt', 'Coll-1351_00100.ann', 'Coll-1351_00100.txt', 'Coll-1357_00100.ann', 'Coll-1357_00100.txt', 'Coll-135_00100.ann', 'Coll-135_00100.txt', 'Coll-1362_00100.ann', 'Coll-1362_00100.txt', 'Coll-1362_00200.ann', 'Coll-1362_00200.txt', 'Coll-1362_00300.ann', 'Coll-1362_00300.txt', 'Coll-1362_00400.ann', 'Coll-1362_00400.txt', 'Coll-1362_00500.ann', 'Coll-1362_00500.txt', 'Coll-1362_00600.ann', 'Coll-1362_00600.txt', 'Coll-1362_00700.ann', 'Coll-1362_00700.txt', 'Coll-1362_00800.ann', 'Coll-1362_00800.txt', 'Coll-1362_00900.ann', 'Coll-1362_00900.txt', 'Coll-1362_01000.ann', 'Coll-1362_01000.txt', 'Coll-1362_01100.ann', 'Coll-1362_01100.txt', 'Coll-1362_01200.ann', 'Coll-1362_01200.txt', 'Coll-1362_01300.ann', 'Coll-1362_01300.txt', 'Coll-1362_01400.ann', 'Coll-1362_01400.txt', 'Coll-1362_01500.ann', 'Coll-1362_01500.txt', 'Coll-1362_01600.ann', 'Coll-1362_01600.txt', 'Coll-1362_01700.ann', 'Coll-1362_01700.txt', 'Coll-1362_01800.ann', 'Coll-1362_01800.txt', 'Coll-1362_01900.ann', 'Coll-1362_01900.txt', 'Coll-1362_02000.ann', 'Coll-1362_02000.txt', 'Coll-1362_02100.ann', 'Coll-1362_02100.txt', 'Coll-1362_02200.ann', 'Coll-1362_02200.txt', 'Coll-1362_02300.ann', 'Coll-1362_02300.txt', 'Coll-1362_02400.ann', 'Coll-1362_02400.txt', 'Coll-1362_02500.ann', 'Coll-1362_02500.txt', 'Coll-1362_02600.ann', 'Coll-1362_02600.txt', 'Coll-1362_02700.ann', 'Coll-1362_02700.txt', 'Coll-1362_02800.ann', 'Coll-1362_02800.txt', 'Coll-1362_02900.ann', 'Coll-1362_02900.txt', 'Coll-1362_03000.ann', 'Coll-1362_03000.txt', 'Coll-1362_03100.ann', 'Coll-1362_03100.txt', 'Coll-1362_03200.ann', 'Coll-1362_03200.txt', 'Coll-1362_03300.ann', 'Coll-1362_03300.txt', 'Coll-1362_03400.ann', 'Coll-1362_03400.txt', 'Coll-1362_03500.ann', 'Coll-1362_03500.txt', 'Coll-1362_03600.ann', 'Coll-1362_03600.txt', 'Coll-1362_03700.ann', 'Coll-1362_03700.txt', 'Coll-1362_03800.ann', 'Coll-1362_03800.txt', 'Coll-1362_03900.ann', 'Coll-1362_03900.txt', 'Coll-1362_04000.ann', 'Coll-1362_04000.txt', 'Coll-1362_04100.ann', 'Coll-1362_04100.txt', 'Coll-1362_04200.ann', 'Coll-1362_04200.txt', 'Coll-1362_04300.ann', 'Coll-1362_04300.txt', 'Coll-1362_04400.ann', 'Coll-1362_04400.txt', 'Coll-1362_04500.ann', 'Coll-1362_04500.txt', 'Coll-1362_04600.ann', 'Coll-1362_04600.txt', 'Coll-1362_04700.ann', 'Coll-1362_04700.txt', 'Coll-1362_04800.ann', 'Coll-1362_04800.txt', 'Coll-1362_04900.ann', 'Coll-1362_04900.txt', 'Coll-1362_05000.ann', 'Coll-1362_05000.txt', 'Coll-1362_05100.ann', 'Coll-1362_05100.txt', 'Coll-1362_05200.ann', 'Coll-1362_05200.txt', 'Coll-1362_05300.ann', 'Coll-1362_05300.txt', 'Coll-1362_05400.ann', 'Coll-1362_05400.txt', 'Coll-1362_05500.ann', 'Coll-1362_05500.txt', 'Coll-1362_05600.ann', 'Coll-1362_05600.txt', 'Coll-1362_05700.ann', 'Coll-1362_05700.txt', 'Coll-1362_05800.ann', 'Coll-1362_05800.txt', 'Coll-1362_05900.ann', 'Coll-1362_05900.txt', 'Coll-1362_06000.ann', 'Coll-1362_06000.txt', 'Coll-1362_06100.ann', 'Coll-1362_06100.txt', 'Coll-1362_06200.ann', 'Coll-1362_06200.txt', 'Coll-1362_06300.ann', 'Coll-1362_06300.txt', 'Coll-1362_06400.ann', 'Coll-1362_06400.txt', 'Coll-1362_06500.ann', 'Coll-1362_06500.txt', 'Coll-1362_06600.ann', 'Coll-1362_06600.txt', 'Coll-1362_06700.ann', 'Coll-1362_06700.txt', 'Coll-1362_06800.ann', 'Coll-1362_06800.txt', 'Coll-1362_06900.ann', 'Coll-1362_06900.txt', 'Coll-1362_07000.ann', 'Coll-1362_07000.txt', 'Coll-1362_07100.ann', 'Coll-1362_07100.txt', 'Coll-1362_07200.ann', 'Coll-1362_07200.txt', 'Coll-1362_07300.ann', 'Coll-1362_07300.txt', 'Coll-1362_07400.ann', 'Coll-1362_07400.txt', 'Coll-1362_07500.ann', 'Coll-1362_07500.txt', 'Coll-1362_07600.ann', 'Coll-1362_07600.txt', 'Coll-1362_07700.ann', 'Coll-1362_07700.txt', 'Coll-1362_07800.ann', 'Coll-1362_07800.txt', 'Coll-1362_07900.ann', 'Coll-1362_07900.txt', 'Coll-1362_08000.ann', 'Coll-1362_08000.txt', 'Coll-1362_08100.ann', 'Coll-1362_08100.txt', 'Coll-1362_08200.ann', 'Coll-1362_08200.txt', 'Coll-1362_08300.ann', 'Coll-1362_08300.txt', 'Coll-1362_08400.ann', 'Coll-1362_08400.txt', 'Coll-1362_08500.ann', 'Coll-1362_08500.txt', 'Coll-1362_08600.ann', 'Coll-1362_08600.txt', 'Coll-1362_08700.ann', 'Coll-1362_08700.txt', 'Coll-1362_08800.ann', 'Coll-1362_08800.txt', 'Coll-1362_08900.ann', 'Coll-1362_08900.txt', 'Coll-1362_09000.ann', 'Coll-1362_09000.txt', 'Coll-1362_09100.ann', 'Coll-1362_09100.txt', 'Coll-1362_09200.ann', 'Coll-1362_09200.txt', 'Coll-1362_09300.ann', 'Coll-1362_09300.txt', 'Coll-1362_09400.ann', 'Coll-1362_09400.txt', 'Coll-1362_09500.ann', 'Coll-1362_09500.txt', 'Coll-1362_09600.ann', 'Coll-1362_09600.txt', 'Coll-1362_09700.ann', 'Coll-1362_09700.txt', 'Coll-1362_09800.ann', 'Coll-1362_09800.txt', 'Coll-1362_09900.ann', 'Coll-1362_09900.txt', 'Coll-1362_10000.ann', 'Coll-1362_10000.txt', 'Coll-1362_10100.ann', 'Coll-1362_10100.txt', 'Coll-1362_10200.ann', 'Coll-1362_10200.txt', 'Coll-1362_10300.ann', 'Coll-1362_10300.txt', 'Coll-1362_10400.ann', 'Coll-1362_10400.txt', 'Coll-1362_10500.ann', 'Coll-1362_10500.txt', 'Coll-1362_10600.ann', 'Coll-1362_10600.txt', 'Coll-1362_10700.ann', 'Coll-1362_10700.txt', 'Coll-1362_10800.ann', 'Coll-1362_10800.txt', 'Coll-1362_10900.ann', 'Coll-1362_10900.txt', 'Coll-1362_11000.ann', 'Coll-1362_11000.txt', 'Coll-1362_11100.ann', 'Coll-1362_11100.txt', 'Coll-1362_11200.ann', 'Coll-1362_11200.txt', 'Coll-1362_11300.ann', 'Coll-1362_11300.txt', 'Coll-1362_11400.ann', 'Coll-1362_11400.txt', 'Coll-1362_11500.ann', 'Coll-1362_11500.txt', 'Coll-1362_11600.ann', 'Coll-1362_11600.txt', 'Coll-1362_11700.ann', 'Coll-1362_11700.txt', 'Coll-1362_11800.ann', 'Coll-1362_11800.txt', 'Coll-1362_11900.ann', 'Coll-1362_11900.txt', 'Coll-1362_12000.ann', 'Coll-1362_12000.txt', 'Coll-1362_12100.ann', 'Coll-1362_12100.txt', 'Coll-1362_12200.ann', 'Coll-1362_12200.txt', 'Coll-1362_12300.ann', 'Coll-1362_12300.txt', 'Coll-1362_12400.ann', 'Coll-1362_12400.txt', 'Coll-1362_12500.ann', 'Coll-1362_12500.txt', 'Coll-1362_12600.ann', 'Coll-1362_12600.txt', 'Coll-1362_12700.ann', 'Coll-1362_12700.txt', 'Coll-1363_00100.ann', 'Coll-1363_00100.txt', 'Coll-1364_00100.ann', 'Coll-1364_00100.txt', 'Coll-1364_00200.ann', 'Coll-1364_00200.txt', 'Coll-1364_00300.ann', 'Coll-1364_00300.txt', 'Coll-1364_00400.ann', 'Coll-1364_00400.txt', 'Coll-1364_00500.ann', 'Coll-1364_00500.txt', 'Coll-1364_00600.ann', 'Coll-1364_00600.txt', 'Coll-1364_00700.ann', 'Coll-1364_00700.txt', 'Coll-1364_00800.ann', 'Coll-1364_00800.txt', 'Coll-1364_00900.ann', 'Coll-1364_00900.txt', 'Coll-1364_01000.ann', 'Coll-1364_01000.txt', 'Coll-1364_01100.ann', 'Coll-1364_01100.txt', 'Coll-1366_00100.ann', 'Coll-1366_00100.txt', 'Coll-1369_00100.ann', 'Coll-1369_00100.txt', 'Coll-1370_00100.ann', 'Coll-1370_00100.txt', 'Coll-1371_00100.ann', 'Coll-1371_00100.txt', 'Coll-1372_00100.ann', 'Coll-1372_00100.txt', 'Coll-1373_00100.ann', 'Coll-1373_00100.txt', 'Coll-1374_00100.ann', 'Coll-1374_00100.txt', 'Coll-1375_00100.ann', 'Coll-1375_00100.txt', 'Coll-1378_00100.ann', 'Coll-1378_00100.txt', 'Coll-1379_00100.ann', 'Coll-1379_00100.txt', 'Coll-1383_00100.ann', 'Coll-1383_00100.txt', 'Coll-1383_00200.ann', 'Coll-1383_00200.txt', 'Coll-1383_00300.ann', 'Coll-1383_00300.txt', 'Coll-1383_00400.ann', 'Coll-1383_00400.txt', 'Coll-1383_00500.ann', 'Coll-1383_00500.txt', 'Coll-1383_00600.ann', 'Coll-1383_00600.txt', 'Coll-1383_00700.ann', 'Coll-1383_00700.txt', 'Coll-1383_00800.ann', 'Coll-1383_00800.txt', 'Coll-1384_00100.ann', 'Coll-1384_00100.txt', 'Coll-1385_00100.ann', 'Coll-1385_00100.txt', 'Coll-1385_00200.ann', 'Coll-1385_00200.txt', 'Coll-1385_00300.ann', 'Coll-1385_00300.txt', 'Coll-1385_00400.ann', 'Coll-1385_00400.txt', 'Coll-1387_00100.ann', 'Coll-1387_00100.txt', 'Coll-1391_00100.ann', 'Coll-1391_00100.txt', 'Coll-1394_00100.ann', 'Coll-1394_00100.txt', 'Coll-1395_00100.ann', 'Coll-1395_00100.txt', 'Coll-1396_00100.ann', 'Coll-1396_00100.txt', 'Coll-1397_00100.ann', 'Coll-1397_00100.txt', 'Coll-1398_00100.ann', 'Coll-1398_00100.txt', 'Coll-139_00100.ann', 'Coll-139_00100.txt', 'Coll-13_00100.ann', 'Coll-13_00100.txt', 'Coll-13_00200.ann', 'Coll-13_00200.txt', 'Coll-13_00300.ann', 'Coll-13_00300.txt', 'Coll-13_00400.ann', 'Coll-13_00400.txt', 'Coll-13_00500.ann', 'Coll-13_00500.txt', 'Coll-13_00600.ann', 'Coll-13_00600.txt', 'Coll-13_00700.ann', 'Coll-13_00700.txt', 'Coll-13_00800.ann', 'Coll-13_00800.txt', 'Coll-13_00900.ann', 'Coll-13_00900.txt', 'Coll-13_01000.ann', 'Coll-13_01000.txt', 'Coll-13_01100.ann', 'Coll-13_01100.txt', 'Coll-13_01200.ann', 'Coll-13_01200.txt', 'Coll-13_01300.ann', 'Coll-13_01300.txt', 'Coll-13_01400.ann', 'Coll-13_01400.txt', 'Coll-13_01500.ann', 'Coll-13_01500.txt', 'Coll-13_01600.ann', 'Coll-13_01600.txt', 'Coll-1400_00100.ann', 'Coll-1400_00100.txt', 'Coll-1401_00100.ann', 'Coll-1401_00100.txt', 'Coll-1402_00100.ann', 'Coll-1402_00100.txt', 'Coll-1403_00100.ann', 'Coll-1403_00100.txt', 'Coll-1404_00100.ann', 'Coll-1404_00100.txt', 'Coll-1405_00100.ann', 'Coll-1405_00100.txt', 'Coll-1410_00100.ann', 'Coll-1410_00100.txt', 'Coll-1411_00100.ann', 'Coll-1411_00100.txt', 'Coll-1412_00100.ann', 'Coll-1412_00100.txt', 'Coll-1413_00100.ann', 'Coll-1413_00100.txt', 'Coll-1414_00100.ann', 'Coll-1414_00100.txt', 'Coll-1415_00100.ann', 'Coll-1415_00100.txt', 'Coll-1416_00100.ann', 'Coll-1416_00100.txt', 'Coll-1417_00100.ann', 'Coll-1417_00100.txt', 'Coll-1418_00100.ann', 'Coll-1418_00100.txt', 'Coll-1419_00100.ann', 'Coll-1419_00100.txt', 'Coll-1421_00100.ann', 'Coll-1421_00100.txt', 'Coll-1422_00100.ann', 'Coll-1422_00100.txt', 'Coll-1423_00100.ann', 'Coll-1423_00100.txt', 'Coll-1424_00100.ann', 'Coll-1424_00100.txt', 'Coll-1425_00100.ann', 'Coll-1425_00100.txt', 'Coll-1426_00100.ann', 'Coll-1426_00100.txt', 'Coll-1427_00100.ann', 'Coll-1427_00100.txt', 'Coll-1428_00100.ann', 'Coll-1428_00100.txt', 'Coll-1429_00100.ann', 'Coll-1429_00100.txt', 'Coll-1430_00100.ann', 'Coll-1430_00100.txt', 'Coll-1431_00100.ann', 'Coll-1431_00100.txt', 'Coll-1432_00100.ann', 'Coll-1432_00100.txt', 'Coll-1434_00100.ann', 'Coll-1434_00100.txt', 'Coll-1434_00200.ann', 'Coll-1434_00200.txt', 'Coll-1434_00300.ann', 'Coll-1434_00300.txt', 'Coll-1434_00400.ann', 'Coll-1434_00400.txt', 'Coll-1434_00500.ann', 'Coll-1434_00500.txt', 'Coll-1434_00600.ann', 'Coll-1434_00600.txt', 'Coll-1434_00700.ann', 'Coll-1434_00700.txt', 'Coll-1434_00800.ann', 'Coll-1434_00800.txt', 'Coll-1434_00900.ann', 'Coll-1434_00900.txt', 'Coll-1434_01000.ann', 'Coll-1434_01000.txt', 'Coll-1434_01100.ann', 'Coll-1434_01100.txt', 'Coll-1434_01200.ann', 'Coll-1434_01200.txt', 'Coll-1434_01300.ann', 'Coll-1434_01300.txt', 'Coll-1434_01400.ann', 'Coll-1434_01400.txt', 'Coll-1434_01500.ann', 'Coll-1434_01500.txt', 'Coll-1434_01600.ann', 'Coll-1434_01600.txt', 'Coll-1434_01700.ann', 'Coll-1434_01700.txt', 'Coll-1434_01800.ann', 'Coll-1434_01800.txt', 'Coll-1434_01900.ann', 'Coll-1434_01900.txt', 'Coll-1434_02000.ann', 'Coll-1434_02000.txt', 'Coll-1434_02100.ann', 'Coll-1434_02100.txt', 'Coll-1434_02200.ann', 'Coll-1434_02200.txt', 'Coll-1434_02300.ann', 'Coll-1434_02300.txt', 'Coll-1434_02400.ann', 'Coll-1434_02400.txt', 'Coll-1434_02500.ann', 'Coll-1434_02500.txt', 'Coll-1434_02600.ann', 'Coll-1434_02600.txt', 'Coll-1434_02700.ann', 'Coll-1434_02700.txt', 'Coll-1434_02800.ann', 'Coll-1434_02800.txt', 'Coll-1434_02900.ann', 'Coll-1434_02900.txt', 'Coll-1434_03000.ann', 'Coll-1434_03000.txt', 'Coll-1434_03100.ann', 'Coll-1434_03100.txt', 'Coll-1434_03200.ann', 'Coll-1434_03200.txt', 'Coll-1434_03300.ann', 'Coll-1434_03300.txt', 'Coll-1434_03400.ann', 'Coll-1434_03400.txt', 'Coll-1434_03500.ann', 'Coll-1434_03500.txt', 'Coll-1434_03600.ann', 'Coll-1434_03600.txt', 'Coll-1434_03700.ann', 'Coll-1434_03700.txt', 'Coll-1434_03800.ann', 'Coll-1434_03800.txt', 'Coll-1434_03900.ann', 'Coll-1434_03900.txt', 'Coll-1434_04000.ann', 'Coll-1434_04000.txt', 'Coll-1434_04100.ann', 'Coll-1434_04100.txt', 'Coll-1434_04200.ann', 'Coll-1434_04200.txt', 'Coll-1434_04300.ann', 'Coll-1434_04300.txt', 'Coll-1434_04400.ann', 'Coll-1434_04400.txt', 'Coll-1434_04500.ann', 'Coll-1434_04500.txt', 'Coll-1434_04600.ann', 'Coll-1434_04600.txt', 'Coll-1434_04700.ann', 'Coll-1434_04700.txt', 'Coll-1434_04800.ann', 'Coll-1434_04800.txt', 'Coll-1434_04900.ann', 'Coll-1434_04900.txt', 'Coll-1434_05000.ann', 'Coll-1434_05000.txt', 'Coll-1434_05100.ann', 'Coll-1434_05100.txt', 'Coll-1434_05200.ann', 'Coll-1434_05200.txt', 'Coll-1434_05300.ann', 'Coll-1434_05300.txt', 'Coll-1434_05400.ann', 'Coll-1434_05400.txt', 'Coll-1434_05500.ann', 'Coll-1434_05500.txt', 'Coll-1434_05600.ann', 'Coll-1434_05600.txt', 'Coll-1434_05700.ann', 'Coll-1434_05700.txt', 'Coll-1434_05800.ann', 'Coll-1434_05800.txt', 'Coll-1434_05900.ann', 'Coll-1434_05900.txt', 'Coll-1434_06000.ann', 'Coll-1434_06000.txt', 'Coll-1434_06100.ann', 'Coll-1434_06100.txt', 'Coll-1434_06200.ann', 'Coll-1434_06200.txt', 'Coll-1434_06300.ann', 'Coll-1434_06300.txt', 'Coll-1434_06400.ann', 'Coll-1434_06400.txt', 'Coll-1434_06500.ann', 'Coll-1434_06500.txt', 'Coll-1434_06600.ann', 'Coll-1434_06600.txt', 'Coll-1434_06700.ann', 'Coll-1434_06700.txt', 'Coll-1434_06800.ann', 'Coll-1434_06800.txt', 'Coll-1434_06900.ann', 'Coll-1434_06900.txt', 'Coll-1434_07000.ann', 'Coll-1434_07000.txt', 'Coll-1434_07100.ann', 'Coll-1434_07100.txt', 'Coll-1434_07200.ann', 'Coll-1434_07200.txt', 'Coll-1434_07300.ann', 'Coll-1434_07300.txt', 'Coll-1434_07400.ann', 'Coll-1434_07400.txt', 'Coll-1434_07500.ann', 'Coll-1434_07500.txt', 'Coll-1434_07600.ann', 'Coll-1434_07600.txt', 'Coll-1434_07700.ann', 'Coll-1434_07700.txt', 'Coll-1434_07800.ann', 'Coll-1434_07800.txt', 'Coll-1434_07900.ann', 'Coll-1434_07900.txt', 'Coll-1434_08000.ann', 'Coll-1434_08000.txt', 'Coll-1434_08100.ann', 'Coll-1434_08100.txt', 'Coll-1434_08200.ann', 'Coll-1434_08200.txt', 'Coll-1434_08300.ann', 'Coll-1434_08300.txt', 'Coll-1434_08400.ann', 'Coll-1434_08400.txt', 'Coll-1434_08500.ann', 'Coll-1434_08500.txt', 'Coll-1434_08600.ann', 'Coll-1434_08600.txt', 'Coll-1434_08700.ann', 'Coll-1434_08700.txt', 'Coll-1434_08800.ann', 'Coll-1434_08800.txt', 'Coll-1434_08900.ann', 'Coll-1434_08900.txt', 'Coll-1434_09000.ann', 'Coll-1434_09000.txt', 'Coll-1434_09100.ann', 'Coll-1434_09100.txt', 'Coll-1434_09200.ann', 'Coll-1434_09200.txt', 'Coll-1434_09300.ann', 'Coll-1434_09300.txt', 'Coll-1434_09400.ann', 'Coll-1434_09400.txt', 'Coll-1434_09500.ann', 'Coll-1434_09500.txt', 'Coll-1434_09600.ann', 'Coll-1434_09600.txt', 'Coll-1434_09700.ann', 'Coll-1434_09700.txt', 'Coll-1434_09800.ann', 'Coll-1434_09800.txt', 'Coll-1434_09900.ann', 'Coll-1434_09900.txt', 'Coll-1434_10000.ann', 'Coll-1434_10000.txt', 'Coll-1434_10100.ann', 'Coll-1434_10100.txt', 'Coll-1434_10200.ann', 'Coll-1434_10200.txt', 'Coll-1434_10300.ann', 'Coll-1434_10300.txt', 'Coll-1434_10400.ann', 'Coll-1434_10400.txt', 'Coll-1434_10500.ann', 'Coll-1434_10500.txt', 'Coll-1434_10600.ann', 'Coll-1434_10600.txt', 'Coll-1434_10700.ann', 'Coll-1434_10700.txt', 'Coll-1434_10800.ann', 'Coll-1434_10800.txt', 'Coll-1434_10900.ann', 'Coll-1434_10900.txt', 'Coll-1434_11000.ann', 'Coll-1434_11000.txt', 'Coll-1434_11100.ann', 'Coll-1434_11100.txt', 'Coll-1434_11200.ann', 'Coll-1434_11200.txt', 'Coll-1434_11300.ann', 'Coll-1434_11300.txt', 'Coll-1434_11400.ann', 'Coll-1434_11400.txt', 'Coll-1434_11500.ann', 'Coll-1434_11500.txt', 'Coll-1434_11600.ann', 'Coll-1434_11600.txt', 'Coll-1434_11700.ann', 'Coll-1434_11700.txt', 'Coll-1434_11800.ann', 'Coll-1434_11800.txt', 'Coll-1434_11900.ann', 'Coll-1434_11900.txt', 'Coll-1434_12000.ann', 'Coll-1434_12000.txt', 'Coll-1434_12100.ann', 'Coll-1434_12100.txt', 'Coll-1434_12200.ann', 'Coll-1434_12200.txt', 'Coll-1434_12300.ann', 'Coll-1434_12300.txt', 'Coll-1434_12400.ann', 'Coll-1434_12400.txt', 'Coll-1434_12500.ann', 'Coll-1434_12500.txt', 'Coll-1434_12600.ann', 'Coll-1434_12600.txt', 'Coll-1434_12700.ann', 'Coll-1434_12700.txt', 'Coll-1434_12800.ann', 'Coll-1434_12800.txt', 'Coll-1434_12900.ann', 'Coll-1434_12900.txt', 'Coll-1434_13000.ann', 'Coll-1434_13000.txt', 'Coll-1434_13100.ann', 'Coll-1434_13100.txt', 'Coll-1434_13200.ann', 'Coll-1434_13200.txt', 'Coll-1434_13300.ann', 'Coll-1434_13300.txt', 'Coll-1434_13400.ann', 'Coll-1434_13400.txt', 'Coll-1434_13500.ann', 'Coll-1434_13500.txt', 'Coll-1434_13600.ann', 'Coll-1434_13600.txt', 'Coll-1434_13700.ann', 'Coll-1434_13700.txt', 'Coll-1434_13800.ann', 'Coll-1434_13800.txt', 'Coll-1434_13900.ann', 'Coll-1434_13900.txt', 'Coll-1434_14000.ann', 'Coll-1434_14000.txt', 'Coll-1434_14100.ann', 'Coll-1434_14100.txt', 'Coll-1434_14200.ann', 'Coll-1434_14200.txt', 'Coll-1434_14300.ann', 'Coll-1434_14300.txt', 'Coll-1434_14400.ann', 'Coll-1434_14400.txt', 'Coll-1434_14500.ann', 'Coll-1434_14500.txt', 'Coll-1434_14600.ann', 'Coll-1434_14600.txt', 'Coll-1434_14700.ann', 'Coll-1434_14700.txt', 'Coll-1434_14800.ann', 'Coll-1434_14800.txt', 'Coll-1434_14900.ann', 'Coll-1434_14900.txt', 'Coll-1434_15000.ann', 'Coll-1434_15000.txt', 'Coll-1434_15100.ann', 'Coll-1434_15100.txt', 'Coll-1434_15200.ann', 'Coll-1434_15200.txt', 'Coll-1434_15300.ann', 'Coll-1434_15300.txt', 'Coll-1434_15400.ann', 'Coll-1434_15400.txt', 'Coll-1434_15500.ann', 'Coll-1434_15500.txt', 'Coll-1434_15600.ann', 'Coll-1434_15600.txt', 'Coll-1434_15700.ann', 'Coll-1434_15700.txt', 'Coll-1434_15800.ann', 'Coll-1434_15800.txt', 'Coll-1434_15900.ann', 'Coll-1434_15900.txt', 'Coll-1434_16000.ann', 'Coll-1434_16000.txt', 'Coll-1434_16100.ann', 'Coll-1434_16100.txt', 'Coll-1434_16200.ann', 'Coll-1434_16200.txt', 'Coll-1434_16300.ann', 'Coll-1434_16300.txt', 'Coll-1434_16400.ann', 'Coll-1434_16400.txt', 'Coll-1434_16500.ann', 'Coll-1434_16500.txt', 'Coll-1434_16600.ann', 'Coll-1434_16600.txt', 'Coll-1434_16700.ann', 'Coll-1434_16700.txt', 'Coll-1434_16800.ann', 'Coll-1434_16800.txt', 'Coll-1434_16900.ann', 'Coll-1434_16900.txt', 'Coll-1434_17000.ann', 'Coll-1434_17000.txt', 'Coll-1434_17100.ann', 'Coll-1434_17100.txt', 'Coll-1434_17200.ann', 'Coll-1434_17200.txt', 'Coll-1434_17300.ann', 'Coll-1434_17300.txt', 'Coll-1434_17400.ann', 'Coll-1434_17400.txt', 'Coll-1434_17500.ann', 'Coll-1434_17500.txt', 'Coll-1434_17600.ann', 'Coll-1434_17600.txt', 'Coll-1434_17700.ann', 'Coll-1434_17700.txt', 'Coll-1434_17800.ann', 'Coll-1434_17800.txt', 'Coll-1434_17900.ann', 'Coll-1434_17900.txt', 'Coll-1434_18000.ann', 'Coll-1434_18000.txt', 'Coll-1434_18100.ann', 'Coll-1434_18100.txt', 'Coll-1434_18200.ann', 'Coll-1434_18200.txt', 'Coll-1434_18300.ann', 'Coll-1434_18300.txt', 'Coll-1434_18400.ann', 'Coll-1434_18400.txt', 'Coll-1434_18500.ann', 'Coll-1434_18500.txt', 'Coll-1434_18600.ann', 'Coll-1434_18600.txt', 'Coll-1434_18700.ann', 'Coll-1434_18700.txt', 'Coll-1434_18800.ann', 'Coll-1434_18800.txt', 'Coll-1434_18900.ann', 'Coll-1434_18900.txt', 'Coll-1434_19000.ann', 'Coll-1434_19000.txt', 'Coll-1434_19100.ann', 'Coll-1434_19100.txt', 'Coll-1434_19200.ann', 'Coll-1434_19200.txt', 'Coll-1434_19300.ann', 'Coll-1434_19300.txt', 'Coll-1434_19400.ann', 'Coll-1434_19400.txt', 'Coll-1434_19500.ann', 'Coll-1434_19500.txt', 'Coll-1434_19600.ann', 'Coll-1434_19600.txt', 'Coll-1434_19700.ann', 'Coll-1434_19700.txt', 'Coll-1434_19800.ann', 'Coll-1434_19800.txt', 'Coll-1434_19900.ann', 'Coll-1434_19900.txt', 'Coll-1434_20000.ann', 'Coll-1434_20000.txt', 'Coll-1434_20100.ann', 'Coll-1434_20100.txt', 'Coll-1434_20200.ann', 'Coll-1434_20200.txt', 'Coll-1434_20300.ann', 'Coll-1434_20300.txt', 'Coll-1434_20400.ann', 'Coll-1434_20400.txt', 'Coll-1434_20500.ann', 'Coll-1434_20500.txt', 'Coll-1434_20600.ann', 'Coll-1434_20600.txt', 'Coll-1434_20700.ann', 'Coll-1434_20700.txt', 'Coll-1434_20800.ann', 'Coll-1434_20800.txt', 'Coll-1435_00100.ann', 'Coll-1435_00100.txt', 'Coll-1436_00100.ann', 'Coll-1436_00100.txt', 'Coll-1437_00100.ann', 'Coll-1437_00100.txt', 'Coll-1438_00100.ann', 'Coll-1438_00100.txt', 'Coll-1439_00100.ann', 'Coll-1439_00100.txt', 'Coll-1441_00100.ann', 'Coll-1441_00100.txt', 'Coll-1442_00100.ann', 'Coll-1442_00100.txt', 'Coll-1443_00100.ann', 'Coll-1443_00100.txt', 'Coll-1444_00100.ann', 'Coll-1444_00100.txt', 'Coll-1445_00100.ann', 'Coll-1445_00100.txt', 'Coll-1446_00100.ann', 'Coll-1446_00100.txt', 'Coll-1448_00100.ann', 'Coll-1448_00100.txt', 'Coll-1451_00100.ann', 'Coll-1451_00100.txt', 'Coll-1452_00100.ann', 'Coll-1452_00100.txt', 'Coll-1453_00100.ann', 'Coll-1453_00100.txt', 'Coll-1454_00100.ann', 'Coll-1454_00100.txt', 'Coll-1455_00100.ann', 'Coll-1455_00100.txt', 'Coll-1456_00100.ann', 'Coll-1456_00100.txt', 'Coll-1457_00100.ann', 'Coll-1457_00100.txt', 'Coll-1458_00100.ann', 'Coll-1458_00100.txt', 'Coll-1459_00100.ann', 'Coll-1459_00100.txt', 'Coll-1460_00100.ann', 'Coll-1460_00100.txt', 'Coll-1461_00100.ann', 'Coll-1461_00100.txt', 'Coll-1462_00100.ann', 'Coll-1462_00100.txt', 'Coll-1463_00100.ann', 'Coll-1463_00100.txt', 'Coll-1464_00100.ann', 'Coll-1464_00100.txt', 'Coll-1465_00100.ann', 'Coll-1465_00100.txt', 'Coll-1466_00100.ann', 'Coll-1466_00100.txt', 'Coll-1469_00100.ann', 'Coll-1469_00100.txt', 'Coll-146_00100.ann', 'Coll-146_00100.txt', 'Coll-146_00200.ann', 'Coll-146_00200.txt', 'Coll-146_00300.ann', 'Coll-146_00300.txt', 'Coll-146_00400.ann', 'Coll-146_00400.txt', 'Coll-146_00500.ann', 'Coll-146_00500.txt', 'Coll-146_00600.ann', 'Coll-146_00600.txt', 'Coll-146_00700.ann', 'Coll-146_00700.txt', 'Coll-146_00800.ann', 'Coll-146_00800.txt']\n"
     ]
    }
   ],
   "source": [
    "# # Annotator 0\n",
    "# removeUnannotatedFiles(\"../IAA/annotator-0\", \"Coll-146_00800.txt\")\n",
    "# ann0 = os.listdir(\"../IAA/annotator-0\")\n",
    "# ann0.sort()\n",
    "# print(ann0)  # Looks good!"
   ]
  },
  {
   "cell_type": "code",
   "execution_count": 4,
   "metadata": {},
   "outputs": [
    {
     "name": "stdout",
     "output_type": "stream",
     "text": [
      "Removed 1 files from ../IAA/Linguistic/annotator-1\n",
      "Removed 2 files from ../IAA/Linguistic/annotator-2\n",
      "Removed 1 files from ../IAA/Contextual/annotator-3\n",
      "Removed 1 files from ../IAA/Contextual/annotator-4\n"
     ]
    }
   ],
   "source": [
    "# removeUnannotatedFiles(\"../IAA/Linguistic/annotator-1\", \"Coll-1434_14700.txt\") # Annotator 1\n",
    "# removeUnannotatedFiles(\"../IAA/Linguistic/annotator-2\", \"Coll-146_28300.txt\")  # Annotator 2\n",
    "# removeUnannotatedFiles(\"../IAA/Contextual/annotator-3\", \"Coll-1434_14700.txt\") # Annotator 3\n",
    "# removeUnannotatedFiles(\"../IAA/Contextual/annotator-4\", \"Coll-1497_00400.txt\") # Annotator 4"
   ]
  },
  {
   "cell_type": "markdown",
   "metadata": {},
   "source": [
    "Create directories of files that were annotated by:\n",
    "* Annotators 1 and 2 (with Linguistic + Person-Name labels)\n",
    "* Annotators 0 and 1 (with Linguistic + Person-Name labels)\n",
    "* Annotators 0 and 2 (with Linguistic + Person-Name labels)\n",
    "* Annotators 3 and 4 (with Contextual labels)\n",
    "* Annotators 0 and 3 (with Contextual labels)\n",
    "* Annotators 0 and 4 (with Contextual labels)\n",
    "\n",
    "Also...\n",
    "* Annotators 0, 1, and 2 (with Linguistic + Person-Name labels)?\n",
    "* Annotators 0, 3, and 4 (with Contextual labels)?"
   ]
  },
  {
   "cell_type": "markdown",
   "metadata": {},
   "source": [
    "#### Fix Errors in Labeled Data:\n",
    "* `Person-Name` labels should be a different sub-category label\n",
    "* Errors found in manual review for each subcategory"
   ]
  },
  {
   "cell_type": "code",
   "execution_count": null,
   "metadata": {},
   "outputs": [],
   "source": []
  },
  {
   "cell_type": "code",
   "execution_count": null,
   "metadata": {},
   "outputs": [],
   "source": []
  },
  {
   "cell_type": "code",
   "execution_count": null,
   "metadata": {},
   "outputs": [],
   "source": []
  },
  {
   "cell_type": "markdown",
   "metadata": {},
   "source": [
    "<a id=\"dfs\"></a>\n",
    "## I. Build Annotation DataFrames\n",
    "For each of the five annotators, build one DataFrame of notes and one DataFrame of labels, resulting in two DataFrames per annotator and ten DataFrames total.\n",
    "\n",
    "<a id=\"#fnct\"></a>\n",
    "### I.i. Functions\n",
    "\n",
    "#### Annotations to Remove:"
   ]
  },
  {
   "cell_type": "code",
   "execution_count": 5,
   "metadata": {},
   "outputs": [
    {
     "name": "stdout",
     "output_type": "stream",
     "text": [
      "{'Coll-1289_00100': ['T0 Gendered-Role 299 303 duke', 'T2 Gendered-Pronoun 152 155 him'], 'Coll-1383_00300': ['T0 Gendered-Role 516 519 Sir'], 'Coll-1383_00400': ['T0 Gendered-Role 305 308 Sir', 'T1 Gendered-Role 386 389 Sir', 'T2 Gendered-Role 852 854 MS', 'T3 Gendered-Role 2879 2888 gentleman', 'T4 Gendered-Role 2936 2947 grandmother'], 'Coll-1383_00500': ['T0 Gendered-Role 300 302 Mr', 'T1 Gendered-Role 587 589 Mr', 'T2 Gendered-Role 619 621 Mr', 'T3 Gendered-Role 689 692 Sir', 'T4 Gendered-Role 795 799 king'], 'Coll-1405_00100': ['T1 Gendered-Role 1945 1948 son', 'T8 Gendered-Pronoun 1628 1630 He', 'T9 Gendered-Pronoun 1876 1878 he'], 'Coll-1434_08300': ['T0 Gendered-Role 322 326 Duke'], 'Coll-1434_09600': ['T2 Gendered-Pronoun 359 362 His'], 'Coll-1434_10600': ['T0 Gendered-Role 1635 1642 Duchess'], 'Coll-1434_10900': ['T0 Gendered-Role 35 40 Queen'], 'Coll-1434_11200': ['T3 Gendered-Role 5062 5065 Sir', 'T7 Gendered-Pronoun 5170 5173 his'], 'Coll-1434_11800': ['T0 Gendered-Role 3879 3883 Duke'], 'Coll-1434_13100': ['T2 Gendered-Pronoun 287 290 his', 'T3 Gendered-Pronoun 381 384 him'], 'Coll-1434_15400': ['T3 Gendered-Role 2463 2465 Mr', 'T4 Gendered-Role 2502 2506 Duke', 'T5 Gendered-Role 5046 5050 Duke', 'T6 Gendered-Role 5063 5066 Sir', 'T7 Gendered-Role 5082 5085 Sir', 'T9 Gendered-Pronoun 3160 3163 him'], 'Coll-1434_16200': ['T2 Gendered-Role 4315 4318 Son', 'T5 Gendered-Pronoun 5067 5070 him', 'T6 Gendered-Pronoun 5104 5106 he'], 'Coll-1434_16600': ['T0 Gendered-Role 2716 2719 son', 'T1 Gendered-Role 3494 3496 Mr', 'T2 Gendered-Role 3684 3688 sire', 'T3 Gendered-Pronoun 2427 2430 his', 'T4 Gendered-Pronoun 2766 2768 he', 'T5 Occupation 2736 2742 farmer'], 'Coll-1434_17100': ['T1 Gendered-Role 3587 3595 daughter', 'T4 Gendered-Pronoun 4107 4110 his'], 'Coll-1434_17500': ['T1 Gendered-Role 4070 4073 Mrs'], 'Coll-1434_18400': ['T0 Gendered-Pronoun 5150 5153 his'], 'Coll-1434_19200': ['T1 Gendered-Role 3845 3848 Mrs', 'T2 Gendered-Role 4114 4116 Mr', 'T3 Gendered-Role 4528 4530 Mr', 'T6 Gendered-Pronoun 2668 2671 his', 'T7 Gendered-Pronoun 2807 2810 his', 'T8 Gendered-Pronoun 5359 5362 her'], 'Coll-1434_19700': ['T3 Gendered-Role 5481 5485 Lord'], 'Coll-1434_19800': ['T1 Gendered-Role 4023 4025 Mr', 'T2 Gendered-Role 4253 4255 Mr', 'T3 Gendered-Role 5023 5027 Lord'], 'Coll-1434_19900': ['T3 Gendered-Role 4388 4392 sire', 'T4 Gendered-Role 4431 4435 Duke', 'T7 Gendered-Pronoun 5980 5983 She', 'T8 Occupation 6310 6316 farmer'], 'Coll-1434_20100': ['T1 Gendered-Role 1820 1822 Mr', 'T2 Gendered-Role 5223 5227 sire', 'T3 Gendered-Pronoun 2090 2093 him', 'T4 Gendered-Pronoun 3392 3395 her'], 'Coll-1434_20200': ['T4 Gendered-Role 5031 5036 Baron', 'T5 Gendered-Role 5148 5152 sire', 'T9 Gendered-Pronoun 5775 5778 his', 'T10 Gendered-Pronoun 5832 5835 his', 'T11 Gendered-Pronoun 5877 5880 his'], 'Coll-1434_20800': ['T7 Gendered-Pronoun 2043 2046 his'], 'Coll-1457_00100': ['T1 Gendered-Pronoun 888 890 He']}\n"
     ]
    }
   ],
   "source": [
    "# Create a dictionary of mistaken annotations (due to non-ASCII characters in dataset) to exclude from the DataFrames\n",
    "to_remove = pd.read_csv(\"../IAA/AnnsToRemove.csv\", names = [\"file\", \"bad_annotations\"])\n",
    "# to_remove\n",
    "bad_anns = list(to_remove[\"bad_annotations\"])\n",
    "# print(bad_anns)\n",
    "bad_anns_lists = []\n",
    "bad_files = list(to_remove.file)\n",
    "to_remove_dict = {}\n",
    "# print(bad_files)\n",
    "\n",
    "i = 0\n",
    "maxI = len(bad_files)\n",
    "while i < maxI:\n",
    "    a = bad_anns[i]\n",
    "    a_list = a.split(\"\\n\")\n",
    "    f = bad_files[i]\n",
    "    to_remove_dict[f] = a_list\n",
    "    i += 1\n",
    "print(to_remove_dict)"
   ]
  },
  {
   "cell_type": "code",
   "execution_count": 6,
   "metadata": {},
   "outputs": [],
   "source": [
    "# Extract comments from files and put in a DataFrame\n",
    "\n",
    "### Annotation Format (comments begin with #):\n",
    "# T1\tUnknown 17 24\tThomson\n",
    "# T2\tOmission 17 24\tThomson\n",
    "# #1\tAnnotatorNotes T2\tLast name only\n",
    "\n",
    "# INPUT: Annotation file from brat (ending in .ann)\n",
    "# OUTPUT: List of labels and list of notes from the .ann file (empty if none in file)\n",
    "def extractLabelsAndNotes(ann_file, to_ignore):\n",
    "    f = open(ann_file, \"r\")\n",
    "    labels = []\n",
    "    notes = []\n",
    "    \n",
    "    # If the file isn't empty, populate the labels and notes lists\n",
    "    if os.path.getsize(ann_file) > 0:\n",
    "        lines = f.readlines()\n",
    "        for l in lines:\n",
    "            if (l[0] == \"T\") and (l not in to_ignore):   # only add labels (marked with T) that aren't mistakenly recorded             \n",
    "                labels += [l]\n",
    "            elif l[0] == \"#\":                            # only add annotator's notes about a label (marked with #)\n",
    "                notes += [l]\n",
    "    \n",
    "    return labels, notes"
   ]
  },
  {
   "cell_type": "markdown",
   "metadata": {},
   "source": [
    "**Notes Data Functions:**"
   ]
  },
  {
   "cell_type": "code",
   "execution_count": 7,
   "metadata": {},
   "outputs": [],
   "source": [
    "def getNotesColumns(notes_dict):\n",
    "    col_file, col_entity, col_note = [], [], []\n",
    "    for f,notes in notes_dict.items():\n",
    "        for n in notes:\n",
    "            col_file += [f]\n",
    "            n.strip()  # remove leading and trailing whitespace\n",
    "            n_split = n.split(\"\\t\")\n",
    "            col_entity += [n_split[1].replace(\"AnnotatorNotes \",\"\")]\n",
    "            col_note += [n_split[2]]\n",
    "\n",
    "    assert len(col_file) == len(col_entity)\n",
    "    assert len(col_entity) == len(col_note)\n",
    "\n",
    "    return col_file, col_entity, col_note"
   ]
  },
  {
   "cell_type": "code",
   "execution_count": 8,
   "metadata": {},
   "outputs": [],
   "source": [
    "def buildNotesDataFrame(annotator, col_file, col_entity, col_note):\n",
    "    df_notes = pd.DataFrame({\"file\":col_file, \"entity\":col_entity, \"note\":col_note})\n",
    "    df_notes['annotator'] = [annotator for x in range(df_notes.shape[0])]\n",
    "    return df_notes"
   ]
  },
  {
   "cell_type": "markdown",
   "metadata": {},
   "source": [
    "**Labels Data Functions:**"
   ]
  },
  {
   "cell_type": "code",
   "execution_count": 9,
   "metadata": {},
   "outputs": [],
   "source": [
    "# Check for tab-separated annotation data\n",
    "def filesWithoutTabbedAnnotations(labels_dict):\n",
    "    to_fix = {}\n",
    "    for f,labels in labels_dict.items():\n",
    "        for l in labels:\n",
    "            if \"\\t\" not in l:\n",
    "                to_fix[f] = l\n",
    "    return to_fix"
   ]
  },
  {
   "cell_type": "code",
   "execution_count": 10,
   "metadata": {},
   "outputs": [],
   "source": [
    "def getLabelsColumns(labels_dict):\n",
    "    col_file, col_entity, col_label, col_offset1, col_offset2, col_text = [], [], [], [], [], []\n",
    "    for f,labels in labels_dict.items():\n",
    "        for l in labels:\n",
    "            if len(l) > 0:\n",
    "                col_file += [f]\n",
    "                l = l.strip()                               # remove leading and trailing whitespace\n",
    "                l = l.split(\"\\t\")                           # split entity, label+offsets, and text\n",
    "                \n",
    "                # Add entity to column list (example: T2)\n",
    "                col_entity += [l[0]]\n",
    "                \n",
    "                # Add text to column list (example: \"Miss\")\n",
    "                try:\n",
    "                    col_text += [l[2]]\n",
    "                except IndexError:\n",
    "                    return f, None, None, None, None, l\n",
    "                # Split label, start offset, and end offset and\n",
    "                # add each to their corresponding column list\n",
    "                label_offsets = l[1] \n",
    "                label_offsets = label_offsets.split(\" \")    # split label, start offset, and end offset\n",
    "                col_label += [label_offsets[0]]\n",
    "                col_offset1 += [label_offsets[1]]\n",
    "                col_offset2 += [label_offsets[2]]\n",
    "\n",
    "    assert len(col_file) == len(col_entity)\n",
    "    assert len(col_entity) == len(col_label)\n",
    "    assert len(col_label) == len(col_offset1)\n",
    "    assert len(col_offset1) == len(col_offset2)\n",
    "    assert len(col_offset2) == len(col_text)\n",
    "\n",
    "    return col_file, col_entity, col_label, col_offset1, col_offset2, col_text\n",
    "\n",
    "# Sample labels data from brat\n",
    "# ['T0\\tGendered-Pronoun 311 314\\tShe\\n',\n",
    "#  ...\n",
    "#  ]"
   ]
  },
  {
   "cell_type": "code",
   "execution_count": 11,
   "metadata": {},
   "outputs": [],
   "source": [
    "def buildLabelsDataFrame(annotator, col_file, col_entity, col_label, col_offset1, col_offset2, col_text):\n",
    "    df_labels = pd.DataFrame({\"file\":col_file, \"entity\":col_entity, \"label\":col_label, \"start\":col_offset1, \"end\":col_offset2, \"text\":col_text})\n",
    "    df_labels['annotator'] = [annotator for x in range(df_labels.shape[0])]\n",
    "    return df_labels"
   ]
  },
  {
   "cell_type": "markdown",
   "metadata": {},
   "source": [
    "<a id=\"load\"></a>\n",
    "### I.ii. Annotator Data Loading\n",
    "First, check that the annotation files are properly formatted, with tabs and spaces in the appropriate places."
   ]
  },
  {
   "cell_type": "code",
   "execution_count": 12,
   "metadata": {},
   "outputs": [],
   "source": [
    "def getAnnLabels(dir_path, annotator, to_remove_dict):\n",
    "    # Make dictionaries of labels data\n",
    "    ann_files = os.listdir(dir_path)\n",
    "    labels_dict = {}\n",
    "    for f in ann_files:\n",
    "        if \".ann\" in f:   # ignore the .txt files\n",
    "            file_path = os.path.join(dir_path, f)\n",
    "            if f in to_remove_dict.keys():\n",
    "                to_ignore = to_remove_dict[f]\n",
    "            else:\n",
    "                to_ignore = []\n",
    "            labels, notes = extractLabelsAndNotes(file_path, to_ignore)\n",
    "            labels_dict[f] = labels\n",
    "    \n",
    "    return labels_dict"
   ]
  },
  {
   "cell_type": "code",
   "execution_count": 14,
   "metadata": {},
   "outputs": [],
   "source": [
    "# notes_dict, labels_dict = getAnnDicts(\"../IAA/annotator-0\", \"Annotator 0\", to_remove_dict)\n",
    "# to_fix = filesWithoutTabbedAnnotations(labels_dict)\n",
    "# to_fix  # FIXED\n",
    "# labels_dict = getAnnLabels(\"../IAA/Linguistic/annotator-1\", \"Annotator 1\", to_remove_dict)\n",
    "# to_fix = filesWithoutTabbedAnnotations(labels_dict)\n",
    "# to_fix  # FIXED\n",
    "# labels_dict = getAnnLabels(\"../IAA/Contextual/annotator-2\", \"Annotator 2\", to_remove_dict)\n",
    "# to_fix = filesWithoutTabbedAnnotations(labels_dict)\n",
    "# to_fix  # NA\n",
    "# labels_dict = getAnnLabels(\"../IAA/Contextual/annotator-3\", \"Annotator 3\", to_remove_dict)\n",
    "# to_fix = filesWithoutTabbedAnnotations(labels_dict)\n",
    "# to_fix  # FIXED\n",
    "# labels_dict = getAnnLabels(\"../IAA/Contextual/annotator-4\", \"Annotator 4\", to_remove_dict)\n",
    "# to_fix = filesWithoutTabbedAnnotations(labels_dict)\n",
    "# to_fix  # NA"
   ]
  },
  {
   "cell_type": "markdown",
   "metadata": {},
   "source": [
    "After manually fixing any incorrectly-formatted annotation data files listed above, create DataFrames of the annotation data and write them to CSV files:"
   ]
  },
  {
   "cell_type": "code",
   "execution_count": 15,
   "metadata": {},
   "outputs": [],
   "source": [
    "def getAnnDataFrames(dir_path, annotator, to_remove_dict):\n",
    "    # Make dictionaries of notes and labels data\n",
    "    ann_files = os.listdir(dir_path)\n",
    "    labels_dict = {}\n",
    "    notes_dict = {}\n",
    "    for f in ann_files:\n",
    "        if \".ann\" in f:   # ignore the .txt files\n",
    "            file_path = os.path.join(dir_path, f)\n",
    "            if f in to_remove_dict.keys():\n",
    "                to_ignore = to_remove_dict[f]\n",
    "            else:\n",
    "                to_ignore = []\n",
    "            labels, notes = extractLabelsAndNotes(file_path, to_ignore)\n",
    "            labels_dict[f] = labels  # see comments below for dictionary format\n",
    "            notes_dict[f] = notes    # see comments below for dictionary format\n",
    "\n",
    "    # Build DataFrames of notes and labels data\n",
    "    col_file, col_entity, col_note = getNotesColumns(notes_dict)\n",
    "    df_notes = buildNotesDataFrame(annotator, col_file, col_entity, col_note)\n",
    "    col_file, col_entity, col_label, col_offset1, col_offset2, col_text = getLabelsColumns(labels_dict)\n",
    "    df_labels = buildLabelsDataFrame(annotator, col_file, col_entity, col_label, col_offset1, col_offset2, col_text)\n",
    "    \n",
    "    return df_notes, df_labels\n",
    "\n",
    "# # SAMPLE NOTES_DICT\n",
    "# # {'AA4_00100.ann': [], 'AA5_00100.ann': [], 'AA6_00100.ann': [], \n",
    "# #  'AA7_00100.ann': ['#1\\tAnnotatorNotes T20\\tB for Bachelor, a masculine term for a degree that can be \n",
    "# #   awarded to any gender\\n'], 'BAI_00100.ann': ['#1\\tAnnotatorNotes T8\\tMan referenced by last name only\\n'], ...}\n",
    "\n",
    "# # SAMPLE LABELS_DICT\n",
    "# # {'AA4_00100.ann': ['T0\\tGendered-Pronoun 645 647\\the\\n', 'T1\\tGendered-Pronoun 702 704\\the\\n', \n",
    "# #  'T2\\tGendered-Pronoun 913 915\\the\\n', 'T3\\tGendered-Pronoun 994 996\\the\\n', 'T4\\tGendered-Pronoun 1122 1124\\the\\n', \n",
    "# #  'T5\\tUnknown 34 56\\tRev Prof John McIntyre\\n', 'T10\\tMan 533 546\\tJohn McIntyre\\n', 'T6\\tMan 862 874\\tRev McIntyre\\n', \n",
    "# #  'T7\\tOccupation 716 724\\tminister\\n', 'T8\\tOccupation 947 968\\tprofessor of divinity\\n', ...] ... }"
   ]
  },
  {
   "cell_type": "code",
   "execution_count": 18,
   "metadata": {},
   "outputs": [],
   "source": [
    "df_notes0, df_labels0 = getAnnDataFrames(\"../IAA/annotator-0\", \"Annotator 0\", to_remove_dict)\n",
    "df_notes0.head()  # Worked!\n",
    "df_labels0.head()  # Worked!\n",
    "Write DataFrames to CSV files\n",
    "df_notes0.to_csv(\"notes0.csv\")\n",
    "df_labels0.to_csv(\"labels0.csv\")"
   ]
  },
  {
   "cell_type": "code",
   "execution_count": 20,
   "metadata": {},
   "outputs": [],
   "source": [
    "df_notes1, df_labels1 = getAnnDataFrames(\"../IAA/Linguistic/annotator-1\", \"Annotator 1\", to_remove_dict)\n",
    "# df_notes1.head()  # Worked!\n",
    "# df_labels1.head()  # Worked!\n",
    "# print(df_labels1.shape)\n",
    "\n",
    "# Remove pre-annotated Occupation labels\n",
    "df_labels1 = df_labels1[df_labels1.label != \"Occupation\"]\n",
    "# print(df_labels1.shape)\n",
    "\n",
    "#  Write DataFrames to CSV files\n",
    "df_notes1.to_csv(\"notes1.csv\")\n",
    "df_labels1.to_csv(\"labels1.csv\")"
   ]
  },
  {
   "cell_type": "code",
   "execution_count": 21,
   "metadata": {},
   "outputs": [],
   "source": [
    "df_notes2, df_labels2 = getAnnDataFrames(\"../IAA/Linguistic/annotator-2\", \"Annotator 2\", to_remove_dict)\n",
    "# df_notes2.head()  # Worked!\n",
    "# df_labels2.head()  # Worked!\n",
    "# print(df_labels2.shape)\n",
    "\n",
    "# Remove pre-annotated Occupation labels\n",
    "df_labels2 = df_labels2[df_labels2.label != \"Occupation\"]\n",
    "# print(df_labels2.shape)\n",
    "\n",
    "# # Write DataFrames to CSV files\n",
    "df_notes2.to_csv(\"notes2.csv\")\n",
    "df_labels2.to_csv(\"labels2.csv\")"
   ]
  },
  {
   "cell_type": "code",
   "execution_count": 23,
   "metadata": {},
   "outputs": [],
   "source": [
    "df_notes3, df_labels3 = getAnnDataFrames(\"../IAA/Contextual/annotator-3\", \"Annotator 3\", to_remove_dict)\n",
    "# df_notes3.head()  # Worked!\n",
    "# df_labels3.head()  # Worked!\n",
    "# print(df_labels3.shape)\n",
    "\n",
    "# Remove pre-annotated Linguistic labels (Gendered-Pronoun, Gendered-Role)\n",
    "df_labels3 = df_labels3[df_labels3.label != \"Gendered-Pronoun\"]\n",
    "df_labels3 = df_labels3[df_labels3.label != \"Gendered-Role\"]\n",
    "# print(df_labels3.shape)\n",
    "\n",
    "# Write DataFrames to CSV files\n",
    "df_notes3.to_csv(\"notes3.csv\")\n",
    "df_labels3.to_csv(\"labels3.csv\")"
   ]
  },
  {
   "cell_type": "code",
   "execution_count": 24,
   "metadata": {},
   "outputs": [],
   "source": [
    "df_notes4, df_labels4 = getAnnDataFrames(\"../IAA/Contextual/annotator-4\", \"Annotator 4\", to_remove_dict)\n",
    "# df_notes4.head()  # Worked!\n",
    "# df_labels4.head()  # Worked!\n",
    "# print(df_labels4.shape)\n",
    "\n",
    "# Remove pre-annotated Linguistic labels (Gendered-Pronoun, Gendered-Role)\n",
    "df_labels4 = df_labels4[df_labels4.label != \"Gendered-Pronoun\"]\n",
    "df_labels4 = df_labels4[df_labels4.label != \"Gendered-Role\"]\n",
    "# print(df_labels4.shape)\n",
    "\n",
    "# Write DataFrames to CSV files\n",
    "df_notes4.to_csv(\"notes4.csv\")\n",
    "df_labels4.to_csv(\"labels4.csv\")"
   ]
  },
  {
   "cell_type": "code",
   "execution_count": 25,
   "metadata": {},
   "outputs": [
    {
     "data": {
      "text/html": [
       "<div>\n",
       "<style scoped>\n",
       "    .dataframe tbody tr th:only-of-type {\n",
       "        vertical-align: middle;\n",
       "    }\n",
       "\n",
       "    .dataframe tbody tr th {\n",
       "        vertical-align: top;\n",
       "    }\n",
       "\n",
       "    .dataframe thead th {\n",
       "        text-align: right;\n",
       "    }\n",
       "</style>\n",
       "<table border=\"1\" class=\"dataframe\">\n",
       "  <thead>\n",
       "    <tr style=\"text-align: right;\">\n",
       "      <th></th>\n",
       "      <th>file</th>\n",
       "      <th>entity</th>\n",
       "      <th>label</th>\n",
       "      <th>start</th>\n",
       "      <th>end</th>\n",
       "      <th>text</th>\n",
       "      <th>annotator</th>\n",
       "    </tr>\n",
       "  </thead>\n",
       "  <tbody>\n",
       "    <tr>\n",
       "      <th>0</th>\n",
       "      <td>Coll-1444_00100.ann</td>\n",
       "      <td>T1</td>\n",
       "      <td>Unknown</td>\n",
       "      <td>52</td>\n",
       "      <td>66</td>\n",
       "      <td>Robert E. Bell</td>\n",
       "      <td>Annotator 0</td>\n",
       "    </tr>\n",
       "    <tr>\n",
       "      <th>1</th>\n",
       "      <td>Coll-1444_00100.ann</td>\n",
       "      <td>T2</td>\n",
       "      <td>Generalization</td>\n",
       "      <td>219</td>\n",
       "      <td>228</td>\n",
       "      <td>Bachelors</td>\n",
       "      <td>Annotator 0</td>\n",
       "    </tr>\n",
       "    <tr>\n",
       "      <th>2</th>\n",
       "      <td>Coll-1444_00100.ann</td>\n",
       "      <td>T3</td>\n",
       "      <td>Generalization</td>\n",
       "      <td>301</td>\n",
       "      <td>310</td>\n",
       "      <td>Bachelors</td>\n",
       "      <td>Annotator 0</td>\n",
       "    </tr>\n",
       "    <tr>\n",
       "      <th>3</th>\n",
       "      <td>Coll-1444_00100.ann</td>\n",
       "      <td>T4</td>\n",
       "      <td>Generalization</td>\n",
       "      <td>368</td>\n",
       "      <td>372</td>\n",
       "      <td>Ed.B</td>\n",
       "      <td>Annotator 0</td>\n",
       "    </tr>\n",
       "    <tr>\n",
       "      <th>4</th>\n",
       "      <td>Coll-1444_00100.ann</td>\n",
       "      <td>T5</td>\n",
       "      <td>Generalization</td>\n",
       "      <td>377</td>\n",
       "      <td>381</td>\n",
       "      <td>M.Ed</td>\n",
       "      <td>Annotator 0</td>\n",
       "    </tr>\n",
       "  </tbody>\n",
       "</table>\n",
       "</div>"
      ],
      "text/plain": [
       "                  file entity           label start  end            text  \\\n",
       "0  Coll-1444_00100.ann     T1         Unknown    52   66  Robert E. Bell   \n",
       "1  Coll-1444_00100.ann     T2  Generalization   219  228       Bachelors   \n",
       "2  Coll-1444_00100.ann     T3  Generalization   301  310       Bachelors   \n",
       "3  Coll-1444_00100.ann     T4  Generalization   368  372            Ed.B   \n",
       "4  Coll-1444_00100.ann     T5  Generalization   377  381            M.Ed   \n",
       "\n",
       "     annotator  \n",
       "0  Annotator 0  \n",
       "1  Annotator 0  \n",
       "2  Annotator 0  \n",
       "3  Annotator 0  \n",
       "4  Annotator 0  "
      ]
     },
     "execution_count": 25,
     "metadata": {},
     "output_type": "execute_result"
    }
   ],
   "source": [
    "df_labels0.head()"
   ]
  },
  {
   "cell_type": "code",
   "execution_count": 30,
   "metadata": {},
   "outputs": [],
   "source": [
    "# Check that all Person-Name labels were removed\n",
    "assert df_labels0[df_labels0.label == \"Person-Name\"].shape[0] == 0, \"Annotator 0 shouldn't have used the Person-Name label\"\n",
    "assert df_labels1[df_labels1.label == \"Person-Name\"].shape[0] == 0, \"Annotator 1 shouldn't have used the Person-Name label\"\n",
    "assert df_labels2[df_labels2.label == \"Person-Name\"].shape[0] == 0, \"Annotator 2 shouldn't have used the Person-Name label\"\n",
    "assert df_labels3[df_labels3.label == \"Person-Name\"].shape[0] == 0, \"Annotator 3 shouldn't have used the Person-Name label\"\n",
    "assert df_labels4[df_labels4.label == \"Person-Name\"].shape[0] == 0, \"Annotator 4 shouldn't have used the Person-Name label\""
   ]
  },
  {
   "cell_type": "markdown",
   "metadata": {},
   "source": [
    "<a id=\"iaa\"></a>\n",
    "## II. Inter-Annotator Agreement (IAA)\n",
    "<a id=\"prep\"></a>\n",
    "### II.i Prepare the Data\n",
    "\n",
    "#### Categories: Person-Name and Linguistic\n",
    "Load the data: "
   ]
  },
  {
   "cell_type": "code",
   "execution_count": 3,
   "metadata": {},
   "outputs": [],
   "source": [
    "labels0 = pd.read_csv(\"./labels0.csv\", index_col=0, header=0)\n",
    "# Remove contextual labels from labels0\n",
    "labels0PL = labels0[labels0.label != \"Omission\"]\n",
    "labels0PL = labels0PL[labels0PL.label != \"Occupation\"]\n",
    "labels0PL = labels0PL[labels0PL.label != \"Empowering\"]\n",
    "labels0PL = labels0PL[labels0PL.label != \"Stereotype\"]\n",
    "\n",
    "labels1 = pd.read_csv(\"./labels1.csv\", index_col=0, header=0)\n",
    "\n",
    "labels2 = pd.read_csv(\"./labels2.csv\", index_col=0, header=0)\n",
    "\n",
    "# print(labels0PL.shape)\n",
    "# print(labels1.shape)\n",
    "# print(labels2.shape)"
   ]
  },
  {
   "cell_type": "markdown",
   "metadata": {},
   "source": [
    " Add the label categories (either Person-Name or Linguistic) as a new column to the DataFrames:"
   ]
  },
  {
   "cell_type": "code",
   "execution_count": 4,
   "metadata": {},
   "outputs": [],
   "source": [
    "person_name = [\"Unknown\", \"Nonbinary\", \"Woman\", \"Man\", \"Person-Name\"]\n",
    "linguistic = [\"Gendered-Role\", \"Gendered-Pronoun\", \"Generalization\", \"Linguistic\"]\n",
    "\n",
    "def addPLCategories(df, person_name, linguistic):\n",
    "    categories = []\n",
    "    labels_list = list(df.label)\n",
    "    for label in labels_list:\n",
    "        if label in person_name:\n",
    "            categories += [\"Person-Name\"]\n",
    "        elif label in linguistic:\n",
    "            categories += [\"Linguistic\"]\n",
    "        else:\n",
    "            print(label)\n",
    "    df[\"category\"] = categories\n",
    "    return df"
   ]
  },
  {
   "cell_type": "code",
   "execution_count": 5,
   "metadata": {},
   "outputs": [
    {
     "data": {
      "text/html": [
       "<div>\n",
       "<style scoped>\n",
       "    .dataframe tbody tr th:only-of-type {\n",
       "        vertical-align: middle;\n",
       "    }\n",
       "\n",
       "    .dataframe tbody tr th {\n",
       "        vertical-align: top;\n",
       "    }\n",
       "\n",
       "    .dataframe thead th {\n",
       "        text-align: right;\n",
       "    }\n",
       "</style>\n",
       "<table border=\"1\" class=\"dataframe\">\n",
       "  <thead>\n",
       "    <tr style=\"text-align: right;\">\n",
       "      <th></th>\n",
       "      <th>file</th>\n",
       "      <th>entity</th>\n",
       "      <th>label</th>\n",
       "      <th>start</th>\n",
       "      <th>end</th>\n",
       "      <th>text</th>\n",
       "      <th>annotator</th>\n",
       "      <th>category</th>\n",
       "    </tr>\n",
       "  </thead>\n",
       "  <tbody>\n",
       "    <tr>\n",
       "      <th>19894</th>\n",
       "      <td>Coll-1469_00100.ann</td>\n",
       "      <td>T12</td>\n",
       "      <td>Unknown</td>\n",
       "      <td>251</td>\n",
       "      <td>257</td>\n",
       "      <td>Ballie</td>\n",
       "      <td>Annotator 2</td>\n",
       "      <td>Person-Name</td>\n",
       "    </tr>\n",
       "    <tr>\n",
       "      <th>19895</th>\n",
       "      <td>Coll-1469_00100.ann</td>\n",
       "      <td>T13</td>\n",
       "      <td>Unknown</td>\n",
       "      <td>301</td>\n",
       "      <td>308</td>\n",
       "      <td>Baillie</td>\n",
       "      <td>Annotator 2</td>\n",
       "      <td>Person-Name</td>\n",
       "    </tr>\n",
       "    <tr>\n",
       "      <th>19896</th>\n",
       "      <td>Coll-1469_00100.ann</td>\n",
       "      <td>T14</td>\n",
       "      <td>Unknown</td>\n",
       "      <td>697</td>\n",
       "      <td>704</td>\n",
       "      <td>Baillie</td>\n",
       "      <td>Annotator 2</td>\n",
       "      <td>Person-Name</td>\n",
       "    </tr>\n",
       "    <tr>\n",
       "      <th>19897</th>\n",
       "      <td>Coll-1469_00100.ann</td>\n",
       "      <td>T15</td>\n",
       "      <td>Unknown</td>\n",
       "      <td>817</td>\n",
       "      <td>822</td>\n",
       "      <td>Dunne</td>\n",
       "      <td>Annotator 2</td>\n",
       "      <td>Person-Name</td>\n",
       "    </tr>\n",
       "    <tr>\n",
       "      <th>19898</th>\n",
       "      <td>Coll-1469_00100.ann</td>\n",
       "      <td>T16</td>\n",
       "      <td>Unknown</td>\n",
       "      <td>913</td>\n",
       "      <td>928</td>\n",
       "      <td>Graeme D. Eddie</td>\n",
       "      <td>Annotator 2</td>\n",
       "      <td>Person-Name</td>\n",
       "    </tr>\n",
       "  </tbody>\n",
       "</table>\n",
       "</div>"
      ],
      "text/plain": [
       "                      file entity    label  start  end             text  \\\n",
       "19894  Coll-1469_00100.ann    T12  Unknown    251  257           Ballie   \n",
       "19895  Coll-1469_00100.ann    T13  Unknown    301  308          Baillie   \n",
       "19896  Coll-1469_00100.ann    T14  Unknown    697  704          Baillie   \n",
       "19897  Coll-1469_00100.ann    T15  Unknown    817  822            Dunne   \n",
       "19898  Coll-1469_00100.ann    T16  Unknown    913  928  Graeme D. Eddie   \n",
       "\n",
       "         annotator     category  \n",
       "19894  Annotator 2  Person-Name  \n",
       "19895  Annotator 2  Person-Name  \n",
       "19896  Annotator 2  Person-Name  \n",
       "19897  Annotator 2  Person-Name  \n",
       "19898  Annotator 2  Person-Name  "
      ]
     },
     "execution_count": 5,
     "metadata": {},
     "output_type": "execute_result"
    }
   ],
   "source": [
    "labels0PL = addPLCategories(labels0PL, person_name, linguistic)\n",
    "# labels0PL.tail()\n",
    "labels1 = addPLCategories(labels1, person_name, linguistic)\n",
    "# labels1.tail()\n",
    "labels2 = addPLCategories(labels2, person_name, linguistic)\n",
    "labels2.tail()"
   ]
  },
  {
   "cell_type": "markdown",
   "metadata": {},
   "source": [
    "Replace \"Woman\" with \"Feminine\" and \"Man\" with \"Masculine\" to better represent how the data was labeled:"
   ]
  },
  {
   "cell_type": "code",
   "execution_count": 6,
   "metadata": {},
   "outputs": [],
   "source": [
    "labels0PL[\"label\"] = labels0PL[\"label\"].replace([\"Woman\", \"Man\"], [\"Feminine\", \"Masculine\"])\n",
    "# labels0PL.tail(20)  # Worked!\n",
    "labels1[\"label\"] = labels1[\"label\"].replace([\"Woman\", \"Man\"], [\"Feminine\", \"Masculine\"])\n",
    "labels2[\"label\"] = labels2[\"label\"].replace([\"Woman\", \"Man\"], [\"Feminine\", \"Masculine\"])"
   ]
  },
  {
   "cell_type": "markdown",
   "metadata": {},
   "source": [
    " Write the new DataFrames to CSV files:"
   ]
  },
  {
   "cell_type": "code",
   "execution_count": 7,
   "metadata": {},
   "outputs": [],
   "source": [
    "# Write the DataFrames to CSV files\n",
    "labels0PL.to_csv(\"labels0PL.csv\")  # write a new CSV file for annotator 0's P & L labels only\n",
    "labels1.to_csv(\"labels1.csv\")      # replace the existing CSV file\n",
    "labels2.to_csv(\"labels2.csv\")      # replace the existing CSV file"
   ]
  },
  {
   "cell_type": "markdown",
   "metadata": {},
   "source": [
    "#### Category: Contextual\n",
    "Load data:"
   ]
  },
  {
   "cell_type": "code",
   "execution_count": 8,
   "metadata": {},
   "outputs": [],
   "source": [
    "labels0C = labels0[labels0.label != \"Gendered-Pronoun\"]\n",
    "labels0C = labels0C[labels0C.label != \"Gendered-Role\"]\n",
    "labels0C = labels0C[labels0C.label != \"Generalization\"]\n",
    "labels0C = labels0C[labels0C.label != \"Linguistic\"]\n",
    "labels0C = labels0C[labels0C.label != \"Person-Name\"]\n",
    "labels0C = labels0C[labels0C.label != \"Unknown\"]\n",
    "labels0C = labels0C[labels0C.label != \"Nonbinary\"]\n",
    "labels0C = labels0C[labels0C.label != \"Woman\"]\n",
    "labels0C = labels0C[labels0C.label != \"Man\"]\n",
    "\n",
    "labels3 = pd.read_csv(\"./labels3.csv\", index_col=0, header=0)\n",
    "labels4 = pd.read_csv(\"./labels4.csv\", index_col=0, header=0)\n",
    "labels4 = labels4[labels4.label != \"Generalization\"]"
   ]
  },
  {
   "cell_type": "markdown",
   "metadata": {},
   "source": [
    "Add label category (Contextual):"
   ]
  },
  {
   "cell_type": "code",
   "execution_count": 9,
   "metadata": {},
   "outputs": [],
   "source": [
    "contextual = [\"Omission\", \"Occupation\", \"Stereotype\", \"Empowering\", \"Contextual\"]\n",
    "def addCCategories(df, contextual):\n",
    "    categories = []\n",
    "    labels_list = list(df.label)\n",
    "    for label in labels_list:\n",
    "        if label in contextual:\n",
    "            categories += [\"Contextual\"]\n",
    "        else:\n",
    "            print(label)\n",
    "    df[\"category\"] = categories\n",
    "    return df"
   ]
  },
  {
   "cell_type": "code",
   "execution_count": 10,
   "metadata": {},
   "outputs": [
    {
     "data": {
      "text/html": [
       "<div>\n",
       "<style scoped>\n",
       "    .dataframe tbody tr th:only-of-type {\n",
       "        vertical-align: middle;\n",
       "    }\n",
       "\n",
       "    .dataframe tbody tr th {\n",
       "        vertical-align: top;\n",
       "    }\n",
       "\n",
       "    .dataframe thead th {\n",
       "        text-align: right;\n",
       "    }\n",
       "</style>\n",
       "<table border=\"1\" class=\"dataframe\">\n",
       "  <thead>\n",
       "    <tr style=\"text-align: right;\">\n",
       "      <th></th>\n",
       "      <th>file</th>\n",
       "      <th>entity</th>\n",
       "      <th>label</th>\n",
       "      <th>start</th>\n",
       "      <th>end</th>\n",
       "      <th>text</th>\n",
       "      <th>annotator</th>\n",
       "      <th>category</th>\n",
       "    </tr>\n",
       "  </thead>\n",
       "  <tbody>\n",
       "    <tr>\n",
       "      <th>0</th>\n",
       "      <td>Coll-1444_00100.ann</td>\n",
       "      <td>T1</td>\n",
       "      <td>Occupation</td>\n",
       "      <td>715</td>\n",
       "      <td>740</td>\n",
       "      <td>Educational Psychologists</td>\n",
       "      <td>Annotator 4</td>\n",
       "      <td>Contextual</td>\n",
       "    </tr>\n",
       "    <tr>\n",
       "      <th>1</th>\n",
       "      <td>Coll-1444_00100.ann</td>\n",
       "      <td>T2</td>\n",
       "      <td>Occupation</td>\n",
       "      <td>1664</td>\n",
       "      <td>1676</td>\n",
       "      <td>Psychologist</td>\n",
       "      <td>Annotator 4</td>\n",
       "      <td>Contextual</td>\n",
       "    </tr>\n",
       "    <tr>\n",
       "      <th>2</th>\n",
       "      <td>Coll-1444_00100.ann</td>\n",
       "      <td>T3</td>\n",
       "      <td>Occupation</td>\n",
       "      <td>2312</td>\n",
       "      <td>2375</td>\n",
       "      <td>researcher at the Godfrey Thomson Unit for Edu...</td>\n",
       "      <td>Annotator 4</td>\n",
       "      <td>Contextual</td>\n",
       "    </tr>\n",
       "    <tr>\n",
       "      <th>21</th>\n",
       "      <td>BAI_01200.ann</td>\n",
       "      <td>T19</td>\n",
       "      <td>Occupation</td>\n",
       "      <td>2347</td>\n",
       "      <td>2371</td>\n",
       "      <td>Archbishop of Canterbury</td>\n",
       "      <td>Annotator 4</td>\n",
       "      <td>Contextual</td>\n",
       "    </tr>\n",
       "    <tr>\n",
       "      <th>22</th>\n",
       "      <td>BAI_01200.ann</td>\n",
       "      <td>T20</td>\n",
       "      <td>Omission</td>\n",
       "      <td>2381</td>\n",
       "      <td>2397</td>\n",
       "      <td>Duke of Montrose</td>\n",
       "      <td>Annotator 4</td>\n",
       "      <td>Contextual</td>\n",
       "    </tr>\n",
       "  </tbody>\n",
       "</table>\n",
       "</div>"
      ],
      "text/plain": [
       "                   file entity       label  start   end  \\\n",
       "0   Coll-1444_00100.ann     T1  Occupation    715   740   \n",
       "1   Coll-1444_00100.ann     T2  Occupation   1664  1676   \n",
       "2   Coll-1444_00100.ann     T3  Occupation   2312  2375   \n",
       "21        BAI_01200.ann    T19  Occupation   2347  2371   \n",
       "22        BAI_01200.ann    T20    Omission   2381  2397   \n",
       "\n",
       "                                                 text    annotator    category  \n",
       "0                           Educational Psychologists  Annotator 4  Contextual  \n",
       "1                                        Psychologist  Annotator 4  Contextual  \n",
       "2   researcher at the Godfrey Thomson Unit for Edu...  Annotator 4  Contextual  \n",
       "21                           Archbishop of Canterbury  Annotator 4  Contextual  \n",
       "22                                   Duke of Montrose  Annotator 4  Contextual  "
      ]
     },
     "execution_count": 10,
     "metadata": {},
     "output_type": "execute_result"
    }
   ],
   "source": [
    "labels0C = addCCategories(labels0C, contextual)\n",
    "# labels0C.head()  # Worked\n",
    "labels3 = addCCategories(labels3, contextual)\n",
    "# labels3.head()  # Worked\n",
    "labels4 = addCCategories(labels4, contextual)\n",
    "labels4.head()  # Worked"
   ]
  },
  {
   "cell_type": "markdown",
   "metadata": {},
   "source": [
    "Write the new DataFrames to CSV files:"
   ]
  },
  {
   "cell_type": "code",
   "execution_count": 11,
   "metadata": {},
   "outputs": [],
   "source": [
    "labels0C.to_csv(\"labels0C.csv\")  # write new CSV file of annotator 0's contextual labels\n",
    "labels3.to_csv(\"labels3.csv\")    # replace existing CSV file\n",
    "labels4.to_csv(\"labels4.csv\")    # replace existing CSV file"
   ]
  },
  {
   "cell_type": "markdown",
   "metadata": {},
   "source": [
    "<a id=\"tfptfn\"></a>\n",
    "### II.ii Functions: Find True/False Positives and True/False Negatives\n",
    "Use the [IntervalTree](https://pypi.org/project/intervaltree/) library to find overlapping annotations (per file and per label)."
   ]
  },
  {
   "cell_type": "code",
   "execution_count": 13,
   "metadata": {},
   "outputs": [],
   "source": [
    "# recall: true positive / (true positive + false negative)\n",
    "# precision: true positive / (true positive + false positive)\n",
    "\n",
    "# accuracy???: (true positive + true negative) / (true pos + false pos + true neg + false neg)\n",
    "# F-score: true positive / (true pos + (1/2)(false pos + false neg))  OR (2*prec*rec)/(prec+rec)\n",
    "\n",
    "#set_A.difference(set_B) for (A - B) (what's in A but not B)\n",
    "#set_B.difference(set_A) for (B - A) (what's in B but not A)"
   ]
  },
  {
   "cell_type": "code",
   "execution_count": 61,
   "metadata": {},
   "outputs": [],
   "source": [
    "# #  INPUT:  a DataFrame of an annotator's labels and a list of files to include labels from\n",
    "# # OUTPUT: a list of tuples of four items (file, label, start offset, and end offset) per file (keys)\n",
    "# def getFileLabelOffsets(ann_df, common_files):\n",
    "#     file_list =  list(ann_df.file)\n",
    "#     label = list(ann_df.label)\n",
    "#     start = list(ann_df.start)\n",
    "#     end = list(ann_df.end)\n",
    "#     i = 0\n",
    "#     maxI = len(label)\n",
    "#     file_label_start_end = []\n",
    "#     while i < maxI:\n",
    "#         if file_list[i] in common_files:\n",
    "#             file_label_start_end += [(file_list[i], label[i], start[i], end[i])]\n",
    "#         i += 1\n",
    "#     return set(file_label_start_end)"
   ]
  },
  {
   "cell_type": "code",
   "execution_count": 15,
   "metadata": {},
   "outputs": [],
   "source": [
    "def getFileLabelOffsetsPerLabel(ann_df, common_files, chosen_label):\n",
    "    label = list(ann_df.label)\n",
    "    start = list(ann_df.start)\n",
    "    end = list(ann_df.end)\n",
    "    file_list = list(ann_df.file)\n",
    "    i = 0\n",
    "    maxI = len(start)\n",
    "    file_label_start_end = []\n",
    "    while i < maxI:\n",
    "        if label[i] in chosen_label:\n",
    "            if file_list[i] in common_files:\n",
    "                file_label_start_end += [(file_list[i], label[i], start[i], end[i])]\n",
    "        i += 1\n",
    "    return set(file_label_start_end)"
   ]
  },
  {
   "cell_type": "code",
   "execution_count": 82,
   "metadata": {},
   "outputs": [],
   "source": [
    "# def hasBoundaryError(start_1, start_2, end_1, end_2):\n",
    "#     # left overlap\n",
    "#     if start_1 <= start_2 and start_1 < end_2 and end_1 >= start_2 and end_1 < end_2:\n",
    "#         return True\n",
    "#     # right overlap \n",
    "#     elif start_1 > start_2 and end_1 >= end_2 and start_1 <= end_2 and end_1 > start_2:\n",
    "#         return True\n",
    "#     # enclosure\n",
    "#     elif start_1 < start_2 and start_1 < end_2 and end_1 > start_2 and end_1 > end_2:\n",
    "#         return True\n",
    "#     # containment\n",
    "#     elif start_1 > start_2 and start_1 < end_2 and end_1 > start_2 and end_1 < end_2:\n",
    "#         return True\n",
    "#     else:\n",
    "#         return False"
   ]
  },
  {
   "cell_type": "code",
   "execution_count": 83,
   "metadata": {},
   "outputs": [],
   "source": [
    "# #  INPUT: two lists (one for expected, one for predicted) of tuples of four items, organized as\n",
    "# #         (file, label, start_offset, end_offset), where label and file are strings, and offsets are integers\n",
    "# # OUTPUT: set of tuples from the first input list with overlaps with the second input list\n",
    "# def findOverlaps(label_offsets1, label_offsets2):\n",
    "#     overlap = []\n",
    "#     for set_1 in label_offsets1:\n",
    "#         try:\n",
    "#             int(set_1[3])\n",
    "#         except ValueError:\n",
    "#             return set_1\n",
    "#         else:\n",
    "#             file_1, label_1, start_1, end_1 = set_1[0], set_1[1], int(set_1[2]), int(set_1[3])\n",
    "#             for set_2 in label_offsets2:\n",
    "#                 file_2, label_2, start_2, end_2 = set_2[0], set_2[1], int(set_2[2]), int(set_2[3])\n",
    "#                 if file_1 == file_2 and label_1 == label_2:\n",
    "#                     if hasBoundaryError(start_1, start_2, end_1, end_2):\n",
    "#                         overlap += [set_1]\n",
    "#     return set(overlap)"
   ]
  },
  {
   "cell_type": "code",
   "execution_count": 31,
   "metadata": {},
   "outputs": [],
   "source": [
    "# def getFileLabelStartOffsets(ann_df, common_files):\n",
    "#     label = list(ann_df.label)\n",
    "#     start = list(ann_df.start)\n",
    "#     file = list(ann_df.file)\n",
    "#     i = 0\n",
    "#     maxI = len(start)\n",
    "#     file_label_start = []\n",
    "#     while i < maxI:\n",
    "#         if file[i] in common_files:\n",
    "#             file_label_start += [(file[i], label[i], start[i])]\n",
    "#         i += 1\n",
    "#     return set(file_label_start)"
   ]
  },
  {
   "cell_type": "code",
   "execution_count": 32,
   "metadata": {},
   "outputs": [],
   "source": [
    "# def getFileLabelStartOffsetsPerLabel(ann_df, common_files, chosen_label):\n",
    "#     label = list(ann_df.label)\n",
    "#     start = list(ann_df.start)\n",
    "#     file = list(ann_df.file)\n",
    "#     i = 0\n",
    "#     maxI = len(start)\n",
    "#     file_label_start = []\n",
    "#     while i < maxI:\n",
    "#         if label[i] in chosen_label:\n",
    "#             if file[i] in common_files:\n",
    "#                 file_label_start += [(file[i], label[i], start[i])]\n",
    "#         i += 1\n",
    "#     return set(file_label_start)"
   ]
  },
  {
   "cell_type": "code",
   "execution_count": 16,
   "metadata": {},
   "outputs": [],
   "source": [
    "def makeCommonFileLabelOffsetsDf(ann_df, common_files):\n",
    "    label = list(ann_df.label)\n",
    "    start = list(ann_df.start)\n",
    "    end = list(ann_df.end)\n",
    "    file = list(ann_df.file)\n",
    "    i = 0\n",
    "    maxI = len(start)\n",
    "    df_files, df_labels, df_starts, df_ends = [], [], [], []\n",
    "    while i < maxI:\n",
    "        if file[i] in common_files:\n",
    "            df_files += [file[i]]\n",
    "            df_labels += [label[i]]\n",
    "            df_starts += [start[i]]\n",
    "            df_ends += [end[i]]\n",
    "        i += 1\n",
    "    return pd.DataFrame({\"file\":df_files, \"label\":df_labels, \"start_offset\":df_starts, \"end_offset\":df_ends})"
   ]
  },
  {
   "cell_type": "code",
   "execution_count": 34,
   "metadata": {},
   "outputs": [],
   "source": [
    "# # Code in this cell is for Contextual annotations only!\n",
    "# # For measuring document-level agreement (count totals per label for each file annotated)\n",
    "# def getFileLabelCounts(common_files, files_labels_starts):\n",
    "#     files, labels, counts = [], [], []\n",
    "#     for triple in files_labels_starts:\n",
    "#         files = triple[0]\n",
    "#         label = triple[1]\n",
    "#         clabel_counts[file][label] = 1 + clabel_counts[file][label]\n",
    "#     return files, labels, counts    "
   ]
  },
  {
   "cell_type": "code",
   "execution_count": 35,
   "metadata": {},
   "outputs": [],
   "source": [
    "# def dfFromLabelCounts(clabel_counts):\n",
    "#     file_names = list(clabel_counts.keys())\n",
    "#     label_list = list(clabel_counts[file_names[0]].keys())\n",
    "#     col_list = [\"File\"] + label_list\n",
    "#     df_dict = dict.fromkeys(col_list, [])\n",
    "#     df_dict[\"File\"] = file_names\n",
    "#     for label in label_list:\n",
    "#         for f in file_names:\n",
    "#             df_dict[label] = df_dict[label] + [clabel_counts[f][label]]\n",
    "    \n",
    "#     assert len(df_dict[\"File\"]) == len(df_dict[label])\n",
    "    \n",
    "#     return pd.DataFrame(df_dict)"
   ]
  },
  {
   "cell_type": "code",
   "execution_count": 17,
   "metadata": {},
   "outputs": [],
   "source": [
    "# Find the files both input annotators labeled\n",
    "def findCommonFiles(df_a, df_b):\n",
    "    common = []\n",
    "    files_a = set(list(df_a.file))\n",
    "    files_b = set(list(df_b.file))\n",
    "    for f in files_a:\n",
    "        if f in files_b:\n",
    "            common += [f]\n",
    "    return common"
   ]
  },
  {
   "cell_type": "markdown",
   "metadata": {},
   "source": [
    "Create CSV files of the expected (gold's) vs. predicted (other annotator's) labels:"
   ]
  },
  {
   "cell_type": "code",
   "execution_count": 71,
   "metadata": {},
   "outputs": [],
   "source": [
    "# def createExpPredDataFrame(exp_df, pred_df1, pred_df2, suffix_exp, suffix_pred1, suffix_pred2):\n",
    "#     # Organize the DataFrames to be merged\n",
    "#     exp_df.sort_values([\"file\", \"category\", \"label\", \"start\", \"end\"], inplace=True)\n",
    "#     exp_df = exp_df[[\"file\", \"category\", \"label\", \"start\", \"end\", \"text\"]]\n",
    "#     pred_df1.sort_values([\"file\", \"category\", \"label\", \"start\", \"end\"], inplace=True)\n",
    "#     pred_df1 = pred_df1[[\"file\", \"category\", \"label\", \"start\", \"end\", \"text\"]]\n",
    "#     pred_df2.sort_values([\"file\", \"category\", \"label\", \"start\", \"end\"], inplace=True)\n",
    "#     pred_df2 = pred_df2[[\"file\", \"category\", \"label\", \"start\", \"end\", \"text\"]]\n",
    "    \n",
    "#     # Outer join the first two DataFrames on their file, category, label, start (offset), and end (offset) columns\n",
    "#     exp_pred1_df = pd.merge(exp_df, pred_df1, how=\"outer\", \n",
    "#                            on=[\"file\",\"category\",\"label\",\"start\",\"end\"], \n",
    "#                            suffixes=(suffix_exp, suffix_pred1))\n",
    "#     # Outer join the joined and second DataFrames on their file, category, label, start (offset), and end (offset) columns\n",
    "#     exp_pred1_pred2_df = pd.merge(exp_pred1_df, pred_df2, how=\"outer\", \n",
    "#                            on=[\"file\",\"category\",\"label\",\"start\",\"end\"])\n",
    "#     exp_pred1_pred2_df.rename(columns={\"text\":(\"text\"+suffix_pred2)}, inplace=True)\n",
    "    \n",
    "#     # Sort the data for ease of comparison for agreement/disagreement\n",
    "#     exp_pred1_pred2_df.sort_values([\"file\", \"category\", \"label\", \"start\", \"end\"], inplace=True)\n",
    "#     exp_pred1_pred2_df.reset_index(drop=True, inplace=True)\n",
    "    \n",
    "#     return exp_pred1_pred2_df"
   ]
  },
  {
   "cell_type": "code",
   "execution_count": 73,
   "metadata": {},
   "outputs": [],
   "source": [
    "# labelsPL012 = createExpPredDataFrame(labels0PL, labels1, labels2, \"_0\", \"_1\", \"_2\")\n",
    "# labelsPL012.head(20)"
   ]
  },
  {
   "cell_type": "code",
   "execution_count": 75,
   "metadata": {},
   "outputs": [],
   "source": [
    "# labelsC034 = createExpPredDataFrame(labels0C, labels3, labels4, \"_0\", \"_3\", \"_4\")\n",
    "# labelsC034.head(20)"
   ]
  },
  {
   "cell_type": "markdown",
   "metadata": {},
   "source": [
    "Now we can study where the agreements and disagreements between annotators occurred, looking for patterns and potential ways to reconcile (such as voting, where the gold dataset goes with what most annotators labeled in each scenario) disagreements for the gold standard dataset!\n",
    "\n",
    "To make this a bit easier with a color-code rule in Excel, let's add a column that counts the number of annotators who don't have an empty cell in each row of the DataFrames we created above:"
   ]
  },
  {
   "cell_type": "code",
   "execution_count": 80,
   "metadata": {},
   "outputs": [],
   "source": [
    "# def addColorCodeCol(df, text0, text1, text2):\n",
    "#     colors = []\n",
    "#     i, maxI = 0, len(text0)\n",
    "#     while i < maxI:\n",
    "#         color = 0\n",
    "#         if text0[i] == text1[i] and text1[i] == text2[i]:\n",
    "#             color = 3\n",
    "#         else:\n",
    "#             if text0[i] or text1[i] or text2[i]:\n",
    "#                 color += 1\n",
    "#             if text0[i] == text1[i]:\n",
    "#                 color += 1\n",
    "#             if text0[i] == text2[i]:\n",
    "#                 color += 1\n",
    "#             if text1[i] == text2[i]:\n",
    "#                 color += 1\n",
    "#         colors += [color]\n",
    "#         i += 1\n",
    "#     df[\"color\"] = colors\n",
    "#     return df"
   ]
  },
  {
   "cell_type": "code",
   "execution_count": 83,
   "metadata": {},
   "outputs": [],
   "source": [
    "# text0 = list(labelsPL012.text_0)\n",
    "# text1 = list(labelsPL012.text_1)\n",
    "# text2 = list(labelsPL012.text_2)\n",
    "# labelsPL012 = addColorCodeCol(labelsPL012, text0, text1, text2)"
   ]
  },
  {
   "cell_type": "code",
   "execution_count": 82,
   "metadata": {},
   "outputs": [],
   "source": [
    "# text0 = list(labelsC034.text_0)\n",
    "# text3 = list(labelsC034.text_3)\n",
    "# text4 = list(labelsC034.text_4)\n",
    "# labelsC034 = addColorCodeCol(labelsC034, text0, text3, text4)\n",
    "# # labelsC034.head()"
   ]
  },
  {
   "cell_type": "code",
   "execution_count": 84,
   "metadata": {},
   "outputs": [],
   "source": [
    "# labelsPL012.to_csv(\"labelsPL012.csv\")\n",
    "# labelsC034.to_csv(\"labelsC034.csv\")"
   ]
  },
  {
   "cell_type": "markdown",
   "metadata": {},
   "source": [
    "Review the CSV files to find patterns in the annotators' agreements and disagreements, and to find obvious mistakes to fix in the annotation (.ann) files.\n",
    "\n",
    "*Completed*"
   ]
  },
  {
   "cell_type": "markdown",
   "metadata": {},
   "source": [
    "<a id=\"iaa\"></a>\n",
    "### II.iii Calculate IAA\n",
    "\n",
    "Get the common files amongst the various annotator pairs between whom to measure agreement:"
   ]
  },
  {
   "cell_type": "code",
   "execution_count": 181,
   "metadata": {},
   "outputs": [
    {
     "name": "stdout",
     "output_type": "stream",
     "text": [
      "584\n",
      "170\n",
      "72\n",
      "485\n",
      "149\n",
      "57\n"
     ]
    }
   ],
   "source": [
    "# PERSON-NAME & LINGUISTIC\n",
    "labels0PL = pd.read_csv(\"labels0PL.csv\", index_col=0)\n",
    "labels1 = pd.read_csv(\"labels1.csv\", index_col=0)\n",
    "labels2 = pd.read_csv(\"labels2.csv\", index_col=0)\n",
    "\n",
    "commonPL01 = findCommonFiles(labels0PL, labels1)\n",
    "print(len(commonPL01))  \n",
    "commonPL02 = findCommonFiles(labels0PL, labels2)\n",
    "print(len(commonPL02))  \n",
    "commonPL12 = findCommonFiles(labels1, labels2)\n",
    "print(len(commonPL12))  \n",
    "\n",
    "\n",
    "# CONTEXTUAL\n",
    "labels0C = pd.read_csv(\"labels0C.csv\", index_col=0)\n",
    "labels3 = pd.read_csv(\"labels3.csv\", index_col=0)\n",
    "labels4 = pd.read_csv(\"labels4.csv\", index_col=0)\n",
    "\n",
    "commonC03 = findCommonFiles(labels0C, labels3)\n",
    "print(len(commonC03))   \n",
    "commonC04 = findCommonFiles(labels0C, labels4)\n",
    "print(len(commonC04))   \n",
    "commonC34 = findCommonFiles(labels3, labels4)\n",
    "print(len(commonC34))   "
   ]
  },
  {
   "cell_type": "code",
   "execution_count": 182,
   "metadata": {},
   "outputs": [],
   "source": [
    "# Clean up the offsets (each entry should be a single integer)\n",
    "def fixOffsets(df):\n",
    "    start_offsets = list(df.start)\n",
    "    new_start_offsets = []\n",
    "    for o in start_offsets:\n",
    "        o = str(o)\n",
    "        if \";\" in o:\n",
    "            fixed = re.findall(\"\\d+$\", o)[0]\n",
    "            new_start_offsets += [int(fixed)]\n",
    "        else:\n",
    "            new_start_offsets += [int(o)]\n",
    "    df.start = new_start_offsets\n",
    "    \n",
    "    end_offsets = list(df.end)\n",
    "    new_end_offsets = []\n",
    "    for o in end_offsets:\n",
    "        o = str(o)\n",
    "        if \";\" in o:\n",
    "            fixed = re.findall(\"\\d+$\", o)[0]\n",
    "            new_end_offsets += [int(fixed)]\n",
    "        else:\n",
    "            new_end_offsets += [int(o)]\n",
    "    df.end = new_end_offsets\n",
    "    \n",
    "    return df"
   ]
  },
  {
   "cell_type": "code",
   "execution_count": 183,
   "metadata": {},
   "outputs": [],
   "source": [
    "labels0PL = fixOffsets(labels0PL)\n",
    "labels0C = fixOffsets(labels0C)\n",
    "labels1 = fixOffsets(labels1)\n",
    "labels2 = fixOffsets(labels2)\n",
    "labels3 = fixOffsets(labels3)\n",
    "labels4 = fixOffsets(labels4)"
   ]
  },
  {
   "cell_type": "markdown",
   "metadata": {},
   "source": [
    "Create six dataframes for each pair of annotators between whom to analyze agreement."
   ]
  },
  {
   "cell_type": "code",
   "execution_count": 184,
   "metadata": {},
   "outputs": [],
   "source": [
    "df0_with1 = makeCommonFileLabelOffsetsDf(labels0PL, commonPL01)\n",
    "df1_with0 = makeCommonFileLabelOffsetsDf(labels1, commonPL01)\n",
    "\n",
    "df0_with2 = makeCommonFileLabelOffsetsDf(labels0PL, commonPL02)\n",
    "df2_with0 = makeCommonFileLabelOffsetsDf(labels2, commonPL02)\n",
    "\n",
    "df1_with2 = makeCommonFileLabelOffsetsDf(labels1, commonPL12)\n",
    "df2_with1 = makeCommonFileLabelOffsetsDf(labels2, commonPL12)"
   ]
  },
  {
   "cell_type": "code",
   "execution_count": 185,
   "metadata": {},
   "outputs": [],
   "source": [
    "df0_with3 = makeCommonFileLabelOffsetsDf(labels0C, commonC03)\n",
    "df3_with0 = makeCommonFileLabelOffsetsDf(labels3, commonC03)\n",
    "\n",
    "df0_with4 = makeCommonFileLabelOffsetsDf(labels0C, commonC04)\n",
    "df4_with0 = makeCommonFileLabelOffsetsDf(labels4, commonC04)\n",
    "\n",
    "df3_with4 = makeCommonFileLabelOffsetsDf(labels3, commonC34)\n",
    "df4_with3 = makeCommonFileLabelOffsetsDf(labels4, commonC34)"
   ]
  },
  {
   "cell_type": "markdown",
   "metadata": {},
   "source": [
    "Create an interval tree of the start and end offsets for the specified label in the specified file."
   ]
  },
  {
   "cell_type": "code",
   "execution_count": 186,
   "metadata": {},
   "outputs": [],
   "source": [
    "# Create an interval tree for one annotator for a specified file and specified label\n",
    "def createIntervalTree(df, filename, labelname):\n",
    "    subdf = df[df.file == filename]                                       # Get only rows for the input file\n",
    "    subdf = subdf[subdf.label == labelname]                               # Get only rows for that file with the input label\n",
    "    subdf = subdf.astype({\"start_offset\":int, \"end_offset\":int})          # Make sure the offsets are integers\n",
    "    offsets = list(zip(list(subdf.start_offset), list(subdf.end_offset)))\n",
    "    return IntervalTree.from_tuples(offsets)"
   ]
  },
  {
   "cell_type": "code",
   "execution_count": 187,
   "metadata": {},
   "outputs": [],
   "source": [
    "# Count all matches including exactly matching, overlapping, and enveloping annotations\n",
    "def iaaPerFile(tree_exp, tree_pred):\n",
    "    tp = 0                                              # count of true positives\n",
    "    fn = len(tree_exp.difference(tree_pred))                 # count of false negatives\n",
    "    fp = len(tree_pred.difference(tree_exp))                 # count of false positives\n",
    "    for annotation in tree_exp: \n",
    "        tp += len(tree_pred.overlap(annotation))\n",
    "    return tp, fn, fp"
   ]
  },
  {
   "cell_type": "code",
   "execution_count": 188,
   "metadata": {},
   "outputs": [],
   "source": [
    "# Create lists of all true positive, false negative, and false_positive counts for all common files between \n",
    "# expected and predicted annotators for the input label\n",
    "def iaaAcrossFiles(df_exp, df_pred, commonfiles, labelname):\n",
    "    true_positives, false_negatives, false_positives = [], [], []\n",
    "    for f in commonfiles:\n",
    "        t_exp = createIntervalTree(df_exp, f, labelname)\n",
    "        t_pred = createIntervalTree(df_pred, f, labelname)\n",
    "        tp, fn, fp = iaaPerFile(t_exp, t_pred)\n",
    "        true_positives += [tp]\n",
    "        false_negatives += [fn]\n",
    "        false_positives += [fp]\n",
    "    return true_positives, false_negatives, false_positives"
   ]
  },
  {
   "cell_type": "code",
   "execution_count": 189,
   "metadata": {},
   "outputs": [],
   "source": [
    "def IAA(tp, fn, fp):\n",
    "    if tp+fp == 0:\n",
    "        precision = 1\n",
    "    else:\n",
    "        precision = (tp/(tp+fp))\n",
    "    if tp+fn == 0:\n",
    "        recall = 1\n",
    "    else:\n",
    "        recall = (tp/(tp+fn))\n",
    "    f_1 = (2*precision*recall)/(precision+recall)\n",
    "    return precision, recall, f_1"
   ]
  },
  {
   "cell_type": "code",
   "execution_count": 196,
   "metadata": {},
   "outputs": [],
   "source": [
    "def initDF():\n",
    "    exp_ann = []\n",
    "    pred_ann = []\n",
    "    label = []\n",
    "    truep = []\n",
    "    falsep = []\n",
    "    falsen = []\n",
    "    prec = []\n",
    "    rec = []\n",
    "    f = []\n",
    "    for_df = {\"expected\":exp_ann, \"predicted\":pred_ann, \"label\":label, \"true_positive\":truep, \"false_positive\":falsep, \n",
    "                     \"false_negative\":falsen, \"precision\":prec, \"recall\":rec, \"F_1\":f}\n",
    "    return pd.DataFrame(for_df)"
   ]
  },
  {
   "cell_type": "code",
   "execution_count": 190,
   "metadata": {},
   "outputs": [],
   "source": [
    "def appendRow(df, exp_name, pred_name, label_name, tp, fp, fn, precision, recall, f_1):\n",
    "    df = df.append({\"expected\":exp_name, \"predicted\":pred_name, \"label\":label_name, \"true_positive\":tp, \n",
    "                    \"false_positive\":fp, \"false_negative\":fn, \"precision\":precision, \"recall\":recall, \"F_1\":f_1}, \n",
    "                  ignore_index=True)\n",
    "    return df"
   ]
  },
  {
   "cell_type": "markdown",
   "metadata": {},
   "source": [
    "Calculate IAA among annotators 0, 1 and 2 for Person-Name and Linguistic label categories."
   ]
  },
  {
   "cell_type": "code",
   "execution_count": 191,
   "metadata": {},
   "outputs": [
    {
     "data": {
      "text/html": [
       "<div>\n",
       "<style scoped>\n",
       "    .dataframe tbody tr th:only-of-type {\n",
       "        vertical-align: middle;\n",
       "    }\n",
       "\n",
       "    .dataframe tbody tr th {\n",
       "        vertical-align: top;\n",
       "    }\n",
       "\n",
       "    .dataframe thead th {\n",
       "        text-align: right;\n",
       "    }\n",
       "</style>\n",
       "<table border=\"1\" class=\"dataframe\">\n",
       "  <thead>\n",
       "    <tr style=\"text-align: right;\">\n",
       "      <th></th>\n",
       "      <th>expected</th>\n",
       "      <th>predicted</th>\n",
       "      <th>label</th>\n",
       "      <th>true_positive</th>\n",
       "      <th>false_positive</th>\n",
       "      <th>false_negative</th>\n",
       "      <th>precision</th>\n",
       "      <th>recall</th>\n",
       "      <th>F_1</th>\n",
       "    </tr>\n",
       "  </thead>\n",
       "  <tbody>\n",
       "    <tr>\n",
       "      <th>0</th>\n",
       "      <td>Annotator 0</td>\n",
       "      <td>Annotator 1</td>\n",
       "      <td>Unknown</td>\n",
       "      <td>5031.0</td>\n",
       "      <td>1524.0</td>\n",
       "      <td>4268.0</td>\n",
       "      <td>0.767506</td>\n",
       "      <td>0.541026</td>\n",
       "      <td>0.634666</td>\n",
       "    </tr>\n",
       "    <tr>\n",
       "      <th>1</th>\n",
       "      <td>Annotator 0</td>\n",
       "      <td>Annotator 2</td>\n",
       "      <td>Unknown</td>\n",
       "      <td>2776.0</td>\n",
       "      <td>537.0</td>\n",
       "      <td>432.0</td>\n",
       "      <td>0.837911</td>\n",
       "      <td>0.865337</td>\n",
       "      <td>0.851403</td>\n",
       "    </tr>\n",
       "    <tr>\n",
       "      <th>2</th>\n",
       "      <td>Annotator 1</td>\n",
       "      <td>Annotator 2</td>\n",
       "      <td>Unknown</td>\n",
       "      <td>1048.0</td>\n",
       "      <td>1421.0</td>\n",
       "      <td>315.0</td>\n",
       "      <td>0.424463</td>\n",
       "      <td>0.768892</td>\n",
       "      <td>0.546973</td>\n",
       "    </tr>\n",
       "    <tr>\n",
       "      <th>3</th>\n",
       "      <td>Annotator 0</td>\n",
       "      <td>Annotator 1</td>\n",
       "      <td>Masculine</td>\n",
       "      <td>2367.0</td>\n",
       "      <td>2372.0</td>\n",
       "      <td>1079.0</td>\n",
       "      <td>0.499472</td>\n",
       "      <td>0.686883</td>\n",
       "      <td>0.578375</td>\n",
       "    </tr>\n",
       "    <tr>\n",
       "      <th>4</th>\n",
       "      <td>Annotator 0</td>\n",
       "      <td>Annotator 2</td>\n",
       "      <td>Masculine</td>\n",
       "      <td>728.0</td>\n",
       "      <td>111.0</td>\n",
       "      <td>146.0</td>\n",
       "      <td>0.867700</td>\n",
       "      <td>0.832952</td>\n",
       "      <td>0.849971</td>\n",
       "    </tr>\n",
       "    <tr>\n",
       "      <th>5</th>\n",
       "      <td>Annotator 1</td>\n",
       "      <td>Annotator 2</td>\n",
       "      <td>Masculine</td>\n",
       "      <td>380.0</td>\n",
       "      <td>169.0</td>\n",
       "      <td>411.0</td>\n",
       "      <td>0.692168</td>\n",
       "      <td>0.480405</td>\n",
       "      <td>0.567164</td>\n",
       "    </tr>\n",
       "    <tr>\n",
       "      <th>6</th>\n",
       "      <td>Annotator 0</td>\n",
       "      <td>Annotator 1</td>\n",
       "      <td>Feminine</td>\n",
       "      <td>627.0</td>\n",
       "      <td>427.0</td>\n",
       "      <td>642.0</td>\n",
       "      <td>0.594877</td>\n",
       "      <td>0.494090</td>\n",
       "      <td>0.539819</td>\n",
       "    </tr>\n",
       "    <tr>\n",
       "      <th>7</th>\n",
       "      <td>Annotator 0</td>\n",
       "      <td>Annotator 2</td>\n",
       "      <td>Feminine</td>\n",
       "      <td>724.0</td>\n",
       "      <td>128.0</td>\n",
       "      <td>178.0</td>\n",
       "      <td>0.849765</td>\n",
       "      <td>0.802661</td>\n",
       "      <td>0.825542</td>\n",
       "    </tr>\n",
       "    <tr>\n",
       "      <th>8</th>\n",
       "      <td>Annotator 1</td>\n",
       "      <td>Annotator 2</td>\n",
       "      <td>Feminine</td>\n",
       "      <td>287.0</td>\n",
       "      <td>496.0</td>\n",
       "      <td>279.0</td>\n",
       "      <td>0.366539</td>\n",
       "      <td>0.507067</td>\n",
       "      <td>0.425500</td>\n",
       "    </tr>\n",
       "    <tr>\n",
       "      <th>9</th>\n",
       "      <td>Annotator 0</td>\n",
       "      <td>Annotator 1</td>\n",
       "      <td>Nonbinary</td>\n",
       "      <td>0.0</td>\n",
       "      <td>0.0</td>\n",
       "      <td>1.0</td>\n",
       "      <td>1.000000</td>\n",
       "      <td>0.000000</td>\n",
       "      <td>0.000000</td>\n",
       "    </tr>\n",
       "    <tr>\n",
       "      <th>10</th>\n",
       "      <td>Annotator 0</td>\n",
       "      <td>Annotator 2</td>\n",
       "      <td>Nonbinary</td>\n",
       "      <td>0.0</td>\n",
       "      <td>0.0</td>\n",
       "      <td>0.0</td>\n",
       "      <td>1.000000</td>\n",
       "      <td>1.000000</td>\n",
       "      <td>1.000000</td>\n",
       "    </tr>\n",
       "    <tr>\n",
       "      <th>11</th>\n",
       "      <td>Annotator 1</td>\n",
       "      <td>Annotator 2</td>\n",
       "      <td>Nonbinary</td>\n",
       "      <td>0.0</td>\n",
       "      <td>0.0</td>\n",
       "      <td>0.0</td>\n",
       "      <td>1.000000</td>\n",
       "      <td>1.000000</td>\n",
       "      <td>1.000000</td>\n",
       "    </tr>\n",
       "    <tr>\n",
       "      <th>12</th>\n",
       "      <td>Annotator 0</td>\n",
       "      <td>Annotator 1</td>\n",
       "      <td>Gendered-Role</td>\n",
       "      <td>1802.0</td>\n",
       "      <td>306.0</td>\n",
       "      <td>882.0</td>\n",
       "      <td>0.854839</td>\n",
       "      <td>0.671386</td>\n",
       "      <td>0.752087</td>\n",
       "    </tr>\n",
       "    <tr>\n",
       "      <th>13</th>\n",
       "      <td>Annotator 0</td>\n",
       "      <td>Annotator 2</td>\n",
       "      <td>Gendered-Role</td>\n",
       "      <td>1404.0</td>\n",
       "      <td>162.0</td>\n",
       "      <td>257.0</td>\n",
       "      <td>0.896552</td>\n",
       "      <td>0.845274</td>\n",
       "      <td>0.870158</td>\n",
       "    </tr>\n",
       "    <tr>\n",
       "      <th>14</th>\n",
       "      <td>Annotator 1</td>\n",
       "      <td>Annotator 2</td>\n",
       "      <td>Gendered-Role</td>\n",
       "      <td>438.0</td>\n",
       "      <td>292.0</td>\n",
       "      <td>52.0</td>\n",
       "      <td>0.600000</td>\n",
       "      <td>0.893878</td>\n",
       "      <td>0.718033</td>\n",
       "    </tr>\n",
       "    <tr>\n",
       "      <th>15</th>\n",
       "      <td>Annotator 0</td>\n",
       "      <td>Annotator 1</td>\n",
       "      <td>Gendered-Pronoun</td>\n",
       "      <td>3398.0</td>\n",
       "      <td>101.0</td>\n",
       "      <td>190.0</td>\n",
       "      <td>0.971135</td>\n",
       "      <td>0.947046</td>\n",
       "      <td>0.958939</td>\n",
       "    </tr>\n",
       "    <tr>\n",
       "      <th>16</th>\n",
       "      <td>Annotator 0</td>\n",
       "      <td>Annotator 2</td>\n",
       "      <td>Gendered-Pronoun</td>\n",
       "      <td>869.0</td>\n",
       "      <td>70.0</td>\n",
       "      <td>60.0</td>\n",
       "      <td>0.925453</td>\n",
       "      <td>0.935414</td>\n",
       "      <td>0.930407</td>\n",
       "    </tr>\n",
       "    <tr>\n",
       "      <th>17</th>\n",
       "      <td>Annotator 1</td>\n",
       "      <td>Annotator 2</td>\n",
       "      <td>Gendered-Pronoun</td>\n",
       "      <td>518.0</td>\n",
       "      <td>7.0</td>\n",
       "      <td>11.0</td>\n",
       "      <td>0.986667</td>\n",
       "      <td>0.979206</td>\n",
       "      <td>0.982922</td>\n",
       "    </tr>\n",
       "    <tr>\n",
       "      <th>18</th>\n",
       "      <td>Annotator 0</td>\n",
       "      <td>Annotator 1</td>\n",
       "      <td>Generalization</td>\n",
       "      <td>37.0</td>\n",
       "      <td>35.0</td>\n",
       "      <td>262.0</td>\n",
       "      <td>0.513889</td>\n",
       "      <td>0.123746</td>\n",
       "      <td>0.199461</td>\n",
       "    </tr>\n",
       "    <tr>\n",
       "      <th>19</th>\n",
       "      <td>Annotator 0</td>\n",
       "      <td>Annotator 2</td>\n",
       "      <td>Generalization</td>\n",
       "      <td>74.0</td>\n",
       "      <td>51.0</td>\n",
       "      <td>63.0</td>\n",
       "      <td>0.592000</td>\n",
       "      <td>0.540146</td>\n",
       "      <td>0.564885</td>\n",
       "    </tr>\n",
       "    <tr>\n",
       "      <th>20</th>\n",
       "      <td>Annotator 1</td>\n",
       "      <td>Annotator 2</td>\n",
       "      <td>Generalization</td>\n",
       "      <td>2.0</td>\n",
       "      <td>50.0</td>\n",
       "      <td>7.0</td>\n",
       "      <td>0.038462</td>\n",
       "      <td>0.222222</td>\n",
       "      <td>0.065574</td>\n",
       "    </tr>\n",
       "  </tbody>\n",
       "</table>\n",
       "</div>"
      ],
      "text/plain": [
       "       expected    predicted             label  true_positive  false_positive  \\\n",
       "0   Annotator 0  Annotator 1           Unknown         5031.0          1524.0   \n",
       "1   Annotator 0  Annotator 2           Unknown         2776.0           537.0   \n",
       "2   Annotator 1  Annotator 2           Unknown         1048.0          1421.0   \n",
       "3   Annotator 0  Annotator 1         Masculine         2367.0          2372.0   \n",
       "4   Annotator 0  Annotator 2         Masculine          728.0           111.0   \n",
       "5   Annotator 1  Annotator 2         Masculine          380.0           169.0   \n",
       "6   Annotator 0  Annotator 1          Feminine          627.0           427.0   \n",
       "7   Annotator 0  Annotator 2          Feminine          724.0           128.0   \n",
       "8   Annotator 1  Annotator 2          Feminine          287.0           496.0   \n",
       "9   Annotator 0  Annotator 1         Nonbinary            0.0             0.0   \n",
       "10  Annotator 0  Annotator 2         Nonbinary            0.0             0.0   \n",
       "11  Annotator 1  Annotator 2         Nonbinary            0.0             0.0   \n",
       "12  Annotator 0  Annotator 1     Gendered-Role         1802.0           306.0   \n",
       "13  Annotator 0  Annotator 2     Gendered-Role         1404.0           162.0   \n",
       "14  Annotator 1  Annotator 2     Gendered-Role          438.0           292.0   \n",
       "15  Annotator 0  Annotator 1  Gendered-Pronoun         3398.0           101.0   \n",
       "16  Annotator 0  Annotator 2  Gendered-Pronoun          869.0            70.0   \n",
       "17  Annotator 1  Annotator 2  Gendered-Pronoun          518.0             7.0   \n",
       "18  Annotator 0  Annotator 1    Generalization           37.0            35.0   \n",
       "19  Annotator 0  Annotator 2    Generalization           74.0            51.0   \n",
       "20  Annotator 1  Annotator 2    Generalization            2.0            50.0   \n",
       "\n",
       "    false_negative  precision    recall       F_1  \n",
       "0           4268.0   0.767506  0.541026  0.634666  \n",
       "1            432.0   0.837911  0.865337  0.851403  \n",
       "2            315.0   0.424463  0.768892  0.546973  \n",
       "3           1079.0   0.499472  0.686883  0.578375  \n",
       "4            146.0   0.867700  0.832952  0.849971  \n",
       "5            411.0   0.692168  0.480405  0.567164  \n",
       "6            642.0   0.594877  0.494090  0.539819  \n",
       "7            178.0   0.849765  0.802661  0.825542  \n",
       "8            279.0   0.366539  0.507067  0.425500  \n",
       "9              1.0   1.000000  0.000000  0.000000  \n",
       "10             0.0   1.000000  1.000000  1.000000  \n",
       "11             0.0   1.000000  1.000000  1.000000  \n",
       "12           882.0   0.854839  0.671386  0.752087  \n",
       "13           257.0   0.896552  0.845274  0.870158  \n",
       "14            52.0   0.600000  0.893878  0.718033  \n",
       "15           190.0   0.971135  0.947046  0.958939  \n",
       "16            60.0   0.925453  0.935414  0.930407  \n",
       "17            11.0   0.986667  0.979206  0.982922  \n",
       "18           262.0   0.513889  0.123746  0.199461  \n",
       "19            63.0   0.592000  0.540146  0.564885  \n",
       "20             7.0   0.038462  0.222222  0.065574  "
      ]
     },
     "execution_count": 191,
     "metadata": {},
     "output_type": "execute_result"
    }
   ],
   "source": [
    "iaa_df = initDF()\n",
    "\n",
    "labels = [\"Unknown\", \"Masculine\", \"Feminine\", \"Nonbinary\", \"Gendered-Role\", \"Gendered-Pronoun\", \"Generalization\"]\n",
    "\n",
    "for labelname in labels:\n",
    "    # Ann0 as expected, Ann1 as predicted\n",
    "    tp_list, fn_list, fp_list = iaaAcrossFiles(df0_with1, df1_with0, commonPL01, labelname)\n",
    "    tp_sum = sum(tp_list)\n",
    "    fn_sum = sum(fn_list)\n",
    "    fp_sum = sum(fp_list)\n",
    "    prec, rec, f_1 = IAA(tp_sum, fn_sum, fp_sum)\n",
    "    iaa_df = appendRow(iaa_df, \"Annotator 0\", \"Annotator 1\", labelname, \n",
    "                       tp_sum, fp_sum, fn_sum, prec, rec, f_1)\n",
    "    # Ann0 as expected, Ann2 as predicted\n",
    "    tp_list, fn_list, fp_list = iaaAcrossFiles(df0_with2, df2_with0, commonPL02, labelname)\n",
    "    tp_sum = sum(tp_list)\n",
    "    fn_sum = sum(fn_list)\n",
    "    fp_sum = sum(fp_list)\n",
    "    prec, rec, f_1 = IAA(tp_sum, fn_sum, fp_sum)\n",
    "    iaa_df = appendRow(iaa_df, \"Annotator 0\", \"Annotator 2\", labelname, \n",
    "                       tp_sum, fp_sum, fn_sum, prec, rec, f_1)\n",
    "    # Ann1 as expected, Ann2 as predicted\n",
    "    tp_list, fn_list, fp_list = iaaAcrossFiles(df1_with2, df2_with1, commonPL12, labelname)\n",
    "    tp_sum = sum(tp_list)\n",
    "    fn_sum = sum(fn_list)\n",
    "    fp_sum = sum(fp_list)\n",
    "    prec, rec, f_1 = IAA(tp_sum, fn_sum, fp_sum)\n",
    "    iaa_df = appendRow(iaa_df, \"Annotator 1\", \"Annotator 2\", labelname, \n",
    "                       tp_sum, fp_sum, fn_sum, prec, rec, f_1)\n",
    "\n",
    "iaa_df"
   ]
  },
  {
   "cell_type": "code",
   "execution_count": 192,
   "metadata": {},
   "outputs": [],
   "source": [
    "iaa_df.to_csv(\"IAA_PersonNameLinguistic.csv\")"
   ]
  },
  {
   "cell_type": "markdown",
   "metadata": {},
   "source": [
    "Calculate IAA among annotators 0, 3 and 4 for Contextual label categories."
   ]
  },
  {
   "cell_type": "code",
   "execution_count": 197,
   "metadata": {},
   "outputs": [
    {
     "data": {
      "text/html": [
       "<div>\n",
       "<style scoped>\n",
       "    .dataframe tbody tr th:only-of-type {\n",
       "        vertical-align: middle;\n",
       "    }\n",
       "\n",
       "    .dataframe tbody tr th {\n",
       "        vertical-align: top;\n",
       "    }\n",
       "\n",
       "    .dataframe thead th {\n",
       "        text-align: right;\n",
       "    }\n",
       "</style>\n",
       "<table border=\"1\" class=\"dataframe\">\n",
       "  <thead>\n",
       "    <tr style=\"text-align: right;\">\n",
       "      <th></th>\n",
       "      <th>expected</th>\n",
       "      <th>predicted</th>\n",
       "      <th>label</th>\n",
       "      <th>true_positive</th>\n",
       "      <th>false_positive</th>\n",
       "      <th>false_negative</th>\n",
       "      <th>precision</th>\n",
       "      <th>recall</th>\n",
       "      <th>F_1</th>\n",
       "    </tr>\n",
       "  </thead>\n",
       "  <tbody>\n",
       "    <tr>\n",
       "      <th>0</th>\n",
       "      <td>Annotator 0</td>\n",
       "      <td>Annotator 3</td>\n",
       "      <td>Occupation</td>\n",
       "      <td>1988.0</td>\n",
       "      <td>613.0</td>\n",
       "      <td>724.0</td>\n",
       "      <td>0.764321</td>\n",
       "      <td>0.733038</td>\n",
       "      <td>0.748353</td>\n",
       "    </tr>\n",
       "    <tr>\n",
       "      <th>1</th>\n",
       "      <td>Annotator 0</td>\n",
       "      <td>Annotator 4</td>\n",
       "      <td>Occupation</td>\n",
       "      <td>738.0</td>\n",
       "      <td>396.0</td>\n",
       "      <td>240.0</td>\n",
       "      <td>0.650794</td>\n",
       "      <td>0.754601</td>\n",
       "      <td>0.698864</td>\n",
       "    </tr>\n",
       "    <tr>\n",
       "      <th>2</th>\n",
       "      <td>Annotator 3</td>\n",
       "      <td>Annotator 4</td>\n",
       "      <td>Occupation</td>\n",
       "      <td>422.0</td>\n",
       "      <td>327.0</td>\n",
       "      <td>134.0</td>\n",
       "      <td>0.563418</td>\n",
       "      <td>0.758993</td>\n",
       "      <td>0.646743</td>\n",
       "    </tr>\n",
       "    <tr>\n",
       "      <th>3</th>\n",
       "      <td>Annotator 0</td>\n",
       "      <td>Annotator 3</td>\n",
       "      <td>Omission</td>\n",
       "      <td>1376.0</td>\n",
       "      <td>914.0</td>\n",
       "      <td>3259.0</td>\n",
       "      <td>0.600873</td>\n",
       "      <td>0.296872</td>\n",
       "      <td>0.397401</td>\n",
       "    </tr>\n",
       "    <tr>\n",
       "      <th>4</th>\n",
       "      <td>Annotator 0</td>\n",
       "      <td>Annotator 4</td>\n",
       "      <td>Omission</td>\n",
       "      <td>416.0</td>\n",
       "      <td>317.0</td>\n",
       "      <td>875.0</td>\n",
       "      <td>0.567531</td>\n",
       "      <td>0.322231</td>\n",
       "      <td>0.411067</td>\n",
       "    </tr>\n",
       "    <tr>\n",
       "      <th>5</th>\n",
       "      <td>Annotator 3</td>\n",
       "      <td>Annotator 4</td>\n",
       "      <td>Omission</td>\n",
       "      <td>215.0</td>\n",
       "      <td>315.0</td>\n",
       "      <td>155.0</td>\n",
       "      <td>0.405660</td>\n",
       "      <td>0.581081</td>\n",
       "      <td>0.477778</td>\n",
       "    </tr>\n",
       "    <tr>\n",
       "      <th>6</th>\n",
       "      <td>Annotator 0</td>\n",
       "      <td>Annotator 3</td>\n",
       "      <td>Stereotype</td>\n",
       "      <td>505.0</td>\n",
       "      <td>539.0</td>\n",
       "      <td>227.0</td>\n",
       "      <td>0.483716</td>\n",
       "      <td>0.689891</td>\n",
       "      <td>0.568694</td>\n",
       "    </tr>\n",
       "    <tr>\n",
       "      <th>7</th>\n",
       "      <td>Annotator 0</td>\n",
       "      <td>Annotator 4</td>\n",
       "      <td>Stereotype</td>\n",
       "      <td>507.0</td>\n",
       "      <td>525.0</td>\n",
       "      <td>600.0</td>\n",
       "      <td>0.491279</td>\n",
       "      <td>0.457995</td>\n",
       "      <td>0.474053</td>\n",
       "    </tr>\n",
       "    <tr>\n",
       "      <th>8</th>\n",
       "      <td>Annotator 3</td>\n",
       "      <td>Annotator 4</td>\n",
       "      <td>Stereotype</td>\n",
       "      <td>34.0</td>\n",
       "      <td>60.0</td>\n",
       "      <td>161.0</td>\n",
       "      <td>0.361702</td>\n",
       "      <td>0.174359</td>\n",
       "      <td>0.235294</td>\n",
       "    </tr>\n",
       "    <tr>\n",
       "      <th>9</th>\n",
       "      <td>Annotator 0</td>\n",
       "      <td>Annotator 3</td>\n",
       "      <td>Empowering</td>\n",
       "      <td>0.0</td>\n",
       "      <td>80.0</td>\n",
       "      <td>0.0</td>\n",
       "      <td>0.000000</td>\n",
       "      <td>1.000000</td>\n",
       "      <td>0.000000</td>\n",
       "    </tr>\n",
       "    <tr>\n",
       "      <th>10</th>\n",
       "      <td>Annotator 0</td>\n",
       "      <td>Annotator 4</td>\n",
       "      <td>Empowering</td>\n",
       "      <td>0.0</td>\n",
       "      <td>0.0</td>\n",
       "      <td>0.0</td>\n",
       "      <td>1.000000</td>\n",
       "      <td>1.000000</td>\n",
       "      <td>1.000000</td>\n",
       "    </tr>\n",
       "    <tr>\n",
       "      <th>11</th>\n",
       "      <td>Annotator 3</td>\n",
       "      <td>Annotator 4</td>\n",
       "      <td>Empowering</td>\n",
       "      <td>0.0</td>\n",
       "      <td>0.0</td>\n",
       "      <td>8.0</td>\n",
       "      <td>1.000000</td>\n",
       "      <td>0.000000</td>\n",
       "      <td>0.000000</td>\n",
       "    </tr>\n",
       "  </tbody>\n",
       "</table>\n",
       "</div>"
      ],
      "text/plain": [
       "       expected    predicted       label  true_positive  false_positive  \\\n",
       "0   Annotator 0  Annotator 3  Occupation         1988.0           613.0   \n",
       "1   Annotator 0  Annotator 4  Occupation          738.0           396.0   \n",
       "2   Annotator 3  Annotator 4  Occupation          422.0           327.0   \n",
       "3   Annotator 0  Annotator 3    Omission         1376.0           914.0   \n",
       "4   Annotator 0  Annotator 4    Omission          416.0           317.0   \n",
       "5   Annotator 3  Annotator 4    Omission          215.0           315.0   \n",
       "6   Annotator 0  Annotator 3  Stereotype          505.0           539.0   \n",
       "7   Annotator 0  Annotator 4  Stereotype          507.0           525.0   \n",
       "8   Annotator 3  Annotator 4  Stereotype           34.0            60.0   \n",
       "9   Annotator 0  Annotator 3  Empowering            0.0            80.0   \n",
       "10  Annotator 0  Annotator 4  Empowering            0.0             0.0   \n",
       "11  Annotator 3  Annotator 4  Empowering            0.0             0.0   \n",
       "\n",
       "    false_negative  precision    recall       F_1  \n",
       "0            724.0   0.764321  0.733038  0.748353  \n",
       "1            240.0   0.650794  0.754601  0.698864  \n",
       "2            134.0   0.563418  0.758993  0.646743  \n",
       "3           3259.0   0.600873  0.296872  0.397401  \n",
       "4            875.0   0.567531  0.322231  0.411067  \n",
       "5            155.0   0.405660  0.581081  0.477778  \n",
       "6            227.0   0.483716  0.689891  0.568694  \n",
       "7            600.0   0.491279  0.457995  0.474053  \n",
       "8            161.0   0.361702  0.174359  0.235294  \n",
       "9              0.0   0.000000  1.000000  0.000000  \n",
       "10             0.0   1.000000  1.000000  1.000000  \n",
       "11             8.0   1.000000  0.000000  0.000000  "
      ]
     },
     "execution_count": 197,
     "metadata": {},
     "output_type": "execute_result"
    }
   ],
   "source": [
    "iaa_df = initDF()\n",
    "\n",
    "labels = [\"Occupation\", \"Omission\", \"Stereotype\", \"Empowering\"]\n",
    "\n",
    "for labelname in labels:\n",
    "    # Ann0 as expected, Ann3 as predicted\n",
    "    tp_list, fn_list, fp_list = iaaAcrossFiles(df0_with3, df3_with0, commonC03, labelname)\n",
    "    tp_sum = sum(tp_list)\n",
    "    fn_sum = sum(fn_list)\n",
    "    fp_sum = sum(fp_list)\n",
    "    prec, rec, f_1 = IAA(tp_sum, fn_sum, fp_sum)\n",
    "    iaa_df = appendRow(iaa_df, \"Annotator 0\", \"Annotator 3\", labelname, \n",
    "                       tp_sum, fp_sum, fn_sum, prec, rec, f_1)\n",
    "    # Ann0 as expected, Ann4 as predicted\n",
    "    tp_list, fn_list, fp_list = iaaAcrossFiles(df0_with4, df4_with0, commonC04, labelname)\n",
    "    tp_sum = sum(tp_list)\n",
    "    fn_sum = sum(fn_list)\n",
    "    fp_sum = sum(fp_list)\n",
    "    prec, rec, f_1 = IAA(tp_sum, fn_sum, fp_sum)\n",
    "    iaa_df = appendRow(iaa_df, \"Annotator 0\", \"Annotator 4\", labelname, \n",
    "                       tp_sum, fp_sum, fn_sum, prec, rec, f_1)\n",
    "    # Ann3 as expected, Ann4 as predicted\n",
    "    tp_list, fn_list, fp_list = iaaAcrossFiles(df3_with4, df4_with3, commonC34, labelname)\n",
    "    tp_sum = sum(tp_list)\n",
    "    fn_sum = sum(fn_list)\n",
    "    fp_sum = sum(fp_list)\n",
    "    prec, rec, f_1 = IAA(tp_sum, fn_sum, fp_sum)\n",
    "    iaa_df = appendRow(iaa_df, \"Annotator 3\", \"Annotator 4\", labelname, \n",
    "                       tp_sum, fp_sum, fn_sum, prec, rec, f_1)\n",
    "\n",
    "iaa_df"
   ]
  },
  {
   "cell_type": "code",
   "execution_count": 198,
   "metadata": {},
   "outputs": [],
   "source": [
    "iaa_df.to_csv(\"IAA_Contextual.csv\")"
   ]
  },
  {
   "cell_type": "markdown",
   "metadata": {},
   "source": [
    "# NOTE: analysis below doesn't use latest IAA as calculated above!"
   ]
  },
  {
   "cell_type": "markdown",
   "metadata": {},
   "source": [
    "<a id=\"cont\"></a>\n",
    "#### II.ii.a CONTEXTUAL LABEL ANALYSIS\n",
    "* Contextual labels include Empowering (used only by annotator 3), Occupation, Omission, and Stereotype\n",
    "* Annotators include annotator 0, annotator 3, and annotator 4"
   ]
  },
  {
   "cell_type": "code",
   "execution_count": 82,
   "metadata": {},
   "outputs": [],
   "source": [
    "from bokeh.io import output_file, show\n",
    "from bokeh.models import ColumnDataSource\n",
    "from bokeh.palettes import GnBu3, OrRd3\n",
    "from bokeh.plotting import figure\n",
    "\n",
    "output_file(\"tpfp_ann3ann4.html\")\n",
    "\n",
    "annotators = ['Predicted 2', 'Predicted 1']  #ann3, ann4\n",
    "labels = [\"Occupation\", \"Omission\", \"Stereotype\"]\n",
    "\n",
    "tp = {'annotators' : annotators,\n",
    "           'Occupation' : [ciaa3_tp[1], ciaa4_tp[1]],\n",
    "           'Omission'   : [ciaa3_tp[2], ciaa4_tp[2]],\n",
    "           'Stereotype' : [ciaa3_tp[3], ciaa4_tp[3]]}\n",
    "\n",
    "fp = {'annotators' : annotators,\n",
    "           'Occupation' : [ciaa3_fp[1], ciaa4_fp[1]],\n",
    "           'Omission'   : [ciaa3_fp[2], ciaa4_fp[2]],\n",
    "           'Stereotype' : [ciaa3_fp[3], ciaa4_fp[3]]}\n",
    "\n",
    "p = figure(y_range=annotators, plot_height=250, x_range=(-1, 2), \n",
    "           title=\"True Positives (Right) and False Positives (Left) of Expected Labels Predicted\",\n",
    "           toolbar_location=None)\n",
    "\n",
    "p.hbar_stack(labels, y='annotators', height=0.9, color=GnBu3, source=ColumnDataSource(tp),\n",
    "             legend_label=[\"%s (true)\" % x for x in labels])\n",
    "\n",
    "p.hbar_stack(labels, y='annotators', height=0.9, color=OrRd3, source=ColumnDataSource(fp),\n",
    "             legend_label=[\"%s (false)\" % x for x in labels])\n",
    "\n",
    "p.y_range.range_padding = 0.1\n",
    "p.ygrid.grid_line_color = None\n",
    "p.legend.location = \"top_right\"\n",
    "p.axis.minor_tick_line_color = None\n",
    "p.outline_line_color = None\n",
    "\n",
    "# show(p, notebook_handle=True)"
   ]
  },
  {
   "cell_type": "code",
   "execution_count": 73,
   "metadata": {},
   "outputs": [
    {
     "name": "stdout",
     "output_type": "stream",
     "text": [
      "[0.5240290191549296, 0.5276743085234094, 0.49880727508090617, 0.5601168599999999]\n",
      "[-0.04872339943661973, -0.04625108683473389, -0.06582932146709816, -0.02424786]\n"
     ]
    }
   ],
   "source": [
    "# Agreement between Ann3 and Ann4\n",
    "ciaa = pd.read_csv(\"Contextual_IAA.csv\").drop(\"Unnamed: 0\", axis=1)\n",
    "ciaa3 = ciaa[ciaa.gold_annotator == \"Annotator 3\"].drop_duplicates()\n",
    "ciaa3_tp = list(ciaa3.true_positive)\n",
    "ciaa3_tp = [(tp*(0.595869)) for tp in ciaa3_tp]  # percentage of All Contextual tp \n",
    "ciaa3_fp = list(ciaa3.false_positive)\n",
    "ciaa3_fp = [(fp*(-0.404131)) for fp in ciaa3_fp] # percentage of All Contextual fp\n",
    "print(ciaa3_tp)\n",
    "print(ciaa3_fp)\n",
    "# ciaa3"
   ]
  },
  {
   "cell_type": "code",
   "execution_count": null,
   "metadata": {},
   "outputs": [],
   "source": [
    "output_file(\"tpfp_ann4.html\")\n",
    "\n",
    "annotators = ['Predicted 3']  #ann4's (dis)agreement with ann3\n",
    "labels = [\"Occupation\", \"Omission\", \"Stereotype\"]\n",
    "\n",
    "tp = {'annotators' : annotators,\n",
    "           'Occupation' : [ciaa3_tp[1]],\n",
    "           'Omission'   : [ciaa3_tp[2]],\n",
    "           'Stereotype' : [ciaa3_tp[3]]}\n",
    "\n",
    "fp = {'annotators' : annotators,\n",
    "           'Occupation' : [ciaa3_fp[1]],\n",
    "           'Omission'   : [ciaa3_fp[2]],\n",
    "           'Stereotype' : [ciaa3_fp[3]]}\n",
    "\n",
    "p = figure(y_range=annotators, plot_height=250, x_range=(-1, 2), \n",
    "           title=\"True Positives (Right) and False Positives (Left) of Expected Labels Predicted\",\n",
    "           toolbar_location=None)\n",
    "\n",
    "p.hbar_stack(labels, y='annotators', height=0.9, color=GnBu3, source=ColumnDataSource(tp),\n",
    "             legend_label=[\"%s (true)\" % x for x in labels])\n",
    "\n",
    "p.hbar_stack(labels, y='annotators', height=0.9, color=OrRd3, source=ColumnDataSource(fp),\n",
    "             legend_label=[\"%s (false)\" % x for x in labels])\n",
    "\n",
    "p.y_range.range_padding = 0.1\n",
    "p.ygrid.grid_line_color = None\n",
    "p.legend.location = \"top_right\"\n",
    "p.axis.minor_tick_line_color = None\n",
    "p.outline_line_color = None\n",
    "\n",
    "# show(p, notebook_handle=True)"
   ]
  },
  {
   "cell_type": "markdown",
   "metadata": {},
   "source": [
    "Make confusion matrices for:\n",
    "* ann0 (expected) and ann3 (predicted)\n",
    "* ann0 (expected) and ann4 (predicted)\n",
    "* ann3 (expected) and ann4 (predicted)"
   ]
  },
  {
   "cell_type": "code",
   "execution_count": 130,
   "metadata": {},
   "outputs": [],
   "source": [
    "def makeConfusionMatrix(exp, pred, common_files, label=\"All\"):\n",
    "    exp_df = makeCommonFileLabelStartDf(exp, common_files)\n",
    "    exp_df.rename(columns={\"label\":\"expected\"}, inplace=True)\n",
    "    pred_df = makeCommonFileLabelStartDf(pred, common_files)\n",
    "    pred_df.rename(columns={\"label\":\"predicted\"}, inplace=True)\n",
    "    if label == \"Contextual\":\n",
    "        exp_df = exp_df.replace(to_replace=[\"Empowering\", \"Occupation\", \"Omission\", \"Stereotype\"],\n",
    "                                     value=\"Contextual\")\n",
    "        pred_df = pred_df.replace(to_replace=[\"Empowering\", \"Occupation\", \"Omission\", \"Stereotype\"],\n",
    "                                     value=\"Contextual\")\n",
    "    elif label != \"All\":\n",
    "        exp_df = exp_df[exp_df.expected == label]\n",
    "        pred_df = pred_df[pred_df.predicted == label]\n",
    "    exp_pred = pd.merge(exp_df, pred_df, how=\"outer\", on=[\"file\", \"start_offset\"]).fillna(\"Not Labeled\")\n",
    "    cm_data = {\"expected\":exp_pred.expected, \"predicted\":exp_pred.predicted}\n",
    "    confusion_matrix = pd.crosstab(cm_data['expected'], cm_data['predicted'], \n",
    "                               rownames=['Expected'], colnames=['Predicted'])\n",
    "    return confusion_matrix"
   ]
  },
  {
   "cell_type": "code",
   "execution_count": 141,
   "metadata": {
    "collapsed": true,
    "jupyter": {
     "outputs_hidden": true
    }
   },
   "outputs": [
    {
     "data": {
      "image/png": "[encoded data removed]",
      "text/plain": [
       "<Figure size 432x288 with 2 Axes>"
      ]
     },
     "metadata": {
      "needs_background": "light"
     },
     "output_type": "display_data"
    },
    {
     "data": {
      "image/png": "[encoded data removed]",
      "text/plain": [
       "<Figure size 432x288 with 2 Axes>"
      ]
     },
     "metadata": {
      "needs_background": "light"
     },
     "output_type": "display_data"
    },
    {
     "data": {
      "image/png": "[encoded data removed]",
      "text/plain": [
       "<Figure size 432x288 with 2 Axes>"
      ]
     },
     "metadata": {
      "needs_background": "light"
     },
     "output_type": "display_data"
    },
    {
     "data": {
      "image/png": "[encoded data removed]",
      "text/plain": [
       "<Figure size 432x288 with 2 Axes>"
      ]
     },
     "metadata": {
      "needs_background": "light"
     },
     "output_type": "display_data"
    },
    {
     "data": {
      "image/png": "[encoded data removed]",
      "text/plain": [
       "<Figure size 432x288 with 2 Axes>"
      ]
     },
     "metadata": {
      "needs_background": "light"
     },
     "output_type": "display_data"
    }
   ],
   "source": [
    "label_list = [\"All\", \"Contextual\", \"Occupation\", \"Omission\", \"Stereotype\"]\n",
    "for label_choice in label_list:\n",
    "    confusion_matrix = makeConfusionMatrix(ann0C, ann3, commonC03, label_choice)\n",
    "#     print(confusion_matrix)\n",
    "    fig = sn.heatmap(confusion_matrix, annot=True)\n",
    "    title = \"Confusion Matrix for \"+label_choice+\" Labels (E=ann0, P=ann3)\"\n",
    "    fig.set_title(title)\n",
    "    name = \"CM_\"+label_choice+\"_ann0ann3.png\"\n",
    "    plt.savefig(name)\n",
    "    plt.show()"
   ]
  },
  {
   "cell_type": "code",
   "execution_count": 144,
   "metadata": {
    "collapsed": true,
    "jupyter": {
     "outputs_hidden": true
    }
   },
   "outputs": [
    {
     "data": {
      "image/png": "[encoded data removed]",
      "text/plain": [
       "<Figure size 432x288 with 2 Axes>"
      ]
     },
     "metadata": {
      "needs_background": "light"
     },
     "output_type": "display_data"
    },
    {
     "data": {
      "image/png": "[encoded data removed]",
      "text/plain": [
       "<Figure size 432x288 with 2 Axes>"
      ]
     },
     "metadata": {
      "needs_background": "light"
     },
     "output_type": "display_data"
    },
    {
     "data": {
      "image/png": "[encoded data removed]",
      "text/plain": [
       "<Figure size 432x288 with 2 Axes>"
      ]
     },
     "metadata": {
      "needs_background": "light"
     },
     "output_type": "display_data"
    },
    {
     "data": {
      "image/png": "[encoded data removed]",
      "text/plain": [
       "<Figure size 432x288 with 2 Axes>"
      ]
     },
     "metadata": {
      "needs_background": "light"
     },
     "output_type": "display_data"
    },
    {
     "data": {
      "image/png": "[encoded data removed]",
      "text/plain": [
       "<Figure size 432x288 with 2 Axes>"
      ]
     },
     "metadata": {
      "needs_background": "light"
     },
     "output_type": "display_data"
    }
   ],
   "source": [
    "# label_list = [\"All\", \"Contextual\", \"Occupation\", \"Omission\", \"Stereotype\"]\n",
    "for label_choice in label_list:\n",
    "    confusion_matrix = makeConfusionMatrix(ann0C, ann4, commonC04, label_choice)\n",
    "#     print(confusion_matrix)\n",
    "    fig = sn.heatmap(confusion_matrix, annot=True)\n",
    "    title = \"Confusion Matrix for \"+label_choice+\" Labels (E=ann0, P=ann4)\"\n",
    "    fig.set_title(title)\n",
    "    name = \"CM_\"+label_choice+\"_ann0ann4.png\"\n",
    "    plt.savefig(name)\n",
    "    plt.show()"
   ]
  },
  {
   "cell_type": "markdown",
   "metadata": {},
   "source": [
    "<a id=\"stopped-here\"></a>"
   ]
  },
  {
   "cell_type": "code",
   "execution_count": 145,
   "metadata": {
    "collapsed": true,
    "jupyter": {
     "outputs_hidden": true
    }
   },
   "outputs": [
    {
     "data": {
      "image/png": "[encoded data removed]",
      "text/plain": [
       "<Figure size 432x288 with 2 Axes>"
      ]
     },
     "metadata": {
      "needs_background": "light"
     },
     "output_type": "display_data"
    },
    {
     "data": {
      "image/png": "[encoded data removed]",
      "text/plain": [
       "<Figure size 432x288 with 2 Axes>"
      ]
     },
     "metadata": {
      "needs_background": "light"
     },
     "output_type": "display_data"
    },
    {
     "data": {
      "image/png": "[encoded data removed]",
      "text/plain": [
       "<Figure size 432x288 with 2 Axes>"
      ]
     },
     "metadata": {
      "needs_background": "light"
     },
     "output_type": "display_data"
    },
    {
     "data": {
      "image/png": "[encoded data removed]",
      "text/plain": [
       "<Figure size 432x288 with 2 Axes>"
      ]
     },
     "metadata": {
      "needs_background": "light"
     },
     "output_type": "display_data"
    },
    {
     "data": {
      "image/png": "[encoded data removed]",
      "text/plain": [
       "<Figure size 432x288 with 2 Axes>"
      ]
     },
     "metadata": {
      "needs_background": "light"
     },
     "output_type": "display_data"
    }
   ],
   "source": [
    "# label_list = [\"All\", \"Contextual\", \"Occupation\", \"Omission\", \"Stereotype\"]\n",
    "for label_choice in label_list:\n",
    "    confusion_matrix = makeConfusionMatrix(ann3, ann4, commonC34, label_choice)\n",
    "#     print(confusion_matrix)\n",
    "    fig = sn.heatmap(confusion_matrix, annot=True)\n",
    "    title = \"Confusion Matrix for \"+label_choice+\" Labels (E=ann3, P=ann4)\"\n",
    "    fig.set_title(title)\n",
    "    name = \"CM_\"+label_choice+\"_ann3ann4.png\"\n",
    "    plt.savefig(name)\n",
    "    plt.show()"
   ]
  },
  {
   "cell_type": "markdown",
   "metadata": {},
   "source": [
    "<a id=\"ling-pers\"></a>\n",
    "#### II.ii.b LINGUISTIC & PERSON-NAME LABEL ANALYSIS\n",
    "* Linguistic labels include Gendered-Pronoun, Gendered-Role, and Generalization.\n",
    "* Person-Name labels include Woman, Man, Nonbinary, and Unknown.\n",
    "* Annotators include annotator 0 (ann0PL), annotator 1 (ann1), and annotator 2 (ann2).\n",
    "*Question: Okay not to calculate true negatives???*"
   ]
  },
  {
   "cell_type": "code",
   "execution_count": 95,
   "metadata": {},
   "outputs": [
    {
     "data": {
      "text/html": [
       "<div>\n",
       "<style scoped>\n",
       "    .dataframe tbody tr th:only-of-type {\n",
       "        vertical-align: middle;\n",
       "    }\n",
       "\n",
       "    .dataframe tbody tr th {\n",
       "        vertical-align: top;\n",
       "    }\n",
       "\n",
       "    .dataframe thead th {\n",
       "        text-align: right;\n",
       "    }\n",
       "</style>\n",
       "<table border=\"1\" class=\"dataframe\">\n",
       "  <thead>\n",
       "    <tr style=\"text-align: right;\">\n",
       "      <th></th>\n",
       "      <th>file</th>\n",
       "      <th>entity</th>\n",
       "      <th>label</th>\n",
       "      <th>start</th>\n",
       "      <th>end</th>\n",
       "      <th>text</th>\n",
       "      <th>annotator</th>\n",
       "    </tr>\n",
       "  </thead>\n",
       "  <tbody>\n",
       "    <tr>\n",
       "      <th>0</th>\n",
       "      <td>AA4_00100.ann</td>\n",
       "      <td>T0</td>\n",
       "      <td>Gendered-Pronoun</td>\n",
       "      <td>645</td>\n",
       "      <td>647</td>\n",
       "      <td>he</td>\n",
       "      <td>Annotator 0</td>\n",
       "    </tr>\n",
       "    <tr>\n",
       "      <th>1</th>\n",
       "      <td>AA4_00100.ann</td>\n",
       "      <td>T1</td>\n",
       "      <td>Gendered-Pronoun</td>\n",
       "      <td>702</td>\n",
       "      <td>704</td>\n",
       "      <td>he</td>\n",
       "      <td>Annotator 0</td>\n",
       "    </tr>\n",
       "    <tr>\n",
       "      <th>2</th>\n",
       "      <td>AA4_00100.ann</td>\n",
       "      <td>T2</td>\n",
       "      <td>Gendered-Pronoun</td>\n",
       "      <td>913</td>\n",
       "      <td>915</td>\n",
       "      <td>he</td>\n",
       "      <td>Annotator 0</td>\n",
       "    </tr>\n",
       "    <tr>\n",
       "      <th>3</th>\n",
       "      <td>AA4_00100.ann</td>\n",
       "      <td>T3</td>\n",
       "      <td>Gendered-Pronoun</td>\n",
       "      <td>994</td>\n",
       "      <td>996</td>\n",
       "      <td>he</td>\n",
       "      <td>Annotator 0</td>\n",
       "    </tr>\n",
       "    <tr>\n",
       "      <th>4</th>\n",
       "      <td>AA4_00100.ann</td>\n",
       "      <td>T4</td>\n",
       "      <td>Gendered-Pronoun</td>\n",
       "      <td>1122</td>\n",
       "      <td>1124</td>\n",
       "      <td>he</td>\n",
       "      <td>Annotator 0</td>\n",
       "    </tr>\n",
       "  </tbody>\n",
       "</table>\n",
       "</div>"
      ],
      "text/plain": [
       "            file entity             label  start   end text    annotator\n",
       "0  AA4_00100.ann     T0  Gendered-Pronoun    645   647   he  Annotator 0\n",
       "1  AA4_00100.ann     T1  Gendered-Pronoun    702   704   he  Annotator 0\n",
       "2  AA4_00100.ann     T2  Gendered-Pronoun    913   915   he  Annotator 0\n",
       "3  AA4_00100.ann     T3  Gendered-Pronoun    994   996   he  Annotator 0\n",
       "4  AA4_00100.ann     T4  Gendered-Pronoun   1122  1124   he  Annotator 0"
      ]
     },
     "execution_count": 95,
     "metadata": {},
     "output_type": "execute_result"
    }
   ],
   "source": [
    "ann0PL.head()"
   ]
  },
  {
   "cell_type": "markdown",
   "metadata": {},
   "source": [
    "Count proportion of masculine and feminine terms for Gendered-Pronouns and Gendered-Roles, for annotator 0 and annotator 2."
   ]
  },
  {
   "cell_type": "code",
   "execution_count": 51,
   "metadata": {},
   "outputs": [
    {
     "name": "stdout",
     "output_type": "stream",
     "text": [
      "Masculine: 4775 0.9057283763277694\n",
      "Feminine: 497 0.09427162367223066\n",
      "Files: 700\n"
     ]
    }
   ],
   "source": [
    "# gp = ann0PL[ann0PL.label == \"Gendered-Pronoun\"]\n",
    "gp = ann2[ann2.label == \"Gendered-Pronoun\"]\n",
    "gp_counts = pd.DataFrame(gp.text.value_counts())\n",
    "masc_counts = gp_counts.drop([\"her\", \"she\", \"She\", \"Her\"])\n",
    "fem_counts = gp_counts.drop([\"his\", \"he\", \"He\", \"His\", \"him\", \"himself\"])\n",
    "# gp_counts\n",
    "total_masc_pronouns = masc_counts.text.sum()\n",
    "total_fem_pronouns = fem_counts.text.sum()\n",
    "total_pronouns = total_masc_pronouns+total_fem_pronouns\n",
    "print(\"Masculine:\",total_masc_pronouns, total_masc_pronouns/total_pronouns)\n",
    "print(\"Feminine:\",total_fem_pronouns, total_fem_pronouns/total_pronouns)\n",
    "print(\"Files:\",len(ann2.file.unique()))"
   ]
  },
  {
   "cell_type": "code",
   "execution_count": 52,
   "metadata": {},
   "outputs": [
    {
     "name": "stdout",
     "output_type": "stream",
     "text": [
      "Masculine: 1442 0.42650103519668736\n",
      "Feminine: 1939 0.5734989648033126\n",
      "Files: 700\n"
     ]
    }
   ],
   "source": [
    "# gr = ann0PL[ann0PL.label == \"Gendered-Role\"]\n",
    "gr = ann2[ann2.label == \"Gendered-Role\"]\n",
    "gr_counts = pd.DataFrame(gr.text.value_counts())\n",
    "gr.text.unique()\n",
    "# masc_counts = gr_counts.drop(['son', 'brother', 'Chairman', 'man',\n",
    "#         'Sir', 'Duke', 'father', 'father-in-law', 'King', 'husband', 'nephew', \n",
    "#         'Emperor',  \"husband'\", 'Mr', 'boy', 'Lord', 'men', 'son-in-law',\n",
    "#         'Father', 'boys', 'Uncle', 'brothers', 'Man', 'Lad', 'Men', 'Boys'])\n",
    "# fem_counts = gr_counts.drop(['sister', 'Woman', 'Women','wife', 'aunt', 'women',\n",
    "#         'mother', 'matron', 'daughter', 'Princess', 'Queen', \n",
    "#         'Baroness', 'woman', 'female', 'Mrs', 'Wife',\n",
    "#         'Miss', 'Maiden', 'Lady', 'Misses'])\n",
    "masc_counts = gr_counts.drop(['Sir', 'Earl', 'men', 'man', 'boy',\n",
    "       'boys', 'Mr', 'Mr.', 'King', 'Man', 'Gentleman', 'Duke', 'son', 'Men',\n",
    "       'Prince', 'Son', 'Monsieur', 'sire', 'Brothers','Kaiser','Count', 'sons', 'High Priest',\n",
    "       'ather', 'cowboy', 'cowboys', 'Baron', 'brother', 'Raja','sportsman', 'Bros', 'father', \n",
    "       'Viscount',  'Uncle', 'fathers', 'uncles', 'brothers', 'Emperor', 'Prince Regent', 'Englishman',\n",
    "       'Founding Fathers', 'statesman', 'grandfather', 'Father', 'godfather', 'king',\n",
    "       'Husband', 'Boy', 'Prince]', 'policeman', 'laird','MR', 'Laird', 'grandson', 'uncle', 'Sire', \n",
    "       'gentleman', 'baron', 'father-in-law','Archbishop', 'Sons', 'Chaplain', 'husband', 'nephew', 'His', \n",
    "       'men-at-arms', 'Pope','son-in-law', 'Boys', 'Lad', 'Archie', 'Laddie', 'husband,', \"Man'\", 'lads', 'Lads',\n",
    "       'male', 'great-grandfather','Master of the Household', 'boys.'])\n",
    "# Also dropped Waddington, Graeme D Eddie, MS, 'Blau, John', 'Granville Bantock'\n",
    "fem_counts = gr_counts.drop(['Madame', 'Mrs', 'women','Princess', 'Lady', 'Lass', 'woman','Queen', 'girl',\n",
    "       'daughter', 'foster-mother', 'wife', 'foster-mothers', 'mother',\n",
    "       'sister', 'Senora', 'Miss','land-girls', 'Ladies','tribeswomen','Head Girl', 'heroine',\n",
    "       'Mamma', 'father', 'grandmother,', 'maternal','Marquess', 'Widows', \"Widows'\", 'widows', 'sisters',\n",
    "       'Emperor', 'Empresses','ladies', 'Empress Dowager', 'Empress', 'Tsarina',\n",
    "       'great-granddaughter', 'authoress', 'Dame', 'suffragettes', 'Women', 'Countess', 'grandmother', 'MS',\n",
    "       'queens', 'governesses', 'girls','Duchess', 'Aunt', 'Woman', 'Sister', 'Ms', 'laird',\n",
    "       'LADY', 'ms', 'Viscountess','miss', 'Maid','matron', 'mother)', 'aunts', 'Baroness',\n",
    "       'Girls', 'Wife',\"wife'\", 'Maiden', \"Seal-Woman'\", 'Misses','Sister,', 'Daughter', \n",
    "       'Mermaid', 'Maidens', \"Maiden'\",'Mother', 'Dairymaid', 'Mrs.','Lassie', \"Women'\",'womwn','widow'])\n",
    "total_masc_roles = masc_counts.text.sum()\n",
    "total_fem_roles = fem_counts.text.sum()\n",
    "total_roles = total_masc_roles+total_fem_roles\n",
    "print(\"Masculine:\",total_masc_roles, total_masc_roles/total_roles)\n",
    "print(\"Feminine:\",total_fem_roles, total_fem_roles/total_roles)\n",
    "# print(\"Files:\",len(ann0PL.file.unique()))\n",
    "print(\"Files:\",len(ann2.file.unique()))"
   ]
  },
  {
   "cell_type": "code",
   "execution_count": 50,
   "metadata": {},
   "outputs": [],
   "source": [
    "ppl = pd.DataFrame(ann2.label.value_counts())\n",
    "ppl.drop([\"Gendered-Role\", \"Gendered-Pronoun\", \"Generalization\"], axis=0, inplace=True)\n",
    "# # print(ppl.label.sum())\n",
    "# # ppl"
   ]
  },
  {
   "cell_type": "code",
   "execution_count": 49,
   "metadata": {},
   "outputs": [
    {
     "data": {
      "text/html": [
       "<div>\n",
       "<style scoped>\n",
       "    .dataframe tbody tr th:only-of-type {\n",
       "        vertical-align: middle;\n",
       "    }\n",
       "\n",
       "    .dataframe tbody tr th {\n",
       "        vertical-align: top;\n",
       "    }\n",
       "\n",
       "    .dataframe thead th {\n",
       "        text-align: right;\n",
       "    }\n",
       "</style>\n",
       "<table border=\"1\" class=\"dataframe\">\n",
       "  <thead>\n",
       "    <tr style=\"text-align: right;\">\n",
       "      <th></th>\n",
       "      <th>Category</th>\n",
       "      <th>People</th>\n",
       "      <th>Roles</th>\n",
       "      <th>Pronouns</th>\n",
       "    </tr>\n",
       "  </thead>\n",
       "  <tbody>\n",
       "    <tr>\n",
       "      <th>0</th>\n",
       "      <td>Masculine</td>\n",
       "      <td>937</td>\n",
       "      <td>1442</td>\n",
       "      <td>4775</td>\n",
       "    </tr>\n",
       "    <tr>\n",
       "      <th>1</th>\n",
       "      <td>Feminine</td>\n",
       "      <td>849</td>\n",
       "      <td>1939</td>\n",
       "      <td>497</td>\n",
       "    </tr>\n",
       "  </tbody>\n",
       "</table>\n",
       "</div>"
      ],
      "text/plain": [
       "    Category  People  Roles  Pronouns\n",
       "0  Masculine     937   1442      4775\n",
       "1   Feminine     849   1939       497"
      ]
     },
     "execution_count": 49,
     "metadata": {},
     "output_type": "execute_result"
    }
   ],
   "source": [
    "mf_counts = pd.DataFrame({\"Category\":[\"Masculine\", \"Feminine\"], \"People\":[ppl.loc[\"Man\"][0], ppl.loc[\"Woman\"][0]],\n",
    "                          \"Roles\":[total_masc_roles, total_fem_roles], \"Pronouns\":[total_masc_pronouns, total_fem_pronouns]})\n",
    "mf_counts"
   ]
  },
  {
   "cell_type": "code",
   "execution_count": 69,
   "metadata": {},
   "outputs": [],
   "source": [
    "# ANNOTATOR 0\n",
    "from bokeh.io import output_file, show\n",
    "from bokeh.models import ColumnDataSource, FactorRange\n",
    "from bokeh.plotting import figure\n",
    "from bokeh.transform import factor_cmap\n",
    "\n",
    "labels = ['People', 'Roles', 'Pronouns']\n",
    "categories = ['Feminine', 'Masculine']   # no transgender or nonbinary data found in descriptions\n",
    "colors = ['#0072B2', '#F0E442']\n",
    "data = {'labels' : labels,\n",
    "        'Feminine'   : [104, 132, 47],\n",
    "        'Masculine'   : [304, 119, 326]}\n",
    "\n",
    "# this creates [ (\"Apples\", \"2015\"), (\"Apples\", \"2016\"), (\"Apples\", \"2017\"), (\"Pears\", \"2015), ... ]\n",
    "x = [ (label, category) for label in labels for category in categories ]\n",
    "counts = sum(zip(data['Feminine'], data['Masculine']), ()) # like an hstack\n",
    "\n",
    "source = ColumnDataSource(data=dict(x=x, counts=counts))\n",
    "\n",
    "p = figure(x_range=FactorRange(*x), plot_height=250, \n",
    "           title=\"Annotator 0's Label Counts by Gender (nonbinary and trans data not provided)\",\n",
    "           toolbar_location=None)\n",
    "\n",
    "p.vbar(x='x', top='counts', width=0.9, source=source,\n",
    "      fill_color=factor_cmap('x', palette=colors, factors=categories, start=1, end=2))\n",
    "\n",
    "p.y_range.start = 0\n",
    "p.x_range.range_padding = 0.1\n",
    "p.xaxis.major_label_orientation = 1\n",
    "p.xgrid.grid_line_color = None\n",
    "p.outline_line_color = None\n",
    "\n",
    "# show(p, notebook_handler=True)"
   ]
  },
  {
   "cell_type": "code",
   "execution_count": 64,
   "metadata": {},
   "outputs": [],
   "source": [
    "# ANNOTATOR 2\n",
    "\n",
    "output_file(\"masc_fem_counts2_700files.html\")\n",
    "\n",
    "labels = ['People', 'Roles', 'Pronouns']\n",
    "categories = ['Feminine', 'Masculine']   # no transgender or nonbinary data found in descriptions\n",
    "colors = ['#0072B2', '#F0E442']\n",
    "data = {'labels' : labels,\n",
    "        'Feminine'   : [849, 1939, 497],\n",
    "        'Masculine'   : [937, 1442, 4775]}\n",
    "\n",
    "# this creates [ (\"Apples\", \"2015\"), (\"Apples\", \"2016\"), (\"Apples\", \"2017\"), (\"Pears\", \"2015), ... ]\n",
    "x = [ (label, category) for label in labels for category in categories ]\n",
    "counts = sum(zip(data['Feminine'], data['Masculine']), ()) # like an hstack\n",
    "\n",
    "source = ColumnDataSource(data=dict(x=x, counts=counts))\n",
    "\n",
    "p = figure(x_range=FactorRange(*x), plot_height=250, \n",
    "           title=\"Annotator 2's Label Counts by Gender (nonbinary and trans data not provided)\",\n",
    "           toolbar_location=None)\n",
    "\n",
    "p.vbar(x='x', top='counts', width=0.9, source=source,\n",
    "      fill_color=factor_cmap('x', palette=colors, factors=categories, start=1, end=2))\n",
    "\n",
    "p.y_range.start = 0\n",
    "p.x_range.range_padding = 0.1\n",
    "p.xaxis.major_label_orientation = 1\n",
    "p.xgrid.grid_line_color = None\n",
    "p.outline_line_color = None\n",
    "\n",
    "# show(p)"
   ]
  },
  {
   "cell_type": "code",
   "execution_count": 12,
   "metadata": {},
   "outputs": [],
   "source": [
    "def splitAnnotation(annotation_list):\n",
    "    list_of_landos = []\n",
    "    for item in annotation_list:\n",
    "        item_list = item.split(\" \")\n",
    "        list_of_landos += [item_list]\n",
    "    label = []\n",
    "    start = []\n",
    "    end = []\n",
    "    for l in list_of_landos:\n",
    "        label += [l[0]]\n",
    "        start += [l[1]]\n",
    "        end += [l[2]]\n",
    "    return label, start, end"
   ]
  },
  {
   "cell_type": "code",
   "execution_count": 13,
   "metadata": {},
   "outputs": [],
   "source": [
    "def getLabelOffsets(label_type, df):\n",
    "    rows = df[df.label == label_type]\n",
    "    start = list(rows.start)\n",
    "    end = list(rows.end)\n",
    "    i = 0\n",
    "    maxI = len(start)\n",
    "    offsets = []\n",
    "    while i < maxI:\n",
    "        offsets += [[start[i], end[i]]]\n",
    "        i += 1\n",
    "    return offsets"
   ]
  },
  {
   "cell_type": "code",
   "execution_count": 14,
   "metadata": {},
   "outputs": [],
   "source": [
    "label = [\"Person-Name\", \"Woman\", \"Man\", \"Nonbinary\", \"Unknown\", \n",
    "          \"Linguistic\", \"Gendered-Role\", \"Gendered-Pronoun\",  \"Generalization\", \n",
    "          \"Contextual\", \"Occupation\", \"Stereotype\", \"Omission\", \"Empowering\"]\n",
    "\n",
    "# person = getLabelOffsets(label[0], df_ann)\n",
    "# woman = getLabelOffsets(label[1], df_ann)\n",
    "# man = getLabelOffsets(label[2], df_ann)\n",
    "# nonbinary = getLabelOffsets(label[3], df_ann)\n",
    "# unknown = getLabelOffsets(label[4], df_ann)\n",
    "# linguistic = getLabelOffsets(label[5], df_ann)\n",
    "role = getLabelOffsets(label[6], df_ann)\n",
    "# pronoun = getLabelOffsets(label[7], df_ann)\n",
    "# gen = getLabelOffsets(label[8], df_ann)\n",
    "# cont = getLabelOffsets(label[9], df_ann)\n",
    "# occ  = getLabelOffsets(label[10], df_ann)\n",
    "# ster = getLabelOffsets(label[11], df_ann)\n",
    "# omis = getLabelOffsets(label[12], df_ann)\n",
    "# emp = getLabelOffsets(label[13], df_ann)"
   ]
  },
  {
   "cell_type": "code",
   "execution_count": 16,
   "metadata": {},
   "outputs": [],
   "source": [
    "# df_ann = df_mann\n",
    "# person_m = getLabelOffsets(label[0], df_ann)\n",
    "# woman_m = getLabelOffsets(label[1], df_ann)\n",
    "# man_m = getLabelOffsets(label[2], df_ann)\n",
    "# nonbinary_m = getLabelOffsets(label[3], df_ann)\n",
    "# unknown_m = getLabelOffsets(label[4], df_ann)\n",
    "# linguistic_m = getLabelOffsets(label[5], df_ann)\n",
    "role_m = getLabelOffsets(label[6], df_mann)\n",
    "# pronoun_m = getLabelOffsets(label[7], df_ann)\n",
    "# gen_m = getLabelOffsets(label[8], df_ann)\n",
    "# cont_m = getLabelOffsets(label[9], df_ann)\n",
    "# occ_m  = getLabelOffsets(label[10], df_ann)\n",
    "# ster_m = getLabelOffsets(label[11], df_ann)\n",
    "# omis_m = getLabelOffsets(label[12], df_ann)\n",
    "# emp_m = getLabelOffsets(label[13], df_ann)"
   ]
  },
  {
   "cell_type": "code",
   "execution_count": 17,
   "metadata": {},
   "outputs": [],
   "source": [
    "def findMatches(label_offsets1, label_offsets2):\n",
    "    left_overlap = []\n",
    "    right_overlap = []\n",
    "    exact_match = []\n",
    "    enclosure = []\n",
    "    containment = []\n",
    "\n",
    "    for pair in label_offsets1:\n",
    "        start = pair[0]\n",
    "        end = pair[1]\n",
    "        for pair_m in label_offsets2:\n",
    "            start_m = pair_m[0]\n",
    "            end_m = pair_m[1]\n",
    "            # Check for left overlap\n",
    "            if start <= start_m and start < end_m and end >= start_m and end < end_m:\n",
    "                if [pair, pair_m] not in left_overlap:\n",
    "                    left_overlap += [[pair, pair_m]]\n",
    "            # Check for right overlap \n",
    "            elif start > start_m and end >= end_m and start <= end_m and end > start_m:\n",
    "                if [pair, pair_m] not in right_overlap:\n",
    "                    right_overlap += [[pair, pair_m]]\n",
    "            # Check for exact match\n",
    "            elif start == start_m and end == end_m:\n",
    "                if [pair, pair_m] not in exact_match:\n",
    "                    exact_match += [[pair, pair_m]]\n",
    "            # Check for enclosure\n",
    "            elif start < start_m and start < end_m and end > start_m and end > end_m:\n",
    "                if [pair, pair_m] not in enclosure:\n",
    "                    enclosure += [[pair, pair_m]]\n",
    "            # Check for containment\n",
    "            elif start > start_m and start < end_m and end > start_m and end < end_m:\n",
    "                if [pair, pair_m] not in containment:\n",
    "                    containment += [[pair, pair_m]]\n",
    "    \n",
    "    return left_overlap, right_overlap, exact_match, enclosure, containment"
   ]
  },
  {
   "cell_type": "code",
   "execution_count": null,
   "metadata": {},
   "outputs": [],
   "source": []
  },
  {
   "cell_type": "code",
   "execution_count": null,
   "metadata": {},
   "outputs": [],
   "source": []
  },
  {
   "cell_type": "code",
   "execution_count": null,
   "metadata": {},
   "outputs": [],
   "source": []
  },
  {
   "cell_type": "markdown",
   "metadata": {},
   "source": [
    "<a id=\"bratiaa\"></a>\n",
    "### II.iv With bratiaa\n",
    "Reference: https://github.com/kldtz/bratiaa\n",
    "\n",
    "*Note: `nan` in F1 score indicates that no annotations have been recorded yet for that file in at least one of the annotator's files*\n",
    "***\n",
    "**Calculated for ann0's annotations as of June 14, 2021**\n",
    "***"
   ]
  },
  {
   "cell_type": "code",
   "execution_count": 7,
   "metadata": {},
   "outputs": [],
   "source": [
    "import os\n",
    "from shutil import copyfile\n",
    "import bratiaa as biaa"
   ]
  },
  {
   "cell_type": "markdown",
   "metadata": {},
   "source": [
    "First, for each annotator, load the files and put the doubly-annotated files in a directory called second."
   ]
  },
  {
   "cell_type": "code",
   "execution_count": 107,
   "metadata": {},
   "outputs": [
    {
     "name": "stdout",
     "output_type": "stream",
     "text": [
      "['AA4_00100.ann', 'AA4_00100.txt', 'AA5_00100.ann', 'AA5_00100.txt', 'AA6_00100.ann', 'AA6_00100.txt', 'AA7_00100.ann', 'AA7_00100.txt', 'BAI_00100.ann', 'BAI_00100.txt']\n"
     ]
    }
   ],
   "source": [
    "# # Contextual label files\n",
    "# ann0C = \"../IAA/Contextual/annotator-0\"\n",
    "ann3C = \"../IAA/Contextual/annotator-3\"\n",
    "ann4C = \"../IAA/Contextual/annotator-4\"\n",
    "# ann0C_files = list(os.listdir(ann0C))\n",
    "ann3C_files = list(os.listdir(ann3C))\n",
    "ann4C_files = list(os.listdir(ann4C))\n",
    "# ann0C_files.sort()\n",
    "ann3C_files.sort()\n",
    "ann4C_files.sort()\n",
    "# remove .stats_cache\n",
    "# ann0C_files = ann0C_files[1:]\n",
    "ann3C_files = ann3C_files[1:]\n",
    "ann4C_files = ann4C_files[1:]\n",
    "\n",
    "# # Linguistic label files\n",
    "# ann0L = \"../IAA/Linguistic/annotator-0\"\n",
    "# ann1L = \"../IAA/Linguistic/annotator-1\"\n",
    "# ann2L = \"../IAA/Linguistic/annotator-2\"\n",
    "# ann0L_files = list(os.listdir(ann0L))\n",
    "# ann1L_files = list(os.listdir(ann1L))\n",
    "# ann2L_files = list(os.listdir(ann2L))\n",
    "# ann0L_files.sort()\n",
    "# ann1L_files.sort()\n",
    "# ann2L_files.sort()\n",
    "# # remove .stats_cache\n",
    "# ann0L_files = ann0L_files[1:]\n",
    "# ann1L_files = ann1L_files[1:]\n",
    "# ann2L_files = ann2L_files[1:]\n",
    "\n",
    "print(ann4C_files[:10])"
   ]
  },
  {
   "cell_type": "code",
   "execution_count": 108,
   "metadata": {},
   "outputs": [],
   "source": [
    "def getCommonFiles(filesA, filesB):\n",
    "    common = []\n",
    "    if len(filesA) <= len(filesB):\n",
    "        short = filesA\n",
    "        long = filesB\n",
    "    else:\n",
    "        short = filesB\n",
    "        long = filesA\n",
    "    for f in short:\n",
    "        if f != \"second\":    # don't include the directory for doubly-annotated files\n",
    "            if f in long:\n",
    "                common += [f]\n",
    "    return common"
   ]
  },
  {
   "cell_type": "code",
   "execution_count": 109,
   "metadata": {},
   "outputs": [
    {
     "name": "stdout",
     "output_type": "stream",
     "text": [
      "146\n"
     ]
    }
   ],
   "source": [
    "# commonC = getCommonFiles(ann0C_files, ann3C_files)\n",
    "commonC = getCommonFiles(ann3C_files, ann4C_files)\n",
    "print(len(commonC))"
   ]
  },
  {
   "cell_type": "code",
   "execution_count": 99,
   "metadata": {},
   "outputs": [
    {
     "name": "stdout",
     "output_type": "stream",
     "text": [
      "146\n"
     ]
    }
   ],
   "source": [
    "# commonL = getCommonFiles(ann0L_files, ann2L_files)\n",
    "commonL = getCommonFiles(ann1L_files, ann2L_files)\n",
    "print(len(commonL))"
   ]
  },
  {
   "cell_type": "code",
   "execution_count": 110,
   "metadata": {},
   "outputs": [],
   "source": [
    "def moveFiles(file_list, source, dest):\n",
    "    for f in file_list:\n",
    "#         print(f)\n",
    "        os.rename(os.path.join(source,f), os.path.join(dest,f))\n",
    "    return \"Files moved from\",source, \"to\", dest"
   ]
  },
  {
   "cell_type": "code",
   "execution_count": 111,
   "metadata": {},
   "outputs": [
    {
     "data": {
      "text/plain": [
       "('Files moved from',\n",
       " '../IAA/Contextual/annotator-4',\n",
       " 'to',\n",
       " '../IAA/Contextual/annotator-4/second')"
      ]
     },
     "execution_count": 111,
     "metadata": {},
     "output_type": "execute_result"
    }
   ],
   "source": [
    "# moveFiles(commonC, ann0C, \"../IAA/Contextual/annotator-0/second\")\n",
    "moveFiles(commonC, ann3C, \"../IAA/Contextual/annotator-3/second\")\n",
    "moveFiles(commonC, ann4C, \"../IAA/Contextual/annotator-4/second\")\n",
    "# moveFiles(commonL, ann0L, \"../IAA/Linguistic/annotator-0/second\")\n",
    "# moveFiles(commonL, ann1L, \"../IAA/Linguistic/annotator-1/second\")\n",
    "# moveFiles(commonL, ann2L, \"../IAA/Linguistic/annotator-2/second\")"
   ]
  },
  {
   "cell_type": "markdown",
   "metadata": {},
   "source": [
    "#### Linguistic Labels"
   ]
  },
  {
   "cell_type": "code",
   "execution_count": 102,
   "metadata": {},
   "outputs": [],
   "source": [
    "project = '../IAA/Linguistic'"
   ]
  },
  {
   "cell_type": "code",
   "execution_count": 103,
   "metadata": {
    "collapsed": true,
    "jupyter": {
     "outputs_hidden": true
    }
   },
   "outputs": [
    {
     "name": "stdout",
     "output_type": "stream",
     "text": [
      "# Inter-Annotator Agreement Report\n",
      "\n",
      "* Instance-based F1 agreement\n",
      "\n",
      "## Project Setup\n",
      "\n",
      "* 2 annotators: annotator-1, annotator-2\n",
      "* 73 agreement documents\n",
      "* 14 labels\n",
      "\n",
      "## Agreement per Document\n",
      "\n",
      "| Document                   |   Mean F1 |   SD F1 |\n",
      "|----------------------------|-----------|---------|\n",
      "| second/AA4_00100.ann       |     0.875 |   0.000 |\n",
      "| second/AA5_00100.ann       |     0.800 |   0.000 |\n",
      "| second/AA6_00100.ann       |     0.808 |   0.000 |\n",
      "| second/AA7_00100.ann       |     0.839 |   0.000 |\n",
      "| second/BAI_00100.ann       |     0.667 |   0.000 |\n",
      "| second/BAI_00200.ann       |     0.571 |   0.000 |\n",
      "| second/BAI_00300.ann       |     0.615 |   0.000 |\n",
      "| second/BAI_00400.ann       |     0.667 |   0.000 |\n",
      "| second/BAI_00500.ann       |     0.750 |   0.000 |\n",
      "| second/BAI_00600.ann       |     1.000 |   0.000 |\n",
      "| second/BAI_00700.ann       |     0.667 |   0.000 |\n",
      "| second/BAI_00800.ann       |     0.960 |   0.000 |\n",
      "| second/BAI_00900.ann       |     1.000 |   0.000 |\n",
      "| second/BAI_01000.ann       |     0.759 |   0.000 |\n",
      "| second/BAI_01100.ann       |     0.812 |   0.000 |\n",
      "| second/BAI_01200.ann       |     0.603 |   0.000 |\n",
      "| second/BAI_01300.ann       |     0.489 |   0.000 |\n",
      "| second/BAI_01400.ann       |     0.539 |   0.000 |\n",
      "| second/BAI_01500.ann       |     0.676 |   0.000 |\n",
      "| second/BAI_01600.ann       |     0.507 |   0.000 |\n",
      "| second/BAI_01700.ann       |     0.739 |   0.000 |\n",
      "| second/BAI_01800.ann       |     0.680 |   0.000 |\n",
      "| second/BAI_01900.ann       |     0.500 |   0.000 |\n",
      "| second/BAI_02000.ann       |     0.713 |   0.000 |\n",
      "| second/BAI_02100.ann       |     0.538 |   0.000 |\n",
      "| second/BAI_02200.ann       |     0.793 |   0.000 |\n",
      "| second/BAI_02300.ann       |     0.880 |   0.000 |\n",
      "| second/BAI_02400.ann       |     0.896 |   0.000 |\n",
      "| second/BAI_02500.ann       |     0.765 |   0.000 |\n",
      "| second/Coll-1000_00100.ann |     0.878 |   0.000 |\n",
      "| second/Coll-1001_00100.ann |     0.905 |   0.000 |\n",
      "| second/Coll-1004_00100.ann |     0.879 |   0.000 |\n",
      "| second/Coll-100_00100.ann  |     0.821 |   0.000 |\n",
      "| second/Coll-1010_00100.ann |     0.632 |   0.000 |\n",
      "| second/Coll-1014_00100.ann |     0.400 |   0.000 |\n",
      "| second/Coll-1018_00100.ann |     1.000 |   0.000 |\n",
      "| second/Coll-1021_00100.ann |     0.865 |   0.000 |\n",
      "| second/Coll-1022_00100.ann |     0.780 |   0.000 |\n",
      "| second/Coll-1022_00200.ann |     0.705 |   0.000 |\n",
      "| second/Coll-1024_00100.ann |     0.727 |   0.000 |\n",
      "| second/Coll-1028_00100.ann |     0.912 |   0.000 |\n",
      "| second/Coll-1030_00100.ann |     0.632 |   0.000 |\n",
      "| second/Coll-1032_00100.ann |     0.851 |   0.000 |\n",
      "| second/Coll-1034_00100.ann |     0.812 |   0.000 |\n",
      "| second/Coll-1036_00100.ann |     0.500 |   0.000 |\n",
      "| second/Coll-1036_00200.ann |     0.824 |   0.000 |\n",
      "| second/Coll-1036_00300.ann |     0.573 |   0.000 |\n",
      "| second/Coll-1036_00400.ann |     0.016 |   0.000 |\n",
      "| second/Coll-1036_00500.ann |     0.485 |   0.000 |\n",
      "| second/Coll-1036_00600.ann |     0.418 |   0.000 |\n",
      "| second/Coll-1036_00700.ann |     0.562 |   0.000 |\n",
      "| second/Coll-1037_00100.ann |     0.885 |   0.000 |\n",
      "| second/Coll-1038_00100.ann |     0.913 |   0.000 |\n",
      "| second/Coll-1039_00100.ann |     0.500 |   0.000 |\n",
      "| second/Coll-103_00100.ann  |     0.929 |   0.000 |\n",
      "| second/Coll-1041_00100.ann |     0.947 |   0.000 |\n",
      "| second/Coll-1044_00100.ann |     0.939 |   0.000 |\n",
      "| second/Coll-1046_00100.ann |     1.000 |   0.000 |\n",
      "| second/Coll-1048_00100.ann |     1.000 |   0.000 |\n",
      "| second/Coll-1050_00100.ann |     0.667 |   0.000 |\n",
      "| second/Coll-1052_00100.ann |     0.736 |   0.000 |\n",
      "| second/Coll-1054_00100.ann |     0.832 |   0.000 |\n",
      "| second/Coll-1055_00100.ann |     0.841 |   0.000 |\n",
      "| second/Coll-1057_00100.ann |     0.467 |   0.000 |\n",
      "| second/Coll-1057_00200.ann |     0.800 |   0.000 |\n",
      "| second/Coll-1057_00300.ann |     0.881 |   0.000 |\n",
      "| second/Coll-1057_00400.ann |     0.609 |   0.000 |\n",
      "| second/Coll-1057_00500.ann |     0.375 |   0.000 |\n",
      "| second/Coll-1057_00600.ann |     0.587 |   0.000 |\n",
      "| second/Coll-1057_00700.ann |     0.621 |   0.000 |\n",
      "| second/Coll-1057_00800.ann |     0.458 |   0.000 |\n",
      "| second/Coll-1057_00900.ann |     0.557 |   0.000 |\n",
      "| second/Coll-1057_01000.ann |     0.660 |   0.000 |\n",
      "\n",
      "## Agreement per Label\n",
      "\n",
      "| Label            |   Mean F1 |   SD F1 |\n",
      "|------------------|-----------|---------|\n",
      "| Contextual       |   nan     | nan     |\n",
      "| Empowering       |   nan     | nan     |\n",
      "| Gendered-Pronoun |     0.977 |   0.000 |\n",
      "| Gendered-Role    |     0.703 |   0.000 |\n",
      "| Generalization   |     0.097 |   0.000 |\n",
      "| Linguistic       |   nan     | nan     |\n",
      "| Man              |     0.534 |   0.000 |\n",
      "| Nonbinary        |   nan     | nan     |\n",
      "| Occupation       |     0.125 |   0.000 |\n",
      "| Omission         |   nan     | nan     |\n",
      "| Person-Name      |     0.000 |   0.000 |\n",
      "| Stereotype       |   nan     | nan     |\n",
      "| Unknown          |     0.492 |   0.000 |\n",
      "| Woman            |     0.334 |   0.000 |\n",
      "\n",
      "## Overall Agreement\n",
      "\n",
      "* Mean F1: 0.566, SD F1: 0.000\n",
      "\n"
     ]
    }
   ],
   "source": [
    "# instance-level agreement\n",
    "f1_agreement = biaa.compute_f1_agreement(project)\n",
    "\n",
    "# print agreement report to stdout\n",
    "biaa.iaa_report(f1_agreement)\n",
    "\n",
    "# agreement per label\n",
    "label_mean, label_sd = f1_agreement.mean_sd_per_label()\n",
    "\n",
    "# agreement per document\n",
    "doc_mean, doc_sd = f1_agreement.mean_sd_per_document() \n",
    "\n",
    "# total agreement\n",
    "total_mean, total_sd = f1_agreement.mean_sd_total()"
   ]
  },
  {
   "cell_type": "code",
   "execution_count": 47,
   "metadata": {},
   "outputs": [],
   "source": [
    "### Linguistic and Person-Name IAA \n",
    "### between ann0 and ann2 on 6/14/2021\n",
    "\n",
    "# | Label            |   Mean F1 |   SD F1 |\n",
    "# |------------------|-----------|---------|\n",
    "# | Gendered-Pronoun |     0.994 |   0.000 |\n",
    "# | Gendered-Role    |     0.672 |   0.000 |\n",
    "# | Generalization   |     0.375 |   0.000 |\n",
    "# | Man              |     0.549 |   0.000 |\n",
    "# | Nonbinary        |   nan     | nan     |  # No nonbinary labels\n",
    "# | Unknown          |     0.137 |   0.000 |\n",
    "# | Woman            |     0.258 |   0.000 |\n",
    "\n",
    "\n",
    "### Linguistic and Person-Name IAA \n",
    "### between ann1 and ann2 on 6/14/2021\n",
    "\n",
    "# | Label            |   Mean F1 |   SD F1 |\n",
    "# |------------------|-----------|---------|\n",
    "# | Gendered-Pronoun |     0.977 |   0.000 |\n",
    "# | Gendered-Role    |     0.703 |   0.000 |\n",
    "# | Generalization   |     0.097 |   0.000 |\n",
    "# | Man              |     0.534 |   0.000 |\n",
    "# | Nonbinary        |   nan     | nan     |  # No nonbinary labels\n",
    "# | Unknown          |     0.492 |   0.000 |\n",
    "# | Woman            |     0.334 |   0.000 |"
   ]
  },
  {
   "cell_type": "markdown",
   "metadata": {},
   "source": [
    "#### Contextual Labels"
   ]
  },
  {
   "cell_type": "code",
   "execution_count": 112,
   "metadata": {},
   "outputs": [],
   "source": [
    "project = '../IAA/Contextual'"
   ]
  },
  {
   "cell_type": "code",
   "execution_count": 113,
   "metadata": {
    "collapsed": true,
    "jupyter": {
     "outputs_hidden": true
    }
   },
   "outputs": [
    {
     "name": "stdout",
     "output_type": "stream",
     "text": [
      "# Inter-Annotator Agreement Report\n",
      "\n",
      "* Instance-based F1 agreement\n",
      "\n",
      "## Project Setup\n",
      "\n",
      "* 2 annotators: annotator-3, annotator-4\n",
      "* 73 agreement documents\n",
      "* 14 labels\n",
      "\n",
      "## Agreement per Document\n",
      "\n",
      "| Document                   |   Mean F1 |   SD F1 |\n",
      "|----------------------------|-----------|---------|\n",
      "| second/AA4_00100.ann       |     0.762 |   0.000 |\n",
      "| second/AA5_00100.ann       |     0.727 |   0.000 |\n",
      "| second/AA6_00100.ann       |     0.743 |   0.000 |\n",
      "| second/AA7_00100.ann       |     0.762 |   0.000 |\n",
      "| second/BAI_00100.ann       |     0.500 |   0.000 |\n",
      "| second/BAI_00200.ann       |     0.545 |   0.000 |\n",
      "| second/BAI_00300.ann       |     0.667 |   0.000 |\n",
      "| second/BAI_00400.ann       |   nan     | nan     |\n",
      "| second/BAI_00500.ann       |     0.000 |   0.000 |\n",
      "| second/BAI_00600.ann       |     1.000 |   0.000 |\n",
      "| second/BAI_00700.ann       |     0.000 |   0.000 |\n",
      "| second/BAI_00800.ann       |   nan     | nan     |\n",
      "| second/BAI_00900.ann       |     0.000 |   0.000 |\n",
      "| second/BAI_01000.ann       |     0.000 |   0.000 |\n",
      "| second/BAI_01100.ann       |     0.571 |   0.000 |\n",
      "| second/BAI_01200.ann       |     0.731 |   0.000 |\n",
      "| second/BAI_01300.ann       |     0.643 |   0.000 |\n",
      "| second/BAI_01400.ann       |     0.875 |   0.000 |\n",
      "| second/BAI_01500.ann       |     0.850 |   0.000 |\n",
      "| second/BAI_01600.ann       |     0.667 |   0.000 |\n",
      "| second/BAI_01700.ann       |     0.867 |   0.000 |\n",
      "| second/BAI_01800.ann       |     0.824 |   0.000 |\n",
      "| second/BAI_01900.ann       |     0.759 |   0.000 |\n",
      "| second/BAI_02000.ann       |     0.757 |   0.000 |\n",
      "| second/BAI_02100.ann       |     0.550 |   0.000 |\n",
      "| second/BAI_02200.ann       |     0.802 |   0.000 |\n",
      "| second/BAI_02300.ann       |     0.867 |   0.000 |\n",
      "| second/BAI_02400.ann       |     1.000 |   0.000 |\n",
      "| second/BAI_02500.ann       |     0.000 |   0.000 |\n",
      "| second/Coll-1000_00100.ann |     0.833 |   0.000 |\n",
      "| second/Coll-1001_00100.ann |     0.765 |   0.000 |\n",
      "| second/Coll-1004_00100.ann |     0.847 |   0.000 |\n",
      "| second/Coll-100_00100.ann  |     0.780 |   0.000 |\n",
      "| second/Coll-1010_00100.ann |     0.000 |   0.000 |\n",
      "| second/Coll-1014_00100.ann |     0.400 |   0.000 |\n",
      "| second/Coll-1018_00100.ann |     1.000 |   0.000 |\n",
      "| second/Coll-1021_00100.ann |     0.947 |   0.000 |\n",
      "| second/Coll-1022_00100.ann |     0.783 |   0.000 |\n",
      "| second/Coll-1022_00200.ann |     0.786 |   0.000 |\n",
      "| second/Coll-1024_00100.ann |     1.000 |   0.000 |\n",
      "| second/Coll-1028_00100.ann |     0.776 |   0.000 |\n",
      "| second/Coll-1030_00100.ann |     0.588 |   0.000 |\n",
      "| second/Coll-1032_00100.ann |     0.842 |   0.000 |\n",
      "| second/Coll-1034_00100.ann |     0.812 |   0.000 |\n",
      "| second/Coll-1036_00100.ann |   nan     | nan     |\n",
      "| second/Coll-1036_00200.ann |     0.000 |   0.000 |\n",
      "| second/Coll-1036_00300.ann |     0.476 |   0.000 |\n",
      "| second/Coll-1036_00400.ann |     0.586 |   0.000 |\n",
      "| second/Coll-1036_00500.ann |     0.497 |   0.000 |\n",
      "| second/Coll-1036_00600.ann |     0.430 |   0.000 |\n",
      "| second/Coll-1036_00700.ann |     0.690 |   0.000 |\n",
      "| second/Coll-1037_00100.ann |     0.885 |   0.000 |\n",
      "| second/Coll-1038_00100.ann |     0.884 |   0.000 |\n",
      "| second/Coll-1039_00100.ann |     1.000 |   0.000 |\n",
      "| second/Coll-103_00100.ann  |     0.759 |   0.000 |\n",
      "| second/Coll-1041_00100.ann |     0.857 |   0.000 |\n",
      "| second/Coll-1044_00100.ann |     0.767 |   0.000 |\n",
      "| second/Coll-1046_00100.ann |     1.000 |   0.000 |\n",
      "| second/Coll-1048_00100.ann |     0.000 |   0.000 |\n",
      "| second/Coll-1050_00100.ann |     0.714 |   0.000 |\n",
      "| second/Coll-1052_00100.ann |     0.779 |   0.000 |\n",
      "| second/Coll-1054_00100.ann |     0.727 |   0.000 |\n",
      "| second/Coll-1055_00100.ann |     0.769 |   0.000 |\n",
      "| second/Coll-1057_00100.ann |     0.000 |   0.000 |\n",
      "| second/Coll-1057_00200.ann |     0.000 |   0.000 |\n",
      "| second/Coll-1057_00300.ann |     0.762 |   0.000 |\n",
      "| second/Coll-1057_00400.ann |     1.000 |   0.000 |\n",
      "| second/Coll-1057_00500.ann |     0.571 |   0.000 |\n",
      "| second/Coll-1057_00600.ann |     0.566 |   0.000 |\n",
      "| second/Coll-1057_00700.ann |     0.526 |   0.000 |\n",
      "| second/Coll-1057_00800.ann |     0.392 |   0.000 |\n",
      "| second/Coll-1057_00900.ann |     0.667 |   0.000 |\n",
      "| second/Coll-1057_01000.ann |     0.598 |   0.000 |\n",
      "\n",
      "## Agreement per Label\n",
      "\n",
      "| Label            |   Mean F1 |   SD F1 |\n",
      "|------------------|-----------|---------|\n",
      "| Contextual       |   nan     | nan     |\n",
      "| Empowering       |     0.000 |   0.000 |\n",
      "| Gendered-Pronoun |     0.993 |   0.000 |\n",
      "| Gendered-Role    |     0.976 |   0.000 |\n",
      "| Generalization   |     0.000 |   0.000 |\n",
      "| Linguistic       |   nan     | nan     |\n",
      "| Man              |   nan     | nan     |\n",
      "| Nonbinary        |   nan     | nan     |\n",
      "| Occupation       |     0.607 |   0.000 |\n",
      "| Omission         |     0.403 |   0.000 |\n",
      "| Person-Name      |   nan     | nan     |\n",
      "| Stereotype       |     0.027 |   0.000 |\n",
      "| Unknown          |   nan     | nan     |\n",
      "| Woman            |   nan     | nan     |\n",
      "\n",
      "## Overall Agreement\n",
      "\n",
      "* Mean F1: 0.686, SD F1: 0.000\n",
      "\n"
     ]
    }
   ],
   "source": [
    "# instance-level agreement\n",
    "f1_agreement = biaa.compute_f1_agreement(project)\n",
    "\n",
    "# print agreement report to stdout\n",
    "biaa.iaa_report(f1_agreement)\n",
    "\n",
    "# agreement per label\n",
    "label_mean, label_sd = f1_agreement.mean_sd_per_label()\n",
    "\n",
    "# agreement per document\n",
    "doc_mean, doc_sd = f1_agreement.mean_sd_per_document() \n",
    "\n",
    "# total agreement\n",
    "total_mean, total_sd = f1_agreement.mean_sd_total()"
   ]
  },
  {
   "cell_type": "code",
   "execution_count": null,
   "metadata": {},
   "outputs": [],
   "source": [
    "### Agreement per Contextual Label between\n",
    "### ann0 and ann3 as of 6/14/2021\n",
    "\n",
    "# | Label            |   Mean F1 |   SD F1 |\n",
    "# |------------------|-----------|---------|\n",
    "# | Empowering       |     0.000 |   0.000 |\n",
    "# | Occupation       |     0.556 |   0.000 |\n",
    "# | Omission         |     0.269 |   0.000 |\n",
    "# | Stereotype       |     0.046 |   0.000 |\n",
    "\n",
    "\n",
    "### Agreement per Contextual Label between\n",
    "### ann3 and ann4 as of 6/14/2021\n",
    "\n",
    "# | Label            |   Mean F1 |   SD F1 |\n",
    "# |------------------|-----------|---------|\n",
    "# | Empowering       |     0.000 |   0.000 |\n",
    "# | Occupation       |     0.607 |   0.000 |\n",
    "# | Omission         |     0.403 |   0.000 |\n",
    "# | Stereotype       |     0.027 |   0.000 |"
   ]
  },
  {
   "cell_type": "markdown",
   "metadata": {},
   "source": [
    "# III. Merge Datasets\n",
    "Reconcile the differences in the labeled data to create one gold standard dataset by:\n",
    "1. For each label, review overlapping annotations with *different* labels and manually determine which is correct, and then add the correct annotations to a new DataFrame for the gold standard and remove the others from the old DataFrame.\n",
    "2. For each label, review overlapping annotations with the *same* label and add the longest annotation to the gold standard DataFrame, and then remove the others from the old DataFrame.\n",
    "3. For the remaining rows of the old DataFrame, for each `Occupation` label, remove any found to be incorrect during the manual review of those labels using grep from that DataFrame, and add those that are correct to the gold standard DataFrame.\n",
    "4. For any files annotator 1 didn't label, add all annotator 0's `Gendered-Pronoun` labels.  For any files annotator 0 didn't label, add all annotator 2's `Gendered-Pronoun` labels.\n",
    "5. For any files annotator 1 didn't label, add all annotator 0's `Gendered-Role` labels.  For any files annotator 0 didn't label, add all annotator 2's `Gendered-Role` labels.\n",
    "6. Add all the remaining `Generalization` and `Stereotype` labels to the gold standard DataFrame.\n",
    "7. Add all the remaining Person-Name labels from annotators 0 and 2 to the gold standard DataFrame."
   ]
  },
  {
   "cell_type": "code",
   "execution_count": null,
   "metadata": {},
   "outputs": [],
   "source": []
  }
 ],
 "metadata": {
  "kernelspec": {
   "display_name": "Python 3",
   "language": "python",
   "name": "python3"
  },
  "language_info": {
   "codemirror_mode": {
    "name": "ipython",
    "version": 3
   },
   "file_extension": ".py",
   "mimetype": "text/x-python",
   "name": "python",
   "nbconvert_exporter": "python",
   "pygments_lexer": "ipython3",
   "version": "3.8.10"
  }
 },
 "nbformat": 4,
 "nbformat_minor": 4
}
